{
 "cells": [
  {
   "cell_type": "markdown",
   "id": "03724941",
   "metadata": {},
   "source": [
    "# Stringhe"
   ]
  },
  {
   "cell_type": "markdown",
   "id": "0356e7e8",
   "metadata": {},
   "source": [
    "## **Obiettivi della Lezione**\n",
    "\n",
    "- Comprendere cosa sono le stringhe in Python.\n",
    "- Imparare come creare e manipolare le stringhe.\n",
    "- Conoscere le principali operazioni e metodi associati alle stringhe.\n",
    "- Applicare formattazioni avanzate sulle stringhe."
   ]
  },
  {
   "cell_type": "markdown",
   "id": "d7947b98",
   "metadata": {},
   "source": [
    "## **Introduzione**\n",
    "\n",
    "Le stringhe sono uno dei tipi di dati fondamentali in Python e in molti altri linguaggi di programmazione. Rappresentano sequenze di caratteri utilizzate per elaborare e memorizzare informazioni testuali. Dalla semplice visualizzazione di messaggi all'elaborazione di testi complessi, le stringhe sono uno strumento essenziale per qualsiasi sviluppatore Python."
   ]
  },
  {
   "cell_type": "markdown",
   "id": "9a54f03d",
   "metadata": {},
   "source": [
    "## **Spiegazione Teorica**\n",
    "\n",
    "### **Cos'è una Stringa?**\n",
    "\n",
    "In Python, una stringa è una sequenza immutabile di caratteri racchiusa tra apici singoli (`'...'`), doppi (`\"...\"`), tripli apici singoli (`'''...'''`) o tripli doppi apici (`\"\"\"...\"\"\"`). Questa flessibilità permette di includere apici all'interno delle stringhe senza dover ricorrere a caratteri di escape complicati.\n"
   ]
  },
  {
   "cell_type": "code",
   "execution_count": 1,
   "id": "de732bb5",
   "metadata": {},
   "outputs": [],
   "source": [
    "stringa1 = 'Ciao, mondo!'\n",
    "stringa2 = \"Python è fantastico!\"\n",
    "stringa3 = '''Questo è un testo\n",
    "su più righe'''"
   ]
  },
  {
   "cell_type": "markdown",
   "id": "64514262",
   "metadata": {},
   "source": [
    "\n",
    "### **Accesso ai Caratteri di una Stringa**\n",
    "\n",
    "Le stringhe, essendo sequenze, consentono l'accesso ai singoli caratteri tramite l'indice. Gli indici in Python partono da 0.\n"
   ]
  },
  {
   "cell_type": "code",
   "execution_count": 7,
   "id": "24aed6e6",
   "metadata": {},
   "outputs": [
    {
     "name": "stdout",
     "output_type": "stream",
     "text": [
      "Il primo carattere è  P\n",
      "l'ultimo carattere è  n\n"
     ]
    }
   ],
   "source": [
    "testo = \"Python\"\n",
    "primo_carattere = testo[0]    # 'P'\n",
    "print(\"Il primo carattere è \", primo_carattere)\n",
    "ultimo_carattere = testo[-1]  # 'n'\n",
    "print(\"l'ultimo carattere è \", ultimo_carattere)"
   ]
  },
  {
   "cell_type": "markdown",
   "id": "1292d63e",
   "metadata": {},
   "source": [
    "\n",
    "### **Slicing delle Stringhe**\n",
    "\n",
    "Lo slicing permette di ottenere sottostringhe specificando un intervallo di indici.\n"
   ]
  },
  {
   "cell_type": "code",
   "execution_count": 8,
   "id": "88c8acb8",
   "metadata": {},
   "outputs": [
    {
     "data": {
      "text/plain": [
       "'Program'"
      ]
     },
     "execution_count": 8,
     "metadata": {},
     "output_type": "execute_result"
    }
   ],
   "source": [
    "testo = \"Programmare\"\n",
    "sottostringa = testo[0:7]     # 'Program'\n",
    "sottostringa"
   ]
  },
  {
   "cell_type": "markdown",
   "id": "515c70c6",
   "metadata": {},
   "source": [
    "\n",
    "### **Stringhe Immutabili**\n",
    "\n",
    "Le stringhe in Python sono immutabili, il che significa che non è possibile modificare un carattere specifico dopo la creazione della stringa.\n"
   ]
  },
  {
   "cell_type": "code",
   "execution_count": 9,
   "id": "6a2856ed",
   "metadata": {},
   "outputs": [],
   "source": [
    "testo = \"Ciao\"\n",
    "# Questo genererà un errore:\n",
    "# testo[0] = 'B'  # TypeError"
   ]
  },
  {
   "cell_type": "markdown",
   "id": "427890a1",
   "metadata": {},
   "source": [
    "\n",
    "### **Operatori con le Stringhe**\n",
    "\n",
    "- **Concatenazione (`+`)**: unisce due stringhe.\n",
    "  ```python\n",
    "  saluto = \"Buongiorno, \" + \"come stai?\"\n",
    "  ```\n",
    "- **Ripetizione (`*`)**: ripete una stringa per un numero specificato di volte.\n",
    "  ```python\n",
    "  risata = \"ha\" * 3  # 'hahaha'\n",
    "  ```\n",
    "\n",
    "### **Principali Metodi delle Stringhe**\n",
    "\n",
    "- `len(stringa)`: restituisce la lunghezza della stringa.\n",
    "- `stringa.lower()`: converte tutti i caratteri in minuscolo.\n",
    "- `stringa.upper()`: converte tutti i caratteri in maiuscolo.\n",
    "- `stringa.strip()`: rimuove spazi bianchi iniziali e finali.\n",
    "- `stringa.replace(\"vecchio\", \"nuovo\")`: sostituisce una sottostringa con un'altra.\n",
    "- `stringa.split(separatore)`: divide la stringa in una lista utilizzando il separatore specificato."
   ]
  },
  {
   "cell_type": "markdown",
   "id": "7e2bfaa5",
   "metadata": {},
   "source": [
    "## **Esempi Pratici di Codice**\n",
    "\n",
    "### **Esempio 1: Concatenazione e Manipolazione di Stringhe**\n"
   ]
  },
  {
   "cell_type": "code",
   "execution_count": 10,
   "id": "116dd7b2",
   "metadata": {},
   "outputs": [
    {
     "name": "stdout",
     "output_type": "stream",
     "text": [
      "Nome completo: Alice Rossi\n",
      "In maiuscolo: ALICE ROSSI\n",
      "Numero di caratteri: 11\n"
     ]
    }
   ],
   "source": [
    "nome = \"Alice\"\n",
    "cognome = \"Rossi\"\n",
    "nome_completo = nome + \" \" + cognome\n",
    "\n",
    "print(\"Nome completo:\", nome_completo)\n",
    "print(\"In maiuscolo:\", nome_completo.upper())\n",
    "print(\"Numero di caratteri:\", len(nome_completo))"
   ]
  },
  {
   "cell_type": "markdown",
   "id": "86987017",
   "metadata": {},
   "source": [
    "\n",
    "**Spiegazione:**\n",
    "\n",
    "- Concateniamo nome e cognome utilizzando l'operatore `+`.\n",
    "- Convertiamo il nome completo in maiuscolo con `.upper()`.\n",
    "- Utilizziamo `len()` per ottenere la lunghezza totale della stringa.\n",
    "\n",
    "### **Esempio 2: Utilizzo di `strip()` e `replace()`**\n"
   ]
  },
  {
   "cell_type": "code",
   "execution_count": 11,
   "id": "f30d95d8",
   "metadata": {},
   "outputs": [
    {
     "name": "stdout",
     "output_type": "stream",
     "text": [
      "Frase originale:    Python è divertente!   \n",
      "Frase pulita: Python è divertente!\n",
      "Frase modificata: Python è potente!\n"
     ]
    }
   ],
   "source": [
    "frase = \"   Python è divertente!   \"\n",
    "frase_pulita = frase.strip()\n",
    "\n",
    "print(\"Frase originale:\", frase)\n",
    "print(\"Frase pulita:\", frase_pulita)\n",
    "\n",
    "frase_modificata = frase_pulita.replace(\"divertente\", \"potente\")\n",
    "print(\"Frase modificata:\", frase_modificata)"
   ]
  },
  {
   "cell_type": "markdown",
   "id": "93a91ca4",
   "metadata": {},
   "source": [
    "\n",
    "**Spiegazione:**\n",
    "\n",
    "- Rimuoviamo gli spazi iniziali e finali con `.strip()`.\n",
    "- Sostituiamo la parola \"divertente\" con \"potente\" utilizzando `.replace()`.\n",
    "\n",
    "### **Esempio 3: Divisione di una Stringa con `split()`**\n"
   ]
  },
  {
   "cell_type": "code",
   "execution_count": 12,
   "id": "0a445578",
   "metadata": {},
   "outputs": [
    {
     "name": "stdout",
     "output_type": "stream",
     "text": [
      "Lista dei dati: ['Mario', 'Rossi', '30', 'Ingegnere']\n",
      "Nome: Mario\n",
      "Età: 30\n"
     ]
    }
   ],
   "source": [
    "dati = \"Mario,Rossi,30,Ingegnere\"\n",
    "lista_dati = dati.split(\",\")\n",
    "\n",
    "print(\"Lista dei dati:\", lista_dati)\n",
    "print(\"Nome:\", lista_dati[0])\n",
    "print(\"Età:\", lista_dati[2])"
   ]
  },
  {
   "cell_type": "markdown",
   "id": "18d07e66",
   "metadata": {},
   "source": [
    "\n",
    "**Spiegazione:**\n",
    "\n",
    "- Utilizziamo `.split(\",\")` per dividere la stringa al carattere virgola.\n",
    "- Accediamo agli elementi della lista risultante tramite gli indici."
   ]
  },
  {
   "cell_type": "markdown",
   "id": "d5bdd82a",
   "metadata": {},
   "source": [
    "## **Esercizi Interattivi**\n",
    "\n",
    "### **Esercizio 1: Formattazione di Stringhe**\n",
    "\n",
    "Chiedi all'utente di inserire il suo nome e poi stampa un messaggio di benvenuto in questo formato:\n",
    "\n",
    "```\n",
    "Ciao, [NOME]! Benvenuto nel corso di Python.\n",
    "```\n",
    "\n",
    "**Suggerimento:** Usa la funzione `input()` per ottenere l'input dall'utente.\n",
    "\n",
    "### **Esercizio 2: Conta le Vocali**\n",
    "\n",
    "Scrivi un programma che conti il numero di vocali presenti in una stringa inserita dall'utente.\n",
    "\n",
    "**Esempio:**\n",
    "\n",
    "```\n",
    "Inserisci una frase: Programmare in Python\n",
    "Numero di vocali: 7\n",
    "```\n",
    "\n",
    "### **Esercizio 3: Palindromo**\n",
    "\n",
    "Verifica se una parola inserita dall'utente è un palindromo (si legge uguale da sinistra a destra e da destra a sinistra).\n",
    "\n",
    "**Esempio:**\n",
    "\n",
    "```\n",
    "Inserisci una parola: radar\n",
    "\"radar\" è un palindromo.\n",
    "```"
   ]
  },
  {
   "cell_type": "markdown",
   "id": "bbff4ead",
   "metadata": {},
   "source": [
    "## **Buone Pratiche e Consigli**\n",
    "\n",
    "- **Utilizza Formattazioni Moderne:** Per inserire variabili all'interno di stringhe, preferisci l'uso di `f-strings` (formatted string literals) introdotte in Python 3.6.\n",
    "\n",
    "  ```python\n",
    "  nome = \"Lucia\"\n",
    "  print(f\"Ciao, {nome}!\")\n",
    "  ```\n",
    "\n",
    "- **Gestione delle Stringhe su Più Linee:** Per stringhe lunghe o testi su più linee, utilizza i tripli apici.\n",
    "\n",
    "  ```python\n",
    "  testo_lungo = \"\"\"Questo è un esempio di testo\n",
    "  che si estende su più linee.\"\"\"\n",
    "  ```\n",
    "\n",
    "- **Evitare Concatenzioni Inefficienti:** Quando devi costruire stringhe complesse, considera l'uso di `join()` su liste piuttosto che concatenare con `+` in un ciclo.\n",
    "\n",
    "  ```python\n",
    "  parole = [\"Python\", \"è\", \"potente\"]\n",
    "  frase = \" \".join(parole)\n",
    "  ```\n",
    "\n",
    "- **Consapevolezza dell'Immutabilità:** Ricorda che le operazioni sulle stringhe restituiscono nuove stringhe; l'originale rimane inalterata a meno che non venga riassegnata."
   ]
  },
  {
   "cell_type": "markdown",
   "id": "b715eb17",
   "metadata": {},
   "source": [
    "## **Conclusione**\n",
    "\n",
    "Le stringhe sono fondamentali in Python per la gestione e la manipolazione di dati testuali. Conoscere le varie operazioni e metodi disponibili permette di scrivere codice più efficiente e leggibile. Praticando con gli esempi e gli esercizi proposti, acquisirai dimestichezza nella gestione delle stringhe e sarai pronto ad affrontare sfide più complesse."
   ]
  },
  {
   "cell_type": "markdown",
   "id": "929f3fdd",
   "metadata": {},
   "source": [
    "## **Risorse Aggiuntive**\n",
    "\n",
    "- **Documentazione Ufficiale Python**: [Text Sequence Type — str](https://docs.python.org/3/library/stdtypes.html#textseq)\n",
    "- **Libro Consigliato**: [Python Crash Course di Eric Matthes](https://www.amazon.com/Python-Crash-Course-2nd-Edition/dp/1593279280)\n",
    "- **Video Tutorial**: [F-Strings - How to Use Them and Advanced String Formatting](https://youtu.be/nghuHvKLhJA?si=QiK1L-71oCi7q586)"
   ]
  }
 ],
 "metadata": {
  "kernelspec": {
   "display_name": "Python 3 (ipykernel)",
   "language": "python",
   "name": "python3"
  },
  "language_info": {
   "codemirror_mode": {
    "name": "ipython",
    "version": 3
   },
   "file_extension": ".py",
   "mimetype": "text/x-python",
   "name": "python",
   "nbconvert_exporter": "python",
   "pygments_lexer": "ipython3",
   "version": "3.10.9"
  }
 },
 "nbformat": 4,
 "nbformat_minor": 5
}
