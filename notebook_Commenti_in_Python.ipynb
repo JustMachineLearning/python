{
 "cells": [
  {
   "cell_type": "markdown",
   "id": "559d060c",
   "metadata": {},
   "source": [
    "# Commenti in Python\n",
    "\n",
    "## **Obiettivi della Lezione**\n",
    "\n",
    "Al termine di questa lezione, sarai in grado di:\n",
    "\n",
    "- Comprendere l'importanza dei commenti nel codice Python.\n",
    "- Utilizzare commenti a linea singola e multilinea.\n",
    "- Applicare commenti per migliorare la leggibilità del codice.\n",
    "- Conoscere le buone pratiche nella scrittura dei commenti."
   ]
  },
  {
   "cell_type": "markdown",
   "id": "6038cf56",
   "metadata": {},
   "source": [
    "## **Introduzione**\n",
    "\n",
    "Nel processo di scrittura del codice, i commenti sono fondamentali per rendere il programma più comprensibile non solo per gli altri sviluppatori, ma anche per te stesso quando ritorni sul codice dopo un certo tempo. In Python, i commenti permettono di inserire annotazioni che l'interprete ignorerà durante l'esecuzione, fornendo così spiegazioni o chiarimenti utili."
   ]
  },
  {
   "cell_type": "markdown",
   "id": "a9b86891",
   "metadata": {},
   "source": [
    "## **Spiegazione Teorica**\n",
    "\n",
    "### **Commenti a Linea Singola**\n",
    "\n",
    "In Python, per inserire un commento a linea singola, si utilizza il simbolo `#`. Qualsiasi testo dopo `#` su quella linea verrà ignorato dall'interprete.\n",
    "\n",
    "**Sintassi:**\n"
   ]
  },
  {
   "cell_type": "code",
   "execution_count": 1,
   "id": "30c8d572",
   "metadata": {},
   "outputs": [],
   "source": [
    "# Questo è un commento a linea singola"
   ]
  },
  {
   "cell_type": "markdown",
   "id": "3dfca52d",
   "metadata": {},
   "source": [
    "\n",
    "**Esempio:**\n"
   ]
  },
  {
   "cell_type": "code",
   "execution_count": 1,
   "id": "e2d1cf16",
   "metadata": {},
   "outputs": [],
   "source": [
    "# Assegniamo il valore 10 alla variabile x\n",
    "x = 10"
   ]
  },
  {
   "cell_type": "markdown",
   "id": "77997904",
   "metadata": {},
   "source": [
    "\n",
    "### **Commenti Multilinea**\n",
    "\n",
    "Per commenti che si estendono su più linee, ci sono due approcci:\n",
    "\n",
    "1. **Utilizzo di `#` all'inizio di ogni linea:**\n",
    "\n",
    "   ```python\n",
    "   # Questo è un commento\n",
    "   # che si estende su più linee\n",
    "   # utilizzando il simbolo # all'inizio\n",
    "   ```\n",
    "\n",
    "2. **Utilizzo di stringhe multilinea non assegnate:**\n",
    "\n",
    "   Python permette di creare stringhe multilinea utilizzando tripli apici, sia doppi `\"\"\"` che singoli `'''`. Se queste stringhe non sono assegnate a una variabile o utilizzate come docstring, vengono ignorate dall'interprete.\n",
    "\n",
    "   ```python\n",
    "   \"\"\"\n",
    "   Questo è un commento multilinea\n",
    "   utilizzando stringhe tra triple virgolette.\n",
    "   \"\"\"\n",
    "   ```\n",
    "\n",
    "**Nota:** Sebbene le stringhe multilinea non assegnate funzionino come commenti, è preferibile utilizzare `#` per coerenza e leggibilità."
   ]
  },
  {
   "cell_type": "markdown",
   "id": "7f4ee153",
   "metadata": {},
   "source": [
    "## **Esempi Pratici di Codice**\n",
    "\n",
    "### **Esempio 1: Commento a Linea Singola**\n"
   ]
  },
  {
   "cell_type": "code",
   "execution_count": 2,
   "id": "4efd0ec5",
   "metadata": {},
   "outputs": [
    {
     "name": "stdout",
     "output_type": "stream",
     "text": [
      "L'area del rettangolo è: 50\n"
     ]
    }
   ],
   "source": [
    "# Calcolo dell'area di un rettangolo\n",
    "base = 5\n",
    "altezza = 10\n",
    "area = base * altezza\n",
    "print(\"L'area del rettangolo è:\", area)"
   ]
  },
  {
   "cell_type": "markdown",
   "id": "930c68c9",
   "metadata": {},
   "source": [
    "\n",
    "**Spiegazione:**\n",
    "\n",
    "- Il commento spiega che il codice calcola l'area di un rettangolo.\n",
    "- Aiuta a capire l'intento del codice senza dover analizzare le singole linee.\n",
    "\n",
    "### **Esempio 2: Commenti Multilinea con `#`**\n"
   ]
  },
  {
   "cell_type": "code",
   "execution_count": 3,
   "id": "fa3aa66b",
   "metadata": {},
   "outputs": [
    {
     "name": "stdout",
     "output_type": "stream",
     "text": [
      "Il numero è dispari\n"
     ]
    }
   ],
   "source": [
    "# Questo programma verifica se un numero è pari o dispari\n",
    "# Utilizza l'operatore modulo per determinare il resto\n",
    "# Stampa il risultato all'utente\n",
    "\n",
    "numero = 7\n",
    "if numero % 2 == 0:\n",
    "    print(\"Il numero è pari\")\n",
    "else:\n",
    "    print(\"Il numero è dispari\")"
   ]
  },
  {
   "cell_type": "markdown",
   "id": "3b2cdb49",
   "metadata": {},
   "source": [
    "\n",
    "**Spiegazione:**\n",
    "\n",
    "- I commenti iniziali forniscono una panoramica del programma.\n",
    "- Ogni lineetta commentata spiega una parte specifica.\n",
    "\n",
    "### **Esempio 3: Stringhe Multilinea come Commenti**\n"
   ]
  },
  {
   "cell_type": "code",
   "execution_count": 4,
   "id": "00d77b08",
   "metadata": {},
   "outputs": [
    {
     "name": "stdout",
     "output_type": "stream",
     "text": [
      "La somma è: 55\n"
     ]
    }
   ],
   "source": [
    "\"\"\"\n",
    "Questo codice calcola la somma dei numeri da 1 a 10\n",
    "e stampa il risultato.\n",
    "\"\"\"\n",
    "\n",
    "somma = 0\n",
    "for i in range(1, 11):\n",
    "    somma += i\n",
    "\n",
    "print(\"La somma è:\", somma)"
   ]
  },
  {
   "cell_type": "markdown",
   "id": "bd326e01",
   "metadata": {},
   "source": [
    "\n",
    "**Spiegazione:**\n",
    "\n",
    "- La stringa multilinea non assegnata viene ignorata dall'interprete.\n",
    "- Serve come commento iniziale per il codice.\n",
    "\n",
    "### **Esempio 4: Commenti Inline**\n"
   ]
  },
  {
   "cell_type": "code",
   "execution_count": 6,
   "id": "ea8c8348",
   "metadata": {},
   "outputs": [
    {
     "name": "stdout",
     "output_type": "stream",
     "text": [
      "L'area del cerchio è: 78.53981633974483\n"
     ]
    }
   ],
   "source": [
    "import math\n",
    "\n",
    "raggio = 5  # Raggio del cerchio\n",
    "area = math.pi * raggio ** 2  # Formula dell'area del cerchio\n",
    "print(\"L'area del cerchio è:\", area)"
   ]
  },
  {
   "cell_type": "markdown",
   "id": "e587dcef",
   "metadata": {},
   "source": [
    "\n",
    "**Spiegazione:**\n",
    "\n",
    "- I commenti inline seguono il codice sulla stessa linea.\n",
    "- Forniscono spiegazioni brevi e immediate."
   ]
  },
  {
   "cell_type": "markdown",
   "id": "d3e08331",
   "metadata": {},
   "source": [
    "## **Esercizi Interattivi**\n",
    "\n",
    "### **Esercizio 1: Aggiungi Commenti al Codice**\n",
    "\n",
    "Aggiungi commenti appropriati al seguente codice per spiegare cosa fa:\n"
   ]
  },
  {
   "cell_type": "code",
   "execution_count": 7,
   "id": "78c529b5",
   "metadata": {},
   "outputs": [
    {
     "name": "stdout",
     "output_type": "stream",
     "text": [
      "La distanza percorsa è: 120\n"
     ]
    }
   ],
   "source": [
    "velocita = 60\n",
    "tempo = 2\n",
    "distanza = velocita * tempo\n",
    "print(\"La distanza percorsa è:\", distanza)"
   ]
  },
  {
   "cell_type": "markdown",
   "id": "332cbb73",
   "metadata": {},
   "source": [
    "\n",
    "**Soluzione:**\n"
   ]
  },
  {
   "cell_type": "code",
   "execution_count": 8,
   "id": "96456727",
   "metadata": {},
   "outputs": [
    {
     "name": "stdout",
     "output_type": "stream",
     "text": [
      "La distanza percorsa è: 120\n"
     ]
    }
   ],
   "source": [
    "# Velocità in km/h\n",
    "velocita = 60\n",
    "# Tempo in ore\n",
    "tempo = 2\n",
    "# Calcolo della distanza percorsa\n",
    "distanza = velocita * tempo\n",
    "print(\"La distanza percorsa è:\", distanza)"
   ]
  },
  {
   "cell_type": "markdown",
   "id": "7ca33e9a",
   "metadata": {},
   "source": [
    "\n",
    "### **Esercizio 2: Utilizza Commenti per Disabilitare Codice**\n",
    "\n",
    "Il seguente codice genera un errore. Utilizza un commento per disabilitare la linea problematica.\n"
   ]
  },
  {
   "cell_type": "code",
   "execution_count": null,
   "id": "f4d17b84",
   "metadata": {},
   "outputs": [],
   "source": [
    "numero = int(input(\"Inserisci un numero: \"))\n",
    "print(\"Hai inserito il numero:\", numero)\n",
    "print(\"Il numero diviso per zero è:\", numero / 0)"
   ]
  },
  {
   "cell_type": "markdown",
   "id": "5461b8d8",
   "metadata": {},
   "source": [
    "\n",
    "**Soluzione:**\n"
   ]
  },
  {
   "cell_type": "code",
   "execution_count": 10,
   "id": "7b36374f",
   "metadata": {},
   "outputs": [
    {
     "name": "stdout",
     "output_type": "stream",
     "text": [
      "Inserisci un numero: 3\n",
      "Hai inserito il numero: 3\n"
     ]
    }
   ],
   "source": [
    "numero = int(input(\"Inserisci un numero: \"))\n",
    "print(\"Hai inserito il numero:\", numero)\n",
    "# Questa operazione genera un errore di divisione per zero\n",
    "# print(\"Il numero diviso per zero è:\", numero / 0)"
   ]
  },
  {
   "cell_type": "markdown",
   "id": "62197fc0",
   "metadata": {},
   "source": [
    "\n",
    "### **Esercizio 3: Scrivi un Commento Multilinea**\n",
    "\n",
    "Scrivi un commento multilinea che spieghi l'obiettivo del seguente codice.\n"
   ]
  },
  {
   "cell_type": "code",
   "execution_count": 12,
   "id": "1b63d3ca",
   "metadata": {},
   "outputs": [
    {
     "name": "stdout",
     "output_type": "stream",
     "text": [
      "*\n",
      "**\n",
      "***\n",
      "****\n",
      "*****\n",
      "******\n",
      "*******\n",
      "********\n",
      "*********\n",
      "**********\n",
      "***********\n",
      "************\n",
      "*************\n",
      "**************\n",
      "***************\n",
      "****************\n",
      "*****************\n",
      "******************\n",
      "*******************\n"
     ]
    }
   ],
   "source": [
    "for i in range(1, 6):\n",
    "    print(i * \"*\")"
   ]
  },
  {
   "cell_type": "markdown",
   "id": "2696711c",
   "metadata": {},
   "source": [
    "\n",
    "**Soluzione:**\n"
   ]
  },
  {
   "cell_type": "code",
   "execution_count": 8,
   "id": "7db8b553",
   "metadata": {},
   "outputs": [
    {
     "name": "stdout",
     "output_type": "stream",
     "text": [
      "*\n",
      "**\n",
      "***\n",
      "****\n",
      "*****\n"
     ]
    }
   ],
   "source": [
    "\"\"\"\n",
    "Questo codice stampa una piramide di asterischi:\n",
    "*\n",
    "**\n",
    "***\n",
    "****\n",
    "*****\n",
    "# \"\"\"\n",
    "for i in range(1, 6):\n",
    "    print(i * \"*\")"
   ]
  },
  {
   "cell_type": "markdown",
   "id": "7b2e0a36",
   "metadata": {},
   "source": [
    "## **Buone Pratiche e Consigli**\n",
    "\n",
    "- **Sii Chiaro e Conciso:** I commenti dovrebbero aiutare a capire il codice senza essere prolissi.\n",
    "- **Evita l'Ovvio:** Non commentare ciò che è evidente. Es. `i += 1  # Incrementa i di 1` è ridondante.\n",
    "- **Aggiorna i Commenti:** Mantieni i commenti sincronizzati con il codice. Commenti obsoleti possono creare confusione.\n",
    "- **Usa Docstring per Funzioni e Classi:** Forniscono una documentazione utile e possono essere accessibili tramite `help()`.\n",
    "\n",
    "  **Esempio:**\n",
    "\n",
    "  ```python\n",
    "  def saluta(nome):\n",
    "      \"\"\"Questa funzione saluta la persona passata come parametro.\"\"\"\n",
    "      print(\"Ciao,\", nome)\n",
    "  ```\n",
    "\n",
    "- **Segui gli Standard di Codifica:** Adotta le convenzioni come quelle descritte in PEP 8 per uniformità."
   ]
  },
  {
   "cell_type": "markdown",
   "id": "31b4eb88",
   "metadata": {},
   "source": [
    "## **Conclusione**\n",
    "\n",
    "I commenti sono strumenti essenziali per rendere il codice Python più leggibile e mantenibile. Utilizzandoli correttamente, facilitano la comprensione del codice sia per te che per altri sviluppatori. Ricorda di essere coerente e di mantenere i commenti aggiornati in modo che riflettano sempre l'attuale stato del codice."
   ]
  },
  {
   "cell_type": "markdown",
   "id": "294afc8f",
   "metadata": {},
   "source": [
    "## **Risorse Aggiuntive**\n",
    "\n",
    "- **Documentazione Ufficiale Python**: [Comments](https://www.python.org/dev/peps/pep-0008/#comments)\n",
    "- **Libro Consigliato**: [Python Crash Course di Eric Matthes](https://www.amazon.com/Python-Crash-Course-2nd-Edition/dp/1593279280)\n",
    "- **Video Tutorial**: [Comments](https://youtu.be/9wouY9nWe0k?si=UZ59_gU6PWV6jz-1)\n",
    "\n"
   ]
  }
 ],
 "metadata": {
  "kernelspec": {
   "display_name": "Python 3 (ipykernel)",
   "language": "python",
   "name": "python3"
  },
  "language_info": {
   "codemirror_mode": {
    "name": "ipython",
    "version": 3
   },
   "file_extension": ".py",
   "mimetype": "text/x-python",
   "name": "python",
   "nbconvert_exporter": "python",
   "pygments_lexer": "ipython3",
   "version": "3.10.9"
  }
 },
 "nbformat": 4,
 "nbformat_minor": 5
}
