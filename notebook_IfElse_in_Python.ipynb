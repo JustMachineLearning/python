{
 "cells": [
  {
   "cell_type": "markdown",
   "id": "ae45eae8",
   "metadata": {},
   "source": [
    "# If...Else in Python\n",
    "\n",
    "## Obiettivi della Lezione\n",
    "\n",
    "Al termine di questa lezione sarai in grado di:\n",
    "\n",
    "- Comprendere l'utilizzo delle strutture condizionali **if**, **elif** ed **else** in Python.\n",
    "- Scrivere codice che esegue azioni diverse in base a condizioni specifiche.\n",
    "- Applicare operatori logici per creare condizioni complesse.\n",
    "- Implementare controlli condizionali annidati per gestire situazioni multiple.\n",
    "\n",
    "## Introduzione\n",
    "\n",
    "Nel mondo della programmazione, prendere decisioni è fondamentale. Le strutture condizionali permettono al programma di eseguire determinate istruzioni solo se certe condizioni sono soddisfatte. In Python, le dichiarazioni **if**, **elif** ed **else** sono gli strumenti principali per implementare queste logiche decisionali, rendendo il codice dinamico e reattivo a diversi input e situazioni.\n",
    "\n",
    "## Spiegazione Teorica\n",
    "\n",
    "### La dichiarazione `if`\n",
    "\n",
    "La parola chiave `if` è utilizzata per eseguire un blocco di codice solo se una determinata condizione è vera.\n",
    "\n",
    "**Sintassi base:**\n"
   ]
  },
  {
   "cell_type": "markdown",
   "id": "51c99692",
   "metadata": {},
   "source": [
    "```python\n",
    "if condizione:\n",
    "    # blocco di codice eseguito se la condizione è vera\n",
    "```    "
   ]
  },
  {
   "cell_type": "markdown",
   "id": "e509872f",
   "metadata": {},
   "source": [
    "\n",
    "- **condizione**: un'espressione che viene valutata come vera (*True*) o falsa (*False*).\n",
    "- **blocco di codice**: una o più istruzioni indentate sotto l'istruzione `if`.\n",
    "\n",
    "**Esempio:**\n"
   ]
  },
  {
   "cell_type": "code",
   "execution_count": 2,
   "id": "44f5c19d",
   "metadata": {},
   "outputs": [
    {
     "name": "stdout",
     "output_type": "stream",
     "text": [
      "Cinque è maggiore di tre.\n"
     ]
    }
   ],
   "source": [
    "if 5 > 3:\n",
    "    print(\"Cinque è maggiore di tre.\")"
   ]
  },
  {
   "cell_type": "markdown",
   "id": "55579df9",
   "metadata": {},
   "source": [
    "\n",
    "### La dichiarazione `else`\n",
    "\n",
    "La dichiarazione `else` segue un'istruzione `if` ed esegue un blocco di codice se la condizione dell'`if` è falsa.\n",
    "\n",
    "**Sintassi:**\n"
   ]
  },
  {
   "cell_type": "markdown",
   "id": "9c159272",
   "metadata": {},
   "source": [
    "```python\n",
    "if condizione:\n",
    "    # blocco eseguito se la condizione è vera\n",
    "else:\n",
    "    # blocco eseguito se la condizione è falsa\n",
    "```    "
   ]
  },
  {
   "cell_type": "markdown",
   "id": "adb23868",
   "metadata": {},
   "source": [
    "\n",
    "**Esempio:**\n"
   ]
  },
  {
   "cell_type": "code",
   "execution_count": 5,
   "id": "840ba36f",
   "metadata": {},
   "outputs": [
    {
     "name": "stdout",
     "output_type": "stream",
     "text": [
      "Due non è maggiore di tre.\n"
     ]
    }
   ],
   "source": [
    "if 2 > 3:\n",
    "    print(\"Due è maggiore di tre.\")\n",
    "else:\n",
    "    print(\"Due non è maggiore di tre.\")"
   ]
  },
  {
   "cell_type": "markdown",
   "id": "4ff3c5e5",
   "metadata": {},
   "source": [
    "\n",
    "### La dichiarazione `elif`\n",
    "\n",
    "La parola chiave `elif` (abbreviazione di \"else if\") permette di verificare ulteriori condizioni se le precedenti sono risultate false.\n",
    "\n",
    "**Sintassi:**\n"
   ]
  },
  {
   "cell_type": "markdown",
   "id": "4e55e04a",
   "metadata": {},
   "source": [
    "```python\n",
    "if condizione1:\n",
    "    # blocco eseguito se condizione1 è vera\n",
    "elif condizione2:\n",
    "    # blocco eseguito se condizione2 è vera\n",
    "else:\n",
    "    # blocco eseguito se tutte le condizioni precedenti sono false\n",
    "```"
   ]
  },
  {
   "cell_type": "markdown",
   "id": "dea017b0",
   "metadata": {},
   "source": [
    "\n",
    "Puoi usare quanti `elif` desideri tra `if` ed `else`.\n",
    "\n",
    "**Esempio:**\n"
   ]
  },
  {
   "cell_type": "code",
   "execution_count": 7,
   "id": "1c950d9d",
   "metadata": {},
   "outputs": [
    {
     "name": "stdout",
     "output_type": "stream",
     "text": [
      "Sei un adulto.\n"
     ]
    }
   ],
   "source": [
    "eta = 18\n",
    "\n",
    "if eta < 13:\n",
    "    print(\"Sei un bambino.\")\n",
    "elif eta < 18:\n",
    "    print(\"Sei un adolescente.\")\n",
    "else:\n",
    "    print(\"Sei un adulto.\")"
   ]
  },
  {
   "cell_type": "markdown",
   "id": "2b20679c",
   "metadata": {},
   "source": [
    "\n",
    "### Operatori logici nelle condizioni\n",
    "\n",
    "Puoi utilizzare operatori come `and`, `or`, e `not` per combinare condizioni.\n",
    "\n",
    "- **`and`**: vero se entrambe le condizioni sono vere.\n",
    "- **`or`**: vero se almeno una condizione è vera.\n",
    "- **`not`**: inverte il valore della condizione.\n",
    "\n",
    "**Esempio con operatori:**\n"
   ]
  },
  {
   "cell_type": "code",
   "execution_count": 8,
   "id": "f68406bd",
   "metadata": {},
   "outputs": [
    {
     "name": "stdout",
     "output_type": "stream",
     "text": [
      "Età valida.\n"
     ]
    }
   ],
   "source": [
    "if eta > 0 and eta < 120:\n",
    "    print(\"Età valida.\")\n",
    "else:\n",
    "    print(\"Età non valida.\")"
   ]
  },
  {
   "cell_type": "markdown",
   "id": "cb9e6a7a",
   "metadata": {},
   "source": [
    "\n",
    "### Indentazione in Python\n",
    "\n",
    "L'indentazione definisce i blocchi di codice. In genere si usano 4 spazi o un tab. Tutte le istruzioni all'interno di un blocco devono essere indentate allo stesso modo.\n",
    "\n",
    "**Esempio di indentazione corretta:**\n"
   ]
  },
  {
   "cell_type": "markdown",
   "id": "094e80a3",
   "metadata": {},
   "source": [
    "```python\n",
    "if condizione:\n",
    "    print(\"Blocco corretto.\")\n",
    "    esegui_azione()\n",
    "```"
   ]
  },
  {
   "cell_type": "markdown",
   "id": "e97137a2",
   "metadata": {},
   "source": [
    "\n",
    "## Esempi Pratici di Codice\n",
    "\n",
    "### Esempio 1: Verifica di un numero positivo\n"
   ]
  },
  {
   "cell_type": "code",
   "execution_count": 11,
   "id": "19e5da34",
   "metadata": {},
   "outputs": [
    {
     "name": "stdout",
     "output_type": "stream",
     "text": [
      "10 è positivo.\n"
     ]
    }
   ],
   "source": [
    "numero = 10\n",
    "\n",
    "if numero > 0:\n",
    "    print(f\"{numero} è positivo.\")"
   ]
  },
  {
   "cell_type": "markdown",
   "id": "6f8e9031",
   "metadata": {},
   "source": [
    "\n",
    "**Spiegazione:**\n",
    "\n",
    "Il programma controlla se `numero` è maggiore di zero. Se la condizione è vera, stampa che il numero è positivo."
   ]
  },
  {
   "cell_type": "markdown",
   "id": "3c3b7e53",
   "metadata": {},
   "source": [
    "### Esempio 2: Pari o dispari\n"
   ]
  },
  {
   "cell_type": "code",
   "execution_count": 12,
   "id": "2ad3e5b5",
   "metadata": {},
   "outputs": [
    {
     "name": "stdout",
     "output_type": "stream",
     "text": [
      "7 è dispari.\n"
     ]
    }
   ],
   "source": [
    "numero = 7\n",
    "\n",
    "if numero % 2 == 0:\n",
    "    print(f\"{numero} è pari.\")\n",
    "else:\n",
    "    print(f\"{numero} è dispari.\")"
   ]
  },
  {
   "cell_type": "markdown",
   "id": "57109861",
   "metadata": {},
   "source": [
    "\n",
    "**Spiegazione:**\n",
    "\n",
    "Utilizza l'operatore modulo `%` per determinare se c'è un resto nella divisione per 2."
   ]
  },
  {
   "cell_type": "markdown",
   "id": "333332c1",
   "metadata": {},
   "source": [
    "### Esempio 3: Grading system\n"
   ]
  },
  {
   "cell_type": "code",
   "execution_count": 13,
   "id": "119133a1",
   "metadata": {},
   "outputs": [
    {
     "name": "stdout",
     "output_type": "stream",
     "text": [
      "Hai ottenuto un B.\n"
     ]
    }
   ],
   "source": [
    "punteggio = 85\n",
    "\n",
    "if punteggio >= 90:\n",
    "    grado = 'A'\n",
    "elif punteggio >= 80:\n",
    "    grado = 'B'\n",
    "elif punteggio >= 70:\n",
    "    grado = 'C'\n",
    "elif punteggio >= 60:\n",
    "    grado = 'D'\n",
    "else:\n",
    "    grado = 'F'\n",
    "\n",
    "print(f\"Hai ottenuto un {grado}.\")"
   ]
  },
  {
   "cell_type": "markdown",
   "id": "c350aa76",
   "metadata": {},
   "source": [
    "\n",
    "**Spiegazione:**\n",
    "\n",
    "Il programma assegna un grado in base al punteggio utilizzando più condizioni `elif`."
   ]
  },
  {
   "cell_type": "markdown",
   "id": "a58dd0f5",
   "metadata": {},
   "source": [
    "### Esempio 4: Controllo dell'accesso\n"
   ]
  },
  {
   "cell_type": "code",
   "execution_count": 14,
   "id": "57a0f73a",
   "metadata": {},
   "outputs": [
    {
     "name": "stdout",
     "output_type": "stream",
     "text": [
      "Accesso consentito.\n"
     ]
    }
   ],
   "source": [
    "eta = 20\n",
    "accompagnato_da_adulto = False\n",
    "\n",
    "if eta >= 18:\n",
    "    print(\"Accesso consentito.\")\n",
    "elif eta >= 16 and accompagnato_da_adulto:\n",
    "    print(\"Accesso consentito con accompagnatore.\")\n",
    "else:\n",
    "    print(\"Accesso negato.\")"
   ]
  },
  {
   "cell_type": "markdown",
   "id": "dcaeebbf",
   "metadata": {},
   "source": [
    "\n",
    "**Spiegazione:**\n",
    "\n",
    "Combina condizioni con operatori logici per gestire casi specifici."
   ]
  },
  {
   "cell_type": "markdown",
   "id": "31e34c96",
   "metadata": {},
   "source": [
    "## Esercizi Interattivi\n",
    "\n",
    "### Esercizio 1: Maggiore tra due numeri\n",
    "\n",
    "Chiedi all'utente di inserire due numeri e stampa il numero maggiore.\n",
    "\n",
    "**Soluzione:**\n"
   ]
  },
  {
   "cell_type": "code",
   "execution_count": 15,
   "id": "a4e1d2db",
   "metadata": {},
   "outputs": [
    {
     "name": "stdout",
     "output_type": "stream",
     "text": [
      "Inserisci il primo numero: 9\n",
      "Inserisci il secondo numero: 6\n",
      "Il numero maggiore è 9.0.\n"
     ]
    }
   ],
   "source": [
    "num1 = float(input(\"Inserisci il primo numero: \"))\n",
    "num2 = float(input(\"Inserisci il secondo numero: \"))\n",
    "\n",
    "if num1 > num2:\n",
    "    print(f\"Il numero maggiore è {num1}.\")\n",
    "elif num2 > num1:\n",
    "    print(f\"Il numero maggiore è {num2}.\")\n",
    "else:\n",
    "    print(\"I numeri sono uguali.\")"
   ]
  },
  {
   "cell_type": "markdown",
   "id": "0564cb48",
   "metadata": {},
   "source": [
    "### Esercizio 2: Calcolatrice semplice\n",
    "\n",
    "Crea un programma che chieda all'utente due numeri e un'operazione (`+, -, *, /`) e calcoli il risultato.\n",
    "\n",
    "**Soluzione:**\n"
   ]
  },
  {
   "cell_type": "code",
   "execution_count": 17,
   "id": "8b53e4bd",
   "metadata": {},
   "outputs": [
    {
     "name": "stdout",
     "output_type": "stream",
     "text": [
      "Inserisci il primo numero: 8\n",
      "Inserisci l'operazione (+, -, *, /): /\n",
      "Inserisci il secondo numero: 2\n",
      "Il risultato è: 4.0\n"
     ]
    }
   ],
   "source": [
    "num1 = float(input(\"Inserisci il primo numero: \"))\n",
    "operazione = input(\"Inserisci l'operazione (+, -, *, /): \")\n",
    "num2 = float(input(\"Inserisci il secondo numero: \"))\n",
    "\n",
    "if operazione == '+':\n",
    "    risultato = num1 + num2\n",
    "elif operazione == '-':\n",
    "    risultato = num1 - num2\n",
    "elif operazione == '*':\n",
    "    risultato = num1 * num2\n",
    "elif operazione == '/':\n",
    "    if num2 != 0:\n",
    "        risultato = num1 / num2\n",
    "    else:\n",
    "        risultato = \"Errore: divisione per zero.\"\n",
    "else:\n",
    "    risultato = \"Operazione non valida.\"\n",
    "\n",
    "print(f\"Il risultato è: {risultato}\")"
   ]
  },
  {
   "cell_type": "markdown",
   "id": "d393781b",
   "metadata": {},
   "source": [
    "### Esercizio 3: Categoria di età\n",
    "\n",
    "Chiedi all'utente la sua età e determina la categoria:\n",
    "\n",
    "- **0-12**: Bambino\n",
    "- **13-19**: Adolescente\n",
    "- **20-59**: Adulto\n",
    "- **60+**: Anziano\n",
    "\n",
    "**Soluzione:**\n"
   ]
  },
  {
   "cell_type": "code",
   "execution_count": 18,
   "id": "4570dc46",
   "metadata": {},
   "outputs": [
    {
     "name": "stdout",
     "output_type": "stream",
     "text": [
      "Inserisci la tua età: 18\n",
      "Appartieni alla categoria: Adolescente.\n"
     ]
    }
   ],
   "source": [
    "eta = int(input(\"Inserisci la tua età: \"))\n",
    "\n",
    "if eta >= 0 and eta <= 12:\n",
    "    categoria = \"Bambino\"\n",
    "elif eta >= 13 and eta <= 19:\n",
    "    categoria = \"Adolescente\"\n",
    "elif eta >= 20 and eta <= 59:\n",
    "    categoria = \"Adulto\"\n",
    "elif eta >= 60:\n",
    "    categoria = \"Anziano\"\n",
    "else:\n",
    "    categoria = \"Età non valida\"\n",
    "\n",
    "print(f\"Appartieni alla categoria: {categoria}.\")"
   ]
  },
  {
   "cell_type": "markdown",
   "id": "2aa674c8",
   "metadata": {},
   "source": [
    "## Buone Pratiche e Consigli\n",
    "\n",
    "- **Chiarezza delle Condizioni**: Scrivi condizioni chiare e semplici da leggere. Se una condizione è complessa, considera di assegnarla a una variabile con un nome significativo.\n",
    "\n",
    "- **Indentazione Consistente**: Usa sempre la stessa tecnica di indentazione (spazi o tabulazioni) in tutto il tuo codice per evitare errori di sintassi.\n",
    "\n",
    "- **Utilizzo degli Operatori Logici**: Combina condizioni con `and`, `or`, e `not` per rendere il codice più efficiente e leggibile.\n",
    "\n",
    "- **Controllo degli Input**: Valida sempre gli input dell'utente per prevenire comportamenti inaspettati o errori.\n",
    "\n",
    "- **Evitare Annidamenti Profondi**: Troppi livelli di annidamento possono rendere il codice difficile da seguire. Quando possibile, semplifica le condizioni o suddividi il codice in funzioni.\n",
    "\n",
    "## Conclusione\n",
    "\n",
    "Le strutture condizionali `if`, `elif` ed `else` sono fondamentali per controllare il flusso dei programmi in Python. Permettono di eseguire diverse operazioni in base a condizioni specifiche, rendendo il tuo codice più dinamico e potente. Padroneggiare queste strutture ti consentirà di scrivere programmi più complessi e funzionali.\n",
    "\n",
    "## Risorse Aggiuntive\n",
    "\n",
    "- **Documentazione Ufficiale Python**: [Flow Control](https://docs.python.org/3/tutorial/controlflow.html)\n",
    "- **Libro Consigliato**: [Python Crash Course di Eric Matthes](https://www.amazon.com/Python-Crash-Course-2nd-Edition/dp/1593279280)\n",
    "- **Video Tutorial**: [Conditionals and Booleans - If, Else, and Elif Statements](https://youtu.be/DZwmZ8Usvnk?si=BYUxFIbWBqfFGlsJ)"
   ]
  }
 ],
 "metadata": {
  "kernelspec": {
   "display_name": "Python 3 (ipykernel)",
   "language": "python",
   "name": "python3"
  },
  "language_info": {
   "codemirror_mode": {
    "name": "ipython",
    "version": 3
   },
   "file_extension": ".py",
   "mimetype": "text/x-python",
   "name": "python",
   "nbconvert_exporter": "python",
   "pygments_lexer": "ipython3",
   "version": "3.10.9"
  }
 },
 "nbformat": 4,
 "nbformat_minor": 5
}
