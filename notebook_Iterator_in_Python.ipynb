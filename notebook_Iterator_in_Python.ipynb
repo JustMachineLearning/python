{
 "cells": [
  {
   "cell_type": "markdown",
   "id": "6fb10200",
   "metadata": {},
   "source": [
    "# **Iteratori in Python**\n",
    "\n",
    "## **Obiettivi della Lezione**\n",
    "\n",
    "Al termine di questa lezione, sarai in grado di:\n",
    "\n",
    "- Comprendere cosa sono gli iterator in Python e come funzionano.\n",
    "- Utilizzare l'iteratore predefinito in Python per scorrere collezioni di dati.\n",
    "- Creare i tuoi oggetti iterabili personalizzati definendo i metodi `__iter__()` e `__next__()`.\n",
    "- Comprendere la differenza tra oggetti iterabili e iteratori.\n",
    "- Utilizzare gli iteratori nei contesti appropriati per scrivere codice più efficiente e pulito.\n",
    "\n",
    "## **Introduzione**\n",
    "\n",
    "Gli iteratori sono una componente fondamentale di Python che permette di scorrere sequenze di dati in modo efficiente. Se hai mai usato un ciclo `for` per attraversare una lista o una stringa, hai già utilizzato gli iteratori senza saperlo. Questa lezione esplorerà in dettaglio cosa sono gli iteratori, come funzionano e come puoi creare i tuoi iteratori personalizzati.\n",
    "\n",
    "## **Spiegazione Teorica**\n",
    "\n",
    "### **Cosa sono gli Iterabili e gli Iteratori?**\n",
    "\n",
    "- **Iterabile**: Un oggetto è considerato iterabile se può restituire un oggetto iteratore. Questo significa che l'oggetto ha un metodo `__iter__()` che restituisce un iteratore.\n",
    "- **Iteratore**: Un iteratore è un oggetto che rappresenta un flusso di dati e restituisce un elemento alla volta quando viene chiamato il suo metodo `__next__()`. Gli iteratori mantengono il loro stato interno, permettendo di riprendere l'iterazione da dove era stata lasciata.\n",
    "\n",
    "### **Il Protocollo degli Iteratori**\n",
    "\n",
    "Per rendere un oggetto un iteratore, deve implementare i seguenti metodi:\n",
    "\n",
    "- `__iter__()`: Questo metodo deve restituire l'oggetto iteratore stesso e viene chiamato al momento dell'inizializzazione dell'iteratore.\n",
    "- `__next__()`: Questo metodo restituisce il prossimo elemento della sequenza. Quando non ci sono più elementi da restituire, deve sollevare l'eccezione `StopIteration`.\n",
    "\n",
    "### **Perché Usare gli Iteratori?**\n",
    "\n",
    "- **Efficienza della Memoria**: Gli iteratori permettono di lavorare con sequenze di dati senza caricarli tutti in memoria.\n",
    "- **Pipelining**: Possono essere usati per creare pipeline di elaborazione dei dati, dove l'output di un iteratore diventa l'input di un altro.\n",
    "\n",
    "## **Esempi Pratici di Codice**\n",
    "\n",
    "### **Utilizzo di un Iteratore Predefinito**\n"
   ]
  },
  {
   "cell_type": "code",
   "execution_count": 4,
   "id": "083d510a",
   "metadata": {},
   "outputs": [
    {
     "name": "stdout",
     "output_type": "stream",
     "text": [
      "mela\n",
      "banana\n",
      "ciliegia\n"
     ]
    }
   ],
   "source": [
    "# Creiamo una lista semplice\n",
    "frutti = [\"mela\", \"banana\", \"ciliegia\"]\n",
    "\n",
    "# Otteniamo un iteratore dalla lista\n",
    "iteratore_frutti = iter(frutti)\n",
    "\n",
    "# Usiamo il metodo __next__() per ottenere gli elementi\n",
    "print(next(iteratore_frutti))  # Output: mela\n",
    "print(next(iteratore_frutti))  # Output: banana\n",
    "print(next(iteratore_frutti))  # Output: ciliegia"
   ]
  },
  {
   "cell_type": "markdown",
   "id": "5c47217a",
   "metadata": {},
   "source": [
    "Se proviamo a chiamare next ancora, otteniamo un'eccezione StopIteration"
   ]
  },
  {
   "cell_type": "code",
   "execution_count": 7,
   "id": "3bf40e61",
   "metadata": {},
   "outputs": [
    {
     "ename": "StopIteration",
     "evalue": "",
     "output_type": "error",
     "traceback": [
      "\u001b[1;31m---------------------------------------------------------------------------\u001b[0m",
      "\u001b[1;31mStopIteration\u001b[0m                             Traceback (most recent call last)",
      "Cell \u001b[1;32mIn[7], line 1\u001b[0m\n\u001b[1;32m----> 1\u001b[0m \u001b[38;5;28mprint\u001b[39m(\u001b[38;5;28;43mnext\u001b[39;49m\u001b[43m(\u001b[49m\u001b[43miteratore_frutti\u001b[49m\u001b[43m)\u001b[49m)\n",
      "\u001b[1;31mStopIteration\u001b[0m: "
     ]
    }
   ],
   "source": [
    "print(next(iteratore_frutti)) "
   ]
  },
  {
   "cell_type": "markdown",
   "id": "7dacc1b5",
   "metadata": {},
   "source": [
    "\n",
    "### **Creazione di un Iteratore Personalizzato**\n",
    "\n",
    "Supponiamo di voler creare un iteratore che restituisce i numeri di una sequenza, iniziando da 1 e incrementando di 1 fino a un valore massimo specificato.\n"
   ]
  },
  {
   "cell_type": "code",
   "execution_count": 8,
   "id": "d2bf330c",
   "metadata": {},
   "outputs": [
    {
     "name": "stdout",
     "output_type": "stream",
     "text": [
      "1\n",
      "2\n",
      "3\n",
      "4\n",
      "5\n"
     ]
    }
   ],
   "source": [
    "class Contatore:\n",
    "    def __init__(self, massimo):\n",
    "        self.massimo = massimo\n",
    "\n",
    "    def __iter__(self):\n",
    "        self.contatore = 1\n",
    "        return self\n",
    "\n",
    "    def __next__(self):\n",
    "        if self.contatore <= self.massimo:\n",
    "            risultato = self.contatore\n",
    "            self.contatore += 1\n",
    "            return risultato\n",
    "        else:\n",
    "            raise StopIteration\n",
    "\n",
    "# Utilizzo dell'iteratore Contatore\n",
    "conta_fino_a_5 = Contatore(5)\n",
    "for numero in conta_fino_a_5:\n",
    "    print(numero)"
   ]
  },
  {
   "cell_type": "markdown",
   "id": "d1a97096",
   "metadata": {},
   "source": [
    "\n",
    "### **Iteratori Infinito**\n",
    "\n",
    "Puoi anche creare iteratori che generano una sequenza infinita.\n"
   ]
  },
  {
   "cell_type": "code",
   "execution_count": null,
   "id": "ac80c158",
   "metadata": {},
   "outputs": [],
   "source": [
    "class NumeriPari:\n",
    "    def __iter__(self):\n",
    "        self.numero = 0\n",
    "        return self\n",
    "\n",
    "    def __next__(self):\n",
    "        self.numero += 2\n",
    "        return self.numero\n",
    "\n",
    "# Attenzione: questo è un ciclo infinito!\n",
    "# numeri_pari = NumeriPari()\n",
    "# for num in numeri_pari:\n",
    "#     print(num)"
   ]
  },
  {
   "cell_type": "markdown",
   "id": "bcd6567f",
   "metadata": {},
   "source": [
    "\n",
    "## **Esercizi Interattivi**\n",
    "\n",
    "### **Esercizio 1: Iteratore Personalizzato**\n",
    "\n",
    "Crea una classe `ReverseString` che prende una stringa e la restituisce al contrario, un carattere alla volta, ogni volta che viene chiamato `next()`.\n",
    "\n",
    "**Suggerimento**: inizia dall'ultimo indice della stringa e decrementalo ad ogni chiamata.\n"
   ]
  },
  {
   "cell_type": "code",
   "execution_count": null,
   "id": "3818318b",
   "metadata": {},
   "outputs": [],
   "source": [
    "# Scrivi il tuo codice qui\n",
    "class ReverseString:\n",
    "    pass\n",
    "\n",
    "# Testa la tua classe\n",
    "parola = ReverseString(\"Python\")\n",
    "for carattere in parola:\n",
    "    print(carattere)"
   ]
  },
  {
   "cell_type": "markdown",
   "id": "9f526d01",
   "metadata": {},
   "source": [
    "\n",
    "### **Soluzione all'Esercizio 1**\n"
   ]
  },
  {
   "cell_type": "code",
   "execution_count": 10,
   "id": "04e56aa1",
   "metadata": {},
   "outputs": [
    {
     "name": "stdout",
     "output_type": "stream",
     "text": [
      "n\n",
      "o\n",
      "h\n",
      "t\n",
      "y\n",
      "P\n"
     ]
    }
   ],
   "source": [
    "class ReverseString:\n",
    "    def __init__(self, stringa):\n",
    "        self.stringa = stringa\n",
    "        self.indice = len(stringa)\n",
    "\n",
    "    def __iter__(self):\n",
    "        return self\n",
    "\n",
    "    def __next__(self):\n",
    "        if self.indice == 0:\n",
    "            raise StopIteration\n",
    "        self.indice -= 1\n",
    "        return self.stringa[self.indice]\n",
    "\n",
    "# Testa la classe\n",
    "parola = ReverseString(\"Python\")\n",
    "for carattere in parola:\n",
    "    print(carattere)"
   ]
  },
  {
   "cell_type": "markdown",
   "id": "4f550351",
   "metadata": {},
   "source": [
    "\n",
    "## **Buone Pratiche e Consigli**\n",
    "\n",
    "- **Usa gli iteratori per gestire grandi quantità di dati**: Quando lavori con dataset molto grandi, gli iteratori possono evitare di caricare tutto in memoria.\n",
    "- **Maneggia l'eccezione StopIteration**: Quando crei iteratori personalizzati, assicurati di sollevare `StopIteration` per indicare la fine della sequenza.\n",
    "- **Non modificare la collezione durante l'iterazione**: Cambiare il contenuto di una collezione mentre la stai iterando può portare a comportamenti inaspettati.\n",
    "\n",
    "## **Conclusione**\n",
    "\n",
    "Gli iteratori sono strumenti potenti che permettono di attraversare sequenze di dati in modo efficiente e pythonico. Comprendere come funzionano internamente ti permetterà di scrivere codice più efficace e di sfruttare appieno le potenzialità di Python nella gestione dei dati.\n",
    "\n",
    "## **Risorse Aggiuntive**\n",
    "\n",
    "- **Documentazione Ufficiale Python**: [Iterators](https://docs.python.org/3/tutorial/classes.html#iterators)\n",
    "- **Libro Consigliato**: [Python Crash Course di Eric Matthes](https://www.amazon.com/Python-Crash-Course-2nd-Edition/dp/1593279280)\n",
    "- **Video Tutorial**: [Iterators and Iterables - What Are They and How Do They Work?](https://youtu.be/jTYiNjvnHZY?si=nKN0AU26wMJRPOL6)"
   ]
  }
 ],
 "metadata": {
  "kernelspec": {
   "display_name": "Python 3 (ipykernel)",
   "language": "python",
   "name": "python3"
  },
  "language_info": {
   "codemirror_mode": {
    "name": "ipython",
    "version": 3
   },
   "file_extension": ".py",
   "mimetype": "text/x-python",
   "name": "python",
   "nbconvert_exporter": "python",
   "pygments_lexer": "ipython3",
   "version": "3.10.9"
  }
 },
 "nbformat": 4,
 "nbformat_minor": 5
}
