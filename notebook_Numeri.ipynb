{
 "cells": [
  {
   "cell_type": "markdown",
   "id": "ad59e2c9",
   "metadata": {},
   "source": [
    "# Numeri in Python\n",
    "\n",
    "## **Obiettivi della Lezione**\n",
    "\n",
    "Al termine di questa lezione, sarai in grado di:\n",
    "\n",
    "- Comprendere i tipi di dati numerici in Python: interi (`int`), numeri a virgola mobile (`float`) e numeri complessi (`complex`).\n",
    "- Utilizzare operatori aritmetici per eseguire calcoli con i numeri.\n",
    "- Convertire tra diversi tipi numerici.\n",
    "- Applicare funzioni built-in per manipolare i numeri.\n",
    "\n",
    "## **Introduzione**\n",
    "\n",
    "I numeri sono fondamentali in qualsiasi linguaggio di programmazione, e Python offre un supporto robusto per diversi tipi di dati numerici. Che tu stia contando elementi, misurando grandezze o eseguendo calcoli complessi, è essenziale comprendere come Python gestisce i numeri e quali strumenti mette a disposizione per operarci.\n",
    "\n",
    "## **Spiegazione Teorica**\n",
    "\n",
    "### Tipi di Dati Numerici in Python\n",
    "\n",
    "Python supporta tre tipi di dati numerici principali:\n",
    "\n",
    "1. **Interi (`int`)**: numeri senza parte decimale. Possono essere positivi o negativi, inclusi zero.\n",
    "   - Esempi: `-3`, `0`, `42`\n",
    "\n",
    "2. **Virgola Mobile (`float`)**: numeri con parte decimale. Utilizzati per rappresentare numeri non interi.\n",
    "   - Esempi: `3.14`, `0.0`, `-7.5`\n",
    "\n",
    "3. **Complessi (`complex`)**: numeri con parte reale e immaginaria, rappresentati come `a + bj`, dove `a` è la parte reale e `b` quella immaginaria.\n",
    "   - Esempi: `2+3j`, `-1j`\n",
    "\n",
    "### Operazioni con i Numeri\n",
    "\n",
    "Python fornisce una serie di operatori per eseguire operazioni aritmetiche:\n",
    "\n",
    "- **Addizione (`+`)**\n",
    "- **Sottrazione (`-`)**\n",
    "- **Moltiplicazione (`*`)**\n",
    "- **Divisione (`/`)**\n",
    "- **Divisione Intera (`//`)**: restituisce solo la parte intera del quoziente.\n",
    "- **Modulo (`%`)**: restituisce il resto della divisione.\n",
    "- **Esponenziazione (`**`)**: elevamento a potenza.\n",
    "\n",
    "### Conversione tra Tipi Numerici\n",
    "\n",
    "Puoi convertire un numero da un tipo all'altro utilizzando le funzioni:\n",
    "\n",
    "- `int()`: converte in intero.\n",
    "- `float()`: converte in virgola mobile.\n",
    "- `complex()`: converte in numero complesso.\n",
    "\n",
    "## **Esempi Pratici di Codice**\n",
    "\n",
    "### Dichiarazione e Utilizzo di Interi\n"
   ]
  },
  {
   "cell_type": "code",
   "execution_count": 1,
   "id": "14cb5e28",
   "metadata": {},
   "outputs": [
    {
     "name": "stdout",
     "output_type": "stream",
     "text": [
      "10\n",
      "-5\n"
     ]
    }
   ],
   "source": [
    "# Assegnazione di un intero\n",
    "a = 10\n",
    "b = -5\n",
    "print(a)  # Output: 10\n",
    "print(b)  # Output: -5"
   ]
  },
  {
   "cell_type": "markdown",
   "id": "31946037",
   "metadata": {},
   "source": [
    "\n",
    "### Operazioni con Numeri a Virgola Mobile\n"
   ]
  },
  {
   "cell_type": "code",
   "execution_count": 2,
   "id": "b91c69ba",
   "metadata": {},
   "outputs": [
    {
     "name": "stdout",
     "output_type": "stream",
     "text": [
      "5.5\n",
      "1.75\n"
     ]
    }
   ],
   "source": [
    "# Numeri float\n",
    "x = 3.5\n",
    "y = 2.0\n",
    "\n",
    "# Addizione\n",
    "result = x + y\n",
    "print(result)  # Output: 5.5\n",
    "\n",
    "# Divisione\n",
    "division = x / y\n",
    "print(division)  # Output: 1.75"
   ]
  },
  {
   "cell_type": "markdown",
   "id": "c4dbb760",
   "metadata": {},
   "source": [
    "\n",
    "### Numeri Complessi\n"
   ]
  },
  {
   "cell_type": "code",
   "execution_count": 3,
   "id": "600f1cc7",
   "metadata": {},
   "outputs": [
    {
     "name": "stdout",
     "output_type": "stream",
     "text": [
      "(3+2j)\n"
     ]
    }
   ],
   "source": [
    "# Numeri complessi\n",
    "c1 = 2 + 3j\n",
    "c2 = 1 - 1j\n",
    "\n",
    "# Somma di numeri complessi\n",
    "sum_complex = c1 + c2\n",
    "print(sum_complex)  # Output: (3+2j)"
   ]
  },
  {
   "cell_type": "markdown",
   "id": "302eed82",
   "metadata": {},
   "source": [
    "\n",
    "### Conversione di Tipi\n"
   ]
  },
  {
   "cell_type": "code",
   "execution_count": 4,
   "id": "650463cf",
   "metadata": {},
   "outputs": [
    {
     "name": "stdout",
     "output_type": "stream",
     "text": [
      "9\n",
      "15.0\n"
     ]
    }
   ],
   "source": [
    "# Convertire float in int\n",
    "num_float = 9.8\n",
    "num_int = int(num_float)\n",
    "print(num_int)  # Output: 9\n",
    "\n",
    "# Convertire int in float\n",
    "num = 15\n",
    "num_float = float(num)\n",
    "print(num_float)  # Output: 15.0"
   ]
  },
  {
   "cell_type": "markdown",
   "id": "7171d78c",
   "metadata": {},
   "source": [
    "\n",
    "### Uso di Funzioni Built-in\n"
   ]
  },
  {
   "cell_type": "code",
   "execution_count": 5,
   "id": "bc6100e5",
   "metadata": {},
   "outputs": [
    {
     "name": "stdout",
     "output_type": "stream",
     "text": [
      "20\n",
      "8\n",
      "3.14\n"
     ]
    }
   ],
   "source": [
    "# Valore assoluto\n",
    "negative_num = -20\n",
    "abs_value = abs(negative_num)\n",
    "print(abs_value)  # Output: 20\n",
    "\n",
    "# Potenza\n",
    "power = pow(2, 3)\n",
    "print(power)  # Output: 8\n",
    "\n",
    "# Arrotondamento\n",
    "num = 3.14159\n",
    "rounded_num = round(num, 2)\n",
    "print(rounded_num)  # Output: 3.14"
   ]
  },
  {
   "cell_type": "markdown",
   "id": "169115b6",
   "metadata": {},
   "source": [
    "## **Esercizi Interattivi**\n",
    "\n",
    "1. **Calcolo dell'Area di un Cerchio**\n",
    "\n",
    "   Scrivi un programma che, dato il raggio di un cerchio, calcoli l'area."
   ]
  },
  {
   "cell_type": "code",
   "execution_count": null,
   "id": "c93ee53d",
   "metadata": {},
   "outputs": [],
   "source": [
    "# Inserisci il tuo codice qui\n",
    "raggio = 5  # Puoi modificare questo valore\n",
    "area = # Calcola l'area\n",
    "print(\"L'area del cerchio è:\", area)"
   ]
  },
  {
   "cell_type": "markdown",
   "id": "9c2e6be5",
   "metadata": {},
   "source": [
    "2. **Conversione Temperatura**\n",
    "\n",
    "   Scrivi un programma che converta una temperatura da gradi Celsius a Fahrenheit.\n",
    "\n",
    "   Formula: `F = C * 9/5 + 32`"
   ]
  },
  {
   "cell_type": "code",
   "execution_count": null,
   "id": "47f0cdd2",
   "metadata": {},
   "outputs": [],
   "source": [
    "# Inserisci il tuo codice qui\n",
    "celsius = 25  # Puoi modificare questo valore\n",
    "fahrenheit = # Calcola la temperatura in Fahrenheit\n",
    "print(celsius, \"gradi Celsius corrispondono a\", fahrenheit, \"gradi Fahrenheit\")"
   ]
  },
  {
   "cell_type": "markdown",
   "id": "52a4083c",
   "metadata": {},
   "source": [
    "3. **Operazioni con Numeri Complessi**\n",
    "\n",
    "   Dati due numeri complessi `z1 = 4 + 5j` e `z2 = 3 - 2j`, calcola il loro prodotto.\n"
   ]
  },
  {
   "cell_type": "code",
   "execution_count": null,
   "id": "d951771a",
   "metadata": {},
   "outputs": [],
   "source": [
    "# Inserisci il tuo codice qui\n",
    "z1 = 4 + 5j\n",
    "z2 = 3 - 2j\n",
    "prodotto = # Calcola il prodotto\n",
    "print(\"Il prodotto di z1 e z2 è:\", prodotto)"
   ]
  },
  {
   "cell_type": "markdown",
   "id": "f35b39b0",
   "metadata": {},
   "source": [
    "\n",
    "## **Buone Pratiche e Consigli**\n",
    "\n",
    "- **Scegli il Tipo Adeguato**: utilizza `int` quando lavori con numeri interi e `float` per numeri con parte decimale. Questo migliora la leggibilità e l'efficienza del codice.\n",
    "- **Attenzione alla Precisione dei Float**: i numeri a virgola mobile possono presentare problemi di precisione a causa della loro rappresentazione in memoria. Evita confronti diretti tra float.\n",
    "- **Utilizza le Funzioni Built-in**: Python offre diverse funzioni per operare con i numeri. Familiarizza con esse per scrivere codice più efficiente.\n",
    "\n",
    "## **Conclusione**\n",
    "\n",
    "In questa lezione, abbiamo esplorato i tipi di dati numerici in Python e come utilizzarli nelle operazioni quotidiane. Comprendere come Python gestisce i numeri è fondamentale per sviluppare applicazioni efficaci e accurate.\n",
    "\n",
    "## Risorse Aggiuntive\n",
    "\n",
    "- **Documentazione Ufficiale Python**: [Numeric Types](https://docs.python.org/3/library/stdtypes.html#numeric-types-int-float-complex)\n",
    "- **Libro Consigliato**: [Python Crash Course di Eric Matthes](https://www.amazon.com/Python-Crash-Course-2nd-Edition/dp/1593279280)\n",
    "- **Video Tutorial**: [Integers and Floats - Working with Numeric Data](https://youtu.be/khKv-8q7YmY?si=He3Cwcyt6gf5MPZT)"
   ]
  }
 ],
 "metadata": {
  "kernelspec": {
   "display_name": "Python 3 (ipykernel)",
   "language": "python",
   "name": "python3"
  },
  "language_info": {
   "codemirror_mode": {
    "name": "ipython",
    "version": 3
   },
   "file_extension": ".py",
   "mimetype": "text/x-python",
   "name": "python",
   "nbconvert_exporter": "python",
   "pygments_lexer": "ipython3",
   "version": "3.10.9"
  }
 },
 "nbformat": 4,
 "nbformat_minor": 5
}
