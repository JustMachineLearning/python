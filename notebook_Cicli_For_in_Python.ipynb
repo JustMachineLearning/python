{
 "cells": [
  {
   "cell_type": "markdown",
   "id": "c2859680",
   "metadata": {},
   "source": [
    "# Cicli For in Python\n",
    "\n",
    "## Obiettivi della Lezione\n",
    "\n",
    "Al termine di questa lezione, sarai in grado di:\n",
    "\n",
    "- Comprendere il funzionamento dei cicli `for` in Python.\n",
    "- Utilizzare i cicli `for` per iterare su diverse strutture dati come liste, tuple, stringhe e dizionari.\n",
    "- Implementare cicli annidati e utilizzare la funzione `range()`.\n",
    "- Applicare i cicli `for` in situazioni pratiche per automatizzare operazioni ripetitive.\n",
    "\n",
    "## Introduzione\n",
    "\n",
    "I cicli sono fondamentali nella programmazione in quanto permettono di eseguire ripetutamente un blocco di codice finché una condizione è vera o per ogni elemento di una sequenza. In Python, il ciclo `for` è uno strumento potente e flessibile che consente di iterare su qualsiasi oggetto iterabile, come liste, stringhe o range di numeri. Questa lezione esplorerà in dettaglio come utilizzare i cicli `for` per rendere il tuo codice più efficiente e pulito.\n",
    "\n",
    "## Spiegazione Teorica\n",
    "\n",
    "### Concetto di Iterazione\n",
    "\n",
    "L'iterazione è il processo di ripetizione di un insieme di istruzioni fino al raggiungimento di una condizione specifica o per ogni elemento di una sequenza. In Python, il ciclo `for` viene utilizzato per iterare su oggetti iterabili, eseguendo un blocco di codice per ogni elemento nell'oggetto.\n",
    "\n",
    "### Sintassi del Ciclo For\n",
    "\n",
    "La sintassi di base di un ciclo `for` in Python è:\n"
   ]
  },
  {
   "cell_type": "markdown",
   "id": "fb6c44d0",
   "metadata": {
    "scrolled": true
   },
   "source": [
    "```python\n",
    "for variabile in sequenza:\n",
    "    # blocco di codice\n",
    "```    "
   ]
  },
  {
   "cell_type": "markdown",
   "id": "60dd99bf",
   "metadata": {},
   "source": [
    "\n",
    "- **`variabile`**: una variabile temporanea che assume il valore di ogni elemento nella sequenza durante l'iterazione.\n",
    "- **`sequenza`**: un oggetto iterabile come una lista, una stringa, una tupla, un dizionario o un range.\n",
    "- **`blocco di codice`**: il codice che viene eseguito ad ogni iterazione del ciclo.\n",
    "\n",
    "### La Funzione `range()`\n",
    "\n",
    "La funzione `range()` genera una sequenza di numeri e viene comunemente utilizzata con i cicli `for`. La sua sintassi è:\n",
    "\n",
    "- `range(stop)`  \n",
    "- `range(start, stop)`  \n",
    "- `range(start, stop, step)`\n",
    "\n",
    "- **`start`**: inizio della sequenza (incluso, default è 0).\n",
    "- **`stop`**: fine della sequenza (escluso).\n",
    "- **`step`**: incremento (default è 1).\n",
    "\n",
    "## Esempi Pratici di Codice\n",
    "\n",
    "### Iterazione su una Lista\n"
   ]
  },
  {
   "cell_type": "code",
   "execution_count": 2,
   "id": "d5b109e3",
   "metadata": {},
   "outputs": [
    {
     "name": "stdout",
     "output_type": "stream",
     "text": [
      "mela\n",
      "banana\n",
      "ciliegia\n"
     ]
    }
   ],
   "source": [
    "frutti = ['mela', 'banana', 'ciliegia']\n",
    "for frutto in frutti:\n",
    "    print(frutto)"
   ]
  },
  {
   "cell_type": "markdown",
   "id": "b7b8dcae",
   "metadata": {},
   "source": [
    "\n",
    "**Spiegazione**: Il ciclo itera su ogni elemento della lista `frutti`, assegnando a `frutto` il valore dell'elemento corrente e stampandolo.\n",
    "\n",
    "**Output**:\n",
    "```\n",
    "mela\n",
    "banana\n",
    "ciliegia\n",
    "```\n",
    "\n",
    "### Utilizzo di `range()`\n"
   ]
  },
  {
   "cell_type": "code",
   "execution_count": 3,
   "id": "eb2dd52c",
   "metadata": {},
   "outputs": [
    {
     "name": "stdout",
     "output_type": "stream",
     "text": [
      "0\n",
      "1\n",
      "2\n",
      "3\n",
      "4\n"
     ]
    }
   ],
   "source": [
    "for numero in range(5):\n",
    "    print(numero)"
   ]
  },
  {
   "cell_type": "markdown",
   "id": "b47a98ac",
   "metadata": {},
   "source": [
    "\n",
    "**Spiegazione**: `range(5)` genera una sequenza di numeri da 0 a 4. Il ciclo stampa ogni numero nella sequenza.\n",
    "\n",
    "### Iterazione su una Stringa\n",
    "\n"
   ]
  },
  {
   "cell_type": "code",
   "execution_count": 4,
   "id": "b3867659",
   "metadata": {},
   "outputs": [
    {
     "name": "stdout",
     "output_type": "stream",
     "text": [
      "P\n",
      "y\n",
      "t\n",
      "h\n",
      "o\n",
      "n\n"
     ]
    }
   ],
   "source": [
    "for carattere in \"Python\":\n",
    "    print(carattere)"
   ]
  },
  {
   "cell_type": "markdown",
   "id": "1048add9",
   "metadata": {},
   "source": [
    "\n",
    "**Spiegazione**: Il ciclo itera su ogni carattere della stringa \"Python\".\n",
    "\n",
    "\n",
    "### Utilizzo di `range()` con `start` e `step`\n"
   ]
  },
  {
   "cell_type": "code",
   "execution_count": 5,
   "id": "e3da4bed",
   "metadata": {},
   "outputs": [
    {
     "name": "stdout",
     "output_type": "stream",
     "text": [
      "2\n",
      "4\n",
      "6\n",
      "8\n"
     ]
    }
   ],
   "source": [
    "for numero in range(2, 10, 2):\n",
    "    print(numero)"
   ]
  },
  {
   "cell_type": "markdown",
   "id": "40563668",
   "metadata": {},
   "source": [
    "\n",
    "**Spiegazione**: `range(2, 10, 2)` genera numeri da 2 a 9 con un incremento di 2.\n",
    "\n",
    "\n",
    "### Cicli Annidati\n"
   ]
  },
  {
   "cell_type": "code",
   "execution_count": 6,
   "id": "78ab4cb6",
   "metadata": {},
   "outputs": [
    {
     "name": "stdout",
     "output_type": "stream",
     "text": [
      "rosso penna\n",
      "rosso tazza\n",
      "rosso libro\n",
      "verde penna\n",
      "verde tazza\n",
      "verde libro\n",
      "blu penna\n",
      "blu tazza\n",
      "blu libro\n"
     ]
    }
   ],
   "source": [
    "colori = ['rosso', 'verde', 'blu']\n",
    "oggetti = ['penna', 'tazza', 'libro']\n",
    "\n",
    "for colore in colori:\n",
    "    for oggetto in oggetti:\n",
    "        print(colore, oggetto)"
   ]
  },
  {
   "cell_type": "markdown",
   "id": "da33ef3f",
   "metadata": {},
   "source": [
    "\n",
    "**Spiegazione**: Il ciclo esterno itera su `colori`, mentre il ciclo interno itera su `oggetti`, creando tutte le combinazioni possibili.\n",
    "\n",
    "\n",
    "### Utilizzo di `else` nei Cicli For\n"
   ]
  },
  {
   "cell_type": "code",
   "execution_count": 7,
   "id": "43dc872a",
   "metadata": {},
   "outputs": [
    {
     "name": "stdout",
     "output_type": "stream",
     "text": [
      "0\n",
      "1\n",
      "2\n",
      "3\n",
      "4\n",
      "Ciclo completato!\n"
     ]
    }
   ],
   "source": [
    "for numero in range(5):\n",
    "    print(numero)\n",
    "else:\n",
    "    print(\"Ciclo completato!\")"
   ]
  },
  {
   "cell_type": "markdown",
   "id": "24d43461",
   "metadata": {},
   "source": [
    "\n",
    "**Spiegazione**: Il blocco `else` viene eseguito una volta terminato il ciclo.\n",
    "\n",
    "\n",
    "### Interruzione del Ciclo con `break`\n"
   ]
  },
  {
   "cell_type": "code",
   "execution_count": 8,
   "id": "b0bc1801",
   "metadata": {},
   "outputs": [
    {
     "name": "stdout",
     "output_type": "stream",
     "text": [
      "0\n",
      "1\n",
      "2\n",
      "3\n",
      "4\n"
     ]
    }
   ],
   "source": [
    "for numero in range(10):\n",
    "    if numero == 5:\n",
    "        break\n",
    "    print(numero)"
   ]
  },
  {
   "cell_type": "markdown",
   "id": "76f21e6e",
   "metadata": {},
   "source": [
    "\n",
    "**Spiegazione**: Il ciclo si interrompe quando `numero` è uguale a 5.\n",
    "\n",
    "\n",
    "### Salto di Iterazione con `continue`\n"
   ]
  },
  {
   "cell_type": "code",
   "execution_count": 9,
   "id": "f5593a62",
   "metadata": {},
   "outputs": [
    {
     "name": "stdout",
     "output_type": "stream",
     "text": [
      "0\n",
      "1\n",
      "2\n",
      "4\n"
     ]
    }
   ],
   "source": [
    "for numero in range(5):\n",
    "    if numero == 3:\n",
    "        continue\n",
    "    print(numero)"
   ]
  },
  {
   "cell_type": "markdown",
   "id": "0eb3349e",
   "metadata": {},
   "source": [
    "\n",
    "**Spiegazione**: Quando `numero` è 3, il ciclo salta l'iterazione corrente e continua con la successiva.\n",
    "\n",
    "\n",
    "## Esercizi Interattivi\n",
    "\n",
    "### Esercizio 1: Somma dei Numeri da 1 a N\n",
    "\n",
    "Scrivi un programma che calcoli la somma dei numeri da 1 a N utilizzando un ciclo `for`.\n",
    "\n",
    "**Soluzione**:\n"
   ]
  },
  {
   "cell_type": "code",
   "execution_count": 12,
   "id": "72328127",
   "metadata": {},
   "outputs": [
    {
     "name": "stdout",
     "output_type": "stream",
     "text": [
      "Inserisci un numero intero positivo: 99\n",
      "La somma dei numeri da 1 a 99 è: 4950\n"
     ]
    }
   ],
   "source": [
    "N = int(input(\"Inserisci un numero intero positivo: \"))\n",
    "somma = 0\n",
    "for numero in range(1, N+1):\n",
    "    somma += numero\n",
    "print(\"La somma dei numeri da 1 a\", N, \"è:\", somma)"
   ]
  },
  {
   "cell_type": "markdown",
   "id": "ed531fb8",
   "metadata": {},
   "source": [
    "\n",
    "### Esercizio 2: Tabelline\n",
    "\n",
    "Chiedi all'utente un numero intero e stampa la sua tabellina fino a 10.\n",
    "\n",
    "**Soluzione**:\n"
   ]
  },
  {
   "cell_type": "code",
   "execution_count": 13,
   "id": "6d4a678c",
   "metadata": {},
   "outputs": [
    {
     "name": "stdout",
     "output_type": "stream",
     "text": [
      "Inserisci un numero intero: 7\n",
      "Tabellina del 7\n",
      "7 x 1 = 7\n",
      "7 x 2 = 14\n",
      "7 x 3 = 21\n",
      "7 x 4 = 28\n",
      "7 x 5 = 35\n",
      "7 x 6 = 42\n",
      "7 x 7 = 49\n",
      "7 x 8 = 56\n",
      "7 x 9 = 63\n",
      "7 x 10 = 70\n"
     ]
    }
   ],
   "source": [
    "numero = int(input(\"Inserisci un numero intero: \"))\n",
    "print(\"Tabellina del\", numero)\n",
    "for i in range(1, 11):\n",
    "    prodotto = numero * i\n",
    "    print(numero, \"x\", i, \"=\", prodotto)"
   ]
  },
  {
   "cell_type": "markdown",
   "id": "70d99232",
   "metadata": {},
   "source": [
    "\n",
    "### Esercizio 3: Contare le Vocali in una Stringa\n",
    "\n",
    "Chiedi all'utente una stringa e conta il numero di vocali presenti.\n",
    "\n",
    "**Soluzione**:\n"
   ]
  },
  {
   "cell_type": "code",
   "execution_count": 14,
   "id": "4a23e21e",
   "metadata": {},
   "outputs": [
    {
     "name": "stdout",
     "output_type": "stream",
     "text": [
      "Inserisci una stringa: Python è incredibilmente bello!\n",
      "Numero di vocali: 9\n"
     ]
    }
   ],
   "source": [
    "testo = input(\"Inserisci una stringa: \").lower()\n",
    "vocali = 'aeiou'\n",
    "contatore = 0\n",
    "for carattere in testo:\n",
    "    if carattere in vocali:\n",
    "        contatore += 1\n",
    "print(\"Numero di vocali:\", contatore)"
   ]
  },
  {
   "cell_type": "markdown",
   "id": "596bcfba",
   "metadata": {},
   "source": [
    "\n",
    "## Buone Pratiche e Consigli\n",
    "\n",
    "- **Nomi delle Variabili Significativi**: Usa nomi di variabili che descrivono il contenuto, come `frutto` in `for frutto in frutti`.\n",
    "- **Evitare Modifiche Durante l'Iterazione**: Non modificare la sequenza su cui stai iterando durante il ciclo, può causare comportamenti imprevisti.\n",
    "- **Utilizzo di `enumerate()`**: Per ottenere sia l'indice che l'elemento durante l'iterazione, utilizza `enumerate()`.\n",
    "\n",
    "    ```python\n",
    "    frutti = ['mela', 'banana', 'ciliegia']\n",
    "    for indice, frutto in enumerate(frutti):\n",
    "        print(indice, frutto)\n",
    "    ```\n",
    "\n",
    "- **Comprensioni di Lista**: Per operazioni semplici, considera l'uso delle comprensioni di lista per rendere il codice più compatto.\n",
    "\n",
    "    ```python\n",
    "    quadrati = [numero**2 for numero in range(10)]\n",
    "    ```\n",
    "\n",
    "## Conclusione\n",
    "\n",
    "I cicli `for` sono uno strumento essenziale in Python, permettendo di iterare in modo efficiente su strutture dati e automatizzare compiti ripetitivi. Comprendere come utilizzarli correttamente migliorerà significativamente le tue abilità di programmazione, rendendo il tuo codice più pulito e performante.\n",
    "\n",
    "## Risorse Aggiuntive\n",
    "\n",
    "- **Documentazione Ufficiale Python**: [For Statements](https://docs.python.org/3/tutorial/controlflow.html#for-statements)\n",
    "- **Libro Consigliato**: [Python Crash Course di Eric Matthes](https://www.amazon.com/Python-Crash-Course-2nd-Edition/dp/1593279280)\n",
    "- **Video Tutorial**: [Loops and Iterations - For/While Loops](https://youtu.be/6iF8Xb7Z3wQ?si=becpLPTHch4ZjGKi)\n"
   ]
  }
 ],
 "metadata": {
  "kernelspec": {
   "display_name": "Python 3 (ipykernel)",
   "language": "python",
   "name": "python3"
  },
  "language_info": {
   "codemirror_mode": {
    "name": "ipython",
    "version": 3
   },
   "file_extension": ".py",
   "mimetype": "text/x-python",
   "name": "python",
   "nbconvert_exporter": "python",
   "pygments_lexer": "ipython3",
   "version": "3.10.9"
  }
 },
 "nbformat": 4,
 "nbformat_minor": 5
}
