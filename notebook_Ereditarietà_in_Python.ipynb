{
 "cells": [
  {
   "cell_type": "markdown",
   "id": "bb450a2a",
   "metadata": {},
   "source": [
    "# Ereditarietà in Python\n",
    "\n",
    "## Obiettivi della Lezione\n",
    "\n",
    "Al termine di questa lezione sarai in grado di:\n",
    "\n",
    "- Comprendere il concetto di ereditarietà nella programmazione orientata agli oggetti.\n",
    "- Definire classi derivate che ereditano attributi e metodi da classi base.\n",
    "- Sovrascrivere metodi delle classi base nelle classi derivate.\n",
    "- Utilizzare la funzione `super()` per accedere ai metodi e agli attributi della classe base.\n",
    "- Implementare l'ereditarietà multipla in Python."
   ]
  },
  {
   "cell_type": "markdown",
   "id": "bd7c0b0f",
   "metadata": {},
   "source": [
    "## Introduzione\n",
    "\n",
    "L'ereditarietà è uno dei pilastri fondamentali della **Programmazione Orientata agli Oggetti (OOP)**. Consente di creare nuove classi che derivano da classi esistenti, ereditando attributi e metodi, e permettendo così di estendere o modificare il comportamento senza riscrivere tutto da zero. Questo concetto favorisce il riutilizzo del codice e rende il software più organizzato e facile da mantenere."
   ]
  },
  {
   "cell_type": "markdown",
   "id": "fdecabb5",
   "metadata": {},
   "source": [
    "## Spiegazione Teorica\n",
    "\n",
    "### Cos'è l'Ereditarietà?\n",
    "\n",
    "L'ereditarietà è un meccanismo che permette ad una classe (denominata **classe derivata** o **sottoclasse**) di ereditare attributi e metodi da un'altra classe (denominata **classe base** o **superclasse**).\n",
    "\n",
    "**Sintassi Base:**\n",
    "```python\n",
    "class ClasseDerivata(ClasseBase):\n",
    "    # Corpo della classe derivata\n",
    "```"
   ]
  },
  {
   "cell_type": "markdown",
   "id": "0e38f4c7",
   "metadata": {},
   "source": [
    "\n",
    "### Vantaggi dell'Ereditarietà\n",
    "\n",
    "- **Riutilizzo del Codice:** Evita la duplicazione del codice comune tra classi.\n",
    "- **Organizzazione Gerarchica:** Permette di strutturare le classi in una gerarchia logica.\n",
    "- **Estensibilità:** Facilita l'estensione delle funzionalità delle classi esistenti.\n",
    "\n",
    "### Sovrascrittura di Metodi\n",
    "\n",
    "Le classi derivate possono **sovrascrivere** i metodi della classe base per modificarne il comportamento.\n"
   ]
  },
  {
   "cell_type": "markdown",
   "id": "caecd18d",
   "metadata": {},
   "source": [
    "```python\n",
    "class ClasseDerivata(ClasseBase):\n",
    "    def metodo(self):\n",
    "        # Nuova implementazione del metodo\n",
    "```"
   ]
  },
  {
   "cell_type": "markdown",
   "id": "f14635dc",
   "metadata": {},
   "source": [
    "\n",
    "### La Funzione `super()`\n",
    "\n",
    "La funzione `super()` è utilizzata per accedere ai metodi e agli attributi della classe base all'interno della classe derivata.\n"
   ]
  },
  {
   "cell_type": "markdown",
   "id": "b5d73970",
   "metadata": {},
   "source": [
    "```python\n",
    "class ClasseDerivata(ClasseBase):\n",
    "    def __init__(self):\n",
    "        super().__init__()\n",
    "        # Codice aggiuntivo\n",
    "```"
   ]
  },
  {
   "cell_type": "markdown",
   "id": "58e6a07c",
   "metadata": {},
   "source": [
    "\n",
    "### Ereditarietà Multipla\n",
    "\n",
    "Python supporta l'ereditarietà multipla, permettendo ad una classe di ereditare da più classi base.\n"
   ]
  },
  {
   "cell_type": "markdown",
   "id": "fe21b179",
   "metadata": {},
   "source": [
    "```python\n",
    "class ClasseDerivata(ClasseBase1, ClasseBase2):\n",
    "    # Corpo della classe derivata\n",
    "```    "
   ]
  },
  {
   "cell_type": "markdown",
   "id": "92182c2a",
   "metadata": {},
   "source": [
    "## Esempi Pratici di Codice\n",
    "\n",
    "### Esempio 1: Classe Base e Classe Derivata\n",
    "\n",
    "**Classe Base:**\n"
   ]
  },
  {
   "cell_type": "code",
   "execution_count": 4,
   "id": "673c0115",
   "metadata": {},
   "outputs": [],
   "source": [
    "class Animale:\n",
    "    def __init__(self, nome):\n",
    "        self.nome = nome\n",
    "    \n",
    "    def saluta(self):\n",
    "        print(f\"Ciao, mi chiamo {self.nome}.\")"
   ]
  },
  {
   "cell_type": "markdown",
   "id": "466a5de9",
   "metadata": {},
   "source": [
    "\n",
    "**Classe Derivata:**\n"
   ]
  },
  {
   "cell_type": "code",
   "execution_count": 5,
   "id": "8528bee6",
   "metadata": {},
   "outputs": [],
   "source": [
    "class Cane(Animale):\n",
    "    def abbaia(self):\n",
    "        print(\"Bau bau!\")"
   ]
  },
  {
   "cell_type": "markdown",
   "id": "52344229",
   "metadata": {},
   "source": [
    "\n",
    "**Utilizzo:**\n"
   ]
  },
  {
   "cell_type": "code",
   "execution_count": 6,
   "id": "eeee83b7",
   "metadata": {},
   "outputs": [
    {
     "name": "stdout",
     "output_type": "stream",
     "text": [
      "Ciao, mi chiamo Fido.\n",
      "Bau bau!\n"
     ]
    }
   ],
   "source": [
    "fido = Cane(\"Fido\")\n",
    "fido.saluta()   # Output: Ciao, mi chiamo Fido.\n",
    "fido.abbaia()   # Output: Bau bau!"
   ]
  },
  {
   "cell_type": "markdown",
   "id": "24156652",
   "metadata": {},
   "source": [
    "\n",
    "**Spiegazione:**\n",
    "\n",
    "- La classe `Cane` eredita da `Animale`.\n",
    "- `Cane` ha accesso all'attributo `nome` e al metodo `saluta()` di `Animale`.\n",
    "- `Cane` aggiunge un nuovo metodo `abbaia()`."
   ]
  },
  {
   "cell_type": "markdown",
   "id": "9565f7f4",
   "metadata": {},
   "source": [
    "### Esempio 2: Sovrascrittura di Metodi\n",
    "\n",
    "**Classe Derivata con Sovrascrittura:**\n"
   ]
  },
  {
   "cell_type": "code",
   "execution_count": 8,
   "id": "f10f1267",
   "metadata": {},
   "outputs": [],
   "source": [
    "class Gatto(Animale):\n",
    "    def saluta(self):\n",
    "        print(f\"Miao, sono il gatto {self.nome}.\")"
   ]
  },
  {
   "cell_type": "markdown",
   "id": "0634247d",
   "metadata": {},
   "source": [
    "\n",
    "**Utilizzo:**\n"
   ]
  },
  {
   "cell_type": "code",
   "execution_count": 9,
   "id": "c8279346",
   "metadata": {},
   "outputs": [
    {
     "name": "stdout",
     "output_type": "stream",
     "text": [
      "Miao, sono il gatto Felix.\n"
     ]
    }
   ],
   "source": [
    "felix = Gatto(\"Felix\")\n",
    "felix.saluta()   # Output: Miao, sono il gatto Felix."
   ]
  },
  {
   "cell_type": "markdown",
   "id": "a04d4350",
   "metadata": {},
   "source": [
    "\n",
    "**Spiegazione:**\n",
    "\n",
    "- `Gatto` sovrascrive il metodo `saluta()` di `Animale`.\n",
    "- Quando si chiama `saluta()` su un'istanza di `Gatto`, viene eseguito il metodo sovrascritto."
   ]
  },
  {
   "cell_type": "markdown",
   "id": "a13f02c9",
   "metadata": {},
   "source": [
    "### Esempio 3: Utilizzo di `super()`\n",
    "\n",
    "**Classe Derivata che Chiama la Classe Base:**\n"
   ]
  },
  {
   "cell_type": "code",
   "execution_count": 10,
   "id": "806a4a6d",
   "metadata": {},
   "outputs": [],
   "source": [
    "class Cavallo(Animale):\n",
    "    def __init__(self, nome, razza):\n",
    "        super().__init__(nome)\n",
    "        self.razza = razza\n",
    "    \n",
    "    def saluta(self):\n",
    "        super().saluta()\n",
    "        print(f\"Sono un cavallo di razza {self.razza}.\")"
   ]
  },
  {
   "cell_type": "markdown",
   "id": "8d85c65a",
   "metadata": {},
   "source": [
    "\n",
    "**Utilizzo:**\n"
   ]
  },
  {
   "cell_type": "code",
   "execution_count": 11,
   "id": "600e810f",
   "metadata": {},
   "outputs": [
    {
     "name": "stdout",
     "output_type": "stream",
     "text": [
      "Ciao, mi chiamo Spirit.\n",
      "Sono un cavallo di razza Mustang.\n"
     ]
    }
   ],
   "source": [
    "spirit = Cavallo(\"Spirit\", \"Mustang\")\n",
    "spirit.saluta()\n",
    "# Output:\n",
    "# Ciao, mi chiamo Spirit.\n",
    "# Sono un cavallo di razza Mustang."
   ]
  },
  {
   "cell_type": "markdown",
   "id": "1588e795",
   "metadata": {},
   "source": [
    "\n",
    "**Spiegazione:**\n",
    "\n",
    "- `Cavallo` estende il metodo `__init__()` aggiungendo l'attributo `razza`.\n",
    "- Utilizza `super().__init__(nome)` per inizializzare l'attributo `nome` della classe base.\n",
    "- Nel metodo `saluta()`, chiama `super().saluta()` per eseguire il metodo della classe base e aggiunge ulteriori informazioni."
   ]
  },
  {
   "cell_type": "markdown",
   "id": "04ccbebe",
   "metadata": {},
   "source": [
    "### Esempio 4: Ereditarietà Multipla\n",
    "\n",
    "**Classi Base:**\n"
   ]
  },
  {
   "cell_type": "code",
   "execution_count": 13,
   "id": "ec2f633c",
   "metadata": {},
   "outputs": [],
   "source": [
    "class Volante:\n",
    "    def vola(self):\n",
    "        print(\"Sto volando!\")"
   ]
  },
  {
   "cell_type": "code",
   "execution_count": 14,
   "id": "65c06590",
   "metadata": {},
   "outputs": [],
   "source": [
    "class Nuotante:\n",
    "    def nuota(self):\n",
    "        print(\"Sto nuotando!\")"
   ]
  },
  {
   "cell_type": "markdown",
   "id": "9b358dc3",
   "metadata": {},
   "source": [
    "\n",
    "**Classe Derivata con Ereditarietà Multipla:**\n"
   ]
  },
  {
   "cell_type": "code",
   "execution_count": 15,
   "id": "44c986d3",
   "metadata": {},
   "outputs": [],
   "source": [
    "class Anatra(Volante, Nuotante):\n",
    "    pass"
   ]
  },
  {
   "cell_type": "markdown",
   "id": "6f74d018",
   "metadata": {},
   "source": [
    "\n",
    "**Utilizzo:**\n"
   ]
  },
  {
   "cell_type": "code",
   "execution_count": 16,
   "id": "3bf667b2",
   "metadata": {},
   "outputs": [
    {
     "name": "stdout",
     "output_type": "stream",
     "text": [
      "Sto volando!\n",
      "Sto nuotando!\n"
     ]
    }
   ],
   "source": [
    "donald = Anatra()\n",
    "donald.vola()    # Output: Sto volando!\n",
    "donald.nuota()   # Output: Sto nuotando!"
   ]
  },
  {
   "cell_type": "markdown",
   "id": "c1ebeab8",
   "metadata": {},
   "source": [
    "\n",
    "**Spiegazione:**\n",
    "\n",
    "- `Anatra` eredita da entrambe le classi `Volante` e `Nuotante`.\n",
    "- Ha accesso ai metodi `vola()` e `nuota()`."
   ]
  },
  {
   "cell_type": "markdown",
   "id": "0a63e08f",
   "metadata": {},
   "source": [
    "## Esercizi Interattivi\n",
    "\n",
    "### Esercizio 1:\n",
    "\n",
    "Crea una classe base `Veicolo` con gli attributi `marca` e `modello`, e un metodo `info()` che stampa queste informazioni. Crea una classe derivata `Auto` che aggiunge l'attributo `numero_di_ruote` e sovrascrive il metodo `info()` per includere anche questo dettaglio.\n",
    "\n",
    "**Soluzione:**\n"
   ]
  },
  {
   "cell_type": "code",
   "execution_count": 17,
   "id": "e473f98e",
   "metadata": {},
   "outputs": [
    {
     "name": "stdout",
     "output_type": "stream",
     "text": [
      "Marca: Fiat, Modello: 500\n",
      "Numero di ruote: 4\n"
     ]
    }
   ],
   "source": [
    "class Veicolo:\n",
    "    def __init__(self, marca, modello):\n",
    "        self.marca = marca\n",
    "        self.modello = modello\n",
    "    \n",
    "    def info(self):\n",
    "        print(f\"Marca: {self.marca}, Modello: {self.modello}\")\n",
    "\n",
    "class Auto(Veicolo):\n",
    "    def __init__(self, marca, modello, numero_di_ruote):\n",
    "        super().__init__(marca, modello)\n",
    "        self.numero_di_ruote = numero_di_ruote\n",
    "    \n",
    "    def info(self):\n",
    "        super().info()\n",
    "        print(f\"Numero di ruote: {self.numero_di_ruote}\")\n",
    "\n",
    "# Utilizzo\n",
    "mia_auto = Auto(\"Fiat\", \"500\", 4)\n",
    "mia_auto.info()\n",
    "# Output:\n",
    "# Marca: Fiat, Modello: 500\n",
    "# Numero di ruote: 4"
   ]
  },
  {
   "cell_type": "markdown",
   "id": "2a724d3b",
   "metadata": {},
   "source": [
    "### Esercizio 2:\n",
    "\n",
    "Implementa una classe `Studente` che eredita da una classe `Persona`. La classe `Studente` dovrebbe aggiungere l'attributo `matricola` e un metodo `studia()` che stampa un messaggio indicante che lo studente sta studiando.\n",
    "\n",
    "**Soluzione:**\n"
   ]
  },
  {
   "cell_type": "code",
   "execution_count": 18,
   "id": "83908447",
   "metadata": {},
   "outputs": [
    {
     "name": "stdout",
     "output_type": "stream",
     "text": [
      "Ciao, mi chiamo Alice e ho 22 anni.\n",
      "Alice sta studiando.\n"
     ]
    }
   ],
   "source": [
    "class Persona:\n",
    "    def __init__(self, nome, età):\n",
    "        self.nome = nome\n",
    "        self.età = età\n",
    "\n",
    "    def saluta(self):\n",
    "        print(f\"Ciao, mi chiamo {self.nome} e ho {self.età} anni.\")\n",
    "\n",
    "class Studente(Persona):\n",
    "    def __init__(self, nome, età, matricola):\n",
    "        super().__init__(nome, età)\n",
    "        self.matricola = matricola\n",
    "\n",
    "    def studia(self):\n",
    "        print(f\"{self.nome} sta studiando.\")\n",
    "\n",
    "# Utilizzo\n",
    "alice = Studente(\"Alice\", 22, \"A12345\")\n",
    "alice.saluta()    # Output: Ciao, mi chiamo Alice e ho 22 anni.\n",
    "alice.studia()    # Output: Alice sta studiando."
   ]
  },
  {
   "cell_type": "markdown",
   "id": "7aa3d60d",
   "metadata": {},
   "source": [
    "## Buone Pratiche e Consigli\n",
    "\n",
    "- **Coerenza nella Gerarchia delle Classi:** Utilizza l'ereditarietà solo quando esiste una chiara relazione \"è un\" tra le classi.\n",
    "- **Evita l'Ereditarietà Multipla Complessa:** Può portare a codice difficile da capire e mantenere. Se possibile, preferisci la composizione.\n",
    "- **Utilizza `super()` Correttamente:** Quando sovrascrivi metodi, soprattutto `__init__()`, utilizza `super()` per assicurarti che la classe base sia inizializzata correttamente.\n",
    "- **Nome Appropriato delle Classi:** Assegna nomi significativi alle classi per riflettere le loro responsabilità."
   ]
  },
  {
   "cell_type": "markdown",
   "id": "c95ea4d3",
   "metadata": {},
   "source": [
    "## Conclusione\n",
    "\n",
    "L'ereditarietà è un potente strumento della programmazione orientata agli oggetti che consente di creare classi più flessibili e riutilizzabili. Comprendendo come funzionano le classi base e derivate, come sovrascrivere metodi e come utilizzare `super()`, sarai in grado di scrivere codice più efficiente e organizzato. Ricorda di utilizzare l'ereditarietà in modo appropriato per mantenere il tuo codice chiaro e facilmente manutenibile."
   ]
  },
  {
   "cell_type": "markdown",
   "id": "a3f80eb8",
   "metadata": {},
   "source": [
    "## Risorse Aggiuntive\n",
    "\n",
    "- **Documentazione Ufficiale Python**: \n",
    "  [Ereditarietà](https://docs.python.org/3/tutorial/classes.html#inheritance)\n",
    "\n",
    "- **Libro Consigliato**: [Python Crash Course di Eric Matthes](https://www.amazon.com/Python-Crash-Course-2nd-Edition/dp/1593279280)\n",
    "- **Video Tutorial**: [Python OOP Tutorial 4: Inheritance - Creating Subclasses](https://youtu.be/RSl87lqOXDE?si=QloPDj2XcEQJ24VE)"
   ]
  }
 ],
 "metadata": {
  "kernelspec": {
   "display_name": "Python 3 (ipykernel)",
   "language": "python",
   "name": "python3"
  },
  "language_info": {
   "codemirror_mode": {
    "name": "ipython",
    "version": 3
   },
   "file_extension": ".py",
   "mimetype": "text/x-python",
   "name": "python",
   "nbconvert_exporter": "python",
   "pygments_lexer": "ipython3",
   "version": "3.10.9"
  }
 },
 "nbformat": 4,
 "nbformat_minor": 5
}
