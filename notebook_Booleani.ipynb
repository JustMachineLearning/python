{
 "cells": [
  {
   "cell_type": "markdown",
   "id": "b713c726",
   "metadata": {},
   "source": [
    "# Booleani"
   ]
  },
  {
   "cell_type": "markdown",
   "id": "75aad881",
   "metadata": {},
   "source": [
    "## **Obiettivi della Lezione**\n",
    "\n",
    "- Comprendere il concetto di tipo di dato booleano in Python.\n",
    "- Imparare a utilizzare i valori booleani `True` e `False`.\n",
    "- Conoscere gli operatori logici e il loro utilizzo con i booleani.\n",
    "- Applicare i valori booleani nelle strutture di controllo come `if`, `while`, e `for`."
   ]
  },
  {
   "cell_type": "markdown",
   "id": "c82d90f1",
   "metadata": {},
   "source": [
    "## **Introduzione**\n",
    "\n",
    "I booleani sono uno dei tipi di dati fondamentali in Python e nella programmazione in generale. Rappresentano i due valori di verità possibili: vero o falso. Questi valori sono essenziali per prendere decisioni all'interno di un programma, controllare il flusso di esecuzione e valutare espressioni logiche. In questa lezione, esploreremo il concetto di booleani, come utilizzarli e come influenzano la logica del tuo codice."
   ]
  },
  {
   "cell_type": "markdown",
   "id": "13912bd3",
   "metadata": {},
   "source": [
    "## **Spiegazione Teorica**\n",
    "\n",
    "### **Che cos'è un Booleano?**\n",
    "\n",
    "Un booleano è un tipo di dato che può assumere solo due valori:\n",
    "\n",
    "- `True` (vero)\n",
    "- `False` (falso)\n",
    "\n",
    "In Python, questi valori sono parole chiave predefinite e devono essere scritti con la prima lettera maiuscola.\n"
   ]
  },
  {
   "cell_type": "code",
   "execution_count": 1,
   "id": "2bf091fd",
   "metadata": {},
   "outputs": [],
   "source": [
    "is_sunny = True\n",
    "is_raining = False"
   ]
  },
  {
   "cell_type": "markdown",
   "id": "4998aaf3",
   "metadata": {},
   "source": [
    "\n",
    "### **Utilizzo dei Booleani**\n",
    "\n",
    "I booleani sono spesso il risultato di operazioni di confronto o espressioni logiche. Ad esempio:\n",
    "\n",
    "- Operatori di confronto:\n",
    "  - `==` (uguale a)\n",
    "  - `!=` (diverso da)\n",
    "  - `>` (maggiore di)\n",
    "  - `<` (minore di)\n",
    "  - `>=` (maggiore o uguale a)\n",
    "  - `<=` (minore o uguale a)\n"
   ]
  },
  {
   "cell_type": "code",
   "execution_count": 2,
   "id": "2d6ee933",
   "metadata": {},
   "outputs": [
    {
     "name": "stdout",
     "output_type": "stream",
     "text": [
      "True\n",
      "False\n"
     ]
    }
   ],
   "source": [
    "print(5 > 3)    # Output: True\n",
    "print(2 == 4)   # Output: False"
   ]
  },
  {
   "cell_type": "markdown",
   "id": "82a6efda",
   "metadata": {},
   "source": [
    "\n",
    "### **Operatori Logici**\n",
    "\n",
    "Gli operatori logici permettono di combinare più condizioni:\n",
    "\n",
    "- `and` (e logico): vero se **tutte** le condizioni sono vere.\n",
    "- `or` (o logico): vero se **almeno una** delle condizioni è vera.\n",
    "- `not` (negazione logica): inverte il valore booleano.\n",
    "\n",
    "**Esempi:**\n"
   ]
  },
  {
   "cell_type": "code",
   "execution_count": 3,
   "id": "913d4f52",
   "metadata": {},
   "outputs": [
    {
     "name": "stdout",
     "output_type": "stream",
     "text": [
      "True\n",
      "True\n",
      "False\n"
     ]
    }
   ],
   "source": [
    "x = 5\n",
    "y = 10\n",
    "\n",
    "print(x > 3 and y < 15)  # Output: True\n",
    "print(x > 10 or y < 15)  # Output: True\n",
    "print(not x == 5)        # Output: False"
   ]
  },
  {
   "cell_type": "markdown",
   "id": "5e0a8fb1",
   "metadata": {},
   "source": [
    "\n",
    "#### **Valori Considerati Veri o Falsi**\n",
    "\n",
    "In Python, non solo `True` o `False` sono considerati valori booleani. Nelle espressioni condizionali, alcuni valori sono valutati come `False`, detti \"falsy\", mentre tutti gli altri sono valutati come `True`, detti \"truthy\".\n",
    "\n",
    "**Valori \"Falsy\":**\n",
    "\n",
    "- `False`\n",
    "- `None`\n",
    "- Zero di qualsiasi tipo numerico: `0`, `0.0`, `0j`\n",
    "- Sequenze o collezioni vuote: `''`, `()`, `[]`, `{}`\n",
    "- Oggetti personalizzati che definiscono `__bool__()` o `__len__()` e restituiscono `False` o `0`\n",
    "\n",
    "**Esempio:**\n"
   ]
  },
  {
   "cell_type": "code",
   "execution_count": 4,
   "id": "6fbe65f9",
   "metadata": {},
   "outputs": [
    {
     "name": "stdout",
     "output_type": "stream",
     "text": [
      "La lista è vuota.\n"
     ]
    }
   ],
   "source": [
    "empty_list = []\n",
    "if not empty_list:\n",
    "    print(\"La lista è vuota.\")  # Questo verrà stampato"
   ]
  },
  {
   "cell_type": "markdown",
   "id": "003f518b",
   "metadata": {},
   "source": [
    "## **Esempi Pratici di Codice**\n",
    "\n",
    "### **Esempio 1: Controllo dell'Età**\n"
   ]
  },
  {
   "cell_type": "code",
   "execution_count": 5,
   "id": "d9817a9c",
   "metadata": {},
   "outputs": [
    {
     "name": "stdout",
     "output_type": "stream",
     "text": [
      "Sei maggiorenne.\n"
     ]
    }
   ],
   "source": [
    "age = 20\n",
    "\n",
    "if age >= 18:\n",
    "    print(\"Sei maggiorenne.\")\n",
    "else:\n",
    "    print(\"Sei minorenne.\")"
   ]
  },
  {
   "cell_type": "markdown",
   "id": "673cac61",
   "metadata": {},
   "source": [
    "\n",
    "**Spiegazione:**\n",
    "\n",
    "- Verifichiamo se la variabile `age` è maggiore o uguale a 18.\n",
    "- Se la condizione è `True`, stampiamo \"Sei maggiorenne.\"\n",
    "- Altrimenti, stampiamo \"Sei minorenne.\"\n",
    "\n",
    "### **Esempio 2: Login Semplificato**\n"
   ]
  },
  {
   "cell_type": "code",
   "execution_count": 6,
   "id": "5a019496",
   "metadata": {},
   "outputs": [
    {
     "name": "stdout",
     "output_type": "stream",
     "text": [
      "Accesso consentito.\n"
     ]
    }
   ],
   "source": [
    "username = \"admin\"\n",
    "password = \"1234\"\n",
    "\n",
    "if username == \"admin\" and password == \"1234\":\n",
    "    print(\"Accesso consentito.\")\n",
    "else:\n",
    "    print(\"Accesso negato.\")"
   ]
  },
  {
   "cell_type": "markdown",
   "id": "c7230f9b",
   "metadata": {},
   "source": [
    "\n",
    "**Spiegazione:**\n",
    "\n",
    "- Controlliamo se sia `username` che `password` corrispondono ai valori attesi.\n",
    "- Usiamo l'operatore `and` per assicurarci che entrambe le condizioni siano `True`.\n",
    "\n",
    "### **Esempio 3: Uso di `not`**\n"
   ]
  },
  {
   "cell_type": "code",
   "execution_count": 7,
   "id": "7af1ba63",
   "metadata": {},
   "outputs": [
    {
     "name": "stdout",
     "output_type": "stream",
     "text": [
      "L'account non è attivo.\n"
     ]
    }
   ],
   "source": [
    "is_active = False\n",
    "\n",
    "if not is_active:\n",
    "    print(\"L'account non è attivo.\")"
   ]
  },
  {
   "cell_type": "markdown",
   "id": "72d1cff5",
   "metadata": {},
   "source": [
    "\n",
    "**Spiegazione:**\n",
    "\n",
    "- Utilizziamo `not` per invertire il valore di `is_active`.\n",
    "- Poiché `is_active` è `False`, `not is_active` sarà `True`, e quindi il messaggio verrà stampato."
   ]
  },
  {
   "cell_type": "markdown",
   "id": "3302fcb3",
   "metadata": {},
   "source": [
    "## **Esercizi Interattivi**\n",
    "\n",
    "### **Esercizio 1: Numero Pari o Dispari**\n",
    "\n",
    "Scrivi un programma che chieda all'utente di inserire un numero intero e determini se è pari o dispari.\n",
    "\n",
    "**Soluzione:**\n"
   ]
  },
  {
   "cell_type": "code",
   "execution_count": 8,
   "id": "80260a02",
   "metadata": {},
   "outputs": [
    {
     "name": "stdout",
     "output_type": "stream",
     "text": [
      "Inserisci un numero intero: 3\n",
      "Il numero è dispari.\n"
     ]
    }
   ],
   "source": [
    "numero = int(input(\"Inserisci un numero intero: \"))\n",
    "\n",
    "if numero % 2 == 0:\n",
    "    print(\"Il numero è pari.\")\n",
    "else:\n",
    "    print(\"Il numero è dispari.\")"
   ]
  },
  {
   "cell_type": "markdown",
   "id": "189d221d",
   "metadata": {},
   "source": [
    "\n",
    "### **Esercizio 2: Accesso all'Evento**\n",
    "\n",
    "Un evento è aperto solo a persone tra i 18 e i 30 anni. Chiedi all'utente la sua età e determina se può accedere all'evento.\n",
    "\n",
    "**Soluzione:**\n"
   ]
  },
  {
   "cell_type": "code",
   "execution_count": 7,
   "id": "77d64fcd",
   "metadata": {},
   "outputs": [
    {
     "name": "stdout",
     "output_type": "stream",
     "text": [
      "Inserisci la tua età: 29\n",
      "Puoi accedere all'evento.\n"
     ]
    }
   ],
   "source": [
    "eta = int(input(\"Inserisci la tua età: \"))\n",
    "\n",
    "if eta >= 18 and eta <= 30:\n",
    "    print(\"Puoi accedere all'evento.\")\n",
    "else:\n",
    "    print(\"Non puoi accedere all'evento.\")"
   ]
  },
  {
   "cell_type": "markdown",
   "id": "863adc64",
   "metadata": {},
   "source": [
    "\n",
    "### **Esercizio 3: Verifica della Password**\n",
    "\n",
    "Chiedi all'utente di inserire una password. Verifica che la password abbia almeno 8 caratteri e contenga il carattere \"@\". \n",
    "\n",
    "**Soluzione:**\n"
   ]
  },
  {
   "cell_type": "code",
   "execution_count": 8,
   "id": "bcfb2c3e",
   "metadata": {},
   "outputs": [
    {
     "name": "stdout",
     "output_type": "stream",
     "text": [
      "Inserisci una password: MyNameIsM@rco\n",
      "Password valida.\n"
     ]
    }
   ],
   "source": [
    "password = input(\"Inserisci una password: \")\n",
    "\n",
    "if len(password) >= 8 and \"@\" in password:\n",
    "    print(\"Password valida.\")\n",
    "else:\n",
    "    print(\"Password non valida. Assicurati che abbia almeno 8 caratteri e contenga '@'.\")"
   ]
  },
  {
   "cell_type": "markdown",
   "id": "818abd00",
   "metadata": {},
   "source": [
    "## **Buone Pratiche e Consigli**\n",
    "\n",
    "- **Usa Nomi Significativi per le Variabili Booleane**\n",
    "\n",
    "  Scegli nomi di variabili che riflettano chiaramente il loro significato logico.\n",
    "\n",
    "  ```python\n",
    "  is_logged_in = True\n",
    "  has_permission = False\n",
    "  ```\n",
    "\n",
    "- **Evita Confronti Inutili con `True` o `False`**\n",
    "\n",
    "  Invece di scrivere `if is_active == True:`, è più pythonico scrivere `if is_active:`.\n",
    "\n",
    "- **Sfrutta le Valutazioni Implicite**\n",
    "\n",
    "  Poiché alcuni valori sono considerati `False`, puoi scrivere condizioni più concise.\n",
    "\n",
    "  ```python\n",
    "  # Invece di\n",
    "  if len(my_list) == 0:\n",
    "      print(\"Lista vuota.\")\n",
    "\n",
    "  # Puoi scrivere\n",
    "  if not my_list:\n",
    "      print(\"Lista vuota.\")\n",
    "  ```\n",
    "\n",
    "- **Parentesi per Chiarezza nelle Espressioni Complesse**\n",
    "\n",
    "  Quando usi più operatori logici, utilizza le parentesi per rendere il codice più leggibile.\n",
    "\n",
    "  ```python\n",
    "  if (condition_a and condition_b) or condition_c:\n",
    "      # Codice da eseguire\n",
    "  ```\n",
    "\n",
    "- **Ricorda la Precedenza degli Operatori**\n",
    "\n",
    "  Gli operatori logici hanno una precedenza specifica: `not` viene valutato per primo, poi `and`, e infine `or`."
   ]
  },
  {
   "cell_type": "markdown",
   "id": "adaddd1f",
   "metadata": {},
   "source": [
    "## **Conclusione**\n",
    "\n",
    "I booleani sono fondamentali per la logica di qualsiasi programma. Comprendere come funzionano i valori di verità, gli operatori logici e come Python valuta le espressioni ti permetterà di scrivere codice più efficiente, leggibile e privo di errori. Pratica l'uso dei booleani negli esercizi quotidiani per consolidare la tua comprensione."
   ]
  },
  {
   "cell_type": "markdown",
   "id": "4e060a4c",
   "metadata": {},
   "source": [
    "## **Risorse Aggiuntive**\n",
    "\n",
    "- **Documentazione Ufficiale Python**: [Boolean Values](https://docs.python.org/3/library/stdtypes.html#boolean-type-bool)\n",
    "- **Libro Consigliato**: [Python Crash Course di Eric Matthes](https://www.amazon.com/Python-Crash-Course-2nd-Edition/dp/1593279280)\n",
    "- **Video Tutorial**: [Conditionals and Booleans - If, Else, and Elif Statements](https://youtu.be/DZwmZ8Usvnk?si=Dn_VyUw-8uIE_jvu)"
   ]
  }
 ],
 "metadata": {
  "kernelspec": {
   "display_name": "Python 3 (ipykernel)",
   "language": "python",
   "name": "python3"
  },
  "language_info": {
   "codemirror_mode": {
    "name": "ipython",
    "version": 3
   },
   "file_extension": ".py",
   "mimetype": "text/x-python",
   "name": "python",
   "nbconvert_exporter": "python",
   "pygments_lexer": "ipython3",
   "version": "3.10.9"
  }
 },
 "nbformat": 4,
 "nbformat_minor": 5
}
