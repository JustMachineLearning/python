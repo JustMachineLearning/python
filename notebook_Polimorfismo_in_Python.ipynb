{
 "cells": [
  {
   "cell_type": "markdown",
   "id": "2f895166",
   "metadata": {},
   "source": [
    "# Polimorfismo in Python\n",
    "\n",
    "## **Obiettivi della Lezione**\n",
    "\n",
    "Al termine di questa lezione, sarai in grado di:\n",
    "\n",
    "- Comprendere il concetto di polimorfismo nella programmazione orientata agli oggetti.\n",
    "- Implementare il polimorfismo in Python attraverso metodi e funzioni.\n",
    "- Utilizzare il polimorfismo per scrivere codice più flessibile e riutilizzabile.\n",
    "- Riconoscere l'importanza del polimorfismo nell'ereditarietà e nell'override dei metodi."
   ]
  },
  {
   "cell_type": "markdown",
   "id": "060b9726",
   "metadata": {},
   "source": [
    "## **Introduzione**\n",
    "\n",
    "Il polimorfismo è uno dei pilastri fondamentali della programmazione orientata agli oggetti (OOP), insieme all'incapsulamento e all'ereditarietà. La parola \"polimorfismo\" deriva dal greco e significa \"molte forme\". In informatica, il polimorfismo permette a oggetti di classi diverse di essere trattati come oggetti di una classe comune, specialmente attraverso metodi comuni. Questo consente di scrivere codice più generale e flessibile."
   ]
  },
  {
   "cell_type": "markdown",
   "id": "e7fbcb03",
   "metadata": {},
   "source": [
    "## **Spiegazione Teorica**\n",
    "\n",
    "### **Cos'è il Polimorfismo?**\n",
    "\n",
    "Il polimorfismo permette a un'interfaccia comune di essere utilizzata per tipi di dati diversi. In Python, grazie alla sua natura dinamica, il polimorfismo è intrinseco e consente di utilizzare oggetti diversi in modo intercambiabile se condividono metodi o attributi comuni.\n",
    "\n",
    "### **Tipi di Polimorfismo**\n",
    "\n",
    "1. **Polimorfismo di Sottotipi (Override dei Metodi):**\n",
    "   - Le classi derivate possono sovrascrivere metodi delle classi base.\n",
    "   - Permette di fornire implementazioni specifiche per metodi ereditati.\n",
    "\n",
    "2. **Polimorfismo Parametrico:**\n",
    "   - Funzioni o metodi che possono funzionare con qualsiasi tipo di dato.\n",
    "   - In Python si realizza attraverso funzioni generali che operano su oggetti con metodi o attributi necessari.\n",
    "\n",
    "3. **Polimorfismo di Ad hoc (Sovraccarico):**\n",
    "   - Python non supporta direttamente il sovraccarico dei metodi come altri linguaggi (ad esempio, C++).\n",
    "   - Tuttavia, è possibile simulare questo comportamento mediante argomenti di default o *args e **kwargs.\n",
    "\n",
    "### **Perché il Polimorfismo è Importante?**\n",
    "\n",
    "- **Flessibilità:** Consente di scrivere codice che funziona con oggetti di tipi diversi ma con interfacce simili.\n",
    "- **Estensibilità:** Permette di aggiungere nuovi tipi di oggetti senza modificare il codice esistente.\n",
    "- **Mantenibilità:** Riduce la complessità del codice e facilita la gestione di grandi codebase."
   ]
  },
  {
   "cell_type": "markdown",
   "id": "54841f7c",
   "metadata": {},
   "source": [
    "## **Esempi Pratici di Codice**\n",
    "\n",
    "### **Esempio 1: Polimorfismo con Metodi**\n",
    "\n",
    "Consideriamo due classi diverse che condividono un metodo con lo stesso nome.\n"
   ]
  },
  {
   "cell_type": "code",
   "execution_count": 1,
   "id": "3cd65765",
   "metadata": {},
   "outputs": [
    {
     "name": "stdout",
     "output_type": "stream",
     "text": [
      "Bau!\n",
      "Miao!\n"
     ]
    }
   ],
   "source": [
    "class Cane:\n",
    "    def suono(self):\n",
    "        return \"Bau!\"\n",
    "\n",
    "class Gatto:\n",
    "    def suono(self):\n",
    "        return \"Miao!\"\n",
    "\n",
    "def fai_suono(animale):\n",
    "    print(animale.suono())\n",
    "\n",
    "cane = Cane()\n",
    "gatto = Gatto()\n",
    "\n",
    "fai_suono(cane)  # Output: Bau!\n",
    "fai_suono(gatto) # Output: Miao!"
   ]
  },
  {
   "cell_type": "markdown",
   "id": "e723ec07",
   "metadata": {},
   "source": [
    "\n",
    "**Spiegazione:**\n",
    "\n",
    "La funzione `fai_suono` accetta qualsiasi oggetto che abbia il metodo `suono()`. Non importa di che classe sia l'oggetto, purché fornisca l'implementazione del metodo richiesto.\n",
    "\n",
    "### **Esempio 2: Polimorfismo con Ereditarietà**\n"
   ]
  },
  {
   "cell_type": "code",
   "execution_count": 2,
   "id": "2b3f599a",
   "metadata": {},
   "outputs": [
    {
     "name": "stdout",
     "output_type": "stream",
     "text": [
      "Bau!\n",
      "Miao!\n"
     ]
    }
   ],
   "source": [
    "class Animale:\n",
    "    def suono(self):\n",
    "        pass\n",
    "\n",
    "class Cane(Animale):\n",
    "    def suono(self):\n",
    "        return \"Bau!\"\n",
    "\n",
    "class Gatto(Animale):\n",
    "    def suono(self):\n",
    "        return \"Miao!\"\n",
    "\n",
    "animali = [Cane(), Gatto()]\n",
    "\n",
    "for animale in animali:\n",
    "    print(animale.suono())"
   ]
  },
  {
   "cell_type": "markdown",
   "id": "ec12ee5b",
   "metadata": {},
   "source": [
    "\n",
    "**Spiegazione:**\n",
    "\n",
    "Le classi `Cane` e `Gatto` ereditano dalla classe base `Animale` e sovrascrivono il metodo `suono()`. Il ciclo for itera su una lista di oggetti `Animale` e chiama il metodo `suono()`, mostrando il comportamento polimorfico.\n",
    "\n",
    "### **Esempio 3: Polimorfismo con Funzioni Incorporate**\n"
   ]
  },
  {
   "cell_type": "code",
   "execution_count": 3,
   "id": "9c556261",
   "metadata": {},
   "outputs": [
    {
     "name": "stdout",
     "output_type": "stream",
     "text": [
      "4\n",
      "3\n",
      "2\n"
     ]
    }
   ],
   "source": [
    "print(len(\"Ciao\"))       # Output: 4\n",
    "print(len([1, 2, 3]))    # Output: 3\n",
    "print(len({'a': 1, 'b': 2}))  # Output: 2"
   ]
  },
  {
   "cell_type": "markdown",
   "id": "3821496d",
   "metadata": {},
   "source": [
    "\n",
    "**Spiegazione:**\n",
    "\n",
    "La funzione `len()` è polimorfica perché può operare su diversi tipi di dati (stringhe, liste, dizionari) e restituisce un risultato coerente."
   ]
  },
  {
   "cell_type": "markdown",
   "id": "8433ee12",
   "metadata": {},
   "source": [
    "## **Esercizi Interattivi**\n",
    "\n",
    "### **Esercizio 1: Forme Geometriche**\n",
    "\n",
    "Crea una classe base `Forma` con un metodo `area()`. Successivamente, crea due classi derivate `Rettangolo` e `Cerchio` che sovrascrivono il metodo `area()` per calcolare l'area specifica.\n",
    "\n",
    "**Soluzione:**\n"
   ]
  },
  {
   "cell_type": "code",
   "execution_count": 4,
   "id": "ae8cb57a",
   "metadata": {},
   "outputs": [
    {
     "name": "stdout",
     "output_type": "stream",
     "text": [
      "L'area è: 12\n",
      "L'area è: 78.53981633974483\n"
     ]
    }
   ],
   "source": [
    "import math\n",
    "\n",
    "class Forma:\n",
    "    def area(self):\n",
    "        pass\n",
    "\n",
    "class Rettangolo(Forma):\n",
    "    def __init__(self, larghezza, altezza):\n",
    "        self.larghezza = larghezza\n",
    "        self.altezza = altezza\n",
    "\n",
    "    def area(self):\n",
    "        return self.larghezza * self.altezza\n",
    "\n",
    "class Cerchio(Forma):\n",
    "    def __init__(self, raggio):\n",
    "        self.raggio = raggio\n",
    "\n",
    "    def area(self):\n",
    "        return math.pi * self.raggio ** 2\n",
    "\n",
    "forme = [Rettangolo(3, 4), Cerchio(5)]\n",
    "\n",
    "for forma in forme:\n",
    "    print(f\"L'area è: {forma.area()}\")"
   ]
  },
  {
   "cell_type": "markdown",
   "id": "e175d9a3",
   "metadata": {},
   "source": [
    "\n",
    "### **Esercizio 2: Gestione di Veicoli**\n",
    "\n",
    "Definisci una classe `Veicolo` con un metodo `muovi()`. Crea le classi `Auto` e `Bicicletta` che ereditano da `Veicolo` e implementano il metodo `muovi()` in modo appropriato."
   ]
  },
  {
   "cell_type": "markdown",
   "id": "19801cde",
   "metadata": {},
   "source": [
    "## **Buone Pratiche e Consigli**\n",
    "\n",
    "- **Utilizzare Nomi Coerenti:** Assicurati che i metodi che devono essere polimorfici abbiano lo stesso nome nelle diverse classi.\n",
    "- **Evitare Dipendenze Rigide:** Scrivi funzioni e metodi che dipendono da interfacce (metodi e attributi) piuttosto che da tipi concreti.\n",
    "- **Favorire la Composizione:** Oltre all'ereditarietà, considera l'uso della composizione per creare comportamenti polimorfici.\n",
    "- **Documentare il Codice:** Fornisci docstring e commenti che spiegano come e perché il polimorfismo viene utilizzato."
   ]
  },
  {
   "cell_type": "markdown",
   "id": "2f3afe77",
   "metadata": {},
   "source": [
    "## **Conclusione**\n",
    "\n",
    "Il polimorfismo è un concetto potente che consente di scrivere codice flessibile e riutilizzabile. In Python, grazie alla sua tipizzazione dinamica e all'ereditarietà, implementare il polimorfismo è naturale e intuitivo. Comprendere e utilizzare il polimorfismo ti aiuterà a progettare programmi più organizzati e scalabili."
   ]
  },
  {
   "cell_type": "markdown",
   "id": "9fb41fdf",
   "metadata": {},
   "source": [
    "## Risorse Aggiuntive\n",
    "\n",
    "- **Documentazione Ufficiale Python**: [Classes](https://docs.python.org/3/tutorial/classes.html)\n",
    "- **Libro Consigliato**: [Python Crash Course di Eric Matthes](https://www.amazon.com/Python-Crash-Course-2nd-Edition/dp/1593279280)\n",
    "- **Video Tutorial**: [Object Oriented Programming | Polymorphism](https://youtu.be/pii3hAksya0?si=eH9-_y299XXe1va3)\n"
   ]
  }
 ],
 "metadata": {
  "kernelspec": {
   "display_name": "Python 3 (ipykernel)",
   "language": "python",
   "name": "python3"
  },
  "language_info": {
   "codemirror_mode": {
    "name": "ipython",
    "version": 3
   },
   "file_extension": ".py",
   "mimetype": "text/x-python",
   "name": "python",
   "nbconvert_exporter": "python",
   "pygments_lexer": "ipython3",
   "version": "3.10.9"
  }
 },
 "nbformat": 4,
 "nbformat_minor": 5
}
