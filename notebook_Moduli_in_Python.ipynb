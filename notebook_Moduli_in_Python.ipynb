{
 "cells": [
  {
   "cell_type": "markdown",
   "id": "ae0bce45",
   "metadata": {},
   "source": [
    "# Moduli in Python\n",
    "\n",
    "## **Obiettivi della Lezione**\n",
    "\n",
    "Al termine di questa lezione, sarai in grado di:\n",
    "\n",
    "- Comprendere cosa sono i moduli in Python e perché sono utili.\n",
    "- Creare e utilizzare moduli personalizzati.\n",
    "- Importare moduli e specifiche funzioni o variabili al loro interno.\n",
    "- Utilizzare moduli integrati in Python per estendere le funzionalità dei tuoi programmi.\n",
    "- Applicare buone pratiche nella gestione e nell'organizzazione dei moduli."
   ]
  },
  {
   "cell_type": "markdown",
   "id": "9a149fcf",
   "metadata": {},
   "source": [
    "## **Introduzione**\n",
    "\n",
    "In Python, i moduli sono fondamentali per la strutturazione del codice. Consentono di organizzare programmi complessi in parti più gestibili, riutilizzare codice e mantenere la pulizia e la leggibilità del codice. Un modulo è semplicemente un file che contiene definizioni e istruzioni Python. In questa lezione esploreremo come creare, importare e utilizzare i moduli per migliorare la nostra programmazione."
   ]
  },
  {
   "cell_type": "markdown",
   "id": "0c00a816",
   "metadata": {},
   "source": [
    "## **Spiegazione Teorica**\n",
    "\n",
    "### **Cosa sono i Moduli**\n",
    "\n",
    "Un **modulo** in Python è un file con estensione `.py` che contiene definizioni di funzioni, classi e variabili, e può includere anche codice eseguibile. I moduli aiutano a suddividere grandi programmi in file più piccoli e organizzati.\n",
    "\n",
    "### **Perché Usare i Moduli**\n",
    "\n",
    "- **Riutilizzo del codice**: Definire funzioni o classi una volta e riutilizzarle in diversi programmi.\n",
    "- **Organizzazione**: Suddividere il codice in componenti logici.\n",
    "- **Manutenibilità**: Facilitare aggiornamenti e debug.\n",
    "\n",
    "### **Creare un Modulo**\n",
    "\n",
    "Per creare un modulo, basta salvare le definizioni in un file con estensione `.py`.\n",
    "\n",
    "**Esempio:**\n",
    "\n",
    "Supponiamo di creare un modulo chiamato `mio_modulo.py`:\n"
   ]
  },
  {
   "cell_type": "code",
   "execution_count": 1,
   "id": "cf5c0973",
   "metadata": {},
   "outputs": [],
   "source": [
    "# mio_modulo.py\n",
    "\n",
    "def saluta(nome):\n",
    "    print(f\"Ciao, {nome}!\")\n",
    "\n",
    "persona = {\n",
    "    \"nome\": \"Alice\",\n",
    "    \"età\": 30,\n",
    "    \"paese\": \"Italia\"\n",
    "}"
   ]
  },
  {
   "cell_type": "markdown",
   "id": "d80f6a8c",
   "metadata": {},
   "source": [
    "\n",
    "### **Importare un Modulo**\n",
    "\n",
    "Per utilizzare le funzioni o le variabili di un modulo, dobbiamo importarlo nel nostro script usando l'istruzione `import`.\n",
    "\n",
    "**Sintassi base:**\n"
   ]
  },
  {
   "cell_type": "markdown",
   "id": "8b06909f",
   "metadata": {},
   "source": [
    "```python\n",
    "import nome_modulo\n",
    "```"
   ]
  },
  {
   "cell_type": "markdown",
   "id": "aa139083",
   "metadata": {},
   "source": [
    "\n",
    "**Esempio:**\n"
   ]
  },
  {
   "cell_type": "markdown",
   "id": "73e1dbca",
   "metadata": {},
   "source": [
    "```python\n",
    "import mio_modulo\n",
    "\n",
    "mio_modulo.saluta(\"Marco\")\n",
    "```"
   ]
  },
  {
   "cell_type": "markdown",
   "id": "1a3d575b",
   "metadata": {},
   "source": [
    "\n",
    "### **Usare `from` per Importazioni Specifiche**\n",
    "\n",
    "Possiamo importare funzioni, classi o variabili specifiche da un modulo.\n",
    "\n",
    "**Sintassi:**\n"
   ]
  },
  {
   "cell_type": "markdown",
   "id": "ff2c8d5a",
   "metadata": {},
   "source": [
    "```python\n",
    "from nome_modulo import nome_funzione\n",
    "```"
   ]
  },
  {
   "cell_type": "markdown",
   "id": "2eb10c27",
   "metadata": {},
   "source": [
    "\n",
    "**Esempio:**\n"
   ]
  },
  {
   "cell_type": "markdown",
   "id": "c862a3d3",
   "metadata": {},
   "source": [
    "```python\n",
    "from mio_modulo import saluta\n",
    "\n",
    "saluta(\"Luca\")\n",
    "```"
   ]
  },
  {
   "cell_type": "markdown",
   "id": "dfe11bb5",
   "metadata": {},
   "source": [
    "\n",
    "### **Usare Alias con `as`**\n",
    "\n",
    "Per semplificare o chiarire il codice, possiamo assegnare un alias al modulo o alla funzione.\n",
    "\n",
    "**Esempio:**\n"
   ]
  },
  {
   "cell_type": "markdown",
   "id": "02cfc67e",
   "metadata": {},
   "source": [
    "```python\n",
    "import mio_modulo as mm\n",
    "\n",
    "mm.saluta(\"Sara\")\n",
    "```"
   ]
  },
  {
   "cell_type": "markdown",
   "id": "2faaab76",
   "metadata": {},
   "source": [
    "\n",
    "O per una funzione:\n"
   ]
  },
  {
   "cell_type": "markdown",
   "id": "05ba997a",
   "metadata": {},
   "source": [
    "```python\n",
    "from mio_modulo import saluta as s\n",
    "\n",
    "s(\"Giulia\")\n",
    "```"
   ]
  },
  {
   "cell_type": "markdown",
   "id": "a4834156",
   "metadata": {},
   "source": [
    "\n",
    "### **Moduli Integrati**\n",
    "\n",
    "Python include molti moduli integrati che possiamo utilizzare senza installazioni aggiuntive, come `math`, `datetime`, `random`, ecc.\n",
    "\n",
    "**Esempio con il modulo `math`:**\n"
   ]
  },
  {
   "cell_type": "code",
   "execution_count": 11,
   "id": "2d4c61a5",
   "metadata": {},
   "outputs": [
    {
     "name": "stdout",
     "output_type": "stream",
     "text": [
      "4.0\n"
     ]
    }
   ],
   "source": [
    "import math\n",
    "\n",
    "x = math.sqrt(16)\n",
    "print(x)  # Output: 4.0"
   ]
  },
  {
   "cell_type": "markdown",
   "id": "e9f6d988",
   "metadata": {},
   "source": [
    "\n",
    "### **La Funzione `dir()`**\n",
    "\n",
    "La funzione incorporata `dir()` restituisce un elenco di nomi definiti in un modulo.\n",
    "\n",
    "**Esempio:**\n"
   ]
  },
  {
   "cell_type": "markdown",
   "id": "930c629d",
   "metadata": {},
   "source": [
    "```python\n",
    "import mio_modulo\n",
    "\n",
    "print(dir(mio_modulo))\n",
    "```"
   ]
  },
  {
   "cell_type": "markdown",
   "id": "6109d826",
   "metadata": {},
   "source": [
    "\n",
    "### **La Variabile `__name__`**\n",
    "\n",
    "Ogni modulo in Python ha un attributo speciale `__name__`. Il valore di `__name__` è `'__main__'` quando lo script viene eseguito come programma principale.\n",
    "\n",
    "**Esempio nell'uso:**\n"
   ]
  },
  {
   "cell_type": "code",
   "execution_count": 1,
   "id": "1f4c1fa1",
   "metadata": {},
   "outputs": [
    {
     "name": "stdout",
     "output_type": "stream",
     "text": [
      "Eseguito quando il modulo viene eseguito direttamente\n"
     ]
    }
   ],
   "source": [
    "# mio_modulo.py\n",
    "\n",
    "def principale():\n",
    "    print(\"Eseguito quando il modulo viene eseguito direttamente\")\n",
    "\n",
    "if __name__ == \"__main__\":\n",
    "    principale()"
   ]
  },
  {
   "cell_type": "markdown",
   "id": "15b12a6a",
   "metadata": {},
   "source": [
    "## **Esempi Pratici di Codice**\n",
    "\n",
    "### **Esempio 1: Creare e Utilizzare un Modulo Personalizzato**\n",
    "\n",
    "**Creazione del modulo `operazioni.py`:**\n"
   ]
  },
  {
   "cell_type": "code",
   "execution_count": 15,
   "id": "4ec768ae",
   "metadata": {},
   "outputs": [],
   "source": [
    "# operazioni.py\n",
    "\n",
    "def addizione(a, b):\n",
    "    return a + b\n",
    "\n",
    "def sottrazione(a, b):\n",
    "    return a - b"
   ]
  },
  {
   "cell_type": "markdown",
   "id": "4b7567d1",
   "metadata": {},
   "source": [
    "\n",
    "**Utilizzo del modulo in un altro script `main.py`:**\n"
   ]
  },
  {
   "cell_type": "code",
   "execution_count": null,
   "id": "f739b11c",
   "metadata": {},
   "outputs": [],
   "source": [
    "# main.py\n",
    "\n",
    "import operazioni\n",
    "\n",
    "num1 = 10\n",
    "num2 = 5\n",
    "\n",
    "print(f\"Addizione: {operazioni.addizione(num1, num2)}\")      # Output: 15\n",
    "print(f\"Sottrazione: {operazioni.sottrazione(num1, num2)}\")  # Output: 5"
   ]
  },
  {
   "cell_type": "markdown",
   "id": "479dcea7",
   "metadata": {},
   "source": [
    "\n",
    "### **Esempio 2: Importare Funzioni Specifiche**\n"
   ]
  },
  {
   "cell_type": "code",
   "execution_count": null,
   "id": "56a0ba5e",
   "metadata": {},
   "outputs": [],
   "source": [
    "from operazioni import addizione\n",
    "\n",
    "result = addizione(7, 3)\n",
    "print(result)  # Output: 10"
   ]
  },
  {
   "cell_type": "markdown",
   "id": "412898f8",
   "metadata": {},
   "source": [
    "\n",
    "### **Esempio 3: Utilizzare un Modulo Integrato (`random`)**\n"
   ]
  },
  {
   "cell_type": "code",
   "execution_count": 2,
   "id": "c0bb62ee",
   "metadata": {},
   "outputs": [
    {
     "name": "stdout",
     "output_type": "stream",
     "text": [
      "Il numero casuale è: 97\n"
     ]
    }
   ],
   "source": [
    "import random\n",
    "\n",
    "numero_casuale = random.randint(1, 100)\n",
    "print(f\"Il numero casuale è: {numero_casuale}\")"
   ]
  },
  {
   "cell_type": "markdown",
   "id": "3a81af85",
   "metadata": {},
   "source": [
    "## **Esercizi Interattivi**\n",
    "\n",
    "### **Esercizio 1: Creare un Modulo**\n",
    "\n",
    "1. Crea un modulo chiamato `conversore.py` che contiene due funzioni:\n",
    "   - `celsius_a_fahrenheit(celsius)` che converte Celsius in Fahrenheit.\n",
    "   - `fahrenheit_a_celsius(fahrenheit)` che converte Fahrenheit in Celsius.\n",
    "\n",
    "2. In un nuovo script, importa il modulo e chiedi all'utente di inserire una temperatura in Celsius, quindi stampa la conversione in Fahrenheit.\n",
    "\n",
    "**Soluzione:**\n",
    "\n",
    "*File: conversore.py*\n"
   ]
  },
  {
   "cell_type": "code",
   "execution_count": null,
   "id": "b5e246ff",
   "metadata": {},
   "outputs": [],
   "source": [
    "def celsius_a_fahrenheit(celsius):\n",
    "    return (celsius * 9/5) + 32\n",
    "\n",
    "def fahrenheit_a_celsius(fahrenheit):\n",
    "    return (fahrenheit - 32) * 5/9"
   ]
  },
  {
   "cell_type": "markdown",
   "id": "8c5e2ab2",
   "metadata": {},
   "source": [
    "\n",
    "*File: main.py*\n"
   ]
  },
  {
   "cell_type": "code",
   "execution_count": null,
   "id": "dcea5cc5",
   "metadata": {},
   "outputs": [],
   "source": [
    "import conversore\n",
    "\n",
    "temp_c = float(input(\"Inserisci la temperatura in Celsius: \"))\n",
    "temp_f = conversore.celsius_a_fahrenheit(temp_c)\n",
    "print(f\"La temperatura in Fahrenheit è: {temp_f}\")"
   ]
  },
  {
   "cell_type": "markdown",
   "id": "f2274ab2",
   "metadata": {},
   "source": [
    "\n",
    "### **Esercizio 2: Usare un Modulo Integrato**\n",
    "\n",
    "Utilizza il modulo integrato `datetime` per stampare la data e l'ora attuali in formato leggibile.\n",
    "\n",
    "**Soluzione:**\n"
   ]
  },
  {
   "cell_type": "code",
   "execution_count": null,
   "id": "0d6cf187",
   "metadata": {},
   "outputs": [],
   "source": [
    "from datetime import datetime\n",
    "\n",
    "data_corrente = datetime.now()\n",
    "\n",
    "print(\"Data e ora attuali:\", data_corrente.strftime(\"%d/%m/%Y %H:%M:%S\"))"
   ]
  },
  {
   "cell_type": "markdown",
   "id": "846b747c",
   "metadata": {},
   "source": [
    "## **Buone Pratiche e Consigli**\n",
    "\n",
    "- **Nomenclatura Chiara**: Dai nomi significativi ai tuoi moduli per riflettere il loro contenuto.\n",
    "- **Evitare Nomi di Moduli in Conflitto**: Non nominare i tuoi moduli come moduli integrati di Python.\n",
    "- **Organizzazione con Pacchetti**: Per progetti più grandi, organizza i moduli in pacchetti utilizzando cartelle con un file `__init__.py`.\n",
    "- **Evitare Importazioni Circolari**: Progetta i moduli per evitare dipendenze circolari, che possono causare errori."
   ]
  },
  {
   "cell_type": "markdown",
   "id": "2ddff399",
   "metadata": {},
   "source": [
    "## **Conclusione**\n",
    "\n",
    "I moduli sono strumenti potenti in Python che consentono di scrivere codice più organizzato, riutilizzabile e manutenibile. Saper creare e utilizzare moduli, sia personalizzati che integrati, è fondamentale per lo sviluppo di programmi complessi. Applicando le buone pratiche viste, potrai migliorare la qualità del tuo codice e la tua produttività come sviluppatore Python."
   ]
  },
  {
   "cell_type": "markdown",
   "id": "fccc039f",
   "metadata": {},
   "source": [
    "## Risorse Aggiuntive\n",
    "\n",
    "- **Documentazione Ufficiale Python**: [Modules](https://docs.python.org/3/tutorial/modules.htm)\n",
    "- **Libro Consigliato**: [Python Crash Course di Eric Matthes](https://www.amazon.com/Python-Crash-Course-2nd-Edition/dp/1593279280)\n",
    "- **Video Tutorial**: [Import Modules and Exploring The Standard Library](https://youtu.be/CqvZ3vGoGs0?si=MpijqPaeQgDcKCcZ)"
   ]
  }
 ],
 "metadata": {
  "kernelspec": {
   "display_name": "Python 3 (ipykernel)",
   "language": "python",
   "name": "python3"
  },
  "language_info": {
   "codemirror_mode": {
    "name": "ipython",
    "version": 3
   },
   "file_extension": ".py",
   "mimetype": "text/x-python",
   "name": "python",
   "nbconvert_exporter": "python",
   "pygments_lexer": "ipython3",
   "version": "3.10.9"
  }
 },
 "nbformat": 4,
 "nbformat_minor": 5
}
