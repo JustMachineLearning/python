{
 "cells": [
  {
   "cell_type": "markdown",
   "id": "432afa4c",
   "metadata": {},
   "source": [
    "# Formattazione delle Stringhe in Python\n",
    "\n",
    "## Obiettivi della Lezione\n",
    "\n",
    "Al termine di questa lezione, sarai in grado di:\n",
    "\n",
    "- Comprendere l'importanza della formattazione delle stringhe in Python.\n",
    "- Utilizzare metodi di formattazione base (`%` operator).\n",
    "- Applicare il metodo `str.format()` per formattare stringhe in modo flessibile.\n",
    "- Utilizzare le f-string (formatted string literals) introdotte in Python 3.6 per una formattazione efficiente.\n",
    "- Gestire la formattazione di numeri, date e altre tipologie di dati all'interno delle stringhe.\n",
    "\n",
    "## Introduzione\n",
    "\n",
    "La formattazione delle stringhe è un aspetto fondamentale nella programmazione in Python, soprattutto quando si tratta di presentare dati all'utente in modo chiaro e leggibile. Che tu stia costruendo un semplice messaggio o generando un report complesso, saper formattare correttamente le stringhe ti permetterà di controllare esattamente come i tuoi dati vengono visualizzati.\n",
    "\n",
    "## Spiegazione Teorica\n",
    "\n",
    "Python offre diversi metodi per formattare le stringhe, ognuno con le proprie caratteristiche e casi d'uso. I principali metodi sono:\n",
    "\n",
    "1. **Operatore `%` (stile vecchio)**\n",
    "2. **Metodo `str.format()`**\n",
    "3. **f-string (formatted string literals)**\n",
    "\n",
    "### 1. Operatore `%` (stile vecchio)\n",
    "\n",
    "Questo è il metodo di formattazione originale di Python, simile alla funzione `printf` del linguaggio C.\n",
    "\n",
    "**Sintassi base:**\n"
   ]
  },
  {
   "cell_type": "markdown",
   "id": "f6913c14",
   "metadata": {},
   "source": [
    "```python\n",
    "\"formato stringa\" % valori\n",
    "```"
   ]
  },
  {
   "cell_type": "markdown",
   "id": "c1cc5453",
   "metadata": {},
   "source": [
    "\n",
    "**Esempio:**\n"
   ]
  },
  {
   "cell_type": "code",
   "execution_count": 12,
   "id": "9b17ce36",
   "metadata": {},
   "outputs": [
    {
     "name": "stdout",
     "output_type": "stream",
     "text": [
      "Mi chiamo Alice e ho 30 anni.\n"
     ]
    }
   ],
   "source": [
    "nome = \"Alice\"\n",
    "eta = 30\n",
    "testo = \"Mi chiamo %s e ho %d anni.\" % (nome, eta)\n",
    "print(testo)"
   ]
  },
  {
   "cell_type": "markdown",
   "id": "827cf936",
   "metadata": {},
   "source": [
    "\n",
    "### 2. Metodo `str.format()`\n",
    "\n",
    "Introdotto in Python 2.6, offre una sintassi più potente e flessibile.\n",
    "\n",
    "**Sintassi base:**\n"
   ]
  },
  {
   "cell_type": "markdown",
   "id": "0b2689e4",
   "metadata": {},
   "source": [
    "```python\n",
    "\"{} e {}\".format(valore1, valore2)\n",
    "```"
   ]
  },
  {
   "cell_type": "markdown",
   "id": "6794625e",
   "metadata": {},
   "source": [
    "\n",
    "È possibile utilizzare indici o nomi per i placeholder:\n"
   ]
  },
  {
   "cell_type": "markdown",
   "id": "b82b6f8d",
   "metadata": {},
   "source": [
    "```python\n",
    "\"{0} e {1}\".format(valore1, valore2)\n",
    "\"{nome} ha {anni} anni.\".format(nome=\"Alice\", anni=30)\n",
    "```"
   ]
  },
  {
   "cell_type": "markdown",
   "id": "da784ee5",
   "metadata": {},
   "source": [
    "\n",
    "### 3. f-string (formatted string literals)\n",
    "\n",
    "Introdotte in Python 3.6, le f-string permettono di inserire direttamente le espressioni all'interno delle stringhe con una sintassi concisa.\n",
    "\n",
    "**Sintassi base:**\n"
   ]
  },
  {
   "cell_type": "code",
   "execution_count": null,
   "id": "023af9ba",
   "metadata": {},
   "outputs": [],
   "source": [
    "f\"Testo {espressione}\""
   ]
  },
  {
   "cell_type": "markdown",
   "id": "9967b5f1",
   "metadata": {},
   "source": [
    "\n",
    "**Esempio:**\n"
   ]
  },
  {
   "cell_type": "code",
   "execution_count": 13,
   "id": "2beac8ae",
   "metadata": {},
   "outputs": [
    {
     "name": "stdout",
     "output_type": "stream",
     "text": [
      "Mi chiamo Alice e ho 30 anni.\n"
     ]
    }
   ],
   "source": [
    "nome = \"Alice\"\n",
    "eta = 30\n",
    "testo = f\"Mi chiamo {nome} e ho {eta} anni.\"\n",
    "print(testo)"
   ]
  },
  {
   "cell_type": "markdown",
   "id": "6659d87d",
   "metadata": {},
   "source": [
    "\n",
    "## Esempi Pratici di Codice\n",
    "\n",
    "### Utilizzo dell'operatore `%`\n"
   ]
  },
  {
   "cell_type": "code",
   "execution_count": 14,
   "id": "d0eb6cf2",
   "metadata": {},
   "outputs": [
    {
     "name": "stdout",
     "output_type": "stream",
     "text": [
      "Mi chiamo Marco e ho 25 anni.\n"
     ]
    }
   ],
   "source": [
    "# Esempio base\n",
    "nome = \"Marco\"\n",
    "eta = 25\n",
    "print(\"Mi chiamo %s e ho %d anni.\" % (nome, eta))"
   ]
  },
  {
   "cell_type": "markdown",
   "id": "d58fdc17",
   "metadata": {},
   "source": [
    "\n",
    "**Spiegazione:**\n",
    "\n",
    "- `%s` è un placeholder per una stringa.\n",
    "- `%d` è un placeholder per un intero.\n",
    "\n",
    "### Utilizzo di `str.format()`\n"
   ]
  },
  {
   "cell_type": "code",
   "execution_count": 15,
   "id": "70e27eb2",
   "metadata": {},
   "outputs": [
    {
     "name": "stdout",
     "output_type": "stream",
     "text": [
      "Mi chiamo Marco e ho 25 anni.\n",
      "Mi chiamo Marco e ho 25 anni. Marco è uno studente.\n",
      "Mi chiamo Marco e ho 25 anni.\n"
     ]
    }
   ],
   "source": [
    "# Placeholder posizionali\n",
    "print(\"Mi chiamo {} e ho {} anni.\".format(nome, eta))\n",
    "\n",
    "# Placeholder con indici\n",
    "print(\"Mi chiamo {0} e ho {1} anni. {0} è uno studente.\".format(nome, eta))\n",
    "\n",
    "# Placeholder con nomi\n",
    "print(\"Mi chiamo {nome} e ho {eta} anni.\".format(nome=nome, eta=eta))"
   ]
  },
  {
   "cell_type": "markdown",
   "id": "f78633e4",
   "metadata": {},
   "source": [
    "\n",
    "### Utilizzo delle f-string\n"
   ]
  },
  {
   "cell_type": "code",
   "execution_count": 16,
   "id": "e883c575",
   "metadata": {},
   "outputs": [
    {
     "name": "stdout",
     "output_type": "stream",
     "text": [
      "Mi chiamo Marco e ho 25 anni.\n"
     ]
    }
   ],
   "source": [
    "print(f\"Mi chiamo {nome} e ho {eta} anni.\")"
   ]
  },
  {
   "cell_type": "markdown",
   "id": "b7818ed5",
   "metadata": {},
   "source": [
    "\n",
    "Le f-string supportano anche espressioni e formattazioni:\n"
   ]
  },
  {
   "cell_type": "code",
   "execution_count": 19,
   "id": "80ecb50a",
   "metadata": {},
   "outputs": [
    {
     "name": "stdout",
     "output_type": "stream",
     "text": [
      "L'anno prossimo avrò 26 anni.\n",
      "Il valore di π è approssimativamente 3.1416.\n"
     ]
    }
   ],
   "source": [
    "print(f\"L'anno prossimo avrò {eta + 1} anni.\")\n",
    "\n",
    "# Formattazione di numeri decimali\n",
    "pi = 3.1415926535\n",
    "print(f\"Il valore di π è approssimativamente {pi:.4f}.\")"
   ]
  },
  {
   "cell_type": "markdown",
   "id": "33c28675",
   "metadata": {},
   "source": [
    "\n",
    "**Spiegazione:**\n",
    "\n",
    "- `{pi:.4f}` formatta la variabile `pi` mostrando solo due cifre decimali.\n",
    "\n",
    "## Esercizi Interattivi\n",
    "\n",
    "### Esercizio 1: Saluto Personalizzato\n",
    "\n",
    "**Obiettivo:** Chiedi all'utente il suo nome e stampi un saluto personalizzato utilizzando le f-string.\n",
    "\n",
    "**Istruzioni:**\n",
    "\n",
    "1. Usa la funzione `input()` per ottenere il nome dell'utente.\n",
    "2. Utilizza un f-string per creare il messaggio di saluto.\n",
    "3. Stampa il messaggio.\n",
    "\n",
    "**Soluzione:**\n"
   ]
  },
  {
   "cell_type": "code",
   "execution_count": 20,
   "id": "5d4cff2d",
   "metadata": {},
   "outputs": [
    {
     "name": "stdout",
     "output_type": "stream",
     "text": [
      "Inserisci il tuo nome: Marco\n",
      "Ciao, Marco! Benvenuto nel corso di Python.\n"
     ]
    }
   ],
   "source": [
    "nome = input(\"Inserisci il tuo nome: \")\n",
    "print(f\"Ciao, {nome}! Benvenuto nel corso di Python.\")"
   ]
  },
  {
   "cell_type": "markdown",
   "id": "d2425166",
   "metadata": {},
   "source": [
    "\n",
    "### Esercizio 2: Calcolo dell'Area di un Cerchio\n",
    "\n",
    "**Obiettivo:** Calcola l'area di un cerchio dato il raggio inserito dall'utente e mostra il risultato con due cifre decimali.\n",
    "\n",
    "**Istruzioni:**\n",
    "\n",
    "1. Chiedi all'utente di inserire il raggio.\n",
    "2. Calcola l'area (Area = π * raggio^2).\n",
    "3. Utilizza `math.pi` per il valore di π.\n",
    "4. Stampa il risultato formattato.\n",
    "\n",
    "**Soluzione:**\n"
   ]
  },
  {
   "cell_type": "code",
   "execution_count": 22,
   "id": "f7043c51",
   "metadata": {},
   "outputs": [
    {
     "name": "stdout",
     "output_type": "stream",
     "text": [
      "Inserisci il raggio del cerchio: 3\n",
      "L'area del cerchio è 28.27 m^2.\n"
     ]
    }
   ],
   "source": [
    "import math\n",
    "\n",
    "raggio = float(input(\"Inserisci il raggio del cerchio: \"))\n",
    "area = math.pi * raggio ** 2\n",
    "print(f\"L'area del cerchio è {area:.2f} m^2.\")"
   ]
  },
  {
   "cell_type": "markdown",
   "id": "973f5135",
   "metadata": {},
   "source": [
    "Per rappresentare correttamente l'elevazione al quadrato, si può utilizzare il simbolo Unicode `²` (corrispondente a `\\u00B2` in Python) invece di `^2`.  Questo permette una visualizzazione più chiara e formattata."
   ]
  },
  {
   "cell_type": "code",
   "execution_count": 23,
   "id": "e53593f2",
   "metadata": {},
   "outputs": [
    {
     "name": "stdout",
     "output_type": "stream",
     "text": [
      "L'area del cerchio è 28.27 m².\n"
     ]
    }
   ],
   "source": [
    "print(f\"L'area del cerchio è {area:.2f} m\\u00B2.\")"
   ]
  },
  {
   "cell_type": "markdown",
   "id": "e2a4574e",
   "metadata": {},
   "source": [
    "\n",
    "## Buone Pratiche e Consigli\n",
    "\n",
    "- **Preferisci le f-string per Python 3.6 e successivi:** Sono più leggibili e performanti.\n",
    "- **Usa la formattazione per migliorare la leggibilità:** Formatta numeri decimali, date e altri dati per rendere l'output più chiaro.\n",
    "- **Mantieni il codice pulito:** Evita formattazioni complesse all'interno delle stringhe; considera di elaborare i dati prima.\n",
    "\n",
    "## Conclusione\n",
    "\n",
    "La formattazione delle stringhe è uno strumento potente che permette di controllare esattamente come i tuoi dati vengono presentati. Dall'uso delle f-string all'applicazione di specifici formati per numeri e date, Python offre diverse opzioni per soddisfare le tue esigenze. Padroneggiare questi metodi migliorerà la qualità del tuo codice e la chiarezza dell'output prodotto.\n",
    "\n",
    "## Risorse Aggiuntive\n",
    "\n",
    "- **Documentazione Ufficiale Python:**\n",
    "  - [f-string](https://docs.python.org/3/reference/lexical_analysis.html#f-strings)\n",
    "  - [str.format()](https://docs.python.org/3/library/string.html#formatstrings)\n",
    "- **Libro Consigliato**: [Python Crash Course di Eric Matthes](https://www.amazon.com/Python-Crash-Course-2nd-Edition/dp/1593279280)\n",
    "- **Video Tutorial:**: [Strings - Working with Textual Data](https://youtu.be/k9TUPpGqYTo?si=cGH-Qe2g1V0-8By2)"
   ]
  }
 ],
 "metadata": {
  "kernelspec": {
   "display_name": "Python 3 (ipykernel)",
   "language": "python",
   "name": "python3"
  },
  "language_info": {
   "codemirror_mode": {
    "name": "ipython",
    "version": 3
   },
   "file_extension": ".py",
   "mimetype": "text/x-python",
   "name": "python",
   "nbconvert_exporter": "python",
   "pygments_lexer": "ipython3",
   "version": "3.10.9"
  }
 },
 "nbformat": 4,
 "nbformat_minor": 5
}
