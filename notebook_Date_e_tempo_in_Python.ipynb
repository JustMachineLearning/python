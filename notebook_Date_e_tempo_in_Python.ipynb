{
 "cells": [
  {
   "cell_type": "markdown",
   "id": "ced1d818",
   "metadata": {},
   "source": [
    "# **Date e Tempo in Python**"
   ]
  },
  {
   "cell_type": "markdown",
   "id": "0d5ef2af",
   "metadata": {},
   "source": [
    "## **Obiettivi della Lezione**\n",
    "\n",
    "Al termine di questa lezione, sarai in grado di:\n",
    "\n",
    "- Comprendere come Python gestisce le date e il tempo.\n",
    "- Utilizzare il modulo `datetime` per manipolare date e orari.\n",
    "- Formattare date e orari in stringhe personalizzate.\n",
    "- Calcolare differenze temporali e operare con timedelta.\n",
    "- Lavorare con fusi orari utilizzando il modulo `pytz`."
   ]
  },
  {
   "cell_type": "markdown",
   "id": "b34b90d4",
   "metadata": {},
   "source": [
    "## **Introduzione**\n",
    "\n",
    "La gestione delle date e del tempo è fondamentale in molti ambiti della programmazione, come lo sviluppo web, l'analisi dei dati e la programmazione di sistemi. Python offre potenti strumenti per lavorare con date e orari attraverso il modulo integrato `datetime` e altre librerie esterne. In questa lezione esploreremo come creare, manipolare e formattare oggetti datetime, nonché come effettuare calcoli temporali."
   ]
  },
  {
   "cell_type": "markdown",
   "id": "dfd5e03f",
   "metadata": {},
   "source": [
    "## **Spiegazione Teorica**\n",
    "\n",
    "### Il modulo `datetime`\n",
    "\n",
    "Python fornisce il modulo integrato `datetime` che offre classi per manipolare date e orari in modo semplice ed efficiente. Le principali classi sono:\n",
    "\n",
    "- `date`: rappresenta una data (anno, mese, giorno).\n",
    "- `time`: rappresenta un orario (ore, minuti, secondi, microsecondi).\n",
    "- `datetime`: combina data e orario.\n",
    "- `timedelta`: rappresenta una durata, la differenza tra due date o orari.\n",
    "\n",
    "### Creazione di oggetti `date`, `time` e `datetime`\n",
    "\n",
    "Per creare un oggetto date o datetime, si utilizzano i costruttori delle rispettive classi:\n"
   ]
  },
  {
   "cell_type": "code",
   "execution_count": 1,
   "id": "389e773a",
   "metadata": {},
   "outputs": [],
   "source": [
    "from datetime import date, time, datetime\n",
    "\n",
    "# Creazione di una data\n",
    "d = date(2023, 10, 12)  # Anno, Mese, Giorno\n",
    "\n",
    "# Creazione di un orario\n",
    "t = time(14, 30, 45)  # Ore, Minuti, Secondi\n",
    "\n",
    "# Creazione di una data e orario\n",
    "dt = datetime(2023, 10, 12, 14, 30, 45)"
   ]
  },
  {
   "cell_type": "markdown",
   "id": "b0a66367",
   "metadata": {},
   "source": [
    "\n",
    "### Data e ora corrente\n",
    "\n",
    "Per ottenere la data e l'ora corrente, si utilizzano i metodi di classe `today()` e `now()`:\n"
   ]
  },
  {
   "cell_type": "code",
   "execution_count": 2,
   "id": "6df20ebd",
   "metadata": {},
   "outputs": [],
   "source": [
    "# Data corrente\n",
    "oggi = date.today()\n",
    "\n",
    "# Data e ora corrente\n",
    "adesso = datetime.now()"
   ]
  },
  {
   "cell_type": "markdown",
   "id": "9a24599b",
   "metadata": {},
   "source": [
    "\n",
    "### Formattazione di date e orari\n",
    "\n",
    "È possibile formattare date e orari in stringhe leggibili utilizzando il metodo `strftime()`:\n"
   ]
  },
  {
   "cell_type": "code",
   "execution_count": 3,
   "id": "13fa4bf3",
   "metadata": {},
   "outputs": [],
   "source": [
    "# Formattazione personalizzata\n",
    "formato_data = oggi.strftime(\"%d/%m/%Y\")\n",
    "formato_orario = adesso.strftime(\"%H:%M:%S\")"
   ]
  },
  {
   "cell_type": "markdown",
   "id": "cbd97191",
   "metadata": {},
   "source": [
    "\n",
    "I codici di formattazione più comuni includono:\n",
    "\n",
    "- `%Y`: anno con quattro cifre\n",
    "- `%m`: mese con due cifre\n",
    "- `%d`: giorno con due cifre\n",
    "- `%H`: ore (24 ore)\n",
    "- `%M`: minuti\n",
    "- `%S`: secondi\n",
    "\n",
    "### Parsing di stringhe in oggetti datetime\n",
    "\n",
    "Per convertire una stringa in un oggetto datetime, si utilizza il metodo `strptime()`:\n"
   ]
  },
  {
   "cell_type": "code",
   "execution_count": 4,
   "id": "12b54ffe",
   "metadata": {},
   "outputs": [
    {
     "data": {
      "text/plain": [
       "datetime.datetime(2023, 10, 12, 0, 0)"
      ]
     },
     "execution_count": 4,
     "metadata": {},
     "output_type": "execute_result"
    }
   ],
   "source": [
    "data_stringa = \"12/10/2023\"\n",
    "data_obj = datetime.strptime(data_stringa, \"%d/%m/%Y\")\n",
    "data_obj"
   ]
  },
  {
   "cell_type": "markdown",
   "id": "2d3f1e43",
   "metadata": {},
   "source": [
    "\n",
    "### Calcoli con `timedelta`\n",
    "\n",
    "Il tipo `timedelta` rappresenta una durata. Puoi effettuare operazioni aritmetiche con date e orari:\n"
   ]
  },
  {
   "cell_type": "code",
   "execution_count": 15,
   "id": "ba8a8f3b",
   "metadata": {},
   "outputs": [
    {
     "name": "stdout",
     "output_type": "stream",
     "text": [
      "Delta:  7 days, 0:00:00\n",
      "Nuova Data:  2024-12-23\n",
      "Differenza:  7 days, 0:00:00\n"
     ]
    }
   ],
   "source": [
    "from datetime import timedelta\n",
    "\n",
    "# Creazione di un timedelta di 7 giorni\n",
    "delta = timedelta(days=7)\n",
    "print('Delta: ', delta)\n",
    "\n",
    "# Somma di una data e un timedelta\n",
    "nuova_data = oggi + delta\n",
    "print('Nuova Data: ', nuova_data)\n",
    "\n",
    "# Differenza tra due date\n",
    "differenza = nuova_data - oggi  # Risultato: timedelta di 7 giorni\n",
    "print('Differenza: ', differenza)"
   ]
  },
  {
   "cell_type": "markdown",
   "id": "3d732df4",
   "metadata": {},
   "source": [
    "## **Esempi Pratici di Codice**\n",
    "\n",
    "### Esempio 1: Stampare la data e l'ora corrente\n"
   ]
  },
  {
   "cell_type": "code",
   "execution_count": 16,
   "id": "ea5ccfc1",
   "metadata": {},
   "outputs": [
    {
     "name": "stdout",
     "output_type": "stream",
     "text": [
      "Data corrente: 16/12/2024\n",
      "Ora corrente: 14:11:52\n"
     ]
    }
   ],
   "source": [
    "from datetime import datetime\n",
    "\n",
    "# Data e ora corrente\n",
    "adesso = datetime.now()\n",
    "\n",
    "# Formattazione\n",
    "data_formattata = adesso.strftime(\"%d/%m/%Y\")\n",
    "ora_formattata = adesso.strftime(\"%H:%M:%S\")\n",
    "\n",
    "print(\"Data corrente:\", data_formattata)\n",
    "print(\"Ora corrente:\", ora_formattata)"
   ]
  },
  {
   "cell_type": "markdown",
   "id": "bbcbc4a6",
   "metadata": {},
   "source": [
    "\n",
    "**Spiegazione:**\n",
    "\n",
    "- Utilizziamo `datetime.now()` per ottenere la data e l'ora corrente.\n",
    "- Formattiamo la data e l'ora con `strftime()` per ottenere una stringa leggibile.\n",
    "- Stampiamo i risultati.\n",
    "\n",
    "### Esempio 2: Calcolare i giorni mancanti a una data specifica\n"
   ]
  },
  {
   "cell_type": "code",
   "execution_count": 18,
   "id": "6f4feb03",
   "metadata": {},
   "outputs": [
    {
     "name": "stdout",
     "output_type": "stream",
     "text": [
      "Mancano 16 giorni a Capodanno!\n"
     ]
    }
   ],
   "source": [
    "from datetime import date\n",
    "\n",
    "# Data odierna\n",
    "oggi = date.today()\n",
    "\n",
    "# Data futura (es. Capodanno)\n",
    "capodanno = date(oggi.year + 1, 1, 1)\n",
    "\n",
    "# Calcolo dei giorni rimanenti\n",
    "giorni_mancanti = (capodanno - oggi).days\n",
    "\n",
    "print(f\"Mancano {giorni_mancanti} giorni a Capodanno!\")"
   ]
  },
  {
   "cell_type": "markdown",
   "id": "c8924c9c",
   "metadata": {},
   "source": [
    "\n",
    "**Spiegazione:**\n",
    "\n",
    "- Creiamo un oggetto `date` per il prossimo Capodanno.\n",
    "- Calcoliamo la differenza tra le due date.\n",
    "- Estragiamo il numero di giorni dalla differenza e lo stampiamo.\n",
    "\n",
    "### Esempio 3: Confronto tra due orari\n"
   ]
  },
  {
   "cell_type": "code",
   "execution_count": 20,
   "id": "ffd738c0",
   "metadata": {},
   "outputs": [
    {
     "name": "stdout",
     "output_type": "stream",
     "text": [
      "L'orario 1 è antecedente all'orario 2\n"
     ]
    }
   ],
   "source": [
    "from datetime import time\n",
    "\n",
    "orario1 = time(9, 0, 0)\n",
    "orario2 = time(17, 30, 0)\n",
    "\n",
    "if orario1 < orario2:\n",
    "    print(\"L'orario 1 è antecedente all'orario 2\")\n",
    "else:\n",
    "    print(\"L'orario 1 è successivo o uguale all'orario 2\")"
   ]
  },
  {
   "cell_type": "markdown",
   "id": "d96414e3",
   "metadata": {},
   "source": [
    "\n",
    "**Spiegazione:**\n",
    "\n",
    "- Creiamo due oggetti `time`.\n",
    "- Confrontiamo gli orari utilizzando gli operatori di confronto.\n",
    "- Stampiamo il risultato del confronto.\n",
    "\n",
    "### Esempio 4: Utilizzo di `pytz` per gestire i fusi orari\n"
   ]
  },
  {
   "cell_type": "code",
   "execution_count": 21,
   "id": "cb1a986a",
   "metadata": {},
   "outputs": [
    {
     "name": "stdout",
     "output_type": "stream",
     "text": [
      "Ora a Roma: 16/12/2024 14:12:44\n",
      "Ora a New York: 16/12/2024 08:12:44\n"
     ]
    }
   ],
   "source": [
    "from datetime import datetime\n",
    "import pytz\n",
    "\n",
    "# Lista dei fusi orari\n",
    "fuso_roma = pytz.timezone('Europe/Rome')\n",
    "fuso_ny = pytz.timezone('America/New_York')\n",
    "\n",
    "# Data e ora corrente in diversi fusi orari\n",
    "ora_roma = datetime.now(fuso_roma)\n",
    "ora_ny = datetime.now(fuso_ny)\n",
    "\n",
    "print(\"Ora a Roma:\", ora_roma.strftime(\"%d/%m/%Y %H:%M:%S\"))\n",
    "print(\"Ora a New York:\", ora_ny.strftime(\"%d/%m/%Y %H:%M:%S\"))"
   ]
  },
  {
   "cell_type": "markdown",
   "id": "b606fd52",
   "metadata": {},
   "source": [
    "\n",
    "**Spiegazione:**\n",
    "\n",
    "- Importiamo il modulo `pytz` (assicurati di installarlo con `pip install pytz`).\n",
    "- Definiamo i fusi orari desiderati.\n",
    "- Otteniamo l'ora corrente in ciascun fuso orario.\n",
    "- Stampiamo le ore formattate."
   ]
  },
  {
   "cell_type": "markdown",
   "id": "f19d9b06",
   "metadata": {},
   "source": [
    "## **Esercizi Interattivi**\n",
    "\n",
    "### Esercizio 1: Calcolare l'età\n",
    "\n",
    "Scrivi un programma che, data una data di nascita inserita dall'utente nel formato `dd/mm/yyyy`, calcoli l'età attuale della persona.\n",
    "\n",
    "**Suggerimento:**\n",
    "\n",
    "- Utilizza `datetime.strptime()` per convertire la stringa in data.\n",
    "- Calcola la differenza tra la data odierna e la data di nascita.\n",
    "\n",
    "### Esercizio 2: Countdown a un evento\n",
    "\n",
    "Chiedi all'utente di inserire una data futura (formato `dd/mm/yyyy`) e stampa quanti giorni mancano a tale data.\n",
    "\n",
    "### Esercizio 3: Formattazione personalizzata\n",
    "\n",
    "Prendi la data e l'ora corrente e formatta una stringa che dica: \"Oggi è [giorno della settimana], [giorno] di [mese] del [anno], e sono le [ora]:[minuti]\".\n",
    "\n",
    "**Suggerimento:**\n",
    "\n",
    "- Puoi ottenere il nome del giorno e del mese con `%A` e `%B`."
   ]
  },
  {
   "cell_type": "markdown",
   "id": "d3026b35",
   "metadata": {},
   "source": [
    "## **Buone Pratiche e Consigli**\n",
    "\n",
    "- **Utilizzare le funzioni integrate**: Sfrutta le funzionalità del modulo `datetime` invece di manipolare manualmente le date come stringhe.\n",
    "- **Gestire i fusi orari con attenzione**: Se l'applicazione richiede la gestione di fusi orari, assicurati di utilizzare librerie come `pytz` o il modulo `zoneinfo` (disponibile da Python 3.9).\n",
    "- **Convalidare l'input dell'utente**: Quando accetti date inserite dall'utente, verifica che il formato sia corretto e gestisci le eccezioni.\n",
    "- **Evitare l'uso di numeri magici**: Non inserire valori numerici fissi nel codice (es. 86400 invece di `timedelta(days=1)`).\n",
    "- **Documentare il codice**: Aggiungi commenti e docstring per chiarire l'uso dei metodi e la logica implementata."
   ]
  },
  {
   "cell_type": "markdown",
   "id": "47ad602d",
   "metadata": {},
   "source": [
    "## **Conclusione**\n",
    "\n",
    "In questa lezione abbiamo esplorato come Python gestisce le date e il tempo attraverso il modulo `datetime`. Hai imparato a creare oggetti date e time, a formattarli, a effettuare calcoli temporali e a gestire fusi orari. La manipolazione efficace di date e orari è essenziale in molte applicazioni reali, e le competenze acquisite ti saranno utili in vari contesti di programmazione."
   ]
  },
  {
   "cell_type": "markdown",
   "id": "ba5bed5c",
   "metadata": {},
   "source": [
    "## **Risorse Aggiuntive**\n",
    "\n",
    "- **Documentazione Ufficiale Python**: [datetime — Basic date and time types](https://docs.python.org/3/library/datetime.html)\n",
    "- **Libro Consigliato**: [Python Crash Course di Eric Matthes](https://www.amazon.com/Python-Crash-Course-2nd-Edition/dp/1593279280)\n",
    "- **Video Tutorial**: [Datetime Module - How to work with Dates, Times, Timedeltas, and Timezones](https://youtu.be/eirjjyP2qcQ?si=6An2u5AtnlCStQUb)"
   ]
  }
 ],
 "metadata": {
  "kernelspec": {
   "display_name": "Python 3 (ipykernel)",
   "language": "python",
   "name": "python3"
  },
  "language_info": {
   "codemirror_mode": {
    "name": "ipython",
    "version": 3
   },
   "file_extension": ".py",
   "mimetype": "text/x-python",
   "name": "python",
   "nbconvert_exporter": "python",
   "pygments_lexer": "ipython3",
   "version": "3.10.9"
  }
 },
 "nbformat": 4,
 "nbformat_minor": 5
}
