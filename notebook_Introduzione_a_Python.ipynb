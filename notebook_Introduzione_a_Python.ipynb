{
 "cells": [
  {
   "cell_type": "markdown",
   "id": "a2b75097",
   "metadata": {},
   "source": [
    "# **Introduzione a Python**"
   ]
  },
  {
   "cell_type": "markdown",
   "id": "08301367",
   "metadata": {},
   "source": [
    "## **Obiettivi della Lezione**\n",
    "\n",
    "Al termine di questa lezione, sarai in grado di:\n",
    "\n",
    "- Comprendere cos'è Python e le sue principali caratteristiche.\n",
    "- Conoscere le applicazioni pratiche e i campi d'uso di Python.\n",
    "- Installare Python sul tuo sistema.\n",
    "- Eseguire il tuo primo programma in Python."
   ]
  },
  {
   "cell_type": "markdown",
   "id": "14d0ac8e",
   "metadata": {},
   "source": [
    "## **Introduzione**\n",
    "\n",
    "Python è un linguaggio di programmazione di alto livello, interpretato e orientato agli oggetti, noto per la sua sintassi semplice e leggibilità. Creato da Guido van Rossum e rilasciato per la prima volta nel 1991, Python è diventato uno dei linguaggi più popolari al mondo, utilizzato in una vasta gamma di applicazioni, dalla web development al machine learning.\n",
    "\n",
    "In questa lezione, esploreremo le basi di Python, scopriremo perché è così ampiamente adottato e come iniziare a programmare con esso."
   ]
  },
  {
   "cell_type": "markdown",
   "id": "d3e70c9c",
   "metadata": {},
   "source": [
    "## **Spiegazione Teorica**\n",
    "\n",
    "### **Cos'è Python?**\n",
    "\n",
    "Python è un linguaggio di programmazione che enfatizza la leggibilità del codice e la facilità d'uso. Alcune delle sue caratteristiche chiave includono:\n",
    "\n",
    "- **Sintassi Semplice**: Simile a quella del linguaggio inglese, che rende il codice più leggibile.\n",
    "- **Interpretato**: Il codice viene eseguito riga per riga, facilitando il debugging.\n",
    "- **Multiparadigma**: Supporta la programmazione procedurale, orientata agli oggetti e funzionale.\n",
    "- **Portabilità**: Il codice Python può essere eseguito su diverse piattaforme senza modifiche.\n",
    "\n",
    "### **Perché Python?**\n",
    "\n",
    "Python è scelto da principianti e professionisti per diverse ragioni:\n",
    "\n",
    "- **Comunità Ampia**: Una vasta comunità di sviluppatori che contribuisce con librerie e supporto.\n",
    "- **Librerie Estese**: Numerose librerie per varie applicazioni (es. NumPy per la matematica, Pandas per i dati, TensorFlow per il machine learning).\n",
    "- **Facilità di Apprendimento**: La sintassi intuitiva accelera il processo di apprendimento.\n",
    "- **Versatilità**: Utilizzato in web development, data science, automazione, scripting, e molto altro.\n",
    "\n",
    "### **Campi di Applicazione**\n",
    "\n",
    "- **Sviluppo Web**: Framework come Django e Flask.\n",
    "- **Data Science e Machine Learning**: Librerie come Pandas, NumPy, Scikit-learn.\n",
    "- **Automazione e Scripting**: Automazione di compiti ripetitivi.\n",
    "- **Applicazioni Scientifiche**: Analisi di dati e simulazioni."
   ]
  },
  {
   "cell_type": "markdown",
   "id": "331de8e0",
   "metadata": {},
   "source": [
    "## **Esempi Pratici di Codice**\n",
    "\n",
    "### **Installazione di Python**\n",
    "\n",
    "Prima di iniziare a programmare, è necessario installare Python sul proprio sistema.\n",
    "\n",
    "- **Windows/Mac OS/Linux**: Visita il sito ufficiale [python.org](https://www.python.org/downloads/) e scarica l'ultima versione stabile.\n",
    "\n",
    "### **Il Tuo Primo Programma**\n",
    "\n",
    "Tradizionalmente, il primo programma che si scrive in un nuovo linguaggio è \"Hello, World!\".\n"
   ]
  },
  {
   "cell_type": "code",
   "execution_count": 1,
   "id": "40cf8b0b",
   "metadata": {},
   "outputs": [
    {
     "name": "stdout",
     "output_type": "stream",
     "text": [
      "Hello, World!\n"
     ]
    }
   ],
   "source": [
    "print(\"Hello, World!\")"
   ]
  },
  {
   "cell_type": "markdown",
   "id": "14536f77",
   "metadata": {},
   "source": [
    "\n",
    "**Spiegazione:**\n",
    "\n",
    "- `print()` è una funzione incorporata che stampa il messaggio passato tra parentesi.\n",
    "- Le virgolette racchiudono una stringa di testo.\n",
    "\n",
    "### **Esecuzione del Codice**\n",
    "\n",
    "Per eseguire il programma:\n",
    "\n",
    "1. Salva il codice in un file con estensione `.py` (es. `hello_world.py`).\n",
    "2. Apri il terminale o prompt dei comandi.\n",
    "3. Naviga fino alla directory contenente il file.\n",
    "4. Esegui il comando: `python hello_world.py`"
   ]
  },
  {
   "cell_type": "markdown",
   "id": "481d1dd5",
   "metadata": {},
   "source": [
    "## **Esercizi Interattivi**\n",
    "\n",
    "1. **Esercizio 1:** Modifica il programma \"Hello, World!\" per stampare il tuo nome.\n",
    "\n",
    "   ```python\n",
    "   # Scrivi il tuo codice qui\n",
    "   ```\n",
    "\n",
    "2. **Esercizio 2:** Scrivi un programma che stampi le seguenti tre righe:\n",
    "\n",
    "   ```\n",
    "   Benvenuto nel corso di Python!\n",
    "   Oggi impariamo le basi.\n",
    "   Iniziamo!\n",
    "   ```\n",
    "\n",
    "   ```python\n",
    "   # Scrivi il tuo codice qui\n",
    "   ```\n",
    "\n",
    "3. **Esercizio 3:** Usa la funzione `print()` per eseguire un semplice calcolo matematico, come la somma di due numeri.\n",
    "\n",
    "   ```python\n",
    "   # Scrivi il tuo codice qui\n",
    "   ```"
   ]
  },
  {
   "cell_type": "markdown",
   "id": "1aa0d32b",
   "metadata": {},
   "source": [
    "## **Buone Pratiche e Consigli**\n",
    "\n",
    "- **Organizzazione del Codice**: Mantieni il codice pulito e ben indentato. Python utilizza l'indentazione per definire blocchi di codice.\n",
    "- **Commenti**: Utilizza i commenti (`#`) per spiegare parti del codice, migliorando la leggibilità.\n",
    "- **Nomi Significativi**: Quando inizierai a usare variabili e funzioni, assegna nomi chiari che riflettano il loro scopo.\n",
    "- **Aggiornamenti Regolari**: Mantieni Python e le librerie aggiornate per beneficiare delle ultime funzionalità e correzioni di bug.\n",
    "- **Esplora la Documentazione**: La documentazione ufficiale di Python è una risorsa preziosa ([docs.python.org](https://docs.python.org/3/))."
   ]
  },
  {
   "cell_type": "markdown",
   "id": "7cca6d5f",
   "metadata": {},
   "source": [
    "## **Conclusione**\n",
    "\n",
    "In questa lezione, abbiamo introdotto Python, esplorando le sue caratteristiche fondamentali e le ragioni della sua popolarità. Hai imparato come installare Python sul tuo sistema ed eseguito il tuo primo semplice programma.\n",
    "\n",
    "Python è un linguaggio potente e versatile, ideale sia per chi inizia sia per sviluppatori esperti. Nelle prossime lezioni, approfondiremo la sintassi di Python e inizieremo a costruire programmi più complessi."
   ]
  },
  {
   "cell_type": "markdown",
   "id": "7d7a94d3",
   "metadata": {},
   "source": [
    "## Risorse Aggiuntive\n",
    "\n",
    "- **Documentazione Ufficiale Python**: [Documentazione](https://docs.python.org/3/)\n",
    "- **Libro Consigliato**: [Python Crash Course di Eric Matthes](https://www.amazon.com/Python-Crash-Course-2nd-Edition/dp/1593279280)"
   ]
  }
 ],
 "metadata": {
  "kernelspec": {
   "display_name": "Python 3 (ipykernel)",
   "language": "python",
   "name": "python3"
  },
  "language_info": {
   "codemirror_mode": {
    "name": "ipython",
    "version": 3
   },
   "file_extension": ".py",
   "mimetype": "text/x-python",
   "name": "python",
   "nbconvert_exporter": "python",
   "pygments_lexer": "ipython3",
   "version": "3.10.9"
  }
 },
 "nbformat": 4,
 "nbformat_minor": 5
}
