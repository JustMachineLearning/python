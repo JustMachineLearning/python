{
 "cells": [
  {
   "cell_type": "markdown",
   "id": "26605ddd",
   "metadata": {},
   "source": [
    "## Sintassi di Python\n",
    "\n",
    "### Obiettivi della Lezione\n",
    "\n",
    "- Comprendere la struttura fondamentale di un programma Python.\n",
    "- Familiarizzare con le regole di sintassi di Python.\n",
    "- Imparare a utilizzare correttamente l'indentazione.\n",
    "- Riconoscere e utilizzare le parole chiave di Python.\n",
    "- Scrivere istruzioni e blocchi di codice corretti."
   ]
  },
  {
   "cell_type": "markdown",
   "id": "52548a80",
   "metadata": {},
   "source": [
    "### Introduzione\n",
    "\n",
    "La sintassi di un linguaggio di programmazione definisce l'insieme di regole che determinano la corretta struttura delle istruzioni che il computer può interpretare ed eseguire. Python è apprezzato per la sua sintassi semplice e leggibile, che facilita la scrittura e la comprensione del codice. In questa lezione esploreremo le basi della sintassi di Python, fondamentali per scrivere programmi funzionanti e mantenibili."
   ]
  },
  {
   "cell_type": "markdown",
   "id": "e232382f",
   "metadata": {},
   "source": [
    "### Spiegazione Teorica\n",
    "\n",
    "#### Struttura di Base di un Programma Python\n",
    "\n",
    "Un programma in Python è composto da una sequenza di istruzioni eseguite dall'interprete Python. Non è necessario definire un punto di ingresso (come la funzione `main()` in altri linguaggi); l'esecuzione inizia dalla prima istruzione non indentata nello script.\n",
    "\n",
    "#### Indentazione\n",
    "\n",
    "A differenza di molti altri linguaggi, Python utilizza l'indentazione (spazi o tabulazioni all'inizio della linea) per definire blocchi di codice. L'indentazione è quindi fondamentale per la corretta interpretazione del programma.\n",
    "\n",
    "- **Blocchi di Codice:** Strutture come cicli, funzioni e condizioni richiedono che il codice all'interno sia indentato.\n",
    "- **Consistenza:** È importante essere coerenti nell'uso degli spazi o delle tabulazioni. La convenzione è utilizzare 4 spazi per ogni livello di indentazione.\n",
    "\n",
    "#### Commenti\n",
    "\n",
    "I commenti sono parti di codice ignorate dall'interprete Python e utilizzate per aggiungere spiegazioni o annotazioni.\n",
    "\n",
    "- **Commenti su una Linea:** Iniziano con il simbolo `#` e continuano fino alla fine della linea.\n",
    "\n",
    "  ```python\n",
    "  # Questo è un commento\n",
    "  ```\n",
    "\n",
    "- **Commenti su Più Linee:** Si possono utilizzare triple virgolette (singole o doppie) per creare stringhe multi-linea che possono fungere da commenti.\n",
    "\n",
    "  ```python\n",
    "  \"\"\"\n",
    "  Questo è un commento\n",
    "  su più linee.\n",
    "  \"\"\"\n",
    "  ```\n",
    "\n",
    "#### Parole Chiave e Identificatori\n",
    "\n",
    "- **Parole Chiave:** Sono termini riservati dal linguaggio Python e non possono essere utilizzati come nomi di variabili o funzioni. Esempi includono `if`, `else`, `while`, `for`, `def`, `True`, `False`, ecc.\n",
    "- **Identificatori:** Sono i nomi assegnati a variabili, funzioni, classi, ecc. Devono iniziare con una lettera o un underscore `_`, seguiti da lettere, numeri o underscore.\n",
    "\n",
    "  - **Esempi Validi:** `variabile`, `x1`, `_nome`, `eta_utente`\n",
    "  - **Esempi Non Validi:** `2variabile` (inizia con un numero), `nome-utente` (contiene un carattere non permesso)\n",
    "\n",
    "#### Istruzioni su Più Linee\n",
    "\n",
    "Se un'istruzione è troppo lunga, può essere suddivisa su più linee utilizzando il carattere di continuazione `\\`.\n"
   ]
  },
  {
   "cell_type": "markdown",
   "id": "0ac86b1c",
   "metadata": {},
   "source": [
    "```python\n",
    "totale = numero1 + numero2 + numero3 + \\\n",
    "         numero4 + numero5\n",
    "```"
   ]
  },
  {
   "cell_type": "markdown",
   "id": "d85ceea6",
   "metadata": {},
   "source": [
    "\n",
    "#### Istruzioni Multiple su una Linea\n",
    "\n",
    "Sebbene non sia una pratica comune, è possibile scrivere più istruzioni sulla stessa linea separandole con un punto e virgola `;`.\n"
   ]
  },
  {
   "cell_type": "code",
   "execution_count": 3,
   "id": "c502cbc6",
   "metadata": {},
   "outputs": [],
   "source": [
    "a = 5; b = 10; c = a + b"
   ]
  },
  {
   "cell_type": "markdown",
   "id": "c1eb888e",
   "metadata": {},
   "source": [
    "### Esempi Pratici di Codice\n",
    "\n",
    "#### Esempio 1: Indentazione Corretta\n"
   ]
  },
  {
   "cell_type": "code",
   "execution_count": 4,
   "id": "9ba0a4ce",
   "metadata": {},
   "outputs": [
    {
     "name": "stdout",
     "output_type": "stream",
     "text": [
      "10 è maggiore di 5\n",
      "8 è maggiore di 3\n"
     ]
    }
   ],
   "source": [
    "if 10 > 5:\n",
    "    print(\"10 è maggiore di 5\")\n",
    "\n",
    "    if 8 > 3:\n",
    "        print(\"8 è maggiore di 3\")"
   ]
  },
  {
   "cell_type": "markdown",
   "id": "424e2477",
   "metadata": {},
   "source": [
    "\n",
    "**Spiegazione:**\n",
    "\n",
    "- La prima condizione `if` controlla se 10 è maggiore di 5.\n",
    "- Il codice all'interno del `if` è indentato di 4 spazi.\n",
    "- Il secondo `if` è ulteriormente indentato, indicando che è annidato all'interno del primo `if`.\n",
    "\n",
    "#### Esempio 2: Uso dei Commenti\n"
   ]
  },
  {
   "cell_type": "code",
   "execution_count": 5,
   "id": "bb08e902",
   "metadata": {},
   "outputs": [
    {
     "name": "stdout",
     "output_type": "stream",
     "text": [
      "L'area è: 50\n"
     ]
    }
   ],
   "source": [
    "# Calcolo dell'area di un rettangolo\n",
    "larghezza = 5\n",
    "altezza = 10\n",
    "area = larghezza * altezza  # Moltiplica larghezza per altezza\n",
    "print(\"L'area è:\", area)"
   ]
  },
  {
   "cell_type": "markdown",
   "id": "20d26560",
   "metadata": {},
   "source": [
    "\n",
    "**Spiegazione:**\n",
    "\n",
    "- Il commento all'inizio spiega cosa fa il codice.\n",
    "- Il commento sulla stessa linea dell'assegnazione di `area` spiega l'operazione.\n",
    "- I commenti aiutano a capire il funzionamento del codice.\n",
    "\n",
    "#### Esempio 3: Nomi di Variabili e Parole Chiave\n"
   ]
  },
  {
   "cell_type": "code",
   "execution_count": 6,
   "id": "5ba5ff9a",
   "metadata": {},
   "outputs": [
    {
     "ename": "SyntaxError",
     "evalue": "invalid syntax (1673769002.py, line 5)",
     "output_type": "error",
     "traceback": [
      "\u001b[1;36m  Cell \u001b[1;32mIn[6], line 5\u001b[1;36m\u001b[0m\n\u001b[1;33m    for = 10  # 'for' è una parola chiave riservata\u001b[0m\n\u001b[1;37m        ^\u001b[0m\n\u001b[1;31mSyntaxError\u001b[0m\u001b[1;31m:\u001b[0m invalid syntax\n"
     ]
    }
   ],
   "source": [
    "# Nome di variabile valido\n",
    "numero_clienti = 50\n",
    "\n",
    "# Nome di variabile non valido (genera un errore)\n",
    "for = 10  # 'for' è una parola chiave riservata"
   ]
  },
  {
   "cell_type": "markdown",
   "id": "86e912f8",
   "metadata": {},
   "source": [
    "\n",
    "**Spiegazione:**\n",
    "\n",
    "- `numero_clienti` è un identificatore valido.\n",
    "- Tentare di utilizzare `for` come nome di variabile non è consentito poiché è una parola chiave di Python.\n",
    "\n",
    "#### Esempio 4: Continuazione di Linea\n"
   ]
  },
  {
   "cell_type": "code",
   "execution_count": 7,
   "id": "4c4b2293",
   "metadata": {},
   "outputs": [
    {
     "name": "stdout",
     "output_type": "stream",
     "text": [
      "La somma è: 21\n"
     ]
    }
   ],
   "source": [
    "somma = 1 + 2 + 3 + \\\n",
    "       4 + 5 + 6\n",
    "\n",
    "print(\"La somma è:\", somma)"
   ]
  },
  {
   "cell_type": "markdown",
   "id": "b408bd3b",
   "metadata": {},
   "source": [
    "\n",
    "**Spiegazione:**\n",
    "\n",
    "- L'uso di `\\` permette di continuare l'istruzione sulla linea successiva senza interrompere la sintassi."
   ]
  },
  {
   "cell_type": "markdown",
   "id": "9fb87db5",
   "metadata": {},
   "source": [
    "### Esercizi Interattivi\n",
    "\n",
    "#### Esercizio 1: Correggi l'Indentazione\n",
    "\n",
    "Il seguente codice presenta errori di indentazione. Correggilo affinché funzioni correttamente.\n"
   ]
  },
  {
   "cell_type": "code",
   "execution_count": 8,
   "id": "72c69a06",
   "metadata": {},
   "outputs": [
    {
     "ename": "IndentationError",
     "evalue": "expected an indented block after 'if' statement on line 1 (3132144160.py, line 2)",
     "output_type": "error",
     "traceback": [
      "\u001b[1;36m  Cell \u001b[1;32mIn[8], line 2\u001b[1;36m\u001b[0m\n\u001b[1;33m    print(\"Questo verrà stampato\")\u001b[0m\n\u001b[1;37m    ^\u001b[0m\n\u001b[1;31mIndentationError\u001b[0m\u001b[1;31m:\u001b[0m expected an indented block after 'if' statement on line 1\n"
     ]
    }
   ],
   "source": [
    "if True:\n",
    "print(\"Questo verrà stampato\")\n",
    "    print(\"Anche questo\")\n",
    "print(\"Fine\")"
   ]
  },
  {
   "cell_type": "markdown",
   "id": "093adc58",
   "metadata": {},
   "source": [
    "\n",
    "**Soluzione:**\n"
   ]
  },
  {
   "cell_type": "code",
   "execution_count": null,
   "id": "fa270fd5",
   "metadata": {},
   "outputs": [],
   "source": [
    "if True:\n",
    "    print(\"Questo verrà stampato\")\n",
    "    print(\"Anche questo\")\n",
    "print(\"Fine\")"
   ]
  },
  {
   "cell_type": "markdown",
   "id": "3ab9977f",
   "metadata": {},
   "source": [
    "\n",
    "**Spiegazione:**\n",
    "\n",
    "- Le istruzioni all'interno del blocco `if` devono essere indentate allo stesso livello.\n",
    "\n",
    "#### Esercizio 2: Identifica le Parole Chiave\n",
    "\n",
    "Quali dei seguenti sono parole chiave in Python e non possono essere utilizzati come nomi di variabile?\n",
    "\n",
    "a) `class`  \n",
    "b) `nome`  \n",
    "c) `def`  \n",
    "d) `età`\n",
    "\n",
    "**Risposta:**\n",
    "\n",
    "- a) `class` - **Parola chiave**\n",
    "- b) `nome` - Non è una parola chiave\n",
    "- c) `def` - **Parola chiave**\n",
    "- d) `età` - Non è una parola chiave"
   ]
  },
  {
   "cell_type": "markdown",
   "id": "fffdda62",
   "metadata": {},
   "source": [
    "### Buone Pratiche e Consigli\n",
    "\n",
    "- **Consistenza nell'Indentazione:** Usa sempre lo stesso numero di spazi per l'indentazione. La convenzione è utilizzare 4 spazi.\n",
    "- **Nomi Significativi:** Assegna nomi chiari e descrittivi a variabili e funzioni per migliorare la leggibilità.\n",
    "- **Evita l'Uso di Parole Chiave:** Assicurati che i tuoi identificatori non coincidano con le parole chiave di Python.\n",
    "- **Commenta il Tuo Codice:** Utilizza i commenti per spiegare il funzionamento del codice, specialmente per le parti più complesse.\n",
    "- **Limita la Lunghezza delle Linee:** Mantieni le linee di codice sotto gli 80 caratteri per migliorarne la leggibilità."
   ]
  },
  {
   "cell_type": "markdown",
   "id": "10ef7405",
   "metadata": {},
   "source": [
    "### Conclusione\n",
    "\n",
    "La sintassi è il fondamento di qualsiasi linguaggio di programmazione. Una comprensione solida delle regole sintattiche di Python ti permetterà di scrivere codice corretto ed efficiente. Ricorda che l'indentazione non è solo una questione di stile in Python, ma una parte essenziale del funzionamento del codice. Continua a praticare scrivendo codice e leggendo programmi esistenti per familiarizzare ulteriormente con la sintassi di Python."
   ]
  },
  {
   "cell_type": "markdown",
   "id": "9e6bf49f",
   "metadata": {},
   "source": [
    "### Risorse Aggiuntive\n",
    "\n",
    "- **Documentazione Ufficiale Python**: [Python Language Reference](https://docs.python.org/3/reference/index.html)\n",
    "- **Libro Consigliato**: [Python Crash Course di Eric Matthes](https://www.amazon.com/Python-Crash-Course-2nd-Edition/dp/1593279280)"
   ]
  }
 ],
 "metadata": {
  "kernelspec": {
   "display_name": "Python 3 (ipykernel)",
   "language": "python",
   "name": "python3"
  },
  "language_info": {
   "codemirror_mode": {
    "name": "ipython",
    "version": 3
   },
   "file_extension": ".py",
   "mimetype": "text/x-python",
   "name": "python",
   "nbconvert_exporter": "python",
   "pygments_lexer": "ipython3",
   "version": "3.10.9"
  }
 },
 "nbformat": 4,
 "nbformat_minor": 5
}
