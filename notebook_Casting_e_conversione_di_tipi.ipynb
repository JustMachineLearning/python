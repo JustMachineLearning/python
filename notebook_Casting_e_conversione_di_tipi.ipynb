{
 "cells": [
  {
   "cell_type": "markdown",
   "id": "a15e833d",
   "metadata": {},
   "source": [
    "# **Casting e Conversione di Tipi**"
   ]
  },
  {
   "cell_type": "markdown",
   "id": "20c67ab3",
   "metadata": {},
   "source": [
    "## **Obiettivi della Lezione**\n",
    "\n",
    "Alla fine di questa lezione, sarai in grado di:\n",
    "\n",
    "- Comprendere il concetto di casting e perché è utile in Python.\n",
    "- Utilizzare le funzioni di conversione di tipo predefinite in Python.\n",
    "- Convertire tra tipi di dati comuni come interi, float, stringhe e booleani.\n",
    "- Riconoscere le potenziali problematiche legate alla conversione di tipi e come evitarle."
   ]
  },
  {
   "cell_type": "markdown",
   "id": "65ee8650",
   "metadata": {},
   "source": [
    "## **Introduzione**\n",
    "\n",
    "In Python, ogni valore ha un tipo di dato associato, come interi, float, stringhe e così via. A volte, durante la scrittura del codice, è necessario convertire un valore da un tipo a un altro. Questo processo è noto come *casting* o *conversione di tipi*. Capire come e quando effettuare il casting è fondamentale per evitare errori e garantire che il programma funzioni correttamente."
   ]
  },
  {
   "cell_type": "markdown",
   "id": "aa2604f5",
   "metadata": {},
   "source": [
    "## **Spiegazione Teorica**\n",
    "\n",
    "### **Perché il Casting è Importante?**\n",
    "\n",
    "Il casting consente di trasformare un valore da un tipo di dato a un altro. Questo è utile quando:\n",
    "\n",
    "- **Interazione con l'utente**: l'input dell'utente è sempre una stringa, quindi potrebbe essere necessario convertirlo in un numero per effettuare calcoli.\n",
    "- **Operazioni matematiche**: per eseguire operazioni tra diversi tipi numerici, potrebbe essere necessario convertirli allo stesso tipo.\n",
    "- **Formattazione dei dati**: per concatenare numeri all'interno di stringhe, è necessario convertire i numeri in stringhe.\n",
    "\n",
    "### **Conversione Implicita vs Esplicita**\n",
    "\n",
    "- **Conversione Implicita**: Python a volte converte automaticamente un tipo di dato in un altro. Ad esempio, quando si somma un intero con un float, il risultato sarà un float.\n",
    "  \n",
    "  ```python\n",
    "  x = 5      # intero\n",
    "  y = 2.5    # float\n",
    "  z = x + y  # z sarà 7.5, un float\n",
    "  ```\n",
    "\n",
    "- **Conversione Esplicita**: Richiede l'uso di funzioni per convertire un tipo di dato in un altro.\n",
    "\n",
    "### **Funzioni di Conversione di Tipo**\n",
    "\n",
    "Python fornisce diverse funzioni per convertire tipi di dati:\n",
    "\n",
    "- `int(x)`: Converte `x` in un intero.\n",
    "- `float(x)`: Converte `x` in un float.\n",
    "- `str(x)`: Converte `x` in una stringa.\n",
    "- `bool(x)`: Converte `x` in un booleano.\n",
    "- `list(x)`: Converte `x` in una lista.\n",
    "- `tuple(x)`: Converte `x` in una tupla.\n",
    "- `set(x)`: Converte `x` in un set."
   ]
  },
  {
   "cell_type": "markdown",
   "id": "f198d3e5",
   "metadata": {},
   "source": [
    "## **Esempi Pratici di Codice**\n",
    "\n",
    "### **Convertire una Stringa in un Intero**\n",
    "\n",
    "Supponiamo di ricevere un input dall'utente e vogliamo sommarlo a un numero.\n"
   ]
  },
  {
   "cell_type": "code",
   "execution_count": 1,
   "id": "8c260e17",
   "metadata": {},
   "outputs": [
    {
     "name": "stdout",
     "output_type": "stream",
     "text": [
      "Inserisci un numero: 5\n",
      "<class 'str'>\n",
      "<class 'int'>\n",
      "La somma è: 15\n"
     ]
    }
   ],
   "source": [
    "numero_input = input(\"Inserisci un numero: \")\n",
    "print(type(numero_input))  # <class 'str'>\n",
    "\n",
    "# Conversione in intero\n",
    "numero = int(numero_input)\n",
    "print(type(numero))        # <class 'int'>\n",
    "\n",
    "# Utilizzo in un calcolo\n",
    "somma = numero + 10\n",
    "print(\"La somma è:\", somma)"
   ]
  },
  {
   "cell_type": "markdown",
   "id": "cf4bd213",
   "metadata": {},
   "source": [
    "\n",
    "### **Convertire un Intero in una Stringa**\n",
    "\n",
    "Per concatenare un numero a una stringa:\n"
   ]
  },
  {
   "cell_type": "code",
   "execution_count": 2,
   "id": "21c0eb17",
   "metadata": {},
   "outputs": [
    {
     "name": "stdout",
     "output_type": "stream",
     "text": [
      "Ho 25 anni.\n"
     ]
    }
   ],
   "source": [
    "eta = 25\n",
    "messaggio = \"Ho \" + str(eta) + \" anni.\"\n",
    "print(messaggio)"
   ]
  },
  {
   "cell_type": "markdown",
   "id": "528a72e5",
   "metadata": {},
   "source": [
    "\n",
    "### **Convertire un Float in un Intero**\n",
    "\n",
    "Attenzione: si perde la parte decimale.\n"
   ]
  },
  {
   "cell_type": "code",
   "execution_count": 3,
   "id": "17574030",
   "metadata": {},
   "outputs": [
    {
     "name": "stdout",
     "output_type": "stream",
     "text": [
      "49\n"
     ]
    }
   ],
   "source": [
    "prezzo = 49.99\n",
    "prezzo_intero = int(prezzo)\n",
    "print(prezzo_intero)  # Output: 49"
   ]
  },
  {
   "cell_type": "markdown",
   "id": "ef7bb1c7",
   "metadata": {},
   "source": [
    "\n",
    "### **Utilizzare `float()` per Calcoli Precisi**\n"
   ]
  },
  {
   "cell_type": "code",
   "execution_count": 4,
   "id": "cc46db96",
   "metadata": {},
   "outputs": [
    {
     "name": "stdout",
     "output_type": "stream",
     "text": [
      "2.5\n",
      "2\n"
     ]
    }
   ],
   "source": [
    "dividendo = 5\n",
    "divisore = 2\n",
    "risultato = dividendo / divisore\n",
    "print(risultato)  # Output: 2.5\n",
    "\n",
    "# Se vogliamo ottenere un intero\n",
    "risultato_intero = int(risultato)\n",
    "print(risultato_intero)  # Output: 2"
   ]
  },
  {
   "cell_type": "markdown",
   "id": "569e3925",
   "metadata": {},
   "source": [
    "\n",
    "### **Conversione a Booleano**\n",
    "\n",
    "Qualsiasi valore può essere convertito in booleano.\n"
   ]
  },
  {
   "cell_type": "code",
   "execution_count": 5,
   "id": "3c697944",
   "metadata": {},
   "outputs": [
    {
     "name": "stdout",
     "output_type": "stream",
     "text": [
      "False\n",
      "True\n",
      "False\n",
      "True\n"
     ]
    }
   ],
   "source": [
    "print(bool(0))        # Output: False\n",
    "print(bool(1))        # Output: True\n",
    "print(bool(\"\"))       # Output: False\n",
    "print(bool(\"Python\")) # Output: True"
   ]
  },
  {
   "cell_type": "markdown",
   "id": "c57a018a",
   "metadata": {},
   "source": [
    "## **Esercizi Interattivi**\n",
    "\n",
    "1. **Esercizio 1**: Scrivi un programma che chiede all'utente due numeri, li converte in float e ne calcola la media.\n",
    "\n",
    "   ```python\n",
    "   # Scrivi il tuo codice qui\n",
    "   ```\n",
    "\n",
    "2. **Esercizio 2**: Dato il seguente dizionario, converti le chiavi in una lista e stampala.\n",
    "\n",
    "   ```python\n",
    "   studente = {\"nome\": \"Luca\", \"età\": 21, \"corso\": \"Informatica\"}\n",
    "   # Scrivi il tuo codice qui\n",
    "   ```\n",
    "\n",
    "3. **Esercizio 3**: Prendi una lista di numeri come input (esempio: \"1,2,3,4\"), separali e convertili in una lista di interi.\n",
    "\n",
    "   ```python\n",
    "   # Scrivi il tuo codice qui\n",
    "   ```"
   ]
  },
  {
   "cell_type": "markdown",
   "id": "f10cc499",
   "metadata": {},
   "source": [
    "## **Buone Pratiche e Consigli**\n",
    "\n",
    "- **Validare sempre l'input**: Prima di convertire un input, assicurati che sia nel formato corretto per evitare errori di runtime.\n",
    "\n",
    "  ```python\n",
    "  valore = input(\"Inserisci un numero: \")\n",
    "  if valore.isdigit():\n",
    "      numero = int(valore)\n",
    "  else:\n",
    "      print(\"Per favore, inserisci un numero valido.\")\n",
    "  ```\n",
    "\n",
    "- **Attenzione alle conversioni pericolose**: Convertire un float in un intero tronca la parte decimale senza arrotondare. Utilizza `round()` se necessario.\n",
    "\n",
    "  ```python\n",
    "  numero = 5.7\n",
    "  intero = int(numero)       # Output: 5\n",
    "  arrotondato = round(numero)  # Output: 6\n",
    "  ```\n",
    "\n",
    "- **Comprendere il contesto**: Non tutte le conversioni hanno senso in ogni contesto. Ad esempio, convertire una stringa non numerica in un intero genererà un errore.\n",
    "\n",
    "- **Utilizzare le eccezioni per gestire errori**: Puoi usare `try...except` per gestire conversioni potenzialmente problematiche.\n",
    "\n",
    "  ```python\n",
    "  try:\n",
    "      numero = int(input(\"Inserisci un numero: \"))\n",
    "  except ValueError:\n",
    "      print(\"Input non valido. Per favore, inserisci un numero intero.\")\n",
    "  ```"
   ]
  },
  {
   "cell_type": "markdown",
   "id": "3cce969b",
   "metadata": {},
   "source": [
    "## **Conclusione**\n",
    "\n",
    "La comprensione del casting e della conversione di tipi è fondamentale per scrivere codice Python efficace e privo di errori. Saper convertire correttamente i dati ti permette di manipolarli secondo le necessità del tuo programma, garantendo al contempo la robustezza del tuo codice."
   ]
  },
  {
   "cell_type": "markdown",
   "id": "5e95ee20",
   "metadata": {},
   "source": [
    "## Risorse Aggiuntive\n",
    "\n",
    "- **Documentazione Ufficiale Python**: [Standard Types](https://docs.python.org/3/library/stdtypes.html)\n",
    "- **Libro Consigliato**: [Python Crash Course di Eric Matthes](https://www.amazon.com/Python-Crash-Course-2nd-Edition/dp/1593279280)\n",
    "- **Video Tutorial**: [Type casting in Python is easy](https://www.youtube.com/watch?v=9Os0o3wzS_I)"
   ]
  }
 ],
 "metadata": {
  "kernelspec": {
   "display_name": "Python 3 (ipykernel)",
   "language": "python",
   "name": "python3"
  },
  "language_info": {
   "codemirror_mode": {
    "name": "ipython",
    "version": 3
   },
   "file_extension": ".py",
   "mimetype": "text/x-python",
   "name": "python",
   "nbconvert_exporter": "python",
   "pygments_lexer": "ipython3",
   "version": "3.10.9"
  }
 },
 "nbformat": 4,
 "nbformat_minor": 5
}
