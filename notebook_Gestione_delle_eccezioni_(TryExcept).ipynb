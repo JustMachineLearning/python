{
 "cells": [
  {
   "cell_type": "markdown",
   "id": "2155261c",
   "metadata": {},
   "source": [
    "# **Gestione delle Eccezioni (Try...Except) in Python**\n",
    "\n",
    "## **Obiettivi della Lezione**\n",
    "\n",
    "Al termine di questa lezione, sarai in grado di:\n",
    "\n",
    "- Comprendere il concetto di eccezioni e perché sono importanti nella programmazione.\n",
    "- Utilizzare le strutture `try`, `except`, `else` e `finally` per gestire le eccezioni in Python.\n",
    "- Identificare e gestire diverse tipologie di eccezioni.\n",
    "- Migliorare la robustezza e l'affidabilità del tuo codice attraverso una corretta gestione degli errori."
   ]
  },
  {
   "cell_type": "markdown",
   "id": "58617430",
   "metadata": {},
   "source": [
    "## **Introduzione**\n",
    "\n",
    "Nel corso dello sviluppo di un programma, possono verificarsi situazioni inattese che interrompono il normale flusso di esecuzione. Questi eventi, noti come **eccezioni**, possono derivare da errori di programmazione, input non validi o problemi esterni come la mancanza di connessione a una risorsa. La gestione delle eccezioni è fondamentale per creare applicazioni robuste e affidabili, in grado di gestire gli errori in modo elegante senza arrestarsi improvvisamente."
   ]
  },
  {
   "cell_type": "markdown",
   "id": "98824260",
   "metadata": {},
   "source": [
    "## **Spiegazione Teorica**\n",
    "\n",
    "### **Che cos'è un'Eccezione?**\n",
    "\n",
    "Un'eccezione è un evento anomalo che si verifica durante l'esecuzione di un programma e interrompe il normale flusso dell'applicazione. In Python, quando si verifica un errore, il linguaggio genera (o \"solleva\") un'eccezione.\n",
    "\n",
    "### **Struttura Base di Try...Except**\n",
    "\n",
    "La gestione delle eccezioni in Python avviene principalmente attraverso le parole chiave `try` e `except`. La sintassi base è la seguente:\n"
   ]
  },
  {
   "cell_type": "markdown",
   "id": "a7622166",
   "metadata": {},
   "source": [
    "```python\n",
    "try:\n",
    "    # Codice che potrebbe generare un'eccezione\n",
    "except NomeEccezione:\n",
    "    # Codice da eseguire se si verifica l'eccezione\n",
    "```    "
   ]
  },
  {
   "cell_type": "markdown",
   "id": "d6be7611",
   "metadata": {},
   "source": [
    "\n",
    "- **`try`**: contiene il blocco di codice che potrebbe causare un'eccezione.\n",
    "- **`except`**: definisce il blocco di codice da eseguire se si verifica l'eccezione specificata.\n",
    "\n",
    "### **Gestione di Eccezioni Specifiche**\n",
    "\n",
    "È possibile gestire eccezioni specifiche per avere un controllo più preciso sugli errori:\n"
   ]
  },
  {
   "cell_type": "markdown",
   "id": "4862f19f",
   "metadata": {},
   "source": [
    "```python\n",
    "try:\n",
    "    # Codice rischioso\n",
    "except ZeroDivisionError:\n",
    "    # Gestione specifica per la divisione per zero\n",
    "except ValueError:\n",
    "    # Gestione specifica per errori di valore\n",
    "```    "
   ]
  },
  {
   "cell_type": "markdown",
   "id": "ea06db67",
   "metadata": {},
   "source": [
    "\n",
    "### **Blocco Else**\n",
    "\n",
    "Il blocco `else` viene eseguito se **non** si verifica alcuna eccezione:\n"
   ]
  },
  {
   "cell_type": "markdown",
   "id": "e5b15c6b",
   "metadata": {},
   "source": [
    "```python\n",
    "try:\n",
    "    # Codice rischioso\n",
    "except SomeException:\n",
    "    # Gestione dell'eccezione\n",
    "else:\n",
    "    # Codice da eseguire se non si verifica alcuna eccezione\n",
    "```    "
   ]
  },
  {
   "cell_type": "markdown",
   "id": "ffa21520",
   "metadata": {},
   "source": [
    "\n",
    "### **Blocco Finally**\n",
    "\n",
    "Il blocco `finally` viene eseguito **sempre**, indipendentemente dal verificarsi o meno di un'eccezione:\n"
   ]
  },
  {
   "cell_type": "markdown",
   "id": "13423686",
   "metadata": {},
   "source": [
    "```python\n",
    "try:\n",
    "    # Codice rischioso\n",
    "except SomeException:\n",
    "    # Gestione dell'eccezione\n",
    "finally:\n",
    "    # Codice che viene sempre eseguito\n",
    "```    "
   ]
  },
  {
   "cell_type": "markdown",
   "id": "8cf1e774",
   "metadata": {},
   "source": [
    "## **Esempi Pratici di Codice**\n",
    "\n",
    "### **Esempio 1: Gestione di una Divisione per Zero**\n"
   ]
  },
  {
   "cell_type": "code",
   "execution_count": 6,
   "id": "02743b57",
   "metadata": {},
   "outputs": [
    {
     "name": "stdout",
     "output_type": "stream",
     "text": [
      "Inserisci un numero: 0\n",
      "Errore: Divisione per zero non consentita.\n"
     ]
    }
   ],
   "source": [
    "try:\n",
    "    numero = int(input(\"Inserisci un numero: \"))\n",
    "    risultato = 10 / numero\n",
    "    print(f\"Il risultato è {risultato}\")\n",
    "except ZeroDivisionError:\n",
    "    print(\"Errore: Divisione per zero non consentita.\")"
   ]
  },
  {
   "cell_type": "markdown",
   "id": "c076fcb5",
   "metadata": {},
   "source": [
    "\n",
    "**Spiegazione:**\n",
    "\n",
    "- Il programma chiede all'utente di inserire un numero.\n",
    "- Tenta di dividere 10 per il numero inserito.\n",
    "- Se l'utente inserisce `0`, viene sollevata un'eccezione `ZeroDivisionError`.\n",
    "- L'eccezione viene catturata e gestita nel blocco `except`, evitando che il programma si arresti.\n",
    "\n",
    "### **Esempio 2: Gestione di Più Eccezioni**\n"
   ]
  },
  {
   "cell_type": "code",
   "execution_count": 7,
   "id": "26c98ee7",
   "metadata": {},
   "outputs": [
    {
     "name": "stdout",
     "output_type": "stream",
     "text": [
      "Inserisci l'indice dell'elemento che vuoi visualizzare: 8\n",
      "Errore: Indice fuori dal range della lista.\n"
     ]
    }
   ],
   "source": [
    "try:\n",
    "    lista = [1, 2, 3]\n",
    "    indice = int(input(\"Inserisci l'indice dell'elemento che vuoi visualizzare: \"))\n",
    "    print(f\"Elemento: {lista[indice]}\")\n",
    "except IndexError:\n",
    "    print(\"Errore: Indice fuori dal range della lista.\")\n",
    "except ValueError:\n",
    "    print(\"Errore: Devi inserire un numero intero.\")"
   ]
  },
  {
   "cell_type": "markdown",
   "id": "f80c1eed",
   "metadata": {},
   "source": [
    "\n",
    "**Spiegazione:**\n",
    "\n",
    "- Il programma tenta di accedere a un elemento di una lista basato sull'indice fornito dall'utente.\n",
    "- Se l'utente inserisce un valore non numerico, viene sollevata un'eccezione `ValueError`.\n",
    "- Se l'indice è fuori dai limiti della lista, viene sollevata un'eccezione `IndexError`.\n",
    "- Entrambe le eccezioni vengono gestite separatamente per fornire messaggi di errore specifici.\n",
    "\n",
    "### **Esempio 3: Uso di Else e Finally**\n"
   ]
  },
  {
   "cell_type": "code",
   "execution_count": 8,
   "id": "cb63e9ea",
   "metadata": {},
   "outputs": [
    {
     "name": "stdout",
     "output_type": "stream",
     "text": [
      "Errore: Il file non esiste.\n"
     ]
    }
   ],
   "source": [
    "try:\n",
    "    file = open(\"dati.txt\", \"r\")\n",
    "    contenuto = file.read()\n",
    "except FileNotFoundError:\n",
    "    print(\"Errore: Il file non esiste.\")\n",
    "else:\n",
    "    print(\"Il file è stato letto con successo.\")\n",
    "    print(contenuto)\n",
    "finally:\n",
    "    if 'file' in locals():\n",
    "        file.close()\n",
    "        print(\"Il file è stato chiuso.\")"
   ]
  },
  {
   "cell_type": "markdown",
   "id": "78a77b48",
   "metadata": {},
   "source": [
    "\n",
    "**Spiegazione:**\n",
    "\n",
    "- Il programma tenta di aprire e leggere un file.\n",
    "- Se il file non esiste, viene sollevata un'eccezione `FileNotFoundError`.\n",
    "- Se non si verifica alcuna eccezione, il blocco `else` viene eseguito.\n",
    "- Il blocco `finally` si assicura che il file venga chiuso indipendentemente dal successo dell'operazione."
   ]
  },
  {
   "cell_type": "markdown",
   "id": "3e3dbada",
   "metadata": {},
   "source": [
    "## **Esercizi Interattivi**\n",
    "\n",
    "### **Esercizio 1: Calcolatrice con Gestione delle Eccezioni**\n",
    "\n",
    "Scrivi un programma che chieda all'utente due numeri e l'operazione da eseguire (+, -, *, /). Utilizza la gestione delle eccezioni per gestire:\n",
    "\n",
    "- Divisione per zero.\n",
    "- Input non numerico.\n",
    "- Operazione non valida.\n",
    "\n",
    "**Soluzione:**\n"
   ]
  },
  {
   "cell_type": "code",
   "execution_count": 10,
   "id": "4ce211f7",
   "metadata": {},
   "outputs": [
    {
     "name": "stdout",
     "output_type": "stream",
     "text": [
      "Inserisci il primo numero: 4\n",
      "Inserisci il secondo numero: a\n",
      "Errore: could not convert string to float: 'a'\n"
     ]
    }
   ],
   "source": [
    "try:\n",
    "    num1 = float(input(\"Inserisci il primo numero: \"))\n",
    "    num2 = float(input(\"Inserisci il secondo numero: \"))\n",
    "    operazione = input(\"Inserisci l'operazione (+, -, *, /): \")\n",
    "\n",
    "    if operazione == '+':\n",
    "        risultato = num1 + num2\n",
    "    elif operazione == '-':\n",
    "        risultato = num1 - num2\n",
    "    elif operazione == '*':\n",
    "        risultato = num1 * num2\n",
    "    elif operazione == '/':\n",
    "        risultato = num1 / num2\n",
    "    else:\n",
    "        raise ValueError(\"Operazione non valida.\")\n",
    "\n",
    "    print(f\"Risultato: {risultato}\")\n",
    "except ZeroDivisionError:\n",
    "    print(\"Errore: Divisione per zero non consentita.\")\n",
    "except ValueError as e:\n",
    "    print(f\"Errore: {e}\")"
   ]
  },
  {
   "cell_type": "markdown",
   "id": "5d5a790b",
   "metadata": {},
   "source": [
    "\n",
    "### **Esercizio 2: Lettura di un Numero da File**\n",
    "\n",
    "Crea un programma che legga un numero da un file chiamato `numero.txt` e calcoli la radice quadrata. Gestisci le possibili eccezioni che possono verificarsi.\n",
    "\n",
    "**Suggerimenti:**\n",
    "\n",
    "- Gestisci l'assenza del file.\n",
    "- Gestisci se il contenuto non è un numero.\n",
    "- Gestisci se il numero è negativo (non puoi calcolare la radice quadrata di un numero negativo senza numeri complessi)."
   ]
  },
  {
   "cell_type": "markdown",
   "id": "9a6ab18c",
   "metadata": {},
   "source": [
    "## **Buone Pratiche e Consigli**\n",
    "\n",
    "- **Sii Specifico nelle Eccezioni:** Gestisci eccezioni specifiche invece di usare un generico `except Exception`. Questo rende il codice più leggibile e facilita il debug.\n",
    "\n",
    "- **Non Nascondere gli Errori:** Evita di lasciare un blocco `except` vuoto o con un semplice `pass`. Fornisci sempre un feedback utile o gestisci l'eccezione in modo appropriato.\n",
    "\n",
    "- **Utilizza il Blocco Finally per il Clean-up:** Se il tuo codice apre risorse (file, connessioni di rete, ecc.), assicurati di rilasciarle nel blocco `finally`.\n",
    "\n",
    "- **Non Abusare delle Eccezioni:** Le eccezioni non dovrebbero sostituire il flusso logico normale del programma. Utilizzale per gestire situazioni realmente eccezionali.\n",
    "\n",
    "- **Logging degli Errori:** Considera l'utilizzo del modulo `logging` per registrare le eccezioni, specialmente in applicazioni più grandi."
   ]
  },
  {
   "cell_type": "markdown",
   "id": "2a30137a",
   "metadata": {},
   "source": [
    "## **Conclusione**\n",
    "\n",
    "La gestione delle eccezioni è un elemento cruciale nello sviluppo di software robusti. Python offre strumenti potenti e flessibili per catturare e gestire gli errori, permettendoti di controllare il comportamento del tuo programma in situazioni anomale. Applicando le buone pratiche viste in questa lezione, potrai scrivere codice più affidabile e mantenibile."
   ]
  },
  {
   "cell_type": "markdown",
   "id": "ea7a7574",
   "metadata": {},
   "source": [
    "## **Risorse Aggiuntive**\n",
    "\n",
    "- **Documentazione Ufficiale Python**: [Handling Exceptions](https://docs.python.org/3/tutorial/errors.html#handling-exceptions)\n",
    "- **Libro Consigliato**: [Python Crash Course di Eric Matthes](https://www.amazon.com/Python-Crash-Course-2nd-Edition/dp/1593279280)\n",
    "- **Video Tutorial**: [Using Try/Except Blocks for Error Handling](https://youtu.be/NIWwJbo-9_8?si=A67uKwxQTk_Rllm5)\n"
   ]
  }
 ],
 "metadata": {
  "kernelspec": {
   "display_name": "Python 3 (ipykernel)",
   "language": "python",
   "name": "python3"
  },
  "language_info": {
   "codemirror_mode": {
    "name": "ipython",
    "version": 3
   },
   "file_extension": ".py",
   "mimetype": "text/x-python",
   "name": "python",
   "nbconvert_exporter": "python",
   "pygments_lexer": "ipython3",
   "version": "3.10.9"
  }
 },
 "nbformat": 4,
 "nbformat_minor": 5
}
