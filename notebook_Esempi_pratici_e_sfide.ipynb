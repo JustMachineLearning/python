{
 "cells": [
  {
   "cell_type": "markdown",
   "id": "883a88aa",
   "metadata": {},
   "source": [
    "# Esempi Pratici e Sfide\n",
    "\n",
    "## **Obiettivi della Lezione**\n",
    "\n",
    "- Applicare le conoscenze acquisite nei moduli precedenti per risolvere problemi pratici.\n",
    "- Sviluppare piccoli progetti utilizzando Python.\n",
    "- Affrontare e superare sfide di programmazione reali.\n",
    "- Migliorare le competenze di problem solving attraverso la pratica."
   ]
  },
  {
   "cell_type": "markdown",
   "id": "4f73764a",
   "metadata": {},
   "source": [
    "## **Introduzione**\n",
    "\n",
    "Benvenuti alla lezione conclusiva del nostro corso di Python! Finora abbiamo esplorato una vasta gamma di concetti, dalle basi della sintassi di Python alla programmazione orientata agli oggetti, fino alle librerie e agli strumenti avanzati. Ora è il momento di mettere in pratica tutto ciò che abbiamo imparato.\n",
    "\n",
    "In questa lezione, affronteremo una serie di esempi pratici e sfide che vi permetteranno di consolidare le vostre competenze e di sperimentare la programmazione Python in contesti reali. L'obiettivo è di aiutarvi a sviluppare la capacità di risolvere problemi utilizzando Python e di prepararvi per progetti più complessi in futuro."
   ]
  },
  {
   "cell_type": "markdown",
   "id": "9992094d",
   "metadata": {},
   "source": [
    "## **Spiegazione Teorica**\n",
    "\n",
    "La teoria è fondamentale, ma la pratica è ciò che trasforma la conoscenza in competenza. In questa sezione, presenteremo alcune linee guida su come affrontare problemi pratici utilizzando Python:\n",
    "\n",
    "- **Comprendere il problema**: Prima di iniziare a scrivere codice, assicuratevi di aver compreso appieno il problema. Identificate gli input, gli output attesi e le restrizioni.\n",
    "\n",
    "- **Pianificare la soluzione**: Elaborate un piano o un algoritmo che descriva i passaggi necessari per risolvere il problema. Questo vi aiuterà a organizzare il vostro codice in modo logico.\n",
    "\n",
    "- **Scegliere gli strumenti giusti**: Python offre una vasta gamma di funzionalità e librerie. Identificate quali strumenti sono più adatti per il vostro problema.\n",
    "\n",
    "- **Testare e debug**: Testate il vostro codice con diversi input per assicurarvi che funzioni correttamente. Se incontrate errori, usate strumenti di debug per individuare e risolvere i problemi."
   ]
  },
  {
   "cell_type": "markdown",
   "id": "e1b34b47",
   "metadata": {},
   "source": [
    "## **Esempi Pratici di Codice**\n",
    "\n",
    "Di seguito, presenteremo alcuni esempi pratici che coprono vari aspetti della programmazione in Python.\n",
    "\n",
    "### **Esempio 1: Calcolatore di Indice di Massa Corporea (BMI)**\n",
    "\n",
    "**Descrizione**: Creare un programma che calcoli l'Indice di Massa Corporea di una persona e fornisca una valutazione basata sul risultato.\n",
    "\n",
    "**Codice**:\n"
   ]
  },
  {
   "cell_type": "code",
   "execution_count": 1,
   "id": "206eb7bc",
   "metadata": {},
   "outputs": [
    {
     "name": "stdout",
     "output_type": "stream",
     "text": [
      "Inserisci il tuo peso in kg: 50\n",
      "Inserisci la tua altezza in metri: 1.80\n",
      "Il tuo BMI è 15.43. Categoria: Sottopeso\n"
     ]
    }
   ],
   "source": [
    "def calcola_bmi(peso, altezza):\n",
    "    bmi = peso / (altezza ** 2)\n",
    "    return bmi\n",
    "\n",
    "def valuta_bmi(bmi):\n",
    "    if bmi < 18.5:\n",
    "        return \"Sottopeso\"\n",
    "    elif 18.5 <= bmi < 25:\n",
    "        return \"Normopeso\"\n",
    "    elif 25 <= bmi < 30:\n",
    "        return \"Sovrappeso\"\n",
    "    else:\n",
    "        return \"Obesità\"\n",
    "\n",
    "# Input utente\n",
    "try:\n",
    "    peso = float(input(\"Inserisci il tuo peso in kg: \"))\n",
    "    altezza = float(input(\"Inserisci la tua altezza in metri: \"))\n",
    "    bmi = calcola_bmi(peso, altezza)\n",
    "    valutazione = valuta_bmi(bmi)\n",
    "    print(f\"Il tuo BMI è {bmi:.2f}. Categoria: {valutazione}\")\n",
    "except ValueError:\n",
    "    print(\"Per favore, inserisci valori numerici validi.\")"
   ]
  },
  {
   "cell_type": "markdown",
   "id": "ba0deb7b",
   "metadata": {},
   "source": [
    "\n",
    "**Spiegazione**:\n",
    "\n",
    "- **Funzione `calcola_bmi`**: Calcola il BMI utilizzando la formula standard.\n",
    "- **Funzione `valuta_bmi`**: Valuta il BMI e restituisce una categoria.\n",
    "- **Gestione delle eccezioni**: Utilizza un blocco `try...except` per gestire input non validi."
   ]
  },
  {
   "cell_type": "markdown",
   "id": "9fe1b640",
   "metadata": {},
   "source": [
    "### **Esempio 2: Generatore di Password Casuali**\n",
    "\n",
    "**Descrizione**: Scrivere un programma che generi una password casuale di una lunghezza specificata dall'utente, includendo lettere, numeri e simboli.\n",
    "\n",
    "**Codice**:\n"
   ]
  },
  {
   "cell_type": "code",
   "execution_count": 2,
   "id": "7a415427",
   "metadata": {},
   "outputs": [
    {
     "name": "stdout",
     "output_type": "stream",
     "text": [
      "Inserisci la lunghezza desiderata per la password: 12\n",
      "La tua password generata è: n}}1h5$aq=j]\n"
     ]
    }
   ],
   "source": [
    "import random\n",
    "import string\n",
    "\n",
    "def genera_password(lunghezza):\n",
    "    caratteri = string.ascii_letters + string.digits + string.punctuation\n",
    "    password = ''.join(random.choice(caratteri) for _ in range(lunghezza))\n",
    "    return password\n",
    "\n",
    "try:\n",
    "    lunghezza = int(input(\"Inserisci la lunghezza desiderata per la password: \"))\n",
    "    password = genera_password(lunghezza)\n",
    "    print(f\"La tua password generata è: {password}\")\n",
    "except ValueError:\n",
    "    print(\"Per favore, inserisci un numero intero valido.\")"
   ]
  },
  {
   "cell_type": "markdown",
   "id": "44bf26ec",
   "metadata": {},
   "source": [
    "\n",
    "**Spiegazione**:\n",
    "\n",
    "- **Modulo `random`**: Utilizzato per selezionare caratteri casuali.\n",
    "- **Modulo `string`**: Fornisce insiemi di caratteri predefiniti (lettere, cifre, punteggiatura).\n",
    "- **Comprehension**: Genera la password in modo efficiente utilizzando una comprehension di lista."
   ]
  },
  {
   "cell_type": "markdown",
   "id": "4f847077",
   "metadata": {},
   "source": [
    "## **Esercizi Interattivi**\n",
    "\n",
    "Ora è il vostro turno! Provate a risolvere le seguenti sfide.\n",
    "\n",
    "### **Esercizio 1: Contare le Occorrenze di Parole in un Testo**\n",
    "\n",
    "**Descrizione**: Scrivere un programma che legga un testo fornito dall'utente e conti quante volte appare ogni parola.\n",
    "\n",
    "**Suggerimenti**:\n",
    "\n",
    "- Utilizzare il metodo `split()` per dividere il testo in parole.\n",
    "- Usare un dizionario per tenere traccia delle occorrenze.\n",
    "- Ignorare la differenza tra maiuscole e minuscole (convertire tutto in minuscolo).\n",
    "\n",
    "**Esempio di Input**:\n",
    "\n",
    "```\n",
    "Inserisci un testo: \"Ciao mondo ciao Python mondo\"\n",
    "```\n",
    "\n",
    "**Output Atteso**:\n",
    "\n",
    "```\n",
    "{'ciao': 2, 'mondo': 2, 'python': 1}\n",
    "```\n",
    "\n",
    "### **Esercizio 2: Verifica di Numeri Primi**\n",
    "\n",
    "**Descrizione**: Scrivere una funzione che determini se un numero intero fornito dall'utente è un numero primo.\n",
    "\n",
    "**Suggerimenti**:\n",
    "\n",
    "- Un numero primo è divisibile solo per 1 e per sé stesso.\n",
    "- Iterare attraverso i numeri da 2 fino alla radice quadrata del numero per verificare la divisibilità.\n",
    "\n",
    "**Esempio di Input**:\n",
    "\n",
    "```\n",
    "Inserisci un numero intero: 29\n",
    "```\n",
    "\n",
    "**Output Atteso**:\n",
    "\n",
    "```\n",
    "Il numero 29 è un numero primo.\n",
    "```"
   ]
  },
  {
   "cell_type": "markdown",
   "id": "b1943080",
   "metadata": {},
   "source": [
    "## **Buone Pratiche e Consigli**\n",
    "\n",
    "- **Leggibilità del Codice**: Scrivere codice che sia facile da leggere e comprendere. Utilizzare nomi di variabili significativi e commenti dove necessario.\n",
    "- **Modularità**: Suddividere il codice in funzioni e moduli per migliorare l'organizzazione e la riusabilità.\n",
    "- **Gestione degli Errori**: Implementare la gestione delle eccezioni per rendere il programma più robusto.\n",
    "- **Testare il Codice**: Eseguire test con diversi input per assicurarsi che il programma gestisca correttamente vari casi.\n",
    "- **Documentazione**: Aggiungete docstring alle vostre funzioni per spiegare cosa fanno, i loro parametri e il valore di ritorno."
   ]
  },
  {
   "cell_type": "markdown",
   "id": "92b2b6c6",
   "metadata": {},
   "source": [
    "## **Conclusione**\n",
    "\n",
    "Attraverso questi esempi pratici e sfide, avete avuto l'opportunità di applicare le competenze acquisite durante il corso. La pratica è essenziale per diventare programmatori esperti, e speriamo che questi esercizi vi abbiano aiutato a consolidare la vostra comprensione di Python.\n",
    "\n",
    "Ricordate che la risoluzione di problemi reali richiede pazienza e perseveranza. Continuate a esercitarvi, affrontate nuove sfide e non esitate a esplorare ulteriormente il vasto ecosistema di Python."
   ]
  },
  {
   "cell_type": "markdown",
   "id": "8fc1ca2a",
   "metadata": {},
   "source": [
    "### **Risorse Aggiuntive**\n",
    "\n",
    "\n",
    "- **Documentazione Ufficiale Python**: [Operatori](https://docs.python.org/3)\n",
    "- **Libro Consigliato**: [Python Crash Course di Eric Matthes](https://www.amazon.com/Python-Crash-Course-2nd-Edition/dp/1593279280)"
   ]
  }
 ],
 "metadata": {
  "kernelspec": {
   "display_name": "Python 3 (ipykernel)",
   "language": "python",
   "name": "python3"
  },
  "language_info": {
   "codemirror_mode": {
    "name": "ipython",
    "version": 3
   },
   "file_extension": ".py",
   "mimetype": "text/x-python",
   "name": "python",
   "nbconvert_exporter": "python",
   "pygments_lexer": "ipython3",
   "version": "3.10.9"
  }
 },
 "nbformat": 4,
 "nbformat_minor": 5
}
