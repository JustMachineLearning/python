{
 "cells": [
  {
   "cell_type": "markdown",
   "id": "f0fcd8c7",
   "metadata": {},
   "source": [
    "# **Tuple**"
   ]
  },
  {
   "cell_type": "markdown",
   "id": "800aa944",
   "metadata": {},
   "source": [
    "## **Obiettivi della Lezione**\n",
    "\n",
    "Al termine di questa lezione, sarai in grado di:\n",
    "\n",
    "- Comprendere cosa sono le tuple in Python e come differiscono dalle liste.\n",
    "- Creare e utilizzare tuple nei tuoi programmi Python.\n",
    "- Accedere agli elementi di una tupla e utilizzare lo slicing.\n",
    "- Conoscere le operazioni fondamentali che possono essere eseguite sulle tuple.\n",
    "- Comprendere l'immutabilità delle tuple e le sue implicazioni.\n",
    "- Applicare le tuple in contesti pratici e riconoscere i casi d'uso più comuni."
   ]
  },
  {
   "cell_type": "markdown",
   "id": "687367fa",
   "metadata": {},
   "source": [
    "## **Introduzione**\n",
    "\n",
    "Le tuple sono una delle strutture dati fondamentali in Python. Simili alle liste, le tuple consentono di memorizzare una sequenza ordinata di elementi. Tuttavia, a differenza delle liste, le tuple sono **immutabili**, il che significa che, una volta create, i loro elementi non possono essere modificati. Questa caratteristica le rende particolarmente utili quando si desidera garantire che i dati rimangano costanti nel tempo. In questa lezione, esploreremo le tuple in dettaglio, scoprendo come e quando utilizzarle efficacemente."
   ]
  },
  {
   "cell_type": "markdown",
   "id": "fc7e53d7",
   "metadata": {},
   "source": [
    "## **Spiegazione Teorica**\n",
    "\n",
    "### **Cosa sono le Tuples?**\n",
    "\n",
    "Una **tupla** è una collezione ordinata e immutabile di elementi. Può contenere elementi di qualsiasi tipo di dato: numeri, stringhe, liste, altre tuple, ecc. Le tuple sono definite utilizzando le **parentesi tonde `()`** e gli elementi sono separati da **virgole**.\n",
    "\n",
    "**Sintassi di base:**\n"
   ]
  },
  {
   "cell_type": "markdown",
   "id": "0ddca7fa",
   "metadata": {},
   "source": [
    "```python\n",
    "tupla = (elemento1, elemento2, elemento3, ...)\n",
    "```"
   ]
  },
  {
   "cell_type": "markdown",
   "id": "cfad4a33",
   "metadata": {},
   "source": [
    "\n",
    "**Esempi:**\n"
   ]
  },
  {
   "cell_type": "code",
   "execution_count": 3,
   "id": "1cda6b96",
   "metadata": {},
   "outputs": [],
   "source": [
    "tupla_vuota = ()\n",
    "tupla_numeri = (1, 2, 3)\n",
    "tupla_mista = (1, \"due\", 3.0)"
   ]
  },
  {
   "cell_type": "markdown",
   "id": "579445f2",
   "metadata": {},
   "source": [
    "\n",
    "### **Caratteristiche Principali delle Tuples**\n",
    "\n",
    "- **Ordinate**: Gli elementi hanno un ordine definito e questo ordine non cambia.\n",
    "- **Immutabili**: Una volta creata, non è possibile modificare, aggiungere o rimuovere elementi.\n",
    "- **Consentono duplicati**: Possono contenere elementi duplicati.\n",
    "\n",
    "### **Creare una Tupla**\n",
    "\n",
    "Anche se le parentesi tonde sono il modo più comune per definire una tupla, in realtà è la virgola a definire la tupla, non le parentesi. Le parentesi servono principalmente per rendere il codice più leggibile o per evitare ambiguità.\n",
    "\n",
    "**Esempi senza parentesi:**\n"
   ]
  },
  {
   "cell_type": "code",
   "execution_count": 4,
   "id": "8316ffe3",
   "metadata": {},
   "outputs": [
    {
     "name": "stdout",
     "output_type": "stream",
     "text": [
      "(1, 2, 3)\n"
     ]
    }
   ],
   "source": [
    "tupla = 1, 2, 3\n",
    "print(tupla)  # Output: (1, 2, 3)"
   ]
  },
  {
   "cell_type": "markdown",
   "id": "50cea38e",
   "metadata": {},
   "source": [
    "\n",
    "### **Tupla con un Solo Elemento**\n",
    "\n",
    "Per creare una tupla con un solo elemento, è necessario aggiungere una virgola dopo l'elemento. Altrimenti, Python non riconoscerà l'oggetto come tupla.\n",
    "\n",
    "**Esempio:**\n"
   ]
  },
  {
   "cell_type": "code",
   "execution_count": 5,
   "id": "4e5e18b0",
   "metadata": {},
   "outputs": [
    {
     "name": "stdout",
     "output_type": "stream",
     "text": [
      "<class 'tuple'>\n",
      "<class 'int'>\n"
     ]
    }
   ],
   "source": [
    "tupla_singola = (5,)\n",
    "print(type(tupla_singola))  # Output: <class 'tuple'>\n",
    "\n",
    "non_tupla = (5)\n",
    "print(type(non_tupla))      # Output: <class 'int'>"
   ]
  },
  {
   "cell_type": "markdown",
   "id": "630321e3",
   "metadata": {},
   "source": [
    "## **Esempi Pratici di Codice**\n",
    "\n",
    "### **1. Creazione e Accesso agli Elementi**\n"
   ]
  },
  {
   "cell_type": "code",
   "execution_count": 6,
   "id": "5bbbe3e5",
   "metadata": {},
   "outputs": [
    {
     "name": "stdout",
     "output_type": "stream",
     "text": [
      "mela\n",
      "banana\n",
      "ciliegia\n"
     ]
    }
   ],
   "source": [
    "# Creazione di una tupla\n",
    "frutti = ('mela', 'banana', 'ciliegia')\n",
    "\n",
    "# Accesso agli elementi tramite indice\n",
    "print(frutti[0])  # Output: 'mela'\n",
    "print(frutti[1])  # Output: 'banana'\n",
    "print(frutti[2])  # Output: 'ciliegia'"
   ]
  },
  {
   "cell_type": "markdown",
   "id": "2bcbde41",
   "metadata": {},
   "source": [
    "\n",
    "### **2. Immutabilità delle Tuples**\n"
   ]
  },
  {
   "cell_type": "code",
   "execution_count": 11,
   "id": "6e67f1ab",
   "metadata": {},
   "outputs": [],
   "source": [
    "# Tentativo di modifica di un elemento\n",
    "numeri = (1, 2, 3)\n",
    "# numeri[0] = 10  # Questo genera un TypeError\n",
    "\n",
    "# Output del TypeError:\n",
    "# TypeError: 'tuple' object does not support item assignment"
   ]
  },
  {
   "cell_type": "markdown",
   "id": "6aad0c9f",
   "metadata": {},
   "source": [
    "\n",
    "### **3. Operazioni con le Tuples**\n",
    "\n",
    "- **Concatenazione**\n"
   ]
  },
  {
   "cell_type": "code",
   "execution_count": 12,
   "id": "52ce5ed5",
   "metadata": {},
   "outputs": [
    {
     "name": "stdout",
     "output_type": "stream",
     "text": [
      "(1, 2, 3, 4, 5, 6)\n"
     ]
    }
   ],
   "source": [
    "tupla1 = (1, 2, 3)\n",
    "tupla2 = (4, 5, 6)\n",
    "tupla_concatenata = tupla1 + tupla2\n",
    "print(tupla_concatenata)  # Output: (1, 2, 3, 4, 5, 6)"
   ]
  },
  {
   "cell_type": "markdown",
   "id": "aa23d468",
   "metadata": {},
   "source": [
    "\n",
    "- **Ripetizione**\n"
   ]
  },
  {
   "cell_type": "code",
   "execution_count": 13,
   "id": "e03c7997",
   "metadata": {},
   "outputs": [
    {
     "name": "stdout",
     "output_type": "stream",
     "text": [
      "('Python', 'Python', 'Python')\n"
     ]
    }
   ],
   "source": [
    "tupla_replicata = ('Python',) * 3\n",
    "print(tupla_replicata)  # Output: ('Python', 'Python', 'Python')"
   ]
  },
  {
   "cell_type": "markdown",
   "id": "1f5e764b",
   "metadata": {},
   "source": [
    "\n",
    "- **Verifica dell'Appartenenza**\n"
   ]
  },
  {
   "cell_type": "code",
   "execution_count": 14,
   "id": "a1037330",
   "metadata": {},
   "outputs": [
    {
     "name": "stdout",
     "output_type": "stream",
     "text": [
      "True\n",
      "True\n"
     ]
    }
   ],
   "source": [
    "tupla = ('a', 'b', 'c')\n",
    "print('a' in tupla)       # Output: True\n",
    "print('d' not in tupla)   # Output: True"
   ]
  },
  {
   "cell_type": "markdown",
   "id": "e5bb46e5",
   "metadata": {},
   "source": [
    "\n",
    "### **4. Slicing delle Tuples**\n"
   ]
  },
  {
   "cell_type": "code",
   "execution_count": 15,
   "id": "72d8ce98",
   "metadata": {},
   "outputs": [
    {
     "name": "stdout",
     "output_type": "stream",
     "text": [
      "(1, 2, 3)\n",
      "(0, 1, 2)\n",
      "(0, 2, 4)\n"
     ]
    }
   ],
   "source": [
    "tupla = (0, 1, 2, 3, 4, 5)\n",
    "\n",
    "# Slicing [start:stop:step]\n",
    "print(tupla[1:4])    # Output: (1, 2, 3)\n",
    "print(tupla[:3])     # Output: (0, 1, 2)\n",
    "print(tupla[::2])    # Output: (0, 2, 4)"
   ]
  },
  {
   "cell_type": "markdown",
   "id": "d30188fd",
   "metadata": {},
   "source": [
    "\n",
    "### **5. Iterazione su una Tupla**\n"
   ]
  },
  {
   "cell_type": "code",
   "execution_count": 16,
   "id": "9238717f",
   "metadata": {},
   "outputs": [
    {
     "name": "stdout",
     "output_type": "stream",
     "text": [
      "rosso\n",
      "verde\n",
      "blu\n"
     ]
    }
   ],
   "source": [
    "tupla = ('rosso', 'verde', 'blu')\n",
    "for colore in tupla:\n",
    "    print(colore)\n",
    "# Output:\n",
    "# rosso\n",
    "# verde\n",
    "# blu"
   ]
  },
  {
   "cell_type": "markdown",
   "id": "6b3c82f2",
   "metadata": {},
   "source": [
    "\n",
    "### **6. Tuples Nidificate**\n"
   ]
  },
  {
   "cell_type": "code",
   "execution_count": 17,
   "id": "52932bdc",
   "metadata": {},
   "outputs": [
    {
     "name": "stdout",
     "output_type": "stream",
     "text": [
      "(2, 3)\n",
      "2\n"
     ]
    }
   ],
   "source": [
    "tupla_nidificata = (1, (2, 3), 4)\n",
    "print(tupla_nidificata[1])        # Output: (2, 3)\n",
    "print(tupla_nidificata[1][0])     # Output: 2"
   ]
  },
  {
   "cell_type": "markdown",
   "id": "402d3230",
   "metadata": {},
   "source": [
    "\n",
    "### **7. Uso delle Tuples come Chiavi di un Dizionario**\n"
   ]
  },
  {
   "cell_type": "code",
   "execution_count": 20,
   "id": "4252ea8e",
   "metadata": {},
   "outputs": [
    {
     "name": "stdout",
     "output_type": "stream",
     "text": [
      "{(10, 20): 'Il tesoro è qui'}\n"
     ]
    }
   ],
   "source": [
    "# Le tuple possono essere usate come chiavi perché sono immutabili\n",
    "coordinate = {}\n",
    "punto = (10, 20)\n",
    "coordinate[punto] = 'Il tesoro è qui'\n",
    "print(coordinate)  # Output: {(10, 20): \"Qui c'è un tesoro\"}"
   ]
  },
  {
   "cell_type": "markdown",
   "id": "a087288f",
   "metadata": {},
   "source": [
    "## **Esercizi Interattivi**\n",
    "\n",
    "### **Esercizio 1: Creare e Accedere agli Elementi**\n",
    "\n",
    "Crea una tupla chiamata `giorni_settimana` contenente i nomi dei giorni della settimana. Stampa il primo e l'ultimo giorno.\n",
    "\n",
    "<strong>Soluzione</strong>"
   ]
  },
  {
   "cell_type": "code",
   "execution_count": 21,
   "id": "863f2323",
   "metadata": {},
   "outputs": [
    {
     "name": "stdout",
     "output_type": "stream",
     "text": [
      "Lunedì\n",
      "Domenica\n"
     ]
    }
   ],
   "source": [
    "giorni_settimana = ('Lunedì', 'Martedì', 'Mercoledì', 'Giovedì', 'Venerdì', 'Sabato', 'Domenica')\n",
    "print(giorni_settimana[0])  # Output: 'Lunedì'\n",
    "print(giorni_settimana[-1]) # Output: 'Domenica'"
   ]
  },
  {
   "cell_type": "markdown",
   "id": "3fe180aa",
   "metadata": {},
   "source": [
    "</details>"
   ]
  },
  {
   "cell_type": "markdown",
   "id": "3377f884",
   "metadata": {},
   "source": [
    "### **Esercizio 2: Immutabilità delle Tuples**\n",
    "\n",
    "Prova a modificare il secondo elemento della tupla `giorni_settimana` sostituendolo con `'Funday'`. Cosa succede?\n",
    "\n",
    "<strong>Soluzione</strong>"
   ]
  },
  {
   "cell_type": "code",
   "execution_count": 22,
   "id": "f49b64d4",
   "metadata": {},
   "outputs": [],
   "source": [
    "# Tentativo di modifica\n",
    "# giorni_settimana[1] = 'Funday'  # Questo genera un TypeError\n",
    "\n",
    "# Output del TypeError:\n",
    "# TypeError: 'tuple' object does not support item assignment"
   ]
  },
  {
   "cell_type": "markdown",
   "id": "3a74710a",
   "metadata": {},
   "source": [
    "\n",
    "Le tuple sono immutabili, quindi non è possibile modificare i loro elementi dopo la creazione.\n",
    "</details>"
   ]
  },
  {
   "cell_type": "markdown",
   "id": "32dd08fa",
   "metadata": {},
   "source": [
    "### **Esercizio 3: Concatenazione e Slicing**\n",
    "\n",
    "Crea due tuple: `numeri_pari` contenente i numeri pari da 2 a 8 e `numeri_dispari` contenente i numeri dispari da 1 a 9. Unisci le due tuple e stampa una sottotupla contenente i numeri dal 4 al 7.\n",
    "\n",
    "<strong>Soluzione</strong>\n"
   ]
  },
  {
   "cell_type": "code",
   "execution_count": 23,
   "id": "da06667f",
   "metadata": {},
   "outputs": [
    {
     "name": "stdout",
     "output_type": "stream",
     "text": [
      "(2, 4, 6, 8, 1, 3, 5, 7, 9)\n",
      "(1, 2, 3, 4, 5, 6, 7, 8, 9)\n",
      "(4, 5, 6, 7)\n"
     ]
    }
   ],
   "source": [
    "numeri_pari = (2, 4, 6, 8)\n",
    "numeri_dispari = (1, 3, 5, 7, 9)\n",
    "numeri = numeri_pari + numeri_dispari\n",
    "print(numeri)  # Output: (2, 4, 6, 8, 1, 3, 5, 7, 9)\n",
    "\n",
    "# Ordinare la tupla per eseguire lo slicing accuratamente\n",
    "numeri_ordinati = tuple(sorted(numeri))\n",
    "print(numeri_ordinati)  # Output: (1, 2, 3, 4, 5, 6, 7, 8, 9)\n",
    "\n",
    "sottotupla = numeri_ordinati[3:7]\n",
    "print(sottotupla)  # Output: (4, 5, 6, 7)"
   ]
  },
  {
   "cell_type": "markdown",
   "id": "3cc3efa6",
   "metadata": {},
   "source": [
    "### **Esercizio 4: Verifica dell'Appartenenza**\n",
    "\n",
    "Verifica se il colore `'verde'` è presente nella tupla `colori = ('rosso', 'blu', 'giallo')`. Verifica anche se `'blu'` non è presente in `colori`.\n",
    "\n",
    "<strong>Soluzione</strong>"
   ]
  },
  {
   "cell_type": "code",
   "execution_count": 24,
   "id": "ce47b853",
   "metadata": {},
   "outputs": [
    {
     "name": "stdout",
     "output_type": "stream",
     "text": [
      "False\n",
      "False\n"
     ]
    }
   ],
   "source": [
    "colori = ('rosso', 'blu', 'giallo')\n",
    "print('verde' in colori)     # Output: False\n",
    "print('blu' not in colori)   # Output: False (perché 'blu' è presente)"
   ]
  },
  {
   "cell_type": "markdown",
   "id": "559fc0a4",
   "metadata": {},
   "source": [
    "\n",
    "Nota che `'blu' not in colori` restituisce `False` perché `'blu'` è presente nella tupla.\n",
    "</details>"
   ]
  },
  {
   "cell_type": "markdown",
   "id": "75896d04",
   "metadata": {},
   "source": [
    "## **Buone Pratiche e Consigli**\n",
    "\n",
    "- **Usa le Tuples per Dati Immutabili:** Quando hai una collezione di dati che non dovrebbero cambiare durante l'esecuzione del programma, le tuple sono la scelta ideale.\n",
    "\n",
    "- **Sostituisci le Definizioni Multiple con Tuples:** Per assegnare valori a più variabili contemporaneamente, puoi usare le tuple.\n",
    "\n",
    "  ```python\n",
    "  x, y = (10, 20)\n",
    "  ```\n",
    "\n",
    "- **Utilizza le Tuples come Chiavi nei Dizionari:** Poiché le tuple sono immutabili, possono essere usate come chiavi nei dizionari, a differenza delle liste.\n",
    "\n",
    "- **Sfrutta l'Immutabilità per la Sicurezza:** L'immutabilità delle tuple può evitare modifiche accidentali ai dati, migliorando la robustezza del tuo codice."
   ]
  },
  {
   "cell_type": "markdown",
   "id": "7305465d",
   "metadata": {},
   "source": [
    "## **Conclusione**\n",
    "\n",
    "Le tuple sono uno strumento potente per la gestione di collezioni ordinate di dati immutabili in Python. Sebbene simili alle liste, la loro immutabilità le rende ideali in situazioni in cui la sicurezza e l'integrità dei dati sono fondamentali. Abbiamo esplorato come crearle, accedere ai loro elementi, e le varie operazioni che possiamo eseguire su di esse. Con una solida comprensione delle tuple, puoi scrivere codice Python più efficiente e sicuro."
   ]
  },
  {
   "cell_type": "markdown",
   "id": "64e347a9",
   "metadata": {},
   "source": [
    "## **Risorse Aggiuntive**\n",
    "\n",
    "- **Documentazione Ufficiale Python**: [Tuples and Sequences](https://docs.python.org/3/tutorial/datastructures.html#tuples-and-sequences)\n",
    "- **Libro Consigliato**: [Python Crash Course di Eric Matthes](https://www.amazon.com/Python-Crash-Course-2nd-Edition/dp/1593279280)\n",
    "- **Video Tutorial**: [Lists, Tuples, and Sets](https://youtu.be/W8KRzm-HUcc?si=NQuVYNBcCnE_VsuO)"
   ]
  }
 ],
 "metadata": {
  "kernelspec": {
   "display_name": "Python 3 (ipykernel)",
   "language": "python",
   "name": "python3"
  },
  "language_info": {
   "codemirror_mode": {
    "name": "ipython",
    "version": 3
   },
   "file_extension": ".py",
   "mimetype": "text/x-python",
   "name": "python",
   "nbconvert_exporter": "python",
   "pygments_lexer": "ipython3",
   "version": "3.10.9"
  }
 },
 "nbformat": 4,
 "nbformat_minor": 5
}
