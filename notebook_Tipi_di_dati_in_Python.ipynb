{
 "cells": [
  {
   "cell_type": "markdown",
   "id": "6bd74366",
   "metadata": {},
   "source": [
    "# Tipi di Dati in Python\n",
    "\n",
    "## **Obiettivi della Lezione**\n",
    "\n",
    "Al termine di questa lezione, sarai in grado di:\n",
    "\n",
    "- Comprendere i diversi tipi di dati disponibili in Python.\n",
    "- Dichiarare e utilizzare variabili con tipi di dati appropriati.\n",
    "- Manipolare i tipi di dati per risolvere problemi pratici.\n",
    "- Distinguere tra tipi di dati mutabili e immutabili.\n",
    "- Eseguire conversioni di tipo tra diversi tipi di dati."
   ]
  },
  {
   "cell_type": "markdown",
   "id": "109931c6",
   "metadata": {},
   "source": [
    "## **Introduzione**\n",
    "\n",
    "In Python, i tipi di dati sono fondamentali per la gestione e la manipolazione delle informazioni. Ogni valore memorizzato in una variabile ha un tipo di dato specifico che determina le operazioni possibili su di esso. Comprendere i tipi di dati disponibili è essenziale per scrivere codice efficiente e per evitare errori logici nel programma."
   ]
  },
  {
   "cell_type": "markdown",
   "id": "b363f49b",
   "metadata": {},
   "source": [
    "## **Spiegazione Teorica**\n",
    "\n",
    "Python offre una varietà di tipi di dati integrati. I principali tipi di dati che esamineremo sono:\n",
    "\n",
    "### **1. Numeri**\n",
    "\n",
    "I tipi numerici in Python includono:\n",
    "\n",
    "- **Interi (`int`):** numeri interi, positivi o negativi, senza parte decimale.\n",
    "  ```python\n",
    "  x = 5\n",
    "  y = -3\n",
    "  ```\n",
    "- **Virgola Mobile (`float`):** numeri con parte decimale.\n",
    "  ```python\n",
    "  pi = 3.14\n",
    "  temperatura = -10.5\n",
    "  ```\n",
    "- **Complessi (`complex`):** numeri con parte reale e parte immaginaria.\n",
    "  ```python\n",
    "  numero_complesso = 2 + 3j\n",
    "  ```\n",
    "\n",
    "### **2. Booleani**\n",
    "\n",
    "Il tipo booleano ha due valori possibili:\n",
    "\n",
    "- **`True`** (Vero)\n",
    "- **`False`** (Falso)\n",
    "\n",
    "Sono usati per rappresentare valori di verità e sono fondamentali nelle strutture di controllo.\n"
   ]
  },
  {
   "cell_type": "code",
   "execution_count": 1,
   "id": "d9ff2b32",
   "metadata": {},
   "outputs": [],
   "source": [
    "is_active = True\n",
    "is_admin = False"
   ]
  },
  {
   "cell_type": "markdown",
   "id": "f24468c5",
   "metadata": {},
   "source": [
    "\n",
    "### **3. Stringhe**\n",
    "\n",
    "Le stringhe sono sequenze di caratteri utilizzate per rappresentare testi.\n",
    "\n",
    "- Possono essere delimitate da apici singoli `'...'` o doppi `\"...\"`.\n",
    "- Sono immutabili: una volta create, non possono essere modificate.\n"
   ]
  },
  {
   "cell_type": "code",
   "execution_count": 2,
   "id": "04d8754a",
   "metadata": {},
   "outputs": [],
   "source": [
    "nome = \"Alice\"\n",
    "saluto = 'Ciao, mondo!'"
   ]
  },
  {
   "cell_type": "markdown",
   "id": "3c0ffd69",
   "metadata": {},
   "source": [
    "\n",
    "### **4. Liste**\n",
    "\n",
    "Le liste sono collezioni ordinate e mutabili di elementi.\n",
    "\n",
    "- Definite con parentesi quadre `[...]`.\n",
    "- Possono contenere elementi di qualsiasi tipo.\n",
    "- Supportano operazioni come aggiunta, rimozione e ordinamento.\n"
   ]
  },
  {
   "cell_type": "code",
   "execution_count": 3,
   "id": "82300e36",
   "metadata": {},
   "outputs": [],
   "source": [
    "numeri = [1, 2, 3, 4]\n",
    "misto = [1, \"due\", 3.0]"
   ]
  },
  {
   "cell_type": "markdown",
   "id": "d300b02b",
   "metadata": {},
   "source": [
    "\n",
    "### **5. Tuple**\n",
    "\n",
    "Le tuple sono simili alle liste, ma sono immutabili.\n",
    "\n",
    "- Definite con parentesi tonde `(...)`.\n",
    "- Una volta create, non possono essere modificate.\n"
   ]
  },
  {
   "cell_type": "code",
   "execution_count": 4,
   "id": "d3a6577a",
   "metadata": {},
   "outputs": [],
   "source": [
    "coordinate = (10.0, 20.0)"
   ]
  },
  {
   "cell_type": "markdown",
   "id": "2f8dd7fe",
   "metadata": {},
   "source": [
    "\n",
    "### **6. Set**\n",
    "\n",
    "I set sono collezioni non ordinate di elementi unici.\n",
    "\n",
    "- Definiti con parentesi graffe `{...}` o con la funzione `set()`.\n",
    "- Utili per eliminare duplicati e per operazioni insiemistiche.\n"
   ]
  },
  {
   "cell_type": "code",
   "execution_count": 5,
   "id": "55408b1c",
   "metadata": {},
   "outputs": [],
   "source": [
    "frutti = {\"mela\", \"banana\", \"arancia\"}"
   ]
  },
  {
   "cell_type": "markdown",
   "id": "16d0d6c3",
   "metadata": {},
   "source": [
    "\n",
    "### **7. Dizionari**\n",
    "\n",
    "I dizionari sono collezioni non ordinate di coppie chiave-valore.\n",
    "\n",
    "- Definiti con parentesi graffe `{chiave: valore}`.\n",
    "- Le chiavi devono essere immutabili; le stringhe sono comunemente usate.\n"
   ]
  },
  {
   "cell_type": "code",
   "execution_count": 6,
   "id": "81a376c8",
   "metadata": {},
   "outputs": [],
   "source": [
    "studente = {\"nome\": \"Luca\", \"età\": 21, \"matricola\": 12345}"
   ]
  },
  {
   "cell_type": "markdown",
   "id": "14a3cf18",
   "metadata": {},
   "source": [
    "## **Esempi Pratici di Codice**\n",
    "\n",
    "### **1. Utilizzo dei Numeri**\n"
   ]
  },
  {
   "cell_type": "code",
   "execution_count": 7,
   "id": "253c5203",
   "metadata": {},
   "outputs": [
    {
     "name": "stdout",
     "output_type": "stream",
     "text": [
      "13\n",
      "2.2\n",
      "(4+6j)\n"
     ]
    }
   ],
   "source": [
    "# Interi\n",
    "a = 10\n",
    "b = 3\n",
    "somma = a + b\n",
    "print(somma)  # Output: 13\n",
    "\n",
    "# Virgola Mobile\n",
    "c = 5.5\n",
    "d = 2.5\n",
    "divisione = c / d\n",
    "print(divisione)  # Output: 2.2\n",
    "\n",
    "# Numeri Complessi\n",
    "e = 1 + 2j\n",
    "f = 3 + 4j\n",
    "somma_complessa = e + f\n",
    "print(somma_complessa)  # Output: (4+6j)"
   ]
  },
  {
   "cell_type": "markdown",
   "id": "d663037f",
   "metadata": {},
   "source": [
    "\n",
    "### **2. Operazioni con i Booleani**\n"
   ]
  },
  {
   "cell_type": "code",
   "execution_count": 8,
   "id": "2b8dca74",
   "metadata": {},
   "outputs": [
    {
     "name": "stdout",
     "output_type": "stream",
     "text": [
      "False\n",
      "True\n"
     ]
    }
   ],
   "source": [
    "is_student = True\n",
    "is_employed = False\n",
    "\n",
    "# Operatore logico AND\n",
    "print(is_student and is_employed)  # Output: False\n",
    "\n",
    "# Operatore logico OR\n",
    "print(is_student or is_employed)   # Output: True"
   ]
  },
  {
   "cell_type": "markdown",
   "id": "9fe2e16d",
   "metadata": {},
   "source": [
    "\n",
    "### **3. Manipolazione delle Stringhe**\n"
   ]
  },
  {
   "cell_type": "code",
   "execution_count": 9,
   "id": "27b4fc80",
   "metadata": {},
   "outputs": [
    {
     "name": "stdout",
     "output_type": "stream",
     "text": [
      "Giulia Rossi\n",
      "G\n",
      "Giu\n",
      "Python è fantastico!\n",
      "  PYTHON È FANTASTICO!  \n",
      "  Python e fantastico!  \n"
     ]
    }
   ],
   "source": [
    "# Concatenazione\n",
    "nome = \"Giulia\"\n",
    "cognome = \"Rossi\"\n",
    "nome_completo = nome + \" \" + cognome\n",
    "print(nome_completo)  # Output: Giulia Rossi\n",
    "\n",
    "# Indicizzazione\n",
    "prima_lettera = nome[0]\n",
    "print(prima_lettera)  # Output: G\n",
    "\n",
    "# Slicing\n",
    "prime_tre_lettere = nome[:3]\n",
    "print(prime_tre_lettere)  # Output: Giu\n",
    "\n",
    "# Metodi delle stringhe\n",
    "frase = \"  Python è fantastico!  \"\n",
    "print(frase.strip())        # Rimuove gli spazi: \"Python è fantastico!\"\n",
    "print(frase.upper())        # Maiuscolo: \"  PYTHON È FANTASTICO!  \"\n",
    "print(frase.replace(\"è\", \"e\"))  # Sostituzione: \"  Python e fantastico!  \""
   ]
  },
  {
   "cell_type": "markdown",
   "id": "ad990767",
   "metadata": {},
   "source": [
    "\n",
    "### **4. Lavorare con le Liste**\n"
   ]
  },
  {
   "cell_type": "code",
   "execution_count": 10,
   "id": "6f0091d2",
   "metadata": {},
   "outputs": [
    {
     "name": "stdout",
     "output_type": "stream",
     "text": [
      "['gatto', 'coniglio', 'cane']\n",
      "['gatto', 'coniglio', 'cane', 'tartaruga']\n",
      "['coniglio', 'cane', 'tartaruga']\n",
      "['cane', 'coniglio', 'tartaruga']\n",
      "cane\n"
     ]
    }
   ],
   "source": [
    "# Creazione di una lista\n",
    "animali = [\"gatto\", \"coniglio\", \"cane\"]\n",
    "print(animali)  # Output: ['cane', 'gatto', 'coniglio']\n",
    "\n",
    "# Aggiungere un elemento\n",
    "animali.append(\"tartaruga\")\n",
    "print(animali)  # Output: ['cane', 'gatto', 'coniglio', 'tartaruga']\n",
    "\n",
    "# Rimuovere un elemento\n",
    "animali.remove(\"gatto\")\n",
    "print(animali)  # Output: ['cane', 'coniglio', 'tartaruga']\n",
    "\n",
    "# Ordinare la lista\n",
    "animali.sort()\n",
    "print(animali)  # Output: ['cane', 'coniglio', 'tartaruga']\n",
    "\n",
    "# Accedere agli elementi\n",
    "primo_animale = animali[0]\n",
    "print(primo_animale)  # Output: 'cane'"
   ]
  },
  {
   "cell_type": "markdown",
   "id": "3d6272a4",
   "metadata": {},
   "source": [
    "\n",
    "### **5. Utilizzo delle Tuple**\n"
   ]
  },
  {
   "cell_type": "code",
   "execution_count": 11,
   "id": "6a946526",
   "metadata": {},
   "outputs": [
    {
     "name": "stdout",
     "output_type": "stream",
     "text": [
      "(0, 0)\n",
      "Coord X: 0, Coord Y: 0\n"
     ]
    }
   ],
   "source": [
    "# Creazione di una tupla\n",
    "punti = (0, 0)\n",
    "print(punti)  # Output: (0, 0)\n",
    "\n",
    "# Accedere agli elementi\n",
    "x = punti[0]\n",
    "y = punti[1]\n",
    "print(f\"Coord X: {x}, Coord Y: {y}\")  # Output: Coord X: 0, Coord Y: 0\n",
    "\n",
    "# Tentativo di modifica (genera un errore)\n",
    "# punti[0] = 5  # TypeError: 'tuple' object does not support item assignment"
   ]
  },
  {
   "cell_type": "markdown",
   "id": "f470e828",
   "metadata": {},
   "source": [
    "\n",
    "### **6. Operazioni con i Set**\n"
   ]
  },
  {
   "cell_type": "code",
   "execution_count": 12,
   "id": "64d64e91",
   "metadata": {},
   "outputs": [
    {
     "name": "stdout",
     "output_type": "stream",
     "text": [
      "{1, 2, 3, 4}\n",
      "{1, 2, 3, 4, 5}\n",
      "{1, 2, 3, 4, 5}\n"
     ]
    }
   ],
   "source": [
    "# Creazione di un set\n",
    "numeri = {1, 2, 3, 4}\n",
    "print(numeri)  # Output: {1, 2, 3, 4}\n",
    "\n",
    "# Aggiungere un elemento\n",
    "numeri.add(5)\n",
    "print(numeri)  # Output: {1, 2, 3, 4, 5}\n",
    "\n",
    "# Eliminare duplicati da una lista trasformandola in un set\n",
    "lista_con_duplicati = [1, 2, 2, 3, 4, 4, 5]\n",
    "set_senza_duplicati = set(lista_con_duplicati)\n",
    "print(set_senza_duplicati)  # Output: {1, 2, 3, 4, 5}"
   ]
  },
  {
   "cell_type": "markdown",
   "id": "7fbefec9",
   "metadata": {},
   "source": [
    "\n",
    "### **7. Lavorare con i Dizionari**\n"
   ]
  },
  {
   "cell_type": "code",
   "execution_count": 13,
   "id": "85da2cd8",
   "metadata": {},
   "outputs": [
    {
     "name": "stdout",
     "output_type": "stream",
     "text": [
      "{'titolo': 'Il Signore degli Anelli', 'autore': 'J.R.R. Tolkien', 'anno': 1954}\n",
      "Il Signore degli Anelli\n",
      "1955\n",
      "{'titolo': 'Il Signore degli Anelli', 'autore': 'J.R.R. Tolkien', 'anno': 1955, 'genere': 'Fantasy'}\n"
     ]
    }
   ],
   "source": [
    "# Creazione di un dizionario\n",
    "libro = {\n",
    "    \"titolo\": \"Il Signore degli Anelli\",\n",
    "    \"autore\": \"J.R.R. Tolkien\",\n",
    "    \"anno\": 1954\n",
    "}\n",
    "print(libro)\n",
    "\n",
    "# Accedere ai valori\n",
    "print(libro[\"titolo\"])  # Output: Il Signore degli Anelli\n",
    "\n",
    "# Modificare un valore\n",
    "libro[\"anno\"] = 1955\n",
    "print(libro[\"anno\"])  # Output: 1955\n",
    "\n",
    "# Aggiungere una nuova coppia chiave-valore\n",
    "libro[\"genere\"] = \"Fantasy\"\n",
    "print(libro)"
   ]
  },
  {
   "cell_type": "markdown",
   "id": "35be9e02",
   "metadata": {},
   "source": [
    "## **Esercizi Interattivi**\n",
    "\n",
    "### **Esercizio 1: Calcolatrice Semplice**\n",
    "\n",
    "Chiedi all'utente di inserire due numeri e stampa la loro somma, differenza, prodotto e quoziente.\n",
    "\n",
    "<details><summary><strong>Soluzione</strong></summary>\n"
   ]
  },
  {
   "cell_type": "code",
   "execution_count": 15,
   "id": "dd9b5db6",
   "metadata": {},
   "outputs": [
    {
     "name": "stdout",
     "output_type": "stream",
     "text": [
      "Inserisci il primo numero: 8\n",
      "Inserisci il secondo numero: 2\n",
      "Somma: 10.0\n",
      "Differenza: 6.0\n",
      "Prodotto: 16.0\n",
      "Quoziente: 4.0\n"
     ]
    }
   ],
   "source": [
    "# Input dell'utente\n",
    "num1 = float(input(\"Inserisci il primo numero: \"))\n",
    "num2 = float(input(\"Inserisci il secondo numero: \"))\n",
    "\n",
    "# Operazioni aritmetiche\n",
    "somma = num1 + num2\n",
    "differenza = num1 - num2\n",
    "prodotto = num1 * num2\n",
    "quoziente = num1 / num2\n",
    "\n",
    "# Risultati\n",
    "print(f\"Somma: {somma}\")\n",
    "print(f\"Differenza: {differenza}\")\n",
    "print(f\"Prodotto: {prodotto}\")\n",
    "print(f\"Quoziente: {quoziente}\")"
   ]
  },
  {
   "cell_type": "markdown",
   "id": "584aa59d",
   "metadata": {},
   "source": [
    "\n",
    "</details>"
   ]
  },
  {
   "cell_type": "markdown",
   "id": "1b157224",
   "metadata": {},
   "source": [
    "### **Esercizio 2: Gestione di una Lista della Spesa**\n",
    "\n",
    "Crea una lista chiamata `spesa` con gli elementi `'pane'`, `'latte'` e `'uova'`. Aggiungi `'frutta'` alla lista e poi rimuovi `'latte'`. Infine, ordina la lista alfabeticamente e stampala.\n",
    "\n",
    "<details><summary><strong>Soluzione</strong></summary>\n"
   ]
  },
  {
   "cell_type": "code",
   "execution_count": 16,
   "id": "57ee4c69",
   "metadata": {},
   "outputs": [
    {
     "name": "stdout",
     "output_type": "stream",
     "text": [
      "['frutta', 'pane', 'uova']\n"
     ]
    }
   ],
   "source": [
    "spesa = ['pane', 'latte', 'uova']\n",
    "spesa.append('frutta')\n",
    "spesa.remove('latte')\n",
    "spesa.sort()\n",
    "print(spesa)  # Output: ['frutta', 'pane', 'uova']"
   ]
  },
  {
   "cell_type": "markdown",
   "id": "91d47eaf",
   "metadata": {},
   "source": [
    "\n",
    "</details>"
   ]
  },
  {
   "cell_type": "markdown",
   "id": "f4251ed0",
   "metadata": {},
   "source": [
    "### **Esercizio 3: Controllo di Presenza in un Set**\n",
    "\n",
    "Data una lista di numeri con possibili duplicati, crea un set per eliminare i duplicati e controlla se un determinato numero è presente nel set.\n",
    "\n",
    "<details><summary><strong>Soluzione</strong></summary>\n"
   ]
  },
  {
   "cell_type": "code",
   "execution_count": 17,
   "id": "a25fad1c",
   "metadata": {},
   "outputs": [
    {
     "name": "stdout",
     "output_type": "stream",
     "text": [
      "Il numero 3 è presente nel set.\n"
     ]
    }
   ],
   "source": [
    "lista_numeri = [1, 2, 2, 3, 4, 4, 5]\n",
    "set_numeri = set(lista_numeri)\n",
    "numero_da_controllare = 3\n",
    "\n",
    "if numero_da_controllare in set_numeri:\n",
    "    print(f\"Il numero {numero_da_controllare} è presente nel set.\")\n",
    "else:\n",
    "    print(f\"Il numero {numero_da_controllare} non è presente nel set.\")"
   ]
  },
  {
   "cell_type": "markdown",
   "id": "3f91185d",
   "metadata": {},
   "source": [
    "### **Esercizio 4: Dizionario dei Contatti**\n",
    "\n",
    "Crea un dizionario chiamato `contatti` che memorizzi nomi e numeri di telefono. Aggiungi almeno tre contatti e poi stampa il numero di telefono di uno specifico contatto.\n",
    "\n",
    "<details><summary><strong>Soluzione</strong></summary>\n"
   ]
  },
  {
   "cell_type": "code",
   "execution_count": 18,
   "id": "8491c99f",
   "metadata": {},
   "outputs": [
    {
     "name": "stdout",
     "output_type": "stream",
     "text": [
      "345-7654321\n"
     ]
    }
   ],
   "source": [
    "contatti = {\n",
    "    \"Luca\": \"333-1234567\",\n",
    "    \"Maria\": \"345-7654321\",\n",
    "    \"Giulio\": \"320-1122334\"\n",
    "}\n",
    "\n",
    "print(contatti[\"Maria\"])  # Output: 345-7654321"
   ]
  },
  {
   "cell_type": "markdown",
   "id": "7241ab3a",
   "metadata": {},
   "source": [
    "## **Buone Pratiche e Consigli**\n",
    "\n",
    "- **Usa tipi di dati appropriati:** Scegli il tipo di dato che meglio rappresenta l'informazione che stai gestendo. Ad esempio, utilizza una lista se hai bisogno di una sequenza ordinata e modificabile di elementi.\n",
    "\n",
    "- **Comprendi la mutabilità:** Sappi quali tipi di dati sono mutabili (liste, dizionari, set) e quali sono immutabili (tuple, stringhe, numeri). Questo influisce su come puoi manipolare i dati.\n",
    "\n",
    "- **Conversioni di tipo:** Utilizza le funzioni di conversione di tipo integrate per convertire tra tipi diversi quando necessario.\n",
    "\n",
    "  ```python\n",
    "  numero_str = \"42\"\n",
    "  numero_int = int(numero_str)\n",
    "  ```\n",
    "\n",
    "- **Gestione delle chiavi nei dizionari:** Quando accedi a valori in un dizionario, puoi utilizzare il metodo `.get()` per evitare errori se la chiave non esiste.\n",
    "\n",
    "  ```python\n",
    "  valore = dizionario.get(\"chiave\", \"Valore predefinito\")\n",
    "  ```\n",
    "\n",
    "- **Evitare duplicati con i set:** Se hai bisogno di una collezione di elementi unici, utilizza i set per rimuovere automaticamente i duplicati."
   ]
  },
  {
   "cell_type": "markdown",
   "id": "1dac7ca3",
   "metadata": {},
   "source": [
    "## **Conclusione**\n",
    "\n",
    "I tipi di dati sono fondamentali per qualsiasi programma in Python. Una solida comprensione di come funzionano ti permette di scrivere codice più efficiente, leggibile e manutenibile. Questa lezione ha coperto i tipi di dati principali in Python, fornendo esempi pratici e esercizi per consolidare l'apprendimento."
   ]
  },
  {
   "cell_type": "markdown",
   "id": "e9107a65",
   "metadata": {},
   "source": [
    "## **Risorse Aggiuntive**\n",
    "\n",
    "- **Documentazione Ufficiale Python**: [Tipi di Dati](https://docs.python.org/3/library/stdtypes.html)\n",
    "- **Libro Consigliato**: [Python Crash Course di Eric Matthes](https://www.amazon.com/Python-Crash-Course-2nd-Edition/dp/1593279280)\n",
    "- **Video Tutorial**: [Data Types in Python](https://youtu.be/gCCVsvgR2KU?si=-nM6IeG7ZMgpJ9GT)"
   ]
  }
 ],
 "metadata": {
  "kernelspec": {
   "display_name": "Python 3 (ipykernel)",
   "language": "python",
   "name": "python3"
  },
  "language_info": {
   "codemirror_mode": {
    "name": "ipython",
    "version": 3
   },
   "file_extension": ".py",
   "mimetype": "text/x-python",
   "name": "python",
   "nbconvert_exporter": "python",
   "pygments_lexer": "ipython3",
   "version": "3.10.9"
  }
 },
 "nbformat": 4,
 "nbformat_minor": 5
}
