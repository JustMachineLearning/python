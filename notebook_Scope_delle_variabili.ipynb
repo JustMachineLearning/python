{
 "cells": [
  {
   "cell_type": "markdown",
   "id": "f02fc637",
   "metadata": {},
   "source": [
    "# **Scope delle Variabili in Python**\n",
    "\n",
    "## **Obiettivi della Lezione**\n",
    "\n",
    "Al termine di questa lezione, sarai in grado di:\n",
    "\n",
    "- Comprendere il concetto di scope (ambito) delle variabili in Python.\n",
    "- Distinguere tra variabili locali e globali.\n",
    "- Utilizzare le parole chiave `global` e `nonlocal`.\n",
    "- Evitare errori comuni legati allo scope delle variabili."
   ]
  },
  {
   "cell_type": "markdown",
   "id": "f5ccbf7d",
   "metadata": {},
   "source": [
    "## **Introduzione**\n",
    "\n",
    "In Python, come in molti linguaggi di programmazione, le variabili hanno un \"ambito\" o *scope* che determina dove possono essere utilizzate all'interno del codice. Comprendere lo scope delle variabili è fondamentale per scrivere codice efficace, evitare conflitti di nomi e prevenire bug difficili da individuare."
   ]
  },
  {
   "cell_type": "markdown",
   "id": "64fefe7c",
   "metadata": {},
   "source": [
    "## **Spiegazione Teorica**\n",
    "\n",
    "### **Cosa si intende per Scope?**\n",
    "\n",
    "Lo *scope* di una variabile è la regione del programma in cui la variabile è riconosciuta e può essere utilizzata. In Python, lo scope è determinato da dove la variabile viene dichiarata e definisce la visibilità di quella variabile.\n",
    "\n",
    "### **Tipi di Scope in Python**\n",
    "\n",
    "1. **Scope Locale**: Variabili definite all'interno di una funzione. Sono accessibili solo all'interno di quella funzione.\n",
    "2. **Scope Globale**: Variabili definite all'esterno di tutte le funzioni. Sono accessibili ovunque nel file.\n",
    "3. **Scope Innestato**: Variabili definite nelle funzioni interne (nested functions). Usano la parola chiave `nonlocal`.\n",
    "4. **Scope Built-in**: Nominali predefiniti di Python che sono sempre disponibili.\n",
    "\n",
    "### **Ordine di Risoluzione delle Variabili: LEGB**\n",
    "\n",
    "Python segue la regola LEGB per risolvere le variabili:\n",
    "\n",
    "- **L**ocal\n",
    "- **E**nclosing (chiusura)\n",
    "- **G**lobal\n",
    "- **B**uilt-in"
   ]
  },
  {
   "cell_type": "markdown",
   "id": "80d0f8a7",
   "metadata": {},
   "source": [
    "## **Esempi Pratici di Codice**\n",
    "\n",
    "### **Variabili Globali e Locali**\n"
   ]
  },
  {
   "cell_type": "code",
   "execution_count": 2,
   "id": "9a5019e1",
   "metadata": {},
   "outputs": [
    {
     "name": "stdout",
     "output_type": "stream",
     "text": [
      "Sono una variabile globale\n",
      "Sono una variabile locale\n"
     ]
    }
   ],
   "source": [
    "# Variabile globale\n",
    "x = \"Sono una variabile globale\"\n",
    "\n",
    "def funzione():\n",
    "    # Variabile locale\n",
    "    y = \"Sono una variabile locale\"\n",
    "    print(x)  # Accesso alla variabile globale\n",
    "    print(y)  # Accesso alla variabile locale\n",
    "\n",
    "funzione()"
   ]
  },
  {
   "cell_type": "code",
   "execution_count": 3,
   "id": "54339b4a",
   "metadata": {},
   "outputs": [
    {
     "ename": "NameError",
     "evalue": "name 'y' is not defined",
     "output_type": "error",
     "traceback": [
      "\u001b[1;31m---------------------------------------------------------------------------\u001b[0m",
      "\u001b[1;31mNameError\u001b[0m                                 Traceback (most recent call last)",
      "Cell \u001b[1;32mIn[3], line 2\u001b[0m\n\u001b[0;32m      1\u001b[0m \u001b[38;5;66;03m# Proviamo ad accedere a y al di fuori della funzione\u001b[39;00m\n\u001b[1;32m----> 2\u001b[0m \u001b[38;5;28mprint\u001b[39m(\u001b[43my\u001b[49m)\n",
      "\u001b[1;31mNameError\u001b[0m: name 'y' is not defined"
     ]
    }
   ],
   "source": [
    "# Proviamo ad accedere a y al di fuori della funzione\n",
    "print(y)  # Genererà un errore NameError"
   ]
  },
  {
   "cell_type": "code",
   "execution_count": 4,
   "id": "6f4629c2",
   "metadata": {},
   "outputs": [
    {
     "name": "stdout",
     "output_type": "stream",
     "text": [
      "Modificato all'interno della funzione\n",
      "Modificato all'interno della funzione\n"
     ]
    }
   ],
   "source": [
    "x = \"Variabile globale\"\n",
    "\n",
    "def funzione():\n",
    "    global x\n",
    "    x = \"Modificato all'interno della funzione\"\n",
    "    print(x)\n",
    "\n",
    "funzione()\n",
    "print(x)"
   ]
  },
  {
   "cell_type": "code",
   "execution_count": 5,
   "id": "45554d41",
   "metadata": {},
   "outputs": [
    {
     "name": "stdout",
     "output_type": "stream",
     "text": [
      "Dentro interna: Variabile interna\n",
      "Dentro esterna: Variabile interna\n"
     ]
    }
   ],
   "source": [
    "def esterna():\n",
    "    x = \"Variabile esterna\"\n",
    "    \n",
    "    def interna():\n",
    "        nonlocal x\n",
    "        x = \"Variabile interna\"\n",
    "        print(\"Dentro interna:\", x)\n",
    "    \n",
    "    interna()\n",
    "    print(\"Dentro esterna:\", x)\n",
    "\n",
    "esterna()"
   ]
  },
  {
   "cell_type": "markdown",
   "id": "75d6be47",
   "metadata": {},
   "source": [
    "## **Esercizi Interattivi**\n",
    "\n",
    "### **Esercizio 1: Variabili Locali vs Globali**\n",
    "\n",
    "1. Crea una variabile globale `count` e inizializzala a 0.\n",
    "2. Scrivi una funzione `incrementa()` che incrementa `count` di 1.\n",
    "3. Chiama la funzione e stampa `count`.\n",
    "\n",
    "**Soluzione:**\n"
   ]
  },
  {
   "cell_type": "code",
   "execution_count": 6,
   "id": "772bc040",
   "metadata": {},
   "outputs": [
    {
     "name": "stdout",
     "output_type": "stream",
     "text": [
      "1\n"
     ]
    }
   ],
   "source": [
    "count = 0\n",
    "\n",
    "def incrementa():\n",
    "    global count\n",
    "    count += 1\n",
    "\n",
    "incrementa()\n",
    "print(count)  # Output atteso: 1"
   ]
  },
  {
   "cell_type": "markdown",
   "id": "dfc9b62b",
   "metadata": {},
   "source": [
    "\n",
    "### **Esercizio 2: Utilizzo di `nonlocal`**\n",
    "\n",
    "Scrivi una funzione `esterna` che contiene una funzione `interna`. La funzione interna dovrebbe modificare una variabile definita in `esterna` utilizzando `nonlocal`.\n",
    "\n",
    "**Soluzione:**\n"
   ]
  },
  {
   "cell_type": "code",
   "execution_count": 7,
   "id": "db8c471e",
   "metadata": {},
   "outputs": [
    {
     "name": "stdout",
     "output_type": "stream",
     "text": [
      "Arrivederci\n"
     ]
    }
   ],
   "source": [
    "def esterna():\n",
    "    messaggio = \"Ciao\"\n",
    "    \n",
    "    def interna():\n",
    "        nonlocal messaggio\n",
    "        messaggio = \"Arrivederci\"\n",
    "    \n",
    "    interna()\n",
    "    print(messaggio)  # Output atteso: Arrivederci\n",
    "\n",
    "esterna()"
   ]
  },
  {
   "cell_type": "markdown",
   "id": "14eb682e",
   "metadata": {},
   "source": [
    "## **Buone Pratiche e Consigli**\n",
    "\n",
    "- **Evitare l'Abuso di Variabili Globali**: Le variabili globali possono rendere il codice difficile da mantenere e debugare. Utilizzale con parsimonia.\n",
    "- **Chiarezza dei Nomi**: Usa nomi significativi per le variabili per evitare conflitti e facilitare la leggibilità.\n",
    "- **Capsula delle Variabili**: Mantieni le variabili il più possibile locali. Questo riduce il rischio di effetti collaterali indesiderati.\n",
    "- **Documenta il Codice**: Aggiungi commenti per spiegare l'utilizzo di `global` o `nonlocal` quando necessario."
   ]
  },
  {
   "cell_type": "markdown",
   "id": "68645b12",
   "metadata": {},
   "source": [
    "## **Conclusione**\n",
    "\n",
    "Lo scope delle variabili è un concetto cruciale in Python che influisce sulla struttura e sul funzionamento del tuo codice. Comprendere come e dove le variabili possono essere accessibili ti aiuta a scrivere codice più pulito, efficiente e meno incline a errori. Ricorda sempre di considerare lo scope quando definisci e modifichi le variabili nelle tue funzioni."
   ]
  },
  {
   "cell_type": "markdown",
   "id": "7572eec7",
   "metadata": {},
   "source": [
    "## Risorse Aggiuntive\n",
    "\n",
    "- **Documentazione Ufficiale Python**: [Documentazione Ufficiale Python](https://docs.python.org/3/reference/executionmodel.html#naming-and-binding)\n",
    "- **Libro Consigliato**: [Python Crash Course di Eric Matthes](https://www.amazon.com/Python-Crash-Course-2nd-Edition/dp/1593279280)\n",
    "- **Video Tutorial**: [Variable Scope - Understanding the LEGB rule and global/nonlocal statements](https://youtu.be/QVdf0LgmICw?si=mT-hfwKGOfgtLdmr)"
   ]
  }
 ],
 "metadata": {
  "kernelspec": {
   "display_name": "Python 3 (ipykernel)",
   "language": "python",
   "name": "python3"
  },
  "language_info": {
   "codemirror_mode": {
    "name": "ipython",
    "version": 3
   },
   "file_extension": ".py",
   "mimetype": "text/x-python",
   "name": "python",
   "nbconvert_exporter": "python",
   "pygments_lexer": "ipython3",
   "version": "3.10.9"
  }
 },
 "nbformat": 4,
 "nbformat_minor": 5
}
