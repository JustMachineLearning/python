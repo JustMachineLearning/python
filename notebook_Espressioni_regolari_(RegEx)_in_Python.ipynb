{
 "cells": [
  {
   "cell_type": "markdown",
   "id": "d2f26425",
   "metadata": {},
   "source": [
    "# **Espressioni Regolari (RegEx) in Python**\n",
    "\n",
    "## **Obiettivi della Lezione**\n",
    "\n",
    "Al termine di questa lezione, sarai in grado di:\n",
    "\n",
    "- Comprendere cosa sono le espressioni regolari e come funzionano.\n",
    "- Utilizzare il modulo `re` di Python per lavorare con le espressioni regolari.\n",
    "- Cercare, sostituire e manipolare stringhe utilizzando pattern RegEx.\n",
    "- Applicare le espressioni regolari per risolvere problemi pratici nella manipolazione di testi."
   ]
  },
  {
   "cell_type": "markdown",
   "id": "0aa6b499",
   "metadata": {},
   "source": [
    "## **Introduzione**\n",
    "\n",
    "Le **espressioni regolari** (RegEx) sono sequenze di caratteri che definiscono un **pattern di ricerca**. Sono strumenti potenti per l'elaborazione e l'analisi di stringhe, permettendo di effettuare ricerche complesse, sostituzioni e validazioni su testi. In Python, il modulo integrato `re` offre tutte le funzionalità necessarie per utilizzare le espressioni regolari in modo efficiente."
   ]
  },
  {
   "cell_type": "markdown",
   "id": "ff749c03",
   "metadata": {},
   "source": [
    "## **Spiegazione Teorica**\n",
    "\n",
    "### **Cos'è un'Espressione Regolare?**\n",
    "\n",
    "Un'espressione regolare è un pattern che descrive un insieme di stringhe. Può essere utilizzata per:\n",
    "\n",
    "- **Cercare** specifiche sequenze di caratteri in un testo.\n",
    "- **Sostituire** porzioni di testo in base a un pattern.\n",
    "- **Validare** formati di input come indirizzi email, numeri di telefono, codici postali, ecc.\n",
    "\n",
    "### **Il Modulo `re` di Python**\n",
    "\n",
    "Il modulo `re` è integrato in Python e fornisce funzioni per lavorare con le espressioni regolari:\n",
    "\n",
    "- `re.match()`: Verifica se il pattern corrisponde all'inizio della stringa.\n",
    "- `re.search()`: Cerca la prima occorrenza del pattern nella stringa.\n",
    "- `re.findall()`: Restituisce una lista di tutte le occorrenze del pattern.\n",
    "- `re.sub()`: Sostituisce le occorrenze del pattern con una stringa specificata.\n",
    "- `re.compile()`: Compila un pattern in un oggetto espressione regolare per un uso ripetuto.\n",
    "\n",
    "### **Sintassi delle Espressioni Regolari**\n",
    "\n",
    "#### **Metacaratteri Principali**\n",
    "\n",
    "- `.` : Corrisponde a **qualsiasi carattere** (eccetto il newline `\\n`).\n",
    "- `^` : Inizio della stringa.\n",
    "- `$` : Fine della stringa.\n",
    "- `*` : **Zero o più** ripetizioni del carattere precedente.\n",
    "- `+` : **Una o più** ripetizioni del carattere precedente.\n",
    "- `?` : **Zero o una** ripetizione del carattere precedente.\n",
    "- `{n}` : Esattamente **n** ripetizioni.\n",
    "- `{n,}` : **Almeno n** ripetizioni.\n",
    "- `{n,m}` : **Da n a m** ripetizioni.\n",
    "- `[]` : Definisce una **classe di caratteri**. Ad esempio, `[a-z]` corrisponde a qualsiasi lettera minuscola.\n",
    "- `|` : Operatore **OR**. Ad esempio, `a|b` corrisponde a `a` o `b`.\n",
    "- `\\` : Carattere di **escape**, utilizzato per interpretare caratteri speciali come letterali.\n",
    "\n",
    "#### **Sequenze Speciali**\n",
    "\n",
    "- `\\d` : Qualsiasi **cifra** (`[0-9]`).\n",
    "- `\\D` : Qualsiasi **non cifra** (`[^0-9]`).\n",
    "- `\\w` : Qualsiasi carattere **alfanumerico** (`[a-zA-Z0-9_]`).\n",
    "- `\\W` : Qualsiasi carattere **non alfanumerico** (`[^a-zA-Z0-9_]`).\n",
    "- `\\s` : Qualsiasi **spazio bianco** (`[ \\t\\n\\r\\f\\v]`).\n",
    "- `\\S` : Qualsiasi **non spazio bianco** (`[^ \\t\\n\\r\\f\\v]`)."
   ]
  },
  {
   "cell_type": "markdown",
   "id": "46c15332",
   "metadata": {},
   "source": [
    "## **Esempi Pratici di Codice**\n",
    "\n",
    "### **1. Ricerca di un Pattern Semplice**\n"
   ]
  },
  {
   "cell_type": "code",
   "execution_count": 1,
   "id": "7eb73d64",
   "metadata": {},
   "outputs": [
    {
     "name": "stdout",
     "output_type": "stream",
     "text": [
      "['Python', 'Python']\n"
     ]
    }
   ],
   "source": [
    "import re\n",
    "\n",
    "testo = \"Benvenuto al corso di Python. Python è fantastico!\"\n",
    "pattern = r\"Python\"\n",
    "\n",
    "occorrenze = re.findall(pattern, testo)\n",
    "print(occorrenze)"
   ]
  },
  {
   "cell_type": "markdown",
   "id": "bcd304e8",
   "metadata": {},
   "source": [
    "\n",
    "**Spiegazione:**\n",
    "\n",
    "- **Importiamo** il modulo `re` per utilizzare le espressioni regolari.\n",
    "- **Definiamo** una stringa `testo` contenente il testo su cui effettuare la ricerca.\n",
    "- **Creiamo** un pattern semplice `pattern` che corrisponde alla parola \"Python\".\n",
    "- **Utilizziamo** `re.findall()` per trovare tutte le occorrenze del pattern nel testo.\n",
    "- **Stampa:** `['Python', 'Python']`"
   ]
  },
  {
   "cell_type": "markdown",
   "id": "509cdd57",
   "metadata": {},
   "source": [
    "### **2. Uso di Metacaratteri e Quantificatori**\n"
   ]
  },
  {
   "cell_type": "code",
   "execution_count": 2,
   "id": "88f598b5",
   "metadata": {},
   "outputs": [
    {
     "name": "stdout",
     "output_type": "stream",
     "text": [
      "Trovato: 12345\n"
     ]
    }
   ],
   "source": [
    "import re\n",
    "\n",
    "testo = \"La cifra 12345 è composta da numeri consecutivi.\"\n",
    "pattern = r\"\\d{5}\"\n",
    "\n",
    "match = re.search(pattern, testo)\n",
    "if match:\n",
    "    print(f\"Trovato: {match.group()}\")\n",
    "else:\n",
    "    print(\"Nessuna corrispondenza trovata.\")"
   ]
  },
  {
   "cell_type": "markdown",
   "id": "51bcb2a2",
   "metadata": {},
   "source": [
    "\n",
    "**Spiegazione:**\n",
    "\n",
    "- `\\d` corrisponde a **qualsiasi cifra** da 0 a 9.\n",
    "- `{5}` indica che cerchiamo **esattamente 5 cifre consecutive**.\n",
    "- `re.search()` cerca la prima occorrenza del pattern nel testo.\n",
    "- **Stampa:** `Trovato: 12345`"
   ]
  },
  {
   "cell_type": "markdown",
   "id": "c6eac657",
   "metadata": {},
   "source": [
    "### **3. Validazione di un Indirizzo Email**\n"
   ]
  },
  {
   "cell_type": "code",
   "execution_count": 12,
   "id": "4b095714",
   "metadata": {},
   "outputs": [
    {
     "name": "stdout",
     "output_type": "stream",
     "text": [
      "Indirizzo email non valido.\n"
     ]
    }
   ],
   "source": [
    "import re\n",
    "\n",
    "email = \"%esempio@mail.com\"\n",
    "pattern = r\"^[\\w\\.-]+@[\\w\\.-]+\\.\\w{2,}$\"\n",
    "\n",
    "if re.match(pattern, email):\n",
    "    print(\"Indirizzo email valido.\")\n",
    "else:\n",
    "    print(\"Indirizzo email non valido.\")"
   ]
  },
  {
   "cell_type": "markdown",
   "id": "549fa25c",
   "metadata": {},
   "source": [
    "\n",
    "**Spiegazione:**\n",
    "\n",
    "- `^` e `$` assicurano che l'intera stringa corrisponda al pattern.\n",
    "- `[\\w\\.-]+` corrisponde a una sequenza di caratteri alfanumerici, punti o trattini.\n",
    "- `@` è il simbolo della chiocciola nell'email.\n",
    "- `\\.\\w{2,}` corrisponde a un punto seguito da almeno due caratteri alfanumerici (es: `.com`, `.it`).\n",
    "- **Stampa:** `Indirizzo email non valido.`"
   ]
  },
  {
   "cell_type": "markdown",
   "id": "0f86d704",
   "metadata": {},
   "source": [
    "### **4. Sostituzione di Testo con `re.sub()`**\n"
   ]
  },
  {
   "cell_type": "code",
   "execution_count": 13,
   "id": "1721e5df",
   "metadata": {},
   "outputs": [
    {
     "name": "stdout",
     "output_type": "stream",
     "text": [
      "La temperatura oggi è di 30 gradi.\n"
     ]
    }
   ],
   "source": [
    "import re\n",
    "\n",
    "testo = \"La temperatura oggi è di 25 gradi.\"\n",
    "pattern = r\"\\d+\"\n",
    "\n",
    "nuovo_testo = re.sub(pattern, \"30\", testo)\n",
    "print(nuovo_testo)"
   ]
  },
  {
   "cell_type": "markdown",
   "id": "40ec742b",
   "metadata": {},
   "source": [
    "\n",
    "**Spiegazione:**\n",
    "\n",
    "- `\\d+` corrisponde a **una o più cifre** consecutive.\n",
    "- `re.sub()` sostituisce tutte le occorrenze del pattern con la stringa \"30\".\n",
    "- **Stampa:** `La temperatura oggi è di 30 gradi.`"
   ]
  },
  {
   "cell_type": "markdown",
   "id": "9a20f349",
   "metadata": {},
   "source": [
    "## **Esercizi Interattivi**\n",
    "\n",
    "### **Esercizio 1: Trova Parole che Iniziano con Maiuscola**\n",
    "\n",
    "Scrivi un'espressione regolare che trovi tutte le parole che iniziano con una lettera maiuscola in una frase.\n"
   ]
  },
  {
   "cell_type": "code",
   "execution_count": 14,
   "id": "42918c98",
   "metadata": {},
   "outputs": [
    {
     "name": "stdout",
     "output_type": "stream",
     "text": [
      "['Marco', 'Lucia', 'Roma', 'Estate']\n"
     ]
    }
   ],
   "source": [
    "import re\n",
    "\n",
    "frase = \"Marco e Lucia sono andati a Roma durante l'Estate.\"\n",
    "pattern = r\"\\b[A-Z][a-z]*\"\n",
    "\n",
    "parole_maiuscole = re.findall(pattern, frase)\n",
    "print(parole_maiuscole)"
   ]
  },
  {
   "cell_type": "markdown",
   "id": "4d91a744",
   "metadata": {},
   "source": [
    "\n",
    "**Risultato atteso:** `['Marco', 'Lucia', 'Roma', 'Estate']`"
   ]
  },
  {
   "cell_type": "markdown",
   "id": "090757f4",
   "metadata": {},
   "source": [
    "### **Esercizio 2: Sostituisci Spazi con Trattini**\n",
    "\n",
    "Utilizza `re.sub()` per sostituire ogni spazio in una stringa con un trattino `-`.\n"
   ]
  },
  {
   "cell_type": "code",
   "execution_count": 15,
   "id": "fca263ad",
   "metadata": {},
   "outputs": [
    {
     "name": "stdout",
     "output_type": "stream",
     "text": [
      "Questo-è-un-test-per-sostituire-gli-spazi.\n"
     ]
    }
   ],
   "source": [
    "import re\n",
    "\n",
    "frase = \"Questo è un test per sostituire gli spazi.\"\n",
    "nuova_frase = re.sub(r\"\\s\", \"-\", frase)\n",
    "print(nuova_frase)"
   ]
  },
  {
   "cell_type": "markdown",
   "id": "9506f5de",
   "metadata": {},
   "source": [
    "\n",
    "**Risultato atteso:** `Questo-è-un-test-per-sostituire-gli-spazi.`"
   ]
  },
  {
   "cell_type": "markdown",
   "id": "5397509f",
   "metadata": {},
   "source": [
    "### **Esercizio 3: Validazione Numero di Telefono**\n",
    "\n",
    "Scrivi un'espressione regolare per verificare se una stringa è un numero di telefono nel formato `xxx-xxx-xxxx`.\n"
   ]
  },
  {
   "cell_type": "code",
   "execution_count": 16,
   "id": "821d110d",
   "metadata": {},
   "outputs": [
    {
     "name": "stdout",
     "output_type": "stream",
     "text": [
      "Numero di telefono valido.\n"
     ]
    }
   ],
   "source": [
    "import re\n",
    "\n",
    "numero = \"123-456-7890\"\n",
    "pattern = r\"^\\d{3}-\\d{3}-\\d{4}$\"\n",
    "\n",
    "if re.match(pattern, numero):\n",
    "    print(\"Numero di telefono valido.\")\n",
    "else:\n",
    "    print(\"Numero di telefono non valido.\")"
   ]
  },
  {
   "cell_type": "markdown",
   "id": "c2e6f302",
   "metadata": {},
   "source": [
    "\n",
    "**Risultato atteso:** `Numero di telefono valido.`"
   ]
  },
  {
   "cell_type": "markdown",
   "id": "76aabfe3",
   "metadata": {},
   "source": [
    "## **Buone Pratiche e Consigli**\n",
    "\n",
    "- **Utilizza le Raw Strings (`r\"\"`):**\n",
    "\n",
    "  Quando scrivi espressioni regolari, è consigliabile usare le **stringhe raw** per evitare conflitti con i caratteri di escape di Python. Esempio: `r\"\\n\"` rappresenta esattamente i caratteri `\\` e `n`, non un newline.\n",
    "\n",
    "- **Testa i Pattern RegEx:**\n",
    "\n",
    "  Prima di implementare un'espressione regolare nel tuo codice, testala utilizzando strumenti online come [regex101](https://regex101.com/) per assicurarti che funzioni come previsto.\n",
    "\n",
    "- **Commenta Pattern Complessi:**\n",
    "\n",
    "  Se il tuo pattern è complesso, considera di utilizzare il flag `re.VERBOSE` per suddividere l'espressione su più righe e aggiungere commenti esplicativi.\n",
    "\n",
    "  ```python\n",
    "  pattern = re.compile(r\"\"\"\n",
    "      ^           # Inizio della stringa\n",
    "      [\\w\\.-]+    # Parte locale dell'email\n",
    "      @           # Simbolo @\n",
    "      [\\w\\.-]+    # Dominio\n",
    "      \\.\\w{2,3}$  # Estensione (.com, .it, etc.)\n",
    "  \"\"\", re.VERBOSE)\n",
    "  ```\n",
    "\n",
    "- **Gestisci le Eccezioni:**\n",
    "\n",
    "  Quando lavori con input utente, assicurati di gestire possibili errori o input non validi per evitare crash dell'applicazione."
   ]
  },
  {
   "cell_type": "markdown",
   "id": "bb5b3637",
   "metadata": {},
   "source": [
    "## **Conclusione**\n",
    "\n",
    "Le espressioni regolari sono uno strumento essenziale per chiunque lavori con la manipolazione di testi in Python. Con il modulo `re`, hai a disposizione un'ampia gamma di funzionalità per cercare, sostituire e validare stringhe in modo efficiente. La comprensione dei metacaratteri e dei pattern ti permetterà di risolvere problemi complessi in modo elegante e conciso."
   ]
  },
  {
   "cell_type": "markdown",
   "id": "7fa667e3",
   "metadata": {},
   "source": [
    "## **Risorse Aggiuntive**\n",
    "\n",
    "- **Documentazione Ufficiale Python**: [re — Regular expression operations](https://docs.python.org/3/library/re.html)\n",
    "- **Libro Consigliato**: [Python Crash Course di Eric Matthes](https://www.amazon.com/Python-Crash-Course-2nd-Edition/dp/1593279280)\n",
    "- **Video Tutorial**: [re Module - How to Write and Match Regular Expressions (Regex)](https://youtu.be/K8L6KVGG-7o?si=PEksg9hBqsGuPZJ6)"
   ]
  }
 ],
 "metadata": {
  "kernelspec": {
   "display_name": "Python 3 (ipykernel)",
   "language": "python",
   "name": "python3"
  },
  "language_info": {
   "codemirror_mode": {
    "name": "ipython",
    "version": 3
   },
   "file_extension": ".py",
   "mimetype": "text/x-python",
   "name": "python",
   "nbconvert_exporter": "python",
   "pygments_lexer": "ipython3",
   "version": "3.10.9"
  }
 },
 "nbformat": 4,
 "nbformat_minor": 5
}
