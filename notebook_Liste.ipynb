{
 "cells": [
  {
   "cell_type": "markdown",
   "id": "a4345a23",
   "metadata": {},
   "source": [
    "# Lezione: Liste in Python\n",
    "\n",
    "## Obiettivi della Lezione\n",
    "\n",
    "Al termine di questa lezione, sarai in grado di:\n",
    "\n",
    "- Comprendere cosa sono le liste in Python e come vengono utilizzate.\n",
    "- Creare e inizializzare liste con diversi tipi di dati.\n",
    "- Accedere e modificare elementi all'interno delle liste.\n",
    "- Utilizzare metodi comuni per aggiungere, rimuovere e manipolare elementi.\n",
    "- Applicare tecniche di slicing per ottenere sottoliste.\n",
    "- Implementare metodi per ordinare e contare elementi nelle liste.\n",
    "\n",
    "## Introduzione\n",
    "\n",
    "Le liste sono una delle strutture dati più versatili e utilizzate in Python. Consentono di raccogliere un insieme ordinato di elementi, che possono essere di tipi diversi, in un'unica variabile. Grazie alla loro flessibilità, le liste sono fondamentali per la gestione di dati dinamici, l'iterazione e la manipolazione di collezioni di elementi.\n",
    "\n",
    "## Spiegazione Teorica\n",
    "\n",
    "### Cosa sono le Liste?\n",
    "\n",
    "Le liste in Python sono sequenze ordinate e modificabili di elementi racchiusi tra parentesi quadre `[ ]`. A differenza di alcune altre lingue di programmazione, gli elementi all'interno di una lista possono essere di tipi diversi.\n",
    "\n",
    "**Sintassi di base:**\n"
   ]
  },
  {
   "cell_type": "markdown",
   "id": "049f27c7",
   "metadata": {},
   "source": [
    "```python\n",
    "nome_lista = [elemento1, elemento2, elemento3, ...]\n",
    "```"
   ]
  },
  {
   "cell_type": "markdown",
   "id": "94db4b1d",
   "metadata": {},
   "source": [
    "\n",
    "**Esempi:**\n",
    "\n",
    "- Lista di numeri interi: `[1, 2, 3, 4, 5]`\n",
    "- Lista di stringhe: `[\"rosso\", \"verde\", \"blu\"]`\n",
    "- Lista mista: `[True, 3.14, \"Python\"]`\n",
    "\n",
    "### Caratteristiche delle Liste\n",
    "\n",
    "- **Ordinata**: Gli elementi hanno un ordine specifico che rimane costante a meno che non venga modificato esplicitamente.\n",
    "- **Indicizzabile**: Ogni elemento ha un indice che inizia da 0.\n",
    "- **Modificabile (Mutable)**: Gli elementi possono essere aggiunti, rimossi o modificati dopo la creazione della lista.\n",
    "- **Permette Duplicati**: Le liste possono contenere elementi duplicati.\n",
    "\n",
    "### Creazione di una Lista\n",
    "\n",
    "**Lista vuota:**\n"
   ]
  },
  {
   "cell_type": "code",
   "execution_count": 2,
   "id": "c6f38b89",
   "metadata": {},
   "outputs": [],
   "source": [
    "lista_vuota = []"
   ]
  },
  {
   "cell_type": "markdown",
   "id": "d01461cf",
   "metadata": {},
   "source": [
    "\n",
    "**Lista con elementi:**\n"
   ]
  },
  {
   "cell_type": "code",
   "execution_count": 3,
   "id": "2039c03c",
   "metadata": {},
   "outputs": [],
   "source": [
    "frutti = [\"mela\", \"banana\", \"ciliegia\"]\n",
    "numeri = [1, 2, 3, 4, 5]\n",
    "miscellanea = [True, 42, \"Python\"]"
   ]
  },
  {
   "cell_type": "markdown",
   "id": "6e58e1d9",
   "metadata": {},
   "source": [
    "\n",
    "### Accesso agli Elementi\n",
    "\n",
    "Gli elementi di una lista possono essere acceduti utilizzando gli indici:\n"
   ]
  },
  {
   "cell_type": "code",
   "execution_count": 4,
   "id": "8caafbfa",
   "metadata": {},
   "outputs": [
    {
     "name": "stdout",
     "output_type": "stream",
     "text": [
      "mela\n",
      "ciliegia\n"
     ]
    }
   ],
   "source": [
    "print(frutti[0])  # Output: mela\n",
    "print(frutti[2])  # Output: ciliegia"
   ]
  },
  {
   "cell_type": "markdown",
   "id": "83e2e7c5",
   "metadata": {},
   "source": [
    "\n",
    "**Indici negativi:**\n",
    "\n",
    "Gli indici negativi permettono di accedere agli elementi partendo dalla fine della lista:\n"
   ]
  },
  {
   "cell_type": "code",
   "execution_count": 5,
   "id": "9304defb",
   "metadata": {},
   "outputs": [
    {
     "name": "stdout",
     "output_type": "stream",
     "text": [
      "ciliegia\n",
      "banana\n"
     ]
    }
   ],
   "source": [
    "print(frutti[-1])  # Output: ciliegia\n",
    "print(frutti[-2])  # Output: banana"
   ]
  },
  {
   "cell_type": "markdown",
   "id": "23fb0107",
   "metadata": {},
   "source": [
    "\n",
    "### Modifica degli Elementi\n",
    "\n",
    "È possibile modificare gli elementi assegnando un nuovo valore all'indice desiderato:\n"
   ]
  },
  {
   "cell_type": "code",
   "execution_count": 6,
   "id": "a34385f0",
   "metadata": {},
   "outputs": [
    {
     "name": "stdout",
     "output_type": "stream",
     "text": [
      "['mela', 'arancia', 'ciliegia']\n"
     ]
    }
   ],
   "source": [
    "frutti[1] = \"arancia\"\n",
    "print(frutti)  # Output: [\"mela\", \"arancia\", \"ciliegia\"]"
   ]
  },
  {
   "cell_type": "markdown",
   "id": "823a498b",
   "metadata": {},
   "source": [
    "\n",
    "### Aggiunta di Elementi\n",
    "\n",
    "- **append()**: Aggiunge un elemento alla fine della lista.\n",
    "\n",
    "  ```python\n",
    "  frutti.append(\"kiwi\")\n",
    "  ```\n",
    "\n",
    "- **insert()**: Inserisce un elemento in una posizione specifica.\n",
    "\n",
    "  ```python\n",
    "  frutti.insert(1, \"limone\")\n",
    "  ```\n",
    "\n",
    "### Rimozione di Elementi\n",
    "\n",
    "- **remove()**: Rimuove il primo elemento con il valore specificato.\n",
    "\n",
    "  ```python\n",
    "  frutti.remove(\"banana\")\n",
    "  ```\n",
    "\n",
    "- **pop()**: Rimuove l'elemento alla posizione specificata (se nessuna, rimuove l'ultimo).\n",
    "\n",
    "  ```python\n",
    "  frutti.pop(2)\n",
    "  frutti.pop()  # Rimuove l'ultimo elemento\n",
    "  ```\n",
    "\n",
    "- **del**: Elimina l'elemento alla posizione specificata o l'intera lista.\n",
    "\n",
    "  ```python\n",
    "  del frutti[0]\n",
    "  del frutti  # Elimina l'intera lista\n",
    "  ```\n",
    "\n",
    "- **clear()**: Rimuove tutti gli elementi dalla lista.\n",
    "\n",
    "  ```python\n",
    "  frutti.clear()\n",
    "  ```\n",
    "\n",
    "### Slicing delle Liste\n",
    "\n",
    "Lo slicing permette di ottenere una sottolista specificando gli indici di inizio e fine:\n"
   ]
  },
  {
   "cell_type": "code",
   "execution_count": 7,
   "id": "3a62e50e",
   "metadata": {},
   "outputs": [],
   "source": [
    "sottolista = frutti[1:3]"
   ]
  },
  {
   "cell_type": "markdown",
   "id": "db78da44",
   "metadata": {},
   "source": [
    "\n",
    "- **sottolista** contiene gli elementi dall'indice 1 all'indice 2 (il limite superiore è escluso).\n",
    "\n",
    "### Metodi Utili per le Liste\n",
    "\n",
    "- **len()**: Restituisce la lunghezza della lista.\n",
    "\n",
    "  ```python\n",
    "  print(len(frutti))  # Numero di elementi nella lista\n",
    "  ```\n",
    "\n",
    "- **sort()**: Ordina gli elementi della lista.\n",
    "\n",
    "  ```python\n",
    "  numeri.sort()\n",
    "  ```\n",
    "\n",
    "- **reverse()**: Inverte l'ordine degli elementi.\n",
    "\n",
    "  ```python\n",
    "  numeri.reverse()\n",
    "  ```\n",
    "\n",
    "- **count()**: Conta quante volte un elemento appare nella lista.\n",
    "\n",
    "  ```python\n",
    "  occorrenze = frutti.count(\"mela\")\n",
    "  ```\n",
    "\n",
    "- **copy()**: Crea una copia della lista.\n",
    "\n",
    "  ```python\n",
    "  nuova_lista = frutti.copy()\n",
    "  ```\n",
    "\n",
    "## Esempi Pratici di Codice\n",
    "\n",
    "### Esempio 1: Creazione e Accesso\n"
   ]
  },
  {
   "cell_type": "code",
   "execution_count": 8,
   "id": "88b3dcae",
   "metadata": {},
   "outputs": [
    {
     "name": "stdout",
     "output_type": "stream",
     "text": [
      "rosso\n",
      "giallo\n"
     ]
    }
   ],
   "source": [
    "# Creazione di una lista di colori\n",
    "colori = [\"rosso\", \"verde\", \"blu\", \"giallo\"]\n",
    "\n",
    "# Accesso al primo e all'ultimo elemento\n",
    "print(colori[0])    # Output: rosso\n",
    "print(colori[-1])   # Output: giallo"
   ]
  },
  {
   "cell_type": "markdown",
   "id": "d15e3773",
   "metadata": {},
   "source": [
    "\n",
    "### Esempio 2: Modifica e Aggiunta\n"
   ]
  },
  {
   "cell_type": "code",
   "execution_count": 9,
   "id": "bda96ea1",
   "metadata": {},
   "outputs": [
    {
     "name": "stdout",
     "output_type": "stream",
     "text": [
      "['rosso', 'viola', 'blu', 'giallo']\n",
      "['rosso', 'viola', 'blu', 'giallo', 'arancione']\n",
      "['rosso', 'bianco', 'viola', 'blu', 'giallo', 'arancione']\n"
     ]
    }
   ],
   "source": [
    "# Modifica del secondo elemento\n",
    "colori[1] = \"viola\"\n",
    "print(colori)  # Output: ['rosso', 'viola', 'blu', 'giallo']\n",
    "\n",
    "# Aggiunta di un nuovo colore alla fine\n",
    "colori.append(\"arancione\")\n",
    "print(colori)  # Output: ['rosso', 'viola', 'blu', 'giallo', 'arancione']\n",
    "\n",
    "# Inserimento di un colore in seconda posizione\n",
    "colori.insert(1, \"bianco\")\n",
    "print(colori)  # Output: ['rosso', 'bianco', 'viola', 'blu', 'giallo', 'arancione']"
   ]
  },
  {
   "cell_type": "markdown",
   "id": "1a15b688",
   "metadata": {},
   "source": [
    "\n",
    "### Esempio 3: Rimozione di Elementi\n"
   ]
  },
  {
   "cell_type": "code",
   "execution_count": 10,
   "id": "b484e3b5",
   "metadata": {},
   "outputs": [
    {
     "name": "stdout",
     "output_type": "stream",
     "text": [
      "['rosso', 'bianco', 'viola', 'giallo', 'arancione']\n",
      "['rosso', 'bianco', 'giallo', 'arancione']\n",
      "['rosso', 'bianco', 'giallo']\n"
     ]
    }
   ],
   "source": [
    "# Rimozione per valore\n",
    "colori.remove(\"blu\")\n",
    "print(colori)  # Output: ['rosso', 'bianco', 'viola', 'giallo', 'arancione']\n",
    "\n",
    "# Rimozione per indice\n",
    "colori.pop(2)\n",
    "print(colori)  # Output: ['rosso', 'bianco', 'giallo', 'arancione']\n",
    "\n",
    "# Rimozione dell'ultimo elemento\n",
    "colori.pop()\n",
    "print(colori)  # Output: ['rosso', 'bianco', 'giallo']"
   ]
  },
  {
   "cell_type": "markdown",
   "id": "a28d18be",
   "metadata": {},
   "source": [
    "\n",
    "### Esempio 4: Slicing\n"
   ]
  },
  {
   "cell_type": "code",
   "execution_count": 11,
   "id": "3d8db812",
   "metadata": {},
   "outputs": [
    {
     "name": "stdout",
     "output_type": "stream",
     "text": [
      "[2, 3, 4]\n",
      "[0, 1, 2, 3]\n",
      "[7, 8, 9]\n"
     ]
    }
   ],
   "source": [
    "numeri = [0, 1, 2, 3, 4, 5, 6, 7, 8, 9]\n",
    "\n",
    "# Sottolista dei numeri da indice 2 a 5 (esclusivo)\n",
    "sub_numeri = numeri[2:5]\n",
    "print(sub_numeri)  # Output: [2, 3, 4]\n",
    "\n",
    "# Sottolista dei primi 4 elementi\n",
    "primi_quattro = numeri[:4]\n",
    "print(primi_quattro)  # Output: [0, 1, 2, 3]\n",
    "\n",
    "# Sottolista degli ultimi 3 elementi\n",
    "ultimi_tre = numeri[-3:]\n",
    "print(ultimi_tre)  # Output: [7, 8, 9]"
   ]
  },
  {
   "cell_type": "markdown",
   "id": "ab001aa5",
   "metadata": {},
   "source": [
    "\n",
    "### Esempio 5: Ordinamento e Conteggio\n"
   ]
  },
  {
   "cell_type": "code",
   "execution_count": 12,
   "id": "840deeda",
   "metadata": {},
   "outputs": [
    {
     "name": "stdout",
     "output_type": "stream",
     "text": [
      "[1, 2, 5, 5, 6, 9]\n",
      "2\n"
     ]
    }
   ],
   "source": [
    "# Lista non ordinata\n",
    "numeri_disordinati = [5, 2, 9, 1, 5, 6]\n",
    "\n",
    "# Ordinamento crescente\n",
    "numeri_disordinati.sort()\n",
    "print(numeri_disordinati)  # Output: [1, 2, 5, 5, 6, 9]\n",
    "\n",
    "# Conteggio delle occorrenze del numero 5\n",
    "conteggio_cinque = numeri_disordinati.count(5)\n",
    "print(conteggio_cinque)  # Output: 2"
   ]
  },
  {
   "cell_type": "markdown",
   "id": "5d7df5c8",
   "metadata": {},
   "source": [
    "\n",
    "## Esercizi Interattivi\n",
    "\n",
    "### Esercizio 1: Creazione di una Lista\n",
    "\n",
    "Crea una lista chiamata `animali` che contenga le seguenti stringhe: `\"cane\"`, `\"gatto\"`, `\"coniglio\"`.\n",
    "\n",
    "**Soluzione:**\n"
   ]
  },
  {
   "cell_type": "code",
   "execution_count": 13,
   "id": "4501a02b",
   "metadata": {},
   "outputs": [],
   "source": [
    "animali = [\"cane\", \"gatto\", \"coniglio\"]"
   ]
  },
  {
   "cell_type": "markdown",
   "id": "4e2444fd",
   "metadata": {},
   "source": [
    "\n",
    "### Esercizio 2: Accesso agli Elementi\n",
    "\n",
    "Utilizza l'indice appropriato per stampare `\"gatto\"` dalla lista `animali`.\n",
    "\n",
    "**Soluzione:**\n"
   ]
  },
  {
   "cell_type": "code",
   "execution_count": 14,
   "id": "1315367d",
   "metadata": {},
   "outputs": [
    {
     "name": "stdout",
     "output_type": "stream",
     "text": [
      "gatto\n"
     ]
    }
   ],
   "source": [
    "print(animali[1])  # Output: gatto"
   ]
  },
  {
   "cell_type": "markdown",
   "id": "e49b72dd",
   "metadata": {},
   "source": [
    "\n",
    "### Esercizio 3: Modifica di un Elemento\n",
    "\n",
    "Cambia il valore `\"coniglio\"` in `\"criceto\"` nella lista `animali`.\n",
    "\n",
    "**Soluzione:**\n"
   ]
  },
  {
   "cell_type": "code",
   "execution_count": 15,
   "id": "48160f7d",
   "metadata": {},
   "outputs": [
    {
     "name": "stdout",
     "output_type": "stream",
     "text": [
      "['cane', 'gatto', 'criceto']\n"
     ]
    }
   ],
   "source": [
    "animali[2] = \"criceto\"\n",
    "print(animali)  # Output: ['cane', 'gatto', 'criceto']"
   ]
  },
  {
   "cell_type": "markdown",
   "id": "f2d8ac15",
   "metadata": {},
   "source": [
    "\n",
    "### Esercizio 4: Aggiunta di un Elemento\n",
    "\n",
    "Aggiungi `\"uccello\"` alla fine della lista `animali`.\n",
    "\n",
    "**Soluzione:**\n"
   ]
  },
  {
   "cell_type": "code",
   "execution_count": 16,
   "id": "437cb7c7",
   "metadata": {},
   "outputs": [
    {
     "name": "stdout",
     "output_type": "stream",
     "text": [
      "['cane', 'gatto', 'criceto', 'uccello']\n"
     ]
    }
   ],
   "source": [
    "animali.append(\"uccello\")\n",
    "print(animali)  # Output: ['cane', 'gatto', 'criceto', 'uccello']"
   ]
  },
  {
   "cell_type": "markdown",
   "id": "aa55374a",
   "metadata": {},
   "source": [
    "\n",
    "### Esercizio 5: Rimozione di un Elemento\n",
    "\n",
    "Rimuovi `\"cane\"` dalla lista `animali` utilizzando il metodo appropriato.\n",
    "\n",
    "**Soluzione:**\n"
   ]
  },
  {
   "cell_type": "code",
   "execution_count": 17,
   "id": "3778d6bf",
   "metadata": {},
   "outputs": [
    {
     "name": "stdout",
     "output_type": "stream",
     "text": [
      "['gatto', 'criceto', 'uccello']\n"
     ]
    }
   ],
   "source": [
    "animali.remove(\"cane\")\n",
    "print(animali)  # Output: ['gatto', 'criceto', 'uccello']"
   ]
  },
  {
   "cell_type": "markdown",
   "id": "50f6c4ac",
   "metadata": {},
   "source": [
    "\n",
    "### Esercizio 6: Slicing di una Lista\n",
    "\n",
    "Dalla lista `numeri = [10, 20, 30, 40, 50, 60, 70, 80]`, ottieni una sottolista che contenga `[30, 40, 50]`.\n",
    "\n",
    "**Soluzione:**\n"
   ]
  },
  {
   "cell_type": "code",
   "execution_count": 18,
   "id": "abdb3453",
   "metadata": {},
   "outputs": [
    {
     "name": "stdout",
     "output_type": "stream",
     "text": [
      "[30, 40, 50]\n"
     ]
    }
   ],
   "source": [
    "numeri = [10, 20, 30, 40, 50, 60, 70, 80]\n",
    "sub_numeri = numeri[2:5]\n",
    "print(sub_numeri)  # Output: [30, 40, 50]"
   ]
  },
  {
   "cell_type": "markdown",
   "id": "e0f3c56f",
   "metadata": {},
   "source": [
    "\n",
    "### Esercizio 7: Ordinamento di una Lista\n",
    "\n",
    "Dato `numeri = [4, 2, 8, 1, 5]`, ordina la lista in ordine crescente.\n",
    "\n",
    "**Soluzione:**\n"
   ]
  },
  {
   "cell_type": "code",
   "execution_count": 19,
   "id": "805ba4b4",
   "metadata": {},
   "outputs": [
    {
     "name": "stdout",
     "output_type": "stream",
     "text": [
      "[1, 2, 4, 5, 8]\n"
     ]
    }
   ],
   "source": [
    "numeri = [4, 2, 8, 1, 5]\n",
    "numeri.sort()\n",
    "print(numeri)  # Output: [1, 2, 4, 5, 8]"
   ]
  },
  {
   "cell_type": "markdown",
   "id": "5cc3d7f3",
   "metadata": {},
   "source": [
    "\n",
    "## Buone Pratiche e Consigli\n",
    "\n",
    "- **Usa nomi significativi**: Assegna alle tue liste nomi che riflettano il loro contenuto per migliorare la leggibilità del codice.\n",
    "  \n",
    "  ```python\n",
    "  studenti = [\"Marco\", \"Giulia\", \"Luca\"]\n",
    "  ```\n",
    "\n",
    "- **Attenzione agli indici fuori range**: Assicurati che gli indici utilizzati siano validi per evitare errori di runtime.\n",
    "\n",
    "- **Copiare Liste**: Per creare una copia di una lista senza collegarla alla lista originale, usa il metodo `copy()` o lo slicing `[:]`.\n",
    "\n",
    "  ```python\n",
    "  lista_originale = [1, 2, 3]\n",
    "  lista_copia = lista_originale.copy()\n",
    "  # oppure\n",
    "  lista_copia = lista_originale[:]\n",
    "  ```\n",
    "\n",
    "- **Evitare modifiche indesiderate**: Quando passi una lista a una funzione, ricorda che le liste sono mutabili; eventuali modifiche nella funzione influenzeranno la lista originale.\n",
    "\n",
    "- **Utilizza le liste in modo efficiente**: Quando possibile, utilizza le comprensioni di lista per creare nuove liste in modo conciso.\n",
    "\n",
    "  ```python\n",
    "  quadrati = [x**2 for x in range(10)]\n",
    "  ```\n",
    "\n",
    "## Conclusione\n",
    "\n",
    "Le liste sono strumenti potenti e flessibili che ti permettono di gestire collezioni di dati in Python in modo efficiente. La comprensione approfondita delle operazioni sulle liste è fondamentale per la scrittura di codice Python robusto e leggibile. Continua a praticare le operazioni sulle liste per padroneggiare questa fondamentale struttura dati.\n",
    "\n",
    "## Risorse Aggiuntive\n",
    "- **Documentazione Ufficiale Python**: [Sequence Types — list, tuple, range](https://docs.python.org/3/library/stdtypes.html#sequence-types-list-tuple-range)\n",
    "- **Libro Consigliato**: [Python Crash Course di Eric Matthes](https://www.amazon.com/Python-Crash-Course-2nd-Edition/dp/1593279280)\n",
    "- **Video Tutorial**: [Lists, Tuples, and Sets](https://youtu.be/W8KRzm-HUcc?si=NQuVYNBcCnE_VsuO)\n"
   ]
  }
 ],
 "metadata": {
  "kernelspec": {
   "display_name": "Python 3 (ipykernel)",
   "language": "python",
   "name": "python3"
  },
  "language_info": {
   "codemirror_mode": {
    "name": "ipython",
    "version": 3
   },
   "file_extension": ".py",
   "mimetype": "text/x-python",
   "name": "python",
   "nbconvert_exporter": "python",
   "pygments_lexer": "ipython3",
   "version": "3.10.9"
  }
 },
 "nbformat": 4,
 "nbformat_minor": 5
}
