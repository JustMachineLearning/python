{
 "cells": [
  {
   "cell_type": "markdown",
   "id": "77ff06dd",
   "metadata": {},
   "source": [
    "# **Matematica in Python**\n",
    "\n",
    "## **Obiettivi della Lezione**\n",
    "\n",
    "Al termine di questa lezione, sarai in grado di:\n",
    "\n",
    "- Comprendere come utilizzare gli operatori matematici base in Python.\n",
    "- Utilizzare il modulo integrato `math` per funzioni matematiche avanzate.\n",
    "- Lavorare con i numeri complessi in Python.\n",
    "- Gestire numeri decimali con precisione utilizzando il modulo `decimal`.\n",
    "- Operare con frazioni utilizzando il modulo `fractions`."
   ]
  },
  {
   "cell_type": "markdown",
   "id": "6ff552f8",
   "metadata": {},
   "source": [
    "## **Introduzione**\n",
    "\n",
    "La programmazione è spesso utilizzata per risolvere problemi matematici, eseguire calcoli complessi o analizzare dati numerici. Python, con la sua sintassi semplice e le potenti librerie matematiche, è uno strumento eccellente per queste attività. In questa lezione, esploreremo come Python gestisce le operazioni matematiche, dalle più semplici alle più avanzate, e come utilizzare i moduli integrati per estendere le capacità matematiche del linguaggio."
   ]
  },
  {
   "cell_type": "markdown",
   "id": "53963997",
   "metadata": {},
   "source": [
    "## **Spiegazione Teorica**\n",
    "\n",
    "### **Operatori Matematici Base**\n",
    "\n",
    "In Python, puoi eseguire operazioni matematiche utilizzando operatori aritmetici standard:\n",
    "\n",
    "- `+` : addizione\n",
    "- `-` : sottrazione\n",
    "- `*` : moltiplicazione\n",
    "- `/` : divisione (risultato in float)\n",
    "- `//` : divisione intera (parte intera del quoziente)\n",
    "- `%` : modulo (resto della divisione)\n",
    "- `**` : esponenziazione\n",
    "\n",
    "### **Il Modulo `math`**\n",
    "\n",
    "Il modulo `math` fornisce funzioni matematiche avanzate, come funzioni trigonometriche, logaritmi e costanti matematiche come π e e.\n",
    "\n",
    "Per utilizzare le funzioni di questo modulo, è necessario importarlo:\n"
   ]
  },
  {
   "cell_type": "code",
   "execution_count": 1,
   "id": "9f391e80",
   "metadata": {},
   "outputs": [],
   "source": [
    "import math"
   ]
  },
  {
   "cell_type": "markdown",
   "id": "f57194f4",
   "metadata": {},
   "source": [
    "\n",
    "### **Numeri Complessi**\n",
    "\n",
    "Python supporta i numeri complessi, che hanno una parte reale e una immaginaria. Sono utili in molti campi dell'ingegneria e della fisica.\n",
    "\n",
    "### **Modulo `decimal`**\n",
    "\n",
    "Per calcoli che richiedono un'elevata precisione numerica, il modulo `decimal` permette operazioni sui numeri decimali con precisione arbitraria.\n",
    "\n",
    "### **Modulo `fractions`**\n",
    "\n",
    "Il modulo `fractions` consente di creare e manipolare numeri razionali rappresentati come frazioni (numeratore e denominatore interi)."
   ]
  },
  {
   "cell_type": "markdown",
   "id": "d2292e62",
   "metadata": {},
   "source": [
    "## **Esempi Pratici di Codice**\n",
    "\n",
    "### **Utilizzo degli Operatori Matematici Base**\n"
   ]
  },
  {
   "cell_type": "code",
   "execution_count": 2,
   "id": "78a59779",
   "metadata": {},
   "outputs": [
    {
     "name": "stdout",
     "output_type": "stream",
     "text": [
      "Somma: 15\n",
      "Differenza: 5\n",
      "Prodotto: 50\n",
      "Quoziente: 2.0\n",
      "Quoziente intero: 2\n",
      "Resto: 0\n",
      "Potenza: 100000\n"
     ]
    }
   ],
   "source": [
    "# Addizione\n",
    "a = 10\n",
    "b = 5\n",
    "somma = a + b\n",
    "print(\"Somma:\", somma)  # Output: Somma: 15\n",
    "\n",
    "# Sottrazione\n",
    "differenza = a - b\n",
    "print(\"Differenza:\", differenza)  # Output: Differenza: 5\n",
    "\n",
    "# Moltiplicazione\n",
    "prodotto = a * b\n",
    "print(\"Prodotto:\", prodotto)  # Output: Prodotto: 50\n",
    "\n",
    "# Divisione\n",
    "quoziente = a / b\n",
    "print(\"Quoziente:\", quoziente)  # Output: Quoziente: 2.0\n",
    "\n",
    "# Divisione intera\n",
    "quoziente_intero = a // b\n",
    "print(\"Quoziente intero:\", quoziente_intero)  # Output: Quoziente intero: 2\n",
    "\n",
    "# Modulo\n",
    "resto = a % b\n",
    "print(\"Resto:\", resto)  # Output: Resto: 0\n",
    "\n",
    "# Esponenziazione\n",
    "potenza = a ** b\n",
    "print(\"Potenza:\", potenza)  # Output: Potenza: 100000"
   ]
  },
  {
   "cell_type": "markdown",
   "id": "22528f4b",
   "metadata": {},
   "source": [
    "\n",
    "### **Funzioni del Modulo `math`**\n"
   ]
  },
  {
   "cell_type": "code",
   "execution_count": 3,
   "id": "598122c8",
   "metadata": {},
   "outputs": [
    {
     "name": "stdout",
     "output_type": "stream",
     "text": [
      "Pi greco: 3.141592653589793\n",
      "Numero di Eulero: 2.718281828459045\n",
      "Seno: 0.7071067811865476\n",
      "Coseno: 0.7071067811865476\n",
      "Logaritmo naturale di e: 1.0\n",
      "Logaritmo in base 10 di 1000: 3.0\n",
      "Radice quadrata di 16: 4.0\n",
      "Fattoriale di 5: 120\n"
     ]
    }
   ],
   "source": [
    "import math\n",
    "\n",
    "# Costanti matematiche\n",
    "print(\"Pi greco:\", math.pi)  # Output: Pi greco: 3.141592653589793\n",
    "print(\"Numero di Eulero:\", math.e)  # Output: Numero di Eulero: 2.718281828459045\n",
    "\n",
    "# Funzioni trigonometriche\n",
    "angolo = math.pi / 4  # 45 gradi in radianti\n",
    "print(\"Seno:\", math.sin(angolo))  # Output: Seno: 0.7071067811865475\n",
    "print(\"Coseno:\", math.cos(angolo))  # Output: Coseno: 0.7071067811865476\n",
    "\n",
    "# Logaritmi\n",
    "print(\"Logaritmo naturale di e:\", math.log(math.e))  # Output: Logaritmo naturale di e: 1.0\n",
    "print(\"Logaritmo in base 10 di 1000:\", math.log10(1000))  # Output: Logaritmo in base 10 di 1000: 3.0\n",
    "\n",
    "# Radice quadrata\n",
    "print(\"Radice quadrata di 16:\", math.sqrt(16))  # Output: Radice quadrata di 16: 4.0\n",
    "\n",
    "# Operazioni sul resto\n",
    "print(\"Fattoriale di 5:\", math.factorial(5))  # Output: Fattoriale di 5: 120"
   ]
  },
  {
   "cell_type": "markdown",
   "id": "6c21c20f",
   "metadata": {},
   "source": [
    "\n",
    "### **Numeri Complessi**\n"
   ]
  },
  {
   "cell_type": "code",
   "execution_count": 4,
   "id": "38b35e36",
   "metadata": {},
   "outputs": [
    {
     "name": "stdout",
     "output_type": "stream",
     "text": [
      "Numero complesso: (3+4j)\n",
      "Parte reale: 3.0\n",
      "Parte immaginaria: 4.0\n",
      "Modulo: 5.0\n"
     ]
    }
   ],
   "source": [
    "# Creazione di un numero complesso\n",
    "z = 3 + 4j\n",
    "print(\"Numero complesso:\", z)  # Output: Numero complesso: (3+4j)\n",
    "\n",
    "# Parte reale e immaginaria\n",
    "print(\"Parte reale:\", z.real)       # Output: Parte reale: 3.0\n",
    "print(\"Parte immaginaria:\", z.imag) # Output: Parte immaginaria: 4.0\n",
    "\n",
    "# Modulo e argomento\n",
    "modulo = abs(z)\n",
    "print(\"Modulo:\", modulo)  # Output: Modulo: 5.0"
   ]
  },
  {
   "cell_type": "markdown",
   "id": "1e052907",
   "metadata": {},
   "source": [
    "\n",
    "### **Utilizzo del Modulo `decimal`**\n"
   ]
  },
  {
   "cell_type": "code",
   "execution_count": 5,
   "id": "44fc067c",
   "metadata": {},
   "outputs": [
    {
     "name": "stdout",
     "output_type": "stream",
     "text": [
      "Somma con Decimal: 3.58025\n"
     ]
    }
   ],
   "source": [
    "from decimal import Decimal, getcontext\n",
    "\n",
    "# Impostare la precisione\n",
    "getcontext().prec = 6\n",
    "\n",
    "# Operazioni con Decimal\n",
    "a = Decimal('1.23456789')\n",
    "b = Decimal('2.34567891')\n",
    "somma = a + b\n",
    "print(\"Somma con Decimal:\", somma)  # Output: Somma con Decimal: 3.58025"
   ]
  },
  {
   "cell_type": "markdown",
   "id": "eda4e73a",
   "metadata": {},
   "source": [
    "\n",
    "### **Utilizzo del Modulo `fractions`**\n"
   ]
  },
  {
   "cell_type": "code",
   "execution_count": 6,
   "id": "5ece1e2c",
   "metadata": {},
   "outputs": [
    {
     "name": "stdout",
     "output_type": "stream",
     "text": [
      "Somma di frazioni: 11/15\n",
      "Frazione come float: 0.7333333333333333\n"
     ]
    }
   ],
   "source": [
    "from fractions import Fraction\n",
    "\n",
    "# Creazione di frazioni\n",
    "f1 = Fraction(1, 3)\n",
    "f2 = Fraction(2, 5)\n",
    "\n",
    "# Operazioni con frazioni\n",
    "somma = f1 + f2\n",
    "print(\"Somma di frazioni:\", somma)  # Output: Somma di frazioni: 11/15\n",
    "\n",
    "# Convertire una frazione in float\n",
    "print(\"Frazione come float:\", float(somma))  # Output: Frazione come float: 0.7333333333333333"
   ]
  },
  {
   "cell_type": "markdown",
   "id": "54a46c98",
   "metadata": {},
   "source": [
    "## **Esercizi Interattivi**\n",
    "\n",
    "1. **Calcolo dell'Ipotenusa**\n",
    "\n",
    "   Scrivi un programma che, dati i cateti di un triangolo rettangolo, calcoli l'ipotenusa utilizzando il teorema di Pitagora.\n",
    "\n",
    "   ```python\n",
    "   import math\n",
    "\n",
    "   # Inserisci i valori dei cateti\n",
    "   a = float(input(\"Inserisci il primo cateto: \"))\n",
    "   b = float(input(\"Inserisci il secondo cateto: \"))\n",
    "\n",
    "   # Calcola l'ipotenusa\n",
    "   # Il tuo codice qui\n",
    "\n",
    "   print(\"L'ipotenusa è:\", ipotenusa)\n",
    "   ```\n",
    "\n",
    "2. **Area di un Cerchio**\n",
    "\n",
    "   Utilizzando il modulo `math`, scrivi un programma che calcoli l'area di un cerchio dato il raggio inserito dall'utente.\n",
    "\n",
    "   ```python\n",
    "   import math\n",
    "\n",
    "   # Inserisci il valore del raggio\n",
    "   raggio = float(input(\"Inserisci il raggio del cerchio: \"))\n",
    "\n",
    "   # Calcola l'area\n",
    "   # Il tuo codice qui\n",
    "\n",
    "   print(\"L'area del cerchio è:\", area)\n",
    "   ```\n",
    "\n",
    "3. **Somma di Frazioni**\n",
    "\n",
    "   Chiedi all'utente di inserire due frazioni (numeratore e denominatore) e calcola la loro somma utilizzando il modulo `fractions`.\n",
    "\n",
    "   ```python\n",
    "   from fractions import Fraction\n",
    "\n",
    "   # Inserisci la prima frazione\n",
    "   num1 = int(input(\"Inserisci il numeratore della prima frazione: \"))\n",
    "   den1 = int(input(\"Inserisci il denominatore della prima frazione: \"))\n",
    "\n",
    "   # Inserisci la seconda frazione\n",
    "   num2 = int(input(\"Inserisci il numeratore della seconda frazione: \"))\n",
    "   den2 = int(input(\"Inserisci il denominatore della seconda frazione: \"))\n",
    "\n",
    "   # Calcola la somma delle frazioni\n",
    "   # Il tuo codice qui\n",
    "\n",
    "   print(\"La somma delle frazioni è:\", somma)\n",
    "   ```"
   ]
  },
  {
   "cell_type": "markdown",
   "id": "8b0da876",
   "metadata": {},
   "source": [
    "## **Buone Pratiche e Consigli**\n",
    "\n",
    "- **Importare Solo Ciò che Serve**: se utilizzi solo alcune funzioni di un modulo, puoi importarle direttamente per rendere il codice più pulito.\n",
    "\n",
    "  ```python\n",
    "  from math import sqrt, pi\n",
    "  ```\n",
    "\n",
    "- **Usare Nomi Significativi**: quando lavori con formule matematiche, utilizza nomi di variabili che riflettano il loro significato (es. `raggio`, `area`, `volume`).\n",
    "\n",
    "- **Commenta il Codice**: per calcoli complessi, aggiungi commenti che spieghino i passaggi matematici.\n",
    "\n",
    "- **Gestire l'Arrotondamento**: quando lavori con numeri in virgola mobile, sii consapevole delle possibili imprecisioni e utilizza il modulo `decimal` se necessiti di maggiore precisione.\n",
    "\n",
    "- **Evitare Divisioni per Zero**: assicurati sempre che i denominatori non siano zero per evitare errori di runtime."
   ]
  },
  {
   "cell_type": "markdown",
   "id": "09e9fe87",
   "metadata": {},
   "source": [
    "## **Conclusione**\n",
    "\n",
    "In questa lezione, abbiamo esplorato le capacità matematiche di Python, dalle operazioni aritmetiche di base all'utilizzo di moduli specializzati come `math`, `decimal` e `fractions`. Questi strumenti ti permettono di affrontare una vasta gamma di problemi matematici e di eseguire calcoli con la precisione richiesta dalle tue applicazioni. Sperimenta con questi moduli e incorporali nei tuoi progetti per sfruttare al massimo le potenzialità di Python."
   ]
  },
  {
   "cell_type": "markdown",
   "id": "6b696b06",
   "metadata": {},
   "source": [
    "## **Risorse Aggiuntive**\n",
    "\n",
    "\n",
    "- **Documentazione Ufficiale Python:**\n",
    "\n",
    "  - [math — Funzioni matematiche](https://docs.python.org/3/library/math.html)\n",
    "  - [decimal — Calcolo decimale con precisione](https://docs.python.org/3/library/decimal.html)\n",
    "  - [fractions — Numeri razionali](https://docs.python.org/3/library/fractions.html)\n",
    "\n",
    "- **Libro Consigliato**: [Python Crash Course di Eric Matthes](https://www.amazon.com/Python-Crash-Course-2nd-Edition/dp/1593279280)\n",
    "\n",
    "- **Video Tutorial**: [Import Math Functions in Python](https://youtu.be/EkYrfV7M1ks?si=7U1UloMFwsWvY6U9)\n"
   ]
  }
 ],
 "metadata": {
  "kernelspec": {
   "display_name": "Python 3 (ipykernel)",
   "language": "python",
   "name": "python3"
  },
  "language_info": {
   "codemirror_mode": {
    "name": "ipython",
    "version": 3
   },
   "file_extension": ".py",
   "mimetype": "text/x-python",
   "name": "python",
   "nbconvert_exporter": "python",
   "pygments_lexer": "ipython3",
   "version": "3.10.9"
  }
 },
 "nbformat": 4,
 "nbformat_minor": 5
}
