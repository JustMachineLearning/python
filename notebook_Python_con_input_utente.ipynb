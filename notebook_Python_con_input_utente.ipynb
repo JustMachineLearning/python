{
 "cells": [
  {
   "cell_type": "markdown",
   "id": "72e7433b",
   "metadata": {},
   "source": [
    "# Python con Input Utente\n",
    "\n",
    "## Obiettivi della Lezione\n",
    "\n",
    "Al termine di questa lezione, sarai in grado di:\n",
    "\n",
    "- Utilizzare la funzione `input()` per ricevere dati dall'utente.\n",
    "- Comprendere come gestire e processare l'input fornito dall'utente.\n",
    "- Convertire l'input dell'utente in diversi tipi di dati (ad esempio, interi o float).\n",
    "- Creare programmi interattivi che reagiscono dinamicamente all'input dell'utente.\n",
    "\n",
    "## Introduzione\n",
    "\n",
    "Creare programmi interattivi è una parte fondamentale dello sviluppo software. L'interazione con l'utente permette di ottenere dati dall'esterno e rendere le applicazioni più dinamiche e utili. In Python, l'interazione con l'utente avviene principalmente attraverso la funzione `input()`, che consente di acquisire dati inseriti dall'utente tramite la tastiera.\n",
    "\n",
    "## Spiegazione Teorica\n",
    "\n",
    "### La Funzione `input()`\n",
    "\n",
    "La funzione `input()` viene utilizzata per leggere una linea di testo digitata dall'utente. Quando il programma esegue `input()`, l'esecuzione si blocca finché l'utente non inserisce un valore e preme il tasto **Invio**.\n",
    "\n",
    "**Sintassi:**\n"
   ]
  },
  {
   "cell_type": "code",
   "execution_count": 5,
   "id": "793376cc",
   "metadata": {},
   "outputs": [
    {
     "name": "stdout",
     "output_type": "stream",
     "text": [
      "Messaggio per l'utente: Ciao, come posso aiutarti?\n"
     ]
    }
   ],
   "source": [
    "variabile = input(\"Messaggio per l'utente: \")"
   ]
  },
  {
   "cell_type": "markdown",
   "id": "1135a75e",
   "metadata": {},
   "source": [
    "\n",
    "- **`\"Messaggio per l'utente: \"`**: È una stringa opzionale che viene visualizzata come prompt per l'utente.\n",
    "\n",
    "**Esempio:**\n"
   ]
  },
  {
   "cell_type": "code",
   "execution_count": 3,
   "id": "86dc43a1",
   "metadata": {},
   "outputs": [
    {
     "name": "stdout",
     "output_type": "stream",
     "text": [
      "Inserisci il tuo nome: Marco\n"
     ]
    }
   ],
   "source": [
    "nome = input(\"Inserisci il tuo nome: \")"
   ]
  },
  {
   "cell_type": "markdown",
   "id": "eed4aa8f",
   "metadata": {},
   "source": [
    "\n",
    "In questo esempio, il programma chiederà all'utente di inserire il proprio nome e lo memorizzerà nella variabile `nome`.\n",
    "\n",
    "### Tipo di Dato Restituito\n",
    "\n",
    "La funzione `input()` restituisce sempre una stringa (`str`), indipendentemente da ciò che l'utente inserisce. Questo significa che se hai bisogno di un altro tipo di dato (ad esempio, un numero intero o un valore in virgola mobile), dovrai convertire esplicitamente l'input.\n",
    "\n",
    "### Conversione dell'Input dell'Utente\n",
    "\n",
    "Per convertire l'input dell'utente in altri tipi di dati, puoi utilizzare le funzioni di casting:\n",
    "\n",
    "- **Convertire in intero (`int`)**:"
   ]
  },
  {
   "cell_type": "code",
   "execution_count": 6,
   "id": "256865d4",
   "metadata": {},
   "outputs": [
    {
     "name": "stdout",
     "output_type": "stream",
     "text": [
      "Inserisci la tua età: 33\n",
      "<class 'int'>\n"
     ]
    }
   ],
   "source": [
    "eta = int(input(\"Inserisci la tua età: \"))\n",
    "\n",
    "print(type(eta))"
   ]
  },
  {
   "cell_type": "markdown",
   "id": "17d086af",
   "metadata": {},
   "source": [
    "- **Convertire in float (`float`)**:"
   ]
  },
  {
   "cell_type": "code",
   "execution_count": 8,
   "id": "2f3deb16",
   "metadata": {},
   "outputs": [
    {
     "name": "stdout",
     "output_type": "stream",
     "text": [
      "Inserisci la tua altezza in metri: 1.72\n",
      "<class 'float'>\n"
     ]
    }
   ],
   "source": [
    "altezza = float(input(\"Inserisci la tua altezza in metri: \"))\n",
    "\n",
    "print(type(altezza))"
   ]
  },
  {
   "cell_type": "markdown",
   "id": "06f1148f",
   "metadata": {},
   "source": [
    "**Attenzione:** Se l'utente inserisce un valore che non può essere convertito (ad esempio, inserisce \"abc\" quando viene richiesto un numero), il programma genererà un errore (`ValueError`).\n"
   ]
  },
  {
   "cell_type": "code",
   "execution_count": 10,
   "id": "dced6fad",
   "metadata": {},
   "outputs": [
    {
     "name": "stdout",
     "output_type": "stream",
     "text": [
      "Inserisci la tua altezza in metri: abc\n"
     ]
    },
    {
     "ename": "ValueError",
     "evalue": "could not convert string to float: 'abc'",
     "output_type": "error",
     "traceback": [
      "\u001b[1;31m---------------------------------------------------------------------------\u001b[0m",
      "\u001b[1;31mValueError\u001b[0m                                Traceback (most recent call last)",
      "Cell \u001b[1;32mIn[10], line 1\u001b[0m\n\u001b[1;32m----> 1\u001b[0m altezza \u001b[38;5;241m=\u001b[39m \u001b[38;5;28;43mfloat\u001b[39;49m\u001b[43m(\u001b[49m\u001b[38;5;28;43minput\u001b[39;49m\u001b[43m(\u001b[49m\u001b[38;5;124;43m\"\u001b[39;49m\u001b[38;5;124;43mInserisci la tua altezza in metri: \u001b[39;49m\u001b[38;5;124;43m\"\u001b[39;49m\u001b[43m)\u001b[49m\u001b[43m)\u001b[49m\n",
      "\u001b[1;31mValueError\u001b[0m: could not convert string to float: 'abc'"
     ]
    }
   ],
   "source": [
    "altezza = float(input(\"Inserisci la tua altezza in metri: \"))"
   ]
  },
  {
   "cell_type": "markdown",
   "id": "e510896e",
   "metadata": {},
   "source": [
    "## Esempi Pratici di Codice\n",
    "\n",
    "### Esempio 1: Saluto Personalizzato"
   ]
  },
  {
   "cell_type": "code",
   "execution_count": 12,
   "id": "29ecd853",
   "metadata": {},
   "outputs": [
    {
     "name": "stdout",
     "output_type": "stream",
     "text": [
      "Come ti chiami? Marco\n",
      "Ciao, Marco! Benvenuto nel nostro programma.\n"
     ]
    }
   ],
   "source": [
    "nome = input(\"Come ti chiami? \")\n",
    "print(\"Ciao, \" + nome + \"! Benvenuto nel nostro programma.\")"
   ]
  },
  {
   "cell_type": "markdown",
   "id": "5ddc093e",
   "metadata": {},
   "source": [
    "\n",
    "**Spiegazione:**\n",
    "\n",
    "- Chiediamo all'utente il suo nome.\n",
    "- Salutiamo l'utente utilizzando il nome fornito.\n",
    "\n",
    "### Esempio 2: Calcolatrice Semplice\n"
   ]
  },
  {
   "cell_type": "code",
   "execution_count": 13,
   "id": "70f6ee0b",
   "metadata": {},
   "outputs": [
    {
     "name": "stdout",
     "output_type": "stream",
     "text": [
      "Inserisci il primo numero: 22\n",
      "Inserisci il secondo numero: 11\n",
      "La somma dei due numeri è: 33.0\n"
     ]
    }
   ],
   "source": [
    "numero1 = float(input(\"Inserisci il primo numero: \"))\n",
    "numero2 = float(input(\"Inserisci il secondo numero: \"))\n",
    "somma = numero1 + numero2\n",
    "print(\"La somma dei due numeri è:\", somma)"
   ]
  },
  {
   "cell_type": "markdown",
   "id": "e4a13c3c",
   "metadata": {},
   "source": [
    "\n",
    "**Spiegazione:**\n",
    "\n",
    "- Convertiamo l'input dell'utente in numeri in virgola mobile per consentire operazioni aritmetiche.\n",
    "- Calcoliamo la somma e la visualizziamo.\n",
    "\n",
    "### Esempio 3: Messaggio di Età\n"
   ]
  },
  {
   "cell_type": "code",
   "execution_count": 14,
   "id": "059a9472",
   "metadata": {},
   "outputs": [
    {
     "name": "stdout",
     "output_type": "stream",
     "text": [
      "Quanti anni hai? 22\n",
      "Compirai 100 anni tra 78 anni!\n"
     ]
    }
   ],
   "source": [
    "eta = int(input(\"Quanti anni hai? \"))\n",
    "anni_per_centenario = 100 - eta\n",
    "print(\"Compirai 100 anni tra\", anni_per_centenario, \"anni!\")"
   ]
  },
  {
   "cell_type": "markdown",
   "id": "fd5f49b1",
   "metadata": {},
   "source": [
    "\n",
    "**Spiegazione:**\n",
    "\n",
    "- Convertiamo l'età inserita in un intero.\n",
    "- Calcoliamo quanti anni mancano per arrivare a 100 anni.\n",
    "- Mostriamo il messaggio all'utente.\n",
    "\n",
    "## Esercizi Interattivi\n",
    "\n",
    "### Esercizio 1: Area di un Rettangolo\n",
    "\n",
    "Scrivi un programma che chieda all'utente la larghezza e l'altezza di un rettangolo e calcoli l'area.\n",
    "\n",
    "**Esempio di Output:**\n",
    "\n",
    "```\n",
    "Inserisci la larghezza del rettangolo: 5\n",
    "Inserisci l'altezza del rettangolo: 3\n",
    "L'area del rettangolo è: 15\n",
    "```\n",
    "\n",
    "**Soluzione:**\n"
   ]
  },
  {
   "cell_type": "code",
   "execution_count": 16,
   "id": "c2ff09ff",
   "metadata": {},
   "outputs": [
    {
     "name": "stdout",
     "output_type": "stream",
     "text": [
      "Inserisci la larghezza del rettangolo: 2\n",
      "Inserisci l'altezza del rettangolo: 4\n",
      "L'area del rettangolo è: 8.0\n"
     ]
    }
   ],
   "source": [
    "larghezza = float(input(\"Inserisci la larghezza del rettangolo: \"))\n",
    "altezza = float(input(\"Inserisci l'altezza del rettangolo: \"))\n",
    "area = larghezza * altezza\n",
    "print(\"L'area del rettangolo è:\", area)"
   ]
  },
  {
   "cell_type": "markdown",
   "id": "9bae8f13",
   "metadata": {},
   "source": [
    "\n",
    "### Esercizio 2: Convertitore di Valuta\n",
    "\n",
    "Crea un programma che converta da Euro a Dollari. Chiedi all'utente quanti Euro vuole convertire e visualizza l'equivalente in Dollari. Usa un tasso di cambio fisso (ad esempio, 1 Euro = 1.10 Dollari).\n",
    "\n",
    "**Esempio di Output:**\n",
    "\n",
    "```\n",
    "Inserisci l'importo in Euro: 50\n",
    "L'equivalente in Dollari è: 55.0\n",
    "```\n",
    "\n",
    "### Esercizio 3: BMI Calculator\n",
    "\n",
    "Scrivi un programma che calcoli l'Indice di Massa Corporea (BMI) dell'utente. Chiedi all'utente il peso in chilogrammi e l'altezza in metri, quindi calcola il BMI utilizzando la formula:\n",
    "\n",
    "$$ \n",
    "BMI = \\frac{\\text{peso}}{\\text{altezza}^2} \n",
    "$$\n",
    "\n",
    "\n",
    "**Esempio di Output:**\n",
    "\n",
    "```\n",
    "Inserisci il tuo peso in kg: 70\n",
    "Inserisci la tua altezza in metri: 1.75\n",
    "Il tuo BMI è: 22.86\n",
    "```\n",
    "\n",
    "## Buone Pratiche e Consigli\n",
    "\n",
    "- **Validazione dell'Input**: Prima di utilizzare l'input dell'utente, è buona norma verificarne la validità.\n",
    "\n",
    "  ```python\n",
    "  try:\n",
    "      numero = int(input(\"Inserisci un numero intero: \"))\n",
    "  except ValueError:\n",
    "      print(\"Errore: per favore inserisci un numero valido.\")\n",
    "  ```\n",
    "\n",
    "- **Messaggi Chiari**: Fornisci prompt chiari e informativi per guidare l'utente.\n",
    "\n",
    "- **Gestione degli Errori**: Prevedi possibili errori dovuti all'input e gestiscili adeguatamente.\n",
    "\n",
    "- **Commenti nel Codice**: Usa commenti per spiegare parti del codice che potrebbero non essere immediatamente comprensibili.\n",
    "\n",
    "- **Testing**: Prova il tuo programma con diversi input per assicurarti che gestisca correttamente tutti i casi.\n",
    "\n",
    "## Conclusione\n",
    "\n",
    "L'utilizzo dell'input utente permette di creare programmi interattivi e personalizzati. Sapere come acquisire e gestire l'input è fondamentale per sviluppare applicazioni utili e user-friendly. Ricorda di gestire sempre l'input con attenzione, effettuando le necessarie conversioni e validazioni per garantire il corretto funzionamento del tuo programma.\n",
    "\n",
    "## Risorse Aggiuntive\n",
    "\n",
    "- **Documentazione Ufficiale Python**: [Input](https://docs.python.org/3/library/functions.html#input)\n",
    "\n",
    "- **Libro Consigliato**: [Python Crash Course di Eric Matthes](https://www.amazon.com/Python-Crash-Course-2nd-Edition/dp/1593279280)\n",
    "- **Video Tutorial**: [Python user input](https://youtu.be/DB9Cq6TSTuQ?si=i9rWtUKz3UGXsngL)"
   ]
  }
 ],
 "metadata": {
  "kernelspec": {
   "display_name": "Python 3 (ipykernel)",
   "language": "python",
   "name": "python3"
  },
  "language_info": {
   "codemirror_mode": {
    "name": "ipython",
    "version": 3
   },
   "file_extension": ".py",
   "mimetype": "text/x-python",
   "name": "python",
   "nbconvert_exporter": "python",
   "pygments_lexer": "ipython3",
   "version": "3.10.9"
  }
 },
 "nbformat": 4,
 "nbformat_minor": 5
}
