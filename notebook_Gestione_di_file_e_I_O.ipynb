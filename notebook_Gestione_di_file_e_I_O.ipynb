{
 "cells": [
  {
   "cell_type": "markdown",
   "id": "a3564d48",
   "metadata": {},
   "source": [
    "# Lezione: Gestione di file e I/O\n",
    "\n",
    "## **Obiettivi della Lezione**\n",
    "\n",
    "Al termine di questa lezione, sarai in grado di:\n",
    "\n",
    "- Comprendere i concetti fondamentali della gestione dei file in Python.\n",
    "- Aprire e chiudere file utilizzando diverse modalità.\n",
    "- Leggere da e scrivere su file di testo.\n",
    "- Utilizzare il costrutto `with` per una gestione sicura dei file.\n",
    "- Gestire eccezioni comuni durante le operazioni di I/O.\n",
    "- Applicare le buone pratiche nella manipolazione dei file."
   ]
  },
  {
   "cell_type": "markdown",
   "id": "f2762a0d",
   "metadata": {},
   "source": [
    "## **Introduzione**\n",
    "\n",
    "La gestione dei file è una componente essenziale nello sviluppo di applicazioni Python. Che tu stia leggendo dati da un file di configurazione, scrivendo risultati di un'elaborazione o manipolando file binari, la capacità di interagire con il filesystem è fondamentale. In questa lezione, esploreremo come Python semplifica le operazioni di input/output (I/O) su file, consentendoti di leggere, scrivere e gestire file in modo efficiente e sicuro."
   ]
  },
  {
   "cell_type": "markdown",
   "id": "0cd366cd",
   "metadata": {},
   "source": [
    "## **Spiegazione Teorica**\n",
    "\n",
    "### **Aprire un File**\n",
    "\n",
    "Per interagire con un file in Python, devi prima aprirlo utilizzando la funzione integrata `open()`. La sintassi è:\n"
   ]
  },
  {
   "cell_type": "markdown",
   "id": "c954fc08",
   "metadata": {},
   "source": [
    "```python\n",
    "file = open('nome_file', 'modalità')\n",
    "```"
   ]
  },
  {
   "cell_type": "markdown",
   "id": "0d4aa3f2",
   "metadata": {},
   "source": [
    "\n",
    "- **`nome_file`**: il nome o il percorso del file.\n",
    "- **`modalità`**: la modalità in cui aprire il file (ad es. lettura, scrittura).\n",
    "\n",
    "### **Modalità di Apertura**\n",
    "\n",
    "Le modalità comuni sono:\n",
    "\n",
    "- **`'r'`**: Lettura (read) - predefinita. Il file deve esistere.\n",
    "- **`'w'`**: Scrittura (write) - crea un nuovo file o sovrascrive uno esistente.\n",
    "- **`'a'`**: Aggiunta (append) - scrive alla fine del file esistente.\n",
    "- **`'rb'`** / **`'wb'`** / **`'ab'`**: Come sopra, ma in modalità binaria.\n",
    "- **`'r+'`**: Lettura e scrittura.\n",
    "\n",
    "### **Chiudere un File**\n",
    "\n",
    "È importante chiudere il file dopo aver terminato le operazioni per liberare le risorse:\n"
   ]
  },
  {
   "cell_type": "markdown",
   "id": "a789909b",
   "metadata": {},
   "source": [
    "```python\n",
    "file.close()\n",
    "```"
   ]
  },
  {
   "cell_type": "markdown",
   "id": "8849c7e7",
   "metadata": {},
   "source": [
    "\n",
    "### **Il Costrutto `with`**\n",
    "\n",
    "Per gestire automaticamente l'apertura e la chiusura dei file, si utilizza il costrutto `with`:\n"
   ]
  },
  {
   "cell_type": "markdown",
   "id": "4157be14",
   "metadata": {},
   "source": [
    "```python\n",
    "with open('nome_file', 'modalità') as file:\n",
    "    # operazioni sul file\n",
    "```    "
   ]
  },
  {
   "cell_type": "markdown",
   "id": "fabf4334",
   "metadata": {},
   "source": [
    "\n",
    "Al termine del blocco `with`, il file viene chiuso automaticamente.\n",
    "\n",
    "### **Lettura di File**\n",
    "\n",
    "- **`file.read(size)`**: Legge l'intero file o un numero specifico di caratteri.\n",
    "- **`file.readline()`**: Legge una singola riga.\n",
    "- **`file.readlines()`**: Legge tutte le righe e le restituisce come una lista.\n",
    "\n",
    "### **Scrittura su File**\n",
    "\n",
    "- **`file.write(stringa)`**: Scrive una stringa nel file.\n",
    "- **`file.writelines(lista_di_stringhe)`**: Scrive una lista di stringhe nel file."
   ]
  },
  {
   "cell_type": "markdown",
   "id": "a9fe113e",
   "metadata": {},
   "source": [
    "## **Esempi Pratici di Codice**\n",
    "\n",
    "### **1. Lettura di un Intero File di Testo**\n"
   ]
  },
  {
   "cell_type": "code",
   "execution_count": null,
   "id": "b2995218",
   "metadata": {},
   "outputs": [],
   "source": [
    "# Apri il file in modalità lettura\n",
    "with open('esempio.txt', 'r') as file:\n",
    "    contenuto = file.read()\n",
    "\n",
    "print(contenuto)"
   ]
  },
  {
   "cell_type": "markdown",
   "id": "45908fce",
   "metadata": {},
   "source": [
    "\n",
    "**Spiegazione:**\n",
    "\n",
    "- Utilizziamo `with` per aprire `esempio.txt` in modalità lettura.\n",
    "- `file.read()` legge l'intero contenuto del file.\n",
    "- Il contenuto viene stampato sullo schermo.\n",
    "- Non è necessario chiamare `file.close()`; il costrutto `with` si occupa di chiudere il file."
   ]
  },
  {
   "cell_type": "markdown",
   "id": "97e3e3f7",
   "metadata": {},
   "source": [
    "### **2. Scrittura su un File di Testo**\n"
   ]
  },
  {
   "cell_type": "code",
   "execution_count": 10,
   "id": "f372758a",
   "metadata": {},
   "outputs": [],
   "source": [
    "# Apri il file in modalità scrittura\n",
    "with open('output.txt', 'w') as file:\n",
    "    file.write('Ciao mondo!\\n')\n",
    "    file.write('Questa è una seconda riga.\\n')"
   ]
  },
  {
   "cell_type": "markdown",
   "id": "9605569d",
   "metadata": {},
   "source": [
    "\n",
    "**Spiegazione:**\n",
    "\n",
    "- Il file `output.txt` viene aperto in modalità scrittura.\n",
    "- Se `output.txt` non esiste, verrà creato; se esiste, il suo contenuto verrà sovrascritto.\n",
    "- `file.write()` scrive le stringhe nel file."
   ]
  },
  {
   "cell_type": "markdown",
   "id": "8ba16ce0",
   "metadata": {},
   "source": [
    "### **3. Lettura Linea per Linea**\n"
   ]
  },
  {
   "cell_type": "code",
   "execution_count": null,
   "id": "f7a6527a",
   "metadata": {},
   "outputs": [],
   "source": [
    "with open('esempio.txt', 'r') as file:\n",
    "    for linea in file:\n",
    "        print(linea.strip())     "
   ]
  },
  {
   "cell_type": "markdown",
   "id": "765cd536",
   "metadata": {},
   "source": [
    "\n",
    "**Spiegazione:**\n",
    "\n",
    "- Iteriamo attraverso ogni linea del file.\n",
    "- `linea.strip()` rimuove spazi bianchi all'inizio e alla fine, inclusi i caratteri di nuova linea."
   ]
  },
  {
   "cell_type": "markdown",
   "id": "d984ecff",
   "metadata": {},
   "source": [
    "### **4. Aggiunta di Contenuto a un File Esistente**\n"
   ]
  },
  {
   "cell_type": "code",
   "execution_count": null,
   "id": "6886b9f3",
   "metadata": {},
   "outputs": [],
   "source": [
    "# Apri il file in modalità aggiunta\n",
    "with open('output.txt', 'a') as file:\n",
    "    file.write('Aggiungiamo una nuova riga.\\n')"
   ]
  },
  {
   "cell_type": "markdown",
   "id": "4c47fbce",
   "metadata": {},
   "source": [
    "\n",
    "**Spiegazione:**\n",
    "\n",
    "- Il file viene aperto in modalità append ('a').\n",
    "- Il nuovo contenuto viene aggiunto alla fine del file senza sovrascrivere il contenuto esistente."
   ]
  },
  {
   "cell_type": "markdown",
   "id": "0cba14cc",
   "metadata": {},
   "source": [
    "### **5. Gestione di File Binari**\n",
    "\n",
    "Per leggere o scrivere file binari (come immagini o file eseguibili):\n"
   ]
  },
  {
   "cell_type": "code",
   "execution_count": null,
   "id": "5bb55dca",
   "metadata": {},
   "outputs": [],
   "source": [
    "# Lettura di un file binario\n",
    "with open('immagine.jpg', 'rb') as file:\n",
    "    dati = file.read()\n",
    "\n",
    "# Scrittura di un file binario\n",
    "with open('copia.jpg', 'wb') as file:\n",
    "    file.write(dati)"
   ]
  },
  {
   "cell_type": "markdown",
   "id": "687180d3",
   "metadata": {},
   "source": [
    "\n",
    "**Spiegazione:**\n",
    "\n",
    "- Utilizziamo `'rb'` per leggere in modalità binaria e `'wb'` per scrivere.\n",
    "- I dati vengono letti e scritti come oggetti `bytes`."
   ]
  },
  {
   "cell_type": "markdown",
   "id": "1275c4b3",
   "metadata": {},
   "source": [
    "## **Esercizi Interattivi**\n",
    "\n",
    "### **Esercizio 1: Contare le Linee in un File**\n",
    "\n",
    "Scrivi un programma che conti il numero di linee in un file chiamato `documento.txt`.\n",
    "\n",
    "**Soluzione:**\n"
   ]
  },
  {
   "cell_type": "code",
   "execution_count": null,
   "id": "83bbe037",
   "metadata": {},
   "outputs": [],
   "source": [
    "contatore = 0\n",
    "with open('documento.txt', 'r') as file:\n",
    "    for linea in file:\n",
    "        contatore += 1\n",
    "\n",
    "print(f'Il file contiene {contatore} linee.')"
   ]
  },
  {
   "cell_type": "markdown",
   "id": "fd13310f",
   "metadata": {},
   "source": [
    "### **Esercizio 2: Creare un File di Log**\n",
    "\n",
    "Crea un programma che chieda all'utente di inserire delle note. Ogni nota deve essere aggiunta a un file chiamato `log.txt` con un timestamp.\n",
    "\n",
    "**Soluzione:**\n"
   ]
  },
  {
   "cell_type": "code",
   "execution_count": 12,
   "id": "fadcd718",
   "metadata": {},
   "outputs": [
    {
     "name": "stdout",
     "output_type": "stream",
     "text": [
      "Inserisci una nota: il mio primo log\n",
      "Nota salvata in log.txt\n"
     ]
    }
   ],
   "source": [
    "import datetime\n",
    "\n",
    "nota = input('Inserisci una nota: ')\n",
    "timestamp = datetime.datetime.now().strftime('%Y-%m-%d %H:%M:%S')\n",
    "\n",
    "with open('log.txt', 'a') as file:\n",
    "    file.write(f'[{timestamp}] {nota}\\n')\n",
    "\n",
    "print('Nota salvata in log.txt')"
   ]
  },
  {
   "cell_type": "markdown",
   "id": "b16b9c38",
   "metadata": {},
   "source": [
    "### **Esercizio 3: Copiare il Contenuto di un File**\n",
    "\n",
    "Scrivi un programma che copi il contenuto di `sorgente.txt` in un nuovo file chiamato `destinazione.txt`.\n",
    "\n",
    "**Soluzione:**\n"
   ]
  },
  {
   "cell_type": "code",
   "execution_count": null,
   "id": "d9435603",
   "metadata": {},
   "outputs": [],
   "source": [
    "with open('sorgente.txt', 'r') as sorgente:\n",
    "    contenuto = sorgente.read()\n",
    "\n",
    "with open('destinazione.txt', 'w') as destinazione:\n",
    "    destinazione.write(contenuto)\n",
    "\n",
    "print('File copiato con successo.')"
   ]
  },
  {
   "cell_type": "markdown",
   "id": "47219d1e",
   "metadata": {},
   "source": [
    "## **Buone Pratiche e Consigli**\n",
    "\n",
    "- **Usa sempre il costrutto `with`**: Garantisce che i file vengano chiusi correttamente, evitando perdite di risorse.\n",
    "- **Gestisci le eccezioni**: Prevedi possibili errori come la mancanza del file o problemi di permessi.\n",
    "\n",
    "  ```python\n",
    "  try:\n",
    "      with open('file.txt', 'r') as file:\n",
    "          contenuto = file.read()\n",
    "  except FileNotFoundError:\n",
    "      print('Il file non esiste.')\n",
    "  except IOError:\n",
    "      print('Errore di I/O.')\n",
    "  ```\n",
    "\n",
    "- **Attento alle modalità di apertura**: Utilizza la modalità corretta per evitare di sovrascrivere accidentalmente i dati.\n",
    "- **Chiudi i file**: Se non usi `with`, assicurati di chiamare `file.close()`.\n",
    "- **Lavora con percorsi assoluti**: Aiuta a evitare problemi di file non trovati."
   ]
  },
  {
   "cell_type": "markdown",
   "id": "44d9dd71",
   "metadata": {},
   "source": [
    "## **Conclusione**\n",
    "\n",
    "In questa lezione, abbiamo esplorato come Python gestisce le operazioni di input/output su file. Abbiamo imparato ad aprire, leggere, scrivere e chiudere file utilizzando diverse modalità e a utilizzare il costrutto `with` per una gestione sicura. Comprendere la gestione dei file è fondamentale per sviluppare applicazioni che interagiscono con dati persistenti, log, configurazioni e molto altro."
   ]
  },
  {
   "cell_type": "markdown",
   "id": "c92217f6",
   "metadata": {},
   "source": [
    "## **Risorse Aggiuntive**\n",
    "\n",
    "- **Documentazione Ufficiale Python**: [Reading and Writing Files](https://docs.python.org/3/tutorial/inputoutput.html#reading-and-writing-files)\n",
    "- **Libro Consigliato**: [Python Crash Course di Eric Matthes](https://www.amazon.com/Python-Crash-Course-2nd-Edition/dp/1593279280)\n",
    "- **Video Tutorial**: [Reading and Writing to Files](https://youtu.be/Uh2ebFW8OYM?si=J11BcUGzoiWYZI25)"
   ]
  }
 ],
 "metadata": {
  "kernelspec": {
   "display_name": "Python 3 (ipykernel)",
   "language": "python",
   "name": "python3"
  },
  "language_info": {
   "codemirror_mode": {
    "name": "ipython",
    "version": 3
   },
   "file_extension": ".py",
   "mimetype": "text/x-python",
   "name": "python",
   "nbconvert_exporter": "python",
   "pygments_lexer": "ipython3",
   "version": "3.10.9"
  }
 },
 "nbformat": 4,
 "nbformat_minor": 5
}
