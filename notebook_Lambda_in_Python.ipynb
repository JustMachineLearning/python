{
 "cells": [
  {
   "cell_type": "markdown",
   "id": "00d17386",
   "metadata": {},
   "source": [
    "# Lambda in Python"
   ]
  },
  {
   "cell_type": "markdown",
   "id": "18de92bb",
   "metadata": {},
   "source": [
    "## **Obiettivi della Lezione**\n",
    "\n",
    "Al termine di questa lezione sarai in grado di:\n",
    "\n",
    "- Comprendere cosa sono le funzioni lambda in Python.\n",
    "- Scrivere funzioni lambda per eseguire operazioni semplici.\n",
    "- Utilizzare le funzioni lambda con funzioni integrate come `map()`, `filter()` e `sorted()`.\n",
    "- Applicare le funzioni lambda per scrivere codice più conciso e leggibile."
   ]
  },
  {
   "cell_type": "markdown",
   "id": "e8e67151",
   "metadata": {},
   "source": [
    "## **Introduzione**\n",
    "\n",
    "In Python, le funzioni sono fondamentali per strutturare il codice e promuovere il riutilizzo. Oltre alle funzioni definite con la parola chiave `def`, Python offre la possibilità di creare funzioni anonime utilizzando la parola chiave `lambda`. Le funzioni lambda permettono di dichiarare funzioni in modo rapido e conciso, soprattutto quando si trattano operazioni semplici o si utilizzano funzioni di ordine superiore."
   ]
  },
  {
   "cell_type": "markdown",
   "id": "ea5ca23e",
   "metadata": {},
   "source": [
    "## **Spiegazione Teorica**\n",
    "\n",
    "### **Cos'è una Funzione Lambda?**\n",
    "\n",
    "Una **funzione lambda** è una piccola funzione anonima che può avere un numero qualsiasi di argomenti ma soltanto un'espressione. La sintassi generale è:\n"
   ]
  },
  {
   "cell_type": "markdown",
   "id": "ab5f910d",
   "metadata": {},
   "source": [
    "```python\n",
    "lambda argomenti: espressione\n",
    "```"
   ]
  },
  {
   "cell_type": "markdown",
   "id": "cfc9528c",
   "metadata": {},
   "source": [
    "\n",
    "- **`lambda`**: parola chiave per dichiarare una funzione lambda.\n",
    "- **`argomenti`**: uno o più parametri di input separati da virgole.\n",
    "- **`espressione`**: un'unica espressione valutata e restituita dalla funzione."
   ]
  },
  {
   "cell_type": "markdown",
   "id": "75f3b8bb",
   "metadata": {},
   "source": [
    "### **Quando Usare le Funzioni Lambda?**\n",
    "\n",
    "Le funzioni lambda sono utili quando hai bisogno di una funzione per un breve periodo di tempo, soprattutto come argomento di altre funzioni. Sono comunemente utilizzate con funzioni integrate come `map()`, `filter()` e `sorted()`."
   ]
  },
  {
   "cell_type": "markdown",
   "id": "01cd0161",
   "metadata": {},
   "source": [
    "## **Esempi Pratici di Codice**\n",
    "\n",
    "### **Esempio 1: Funzione Lambda Semplice**\n",
    "\n",
    "Definire una funzione lambda che prende un numero e restituisce il suo doppio.\n"
   ]
  },
  {
   "cell_type": "code",
   "execution_count": 2,
   "id": "64ea1511",
   "metadata": {},
   "outputs": [
    {
     "name": "stdout",
     "output_type": "stream",
     "text": [
      "10\n"
     ]
    }
   ],
   "source": [
    "# Funzione lambda per raddoppiare un numero\n",
    "doppio = lambda x: x * 2\n",
    "\n",
    "# Utilizzo\n",
    "numero = 5\n",
    "risultato = doppio(numero)\n",
    "print(risultato)  # Output: 10"
   ]
  },
  {
   "cell_type": "markdown",
   "id": "a5639741",
   "metadata": {},
   "source": [
    "### **Esempio 2: Funzione Lambda con Più Argomenti**\n",
    "\n",
    "Creare una funzione lambda che somma tre numeri.\n"
   ]
  },
  {
   "cell_type": "code",
   "execution_count": 3,
   "id": "f10349ec",
   "metadata": {},
   "outputs": [
    {
     "name": "stdout",
     "output_type": "stream",
     "text": [
      "6\n"
     ]
    }
   ],
   "source": [
    "# Funzione lambda per sommare tre numeri\n",
    "somma = lambda a, b, c: a + b + c\n",
    "\n",
    "# Utilizzo\n",
    "risultato = somma(1, 2, 3)\n",
    "print(risultato)  # Output: 6"
   ]
  },
  {
   "cell_type": "markdown",
   "id": "4c07c6ce",
   "metadata": {},
   "source": [
    "### **Esempio 3: Uso di Lambda con `map()`**\n",
    "\n",
    "Utilizzare una funzione lambda con `map()` per elevare al quadrato ciascun elemento di una lista.\n"
   ]
  },
  {
   "cell_type": "code",
   "execution_count": 4,
   "id": "0801fa96",
   "metadata": {},
   "outputs": [
    {
     "name": "stdout",
     "output_type": "stream",
     "text": [
      "[1, 4, 9, 16, 25]\n"
     ]
    }
   ],
   "source": [
    "numeri = [1, 2, 3, 4, 5]\n",
    "\n",
    "# Elevare al quadrato ogni numero nella lista\n",
    "quadrati = list(map(lambda x: x ** 2, numeri))\n",
    "print(quadrati)  # Output: [1, 4, 9, 16, 25]"
   ]
  },
  {
   "cell_type": "markdown",
   "id": "3a471d16",
   "metadata": {},
   "source": [
    "### **Esempio 4: Uso di Lambda con `filter()`**\n",
    "\n",
    "Utilizzare una funzione lambda con `filter()` per ottenere solo i numeri pari da una lista.\n"
   ]
  },
  {
   "cell_type": "code",
   "execution_count": 5,
   "id": "54b453d2",
   "metadata": {},
   "outputs": [
    {
     "name": "stdout",
     "output_type": "stream",
     "text": [
      "[2, 4, 6]\n"
     ]
    }
   ],
   "source": [
    "numeri = [1, 2, 3, 4, 5, 6]\n",
    "\n",
    "# Filtrare i numeri pari\n",
    "numeri_pari = list(filter(lambda x: x % 2 == 0, numeri))\n",
    "print(numeri_pari)  # Output: [2, 4, 6]"
   ]
  },
  {
   "cell_type": "markdown",
   "id": "b634a838",
   "metadata": {},
   "source": [
    "### **Esempio 5: Uso di Lambda con `sorted()`**\n",
    "\n",
    "Ordinare una lista di dizionari in base a un valore specifico.\n"
   ]
  },
  {
   "cell_type": "code",
   "execution_count": 6,
   "id": "6c928130",
   "metadata": {},
   "outputs": [
    {
     "name": "stdout",
     "output_type": "stream",
     "text": [
      "[{'nome': 'Marco', 'voto': 85}, {'nome': 'Luca', 'voto': 88}, {'nome': 'Anna', 'voto': 92}]\n"
     ]
    }
   ],
   "source": [
    "studenti = [\n",
    "    {'nome': 'Luca', 'voto': 88},\n",
    "    {'nome': 'Anna', 'voto': 92},\n",
    "    {'nome': 'Marco', 'voto': 85}\n",
    "]\n",
    "\n",
    "# Ordinare in base al voto\n",
    "studenti_ordinati = sorted(studenti, key=lambda x: x['voto'])\n",
    "print(studenti_ordinati)"
   ]
  },
  {
   "cell_type": "markdown",
   "id": "3bd727c4",
   "metadata": {},
   "source": [
    "## **Esercizi Interattivi**\n",
    "\n",
    "### **Esercizio 1: Calcolo del Fattoriale**\n",
    "\n",
    "Scrivi una funzione lambda che calcola il fattoriale di un numero (nota: questo richiede l'uso di una funzione ricorsiva o di un'altra funzione).\n",
    "\n",
    "**Suggerimento:** Poiché le lambda non supportano la ricorsione, combina la lambda con `reduce()` e `range()`.\n",
    "\n",
    "**Soluzione:**\n"
   ]
  },
  {
   "cell_type": "code",
   "execution_count": 8,
   "id": "3724d691",
   "metadata": {},
   "outputs": [
    {
     "name": "stdout",
     "output_type": "stream",
     "text": [
      "120\n"
     ]
    }
   ],
   "source": [
    "from functools import reduce\n",
    "\n",
    "numero = 5\n",
    "fattoriale = reduce(lambda x, y: x * y, range(1, numero + 1))\n",
    "print(fattoriale)  # Output: 120"
   ]
  },
  {
   "cell_type": "markdown",
   "id": "de8834c4",
   "metadata": {},
   "source": [
    "### **Esercizio 2: Filtrare Parole Lunghe**\n",
    "\n",
    "Data una lista di parole, utilizza una funzione lambda per filtrare le parole che hanno più di 5 caratteri.\n"
   ]
  },
  {
   "cell_type": "code",
   "execution_count": 9,
   "id": "33f92cae",
   "metadata": {},
   "outputs": [],
   "source": [
    "parole = [\"python\", \"funzione\", \"lambda\", \"codice\", \"programmazione\", \"AI\"]"
   ]
  },
  {
   "cell_type": "markdown",
   "id": "2125555e",
   "metadata": {},
   "source": [
    "\n",
    "**Soluzione:**\n"
   ]
  },
  {
   "cell_type": "code",
   "execution_count": 10,
   "id": "84dd5357",
   "metadata": {},
   "outputs": [
    {
     "name": "stdout",
     "output_type": "stream",
     "text": [
      "['python', 'funzione', 'lambda', 'codice', 'programmazione']\n"
     ]
    }
   ],
   "source": [
    "parole_lunghe = list(filter(lambda x: len(x) > 5, parole))\n",
    "print(parole_lunghe)\n",
    "# Output: ['python', 'funzione', 'lambda', 'programmazione']"
   ]
  },
  {
   "cell_type": "markdown",
   "id": "3c95002f",
   "metadata": {},
   "source": [
    "### **Esercizio 3: Convertire Temperatura**\n",
    "\n",
    "Utilizza `map()` e una funzione lambda per convertire una lista di temperature da Celsius a Fahrenheit.\n",
    "\n",
    "**Formula:** F = C * 9/5 + 32\n"
   ]
  },
  {
   "cell_type": "code",
   "execution_count": 11,
   "id": "ee4a5318",
   "metadata": {},
   "outputs": [],
   "source": [
    "celsius = [0, 20, 30, 100]"
   ]
  },
  {
   "cell_type": "markdown",
   "id": "692f96c9",
   "metadata": {},
   "source": [
    "\n",
    "**Soluzione:**\n"
   ]
  },
  {
   "cell_type": "code",
   "execution_count": 12,
   "id": "db30bcfa",
   "metadata": {},
   "outputs": [
    {
     "name": "stdout",
     "output_type": "stream",
     "text": [
      "[32.0, 68.0, 86.0, 212.0]\n"
     ]
    }
   ],
   "source": [
    "fahrenheit = list(map(lambda x: x * 9/5 + 32, celsius))\n",
    "print(fahrenheit)  # Output: [32.0, 68.0, 86.0, 212.0]"
   ]
  },
  {
   "cell_type": "markdown",
   "id": "399c363d",
   "metadata": {},
   "source": [
    "### **Esercizio 4: Somma dei Quadrati**\n",
    "\n",
    "Calcola la somma dei quadrati dei numeri da 1 a 10 utilizzando una funzione lambda e `reduce()`.\n",
    "\n",
    "**Soluzione:**\n"
   ]
  },
  {
   "cell_type": "code",
   "execution_count": 13,
   "id": "5c23d157",
   "metadata": {},
   "outputs": [
    {
     "name": "stdout",
     "output_type": "stream",
     "text": [
      "385\n"
     ]
    }
   ],
   "source": [
    "from functools import reduce\n",
    "\n",
    "somma_quadrati = reduce(lambda x, y: x + y**2, range(1, 11), 0)\n",
    "print(somma_quadrati)  # Output: 385"
   ]
  },
  {
   "cell_type": "markdown",
   "id": "0cc92e7a",
   "metadata": {},
   "source": [
    "## **Buone Pratiche e Consigli**\n",
    "\n",
    "- **Semplicità**: Utilizza le funzioni lambda per operazioni semplici. Evita di creare funzioni lambda troppo complesse che possono ridurre la leggibilità.\n",
    "- **Chiarezza**: Anche se le funzioni lambda permettono di scrivere codice conciso, assicurati che il codice rimanga comprensibile per te e per altri sviluppatori.\n",
    "- **Uso Appropriato**: Le lambda sono ideali quando passate come argomenti a funzioni di ordine superiore. Per funzioni più complesse, preferisci definire una funzione con `def`.\n",
    "- **Limitazioni**: Ricorda che una funzione lambda può contenere solo un'espressione. Non è possibile includere istruzioni multiple o assegnazioni di variabili."
   ]
  },
  {
   "cell_type": "markdown",
   "id": "e9521900",
   "metadata": {},
   "source": [
    "## **Conclusione**\n",
    "\n",
    "Le funzioni lambda sono uno strumento potente in Python che consente di scrivere codice in modo più elegante e conciso, soprattutto quando si tratta di operazioni semplici o di funzioni di ordine superiore. Comprendere come e quando utilizzarle può migliorare significativamente la qualità e l'efficienza del tuo codice."
   ]
  },
  {
   "cell_type": "markdown",
   "id": "43fc7032",
   "metadata": {},
   "source": [
    "## **Risorse Aggiuntive**\n",
    "\n",
    "- **Documentazione Ufficiale Python**: [Lambda Expressions](https://docs.python.org/3/tutorial/controlflow.html#lambda-expressions)\n",
    "- **Libro Consigliato**: [Python Crash Course di Eric Matthes](https://www.amazon.com/Python-Crash-Course-2nd-Edition/dp/1593279280)\n",
    "- **Video Tutorial**: [Anonymous Functions | Lambda](https://youtu.be/hYzwCsKGRrg?si=bfQjSMfQSS26NA-K)"
   ]
  }
 ],
 "metadata": {
  "kernelspec": {
   "display_name": "Python 3 (ipykernel)",
   "language": "python",
   "name": "python3"
  },
  "language_info": {
   "codemirror_mode": {
    "name": "ipython",
    "version": 3
   },
   "file_extension": ".py",
   "mimetype": "text/x-python",
   "name": "python",
   "nbconvert_exporter": "python",
   "pygments_lexer": "ipython3",
   "version": "3.10.9"
  }
 },
 "nbformat": 4,
 "nbformat_minor": 5
}
