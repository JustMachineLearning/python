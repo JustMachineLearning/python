{
 "cells": [
  {
   "cell_type": "markdown",
   "id": "53da1f1f",
   "metadata": {},
   "source": [
    "# Cicli While in Python\n",
    "\n",
    "## Obiettivi della Lezione\n",
    "\n",
    "Al termine di questa lezione, sarai in grado di:\n",
    "\n",
    "- Comprendere la sintassi e il funzionamento dei cicli `while` in Python.\n",
    "- Utilizzare i cicli `while` per eseguire blocchi di codice ripetutamente.\n",
    "- Gestire correttamente le condizioni di loop per evitare cicli infiniti.\n",
    "- Applicare i cicli `while` in esempi pratici e risolvere problemi comuni.\n",
    "- Integrare le buone pratiche nell'uso dei cicli `while` per scrivere codice efficiente e leggibile."
   ]
  },
  {
   "cell_type": "markdown",
   "id": "2bae3f02",
   "metadata": {},
   "source": [
    "## Introduzione\n",
    "\n",
    "I cicli sono una componente fondamentale in qualsiasi linguaggio di programmazione, poiché permettono di eseguire ripetutamente un blocco di codice fino al soddisfacimento di una determinata condizione. In Python, il ciclo `while` offre un modo semplice e potente per creare loop basati su condizioni che possono cambiare durante l'esecuzione del programma. Questa lezione esplorerà in dettaglio come utilizzare i cicli `while`, fornendo una base solida per scrivere script efficienti e dinamici."
   ]
  },
  {
   "cell_type": "markdown",
   "id": "7aaecaf6",
   "metadata": {},
   "source": [
    "## Spiegazione Teorica\n",
    "\n",
    "### Sintassi del Ciclo While\n",
    "\n",
    "Il ciclo `while` in Python ha la seguente sintassi:\n"
   ]
  },
  {
   "cell_type": "markdown",
   "id": "01da71a3",
   "metadata": {},
   "source": [
    "```python\n",
    "while condizione:\n",
    "    # blocco di codice da eseguire finché la condizione è vera\n",
    "```    "
   ]
  },
  {
   "cell_type": "markdown",
   "id": "bb616795",
   "metadata": {},
   "source": [
    "\n",
    "- **`condizione`**: un'espressione che viene valutata come vera (`True`) o falsa (`False`).\n",
    "- Il **blocco di codice** indentato sotto l'istruzione `while` viene eseguito ripetutamente finché la condizione rimane vera.\n",
    "\n",
    "### Funzionamento del Ciclo While\n",
    "\n",
    "1. La condizione viene valutata.\n",
    "2. Se la condizione è vera (`True`), il blocco di codice all'interno del `while` viene eseguito.\n",
    "3. Al termine del blocco, si ritorna al punto 1.\n",
    "4. Se la condizione è falsa (`False`), il ciclo termina e l'esecuzione continua con le istruzioni successive al blocco `while`.\n",
    "\n",
    "### Esempio Concettuale\n",
    "\n",
    "Immagina di voler contare da 1 a 5. Un ciclo `while` può aiutarti a ripetere l'operazione di stampare un numero e poi incrementarlo fino a raggiungere il numero desiderato."
   ]
  },
  {
   "cell_type": "markdown",
   "id": "990762b0",
   "metadata": {},
   "source": [
    "## Esempi Pratici di Codice\n",
    "\n",
    "### Esempio 1: Contare da 1 a 5\n"
   ]
  },
  {
   "cell_type": "code",
   "execution_count": 2,
   "id": "a6af4d9e",
   "metadata": {},
   "outputs": [
    {
     "name": "stdout",
     "output_type": "stream",
     "text": [
      "Contatore: 1\n",
      "Contatore: 2\n",
      "Contatore: 3\n",
      "Contatore: 4\n",
      "Contatore: 5\n"
     ]
    }
   ],
   "source": [
    "contatore = 1\n",
    "while contatore <= 5:\n",
    "    print(\"Contatore:\", contatore)\n",
    "    contatore += 1"
   ]
  },
  {
   "cell_type": "markdown",
   "id": "37079064",
   "metadata": {},
   "source": [
    "\n",
    "**Spiegazione:**\n",
    "\n",
    "- **`contatore = 1`**: inizializziamo una variabile `contatore` con il valore 1.\n",
    "- **`while contatore <= 5`**: il ciclo continua finché `contatore` è minore o uguale a 5.\n",
    "- **`print(\"Contatore:\", contatore)`**: stampa il valore corrente di `contatore`.\n",
    "- **`contatore += 1`**: incrementa `contatore` di 1 a ogni iterazione.\n",
    "\n",
    "### Esempio 2: Chiedere input all'utente finché non inserisce una parola specifica\n"
   ]
  },
  {
   "cell_type": "code",
   "execution_count": 3,
   "id": "8fd598a4",
   "metadata": {},
   "outputs": [
    {
     "name": "stdout",
     "output_type": "stream",
     "text": [
      "Indovina la parola segreta: Java\n",
      "Indovina la parola segreta: C++\n",
      "Indovina la parola segreta: Python\n",
      "Complimenti, hai indovinato!\n"
     ]
    }
   ],
   "source": [
    "parola_segreta = \"Python\"\n",
    "input_utente = \"\"\n",
    "\n",
    "while input_utente != parola_segreta:\n",
    "    input_utente = input(\"Indovina la parola segreta: \")\n",
    "\n",
    "print(\"Complimenti, hai indovinato!\")"
   ]
  },
  {
   "cell_type": "markdown",
   "id": "ebaf8d2b",
   "metadata": {},
   "source": [
    "\n",
    "**Spiegazione:**\n",
    "\n",
    "- **`parola_segreta = \"Python\"`**: la parola che l'utente deve indovinare.\n",
    "- **`input_utente = \"\"`**: inizializziamo `input_utente` con una stringa vuota.\n",
    "- **`while input_utente != parola_segreta`**: il ciclo continua finché l'utente non inserisce la parola corretta.\n",
    "- **`input_utente = input(\"Indovina la parola segreta: \")`**: chiediamo all'utente di inserire una parola.\n",
    "- **`print(\"Complimenti, hai indovinato!\")`**: messaggio di congratulazioni una volta terminato il ciclo."
   ]
  },
  {
   "cell_type": "markdown",
   "id": "273ec49c",
   "metadata": {},
   "source": [
    "## Esercizi Interattivi\n",
    "\n",
    "### Esercizio 1: Stampa numeri pari da 2 a 10\n",
    "\n",
    "Scrivi un programma che utilizza un ciclo `while` per stampare tutti i numeri pari da 2 a 10 inclusi.\n",
    "\n",
    "**Suggerimento:** Usa una variabile contatore che inizi da 2 e incrementala di 2 a ogni iterazione.\n",
    "\n",
    "**Soluzione:**\n"
   ]
  },
  {
   "cell_type": "code",
   "execution_count": 4,
   "id": "ec1b9c60",
   "metadata": {},
   "outputs": [
    {
     "name": "stdout",
     "output_type": "stream",
     "text": [
      "2\n",
      "4\n",
      "6\n",
      "8\n",
      "10\n"
     ]
    }
   ],
   "source": [
    "numero = 2\n",
    "while numero <= 10:\n",
    "    print(numero)\n",
    "    numero += 2"
   ]
  },
  {
   "cell_type": "markdown",
   "id": "b1ce545e",
   "metadata": {},
   "source": [
    "\n",
    "### Esercizio 2: Calcolatore di sommatoria\n",
    "\n",
    "Crea un programma che chiede all'utente di inserire numeri interi positivi. Il programma dovrebbe terminare quando l'utente inserisce un numero negativo e poi stampare la somma di tutti i numeri inseriti.\n",
    "\n",
    "**Soluzione:**\n"
   ]
  },
  {
   "cell_type": "code",
   "execution_count": 5,
   "id": "b791f7d1",
   "metadata": {},
   "outputs": [
    {
     "name": "stdout",
     "output_type": "stream",
     "text": [
      "Inserisci un numero intero positivo (numero negativo per terminare): 4\n",
      "Inserisci un numero intero positivo (numero negativo per terminare): 7\n",
      "Inserisci un numero intero positivo (numero negativo per terminare): 2\n",
      "Inserisci un numero intero positivo (numero negativo per terminare): -8\n",
      "La somma dei numeri inseriti è: 13\n"
     ]
    }
   ],
   "source": [
    "somma = 0\n",
    "numero = 0\n",
    "\n",
    "while numero >= 0:\n",
    "    numero = int(input(\"Inserisci un numero intero positivo (numero negativo per terminare): \"))\n",
    "    if numero >= 0:\n",
    "        somma += numero #il numero negativo non verrà aggiunto alla somma\n",
    "\n",
    "print(\"La somma dei numeri inseriti è:\", somma)"
   ]
  },
  {
   "cell_type": "markdown",
   "id": "b6a459d9",
   "metadata": {},
   "source": [
    "## Buone Pratiche e Consigli\n",
    "\n",
    "- **Evitare Cicli Infiniti:** Assicurati che la condizione del ciclo `while` possa diventare falsa, altrimenti il programma entrerà in un loop infinito.\n",
    "  \n",
    "  ```python\n",
    "  # Esempio di ciclo infinito - Evitarlo!\n",
    "  while True:\n",
    "      print(\"Questo ciclo non termina mai\")\n",
    "  ```\n",
    "  \n",
    "- **Aggiornamento delle Variabili:** Ricordati di aggiornare le variabili coinvolte nella condizione all'interno del ciclo.\n",
    "  \n",
    "- **Utilizzo di Break e Continue:**\n",
    "  - **`break`**: esce immediatamente dal ciclo.\n",
    "  - **`continue`**: salta all'iterazione successiva del ciclo.\n",
    "  \n",
    "  ```python\n",
    "  i = 0\n",
    "  while i < 10:\n",
    "      i += 1\n",
    "      if i == 5:\n",
    "          continue  # Salta il resto del codice e ricomincia il ciclo\n",
    "      print(i)\n",
    "  ```\n",
    "\n",
    "- **Chiarezza del Codice:** Mantieni il codice all'interno del ciclo semplice e leggibile. Se il blocco diventa troppo complesso, considera di suddividerlo in funzioni."
   ]
  },
  {
   "cell_type": "markdown",
   "id": "d175218c",
   "metadata": {},
   "source": [
    "## Conclusione\n",
    "\n",
    "I cicli `while` sono strumenti essenziali in Python che permettono di eseguire operazioni ripetitive basate su condizioni dinamiche. Comprendere come funzionano e come controllarli è fondamentale per scrivere programmi efficienti e robusti. Praticando con diversi esempi ed esercizi, diventerai più confidente nell'utilizzo dei cicli `while` e sarai in grado di applicarli in vari contesti di programmazione."
   ]
  },
  {
   "cell_type": "markdown",
   "id": "68b86e31",
   "metadata": {},
   "source": [
    "## Risorse Aggiuntive\n",
    "\n",
    "- **Documentazione Ufficiale Python**: [Controlflow](https://docs.python.org/3/tutorial/controlflow.html)\n",
    "- **Libro Consigliato**: [Python Crash Course di Eric Matthes](https://www.amazon.com/Python-Crash-Course-2nd-Edition/dp/1593279280)\n",
    "- **Video Tutorial**: [Loops and Iterations - For/While Loops](https://youtu.be/6iF8Xb7Z3wQ?si=becpLPTHch4ZjGKi)"
   ]
  }
 ],
 "metadata": {
  "kernelspec": {
   "display_name": "Python 3 (ipykernel)",
   "language": "python",
   "name": "python3"
  },
  "language_info": {
   "codemirror_mode": {
    "name": "ipython",
    "version": 3
   },
   "file_extension": ".py",
   "mimetype": "text/x-python",
   "name": "python",
   "nbconvert_exporter": "python",
   "pygments_lexer": "ipython3",
   "version": "3.10.9"
  }
 },
 "nbformat": 4,
 "nbformat_minor": 5
}
