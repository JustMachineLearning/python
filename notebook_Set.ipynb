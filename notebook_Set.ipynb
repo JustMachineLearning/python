{
 "cells": [
  {
   "cell_type": "markdown",
   "id": "b14213c9",
   "metadata": {},
   "source": [
    "# **Set in Python**\n",
    "\n",
    "## **Obiettivi della Lezione**\n",
    "\n",
    "Al termine di questa lezione, sarai in grado di:\n",
    "\n",
    "- Comprendere cosa sono i set in Python e come differiscono da altre strutture dati.\n",
    "- Creare e manipolare set.\n",
    "- Utilizzare metodi e operazioni comuni sui set.\n",
    "- Applicare i set in contesti pratici per risolvere problemi.\n",
    "\n",
    "## **Introduzione**\n",
    "\n",
    "I set sono una struttura dati fondamentale in Python che consente di memorizzare una collezione non ordinata di elementi unici e immutabili. Sono particolarmente utili quando è necessario eliminare duplicati da una lista o effettuare operazioni matematiche come unioni, intersezioni e differenze tra insiemi di dati.\n",
    "\n",
    "## **Spiegazione Teorica**\n",
    "\n",
    "### **Cosa sono i Set?**\n",
    "\n",
    "Un set è una collezione non ordinata di elementi unici e immutabili. A differenza di liste e tuple, i set non mantengono l'ordine degli elementi e non permettono elementi duplicati.\n",
    "\n",
    "**Caratteristiche principali dei set:**\n",
    "\n",
    "- **Non ordinati:** Gli elementi non hanno un ordine specifico.\n",
    "- **Unici:** Non possono esistere duplicati all'interno del set.\n",
    "- **Elementi immutabili:** Gli elementi devono essere di un tipo immutabile (ad esempio, numeri, stringhe, tuple).\n",
    "\n",
    "### **Perché usare i Set?**\n",
    "\n",
    "- **Eliminare duplicati:** Convertendo una lista in un set, si rimuovono automaticamente tutti i duplicati.\n",
    "- **Operazioni matematiche:** Supportano operazioni come unione, intersezione, differenza e differenza simmetrica.\n",
    "- **Verifiche rapide:** Permettono di verificare rapidamente se un elemento appartiene al set grazie all'implementazione basata su hash.\n",
    "\n",
    "## **Esempi Pratici di Codice**\n",
    "\n",
    "### **Creazione di un Set**\n"
   ]
  },
  {
   "cell_type": "code",
   "execution_count": 1,
   "id": "7dd1d87b",
   "metadata": {},
   "outputs": [
    {
     "name": "stdout",
     "output_type": "stream",
     "text": [
      "{'banana', 'arancia', 'mela'}\n"
     ]
    }
   ],
   "source": [
    "# Creazione di un set vuoto\n",
    "my_set = set()\n",
    "\n",
    "# Creazione di un set con elementi\n",
    "fruits = {\"mela\", \"banana\", \"arancia\"}\n",
    "print(fruits)"
   ]
  },
  {
   "cell_type": "markdown",
   "id": "43689b51",
   "metadata": {},
   "source": [
    "### **Caratteristica degli Elementi Unici**"
   ]
  },
  {
   "cell_type": "code",
   "execution_count": 2,
   "id": "11e7c28b",
   "metadata": {},
   "outputs": [
    {
     "name": "stdout",
     "output_type": "stream",
     "text": [
      "{1, 2, 3, 4, 5}\n"
     ]
    }
   ],
   "source": [
    "# Tentativo di aggiungere duplicati\n",
    "numbers = {1, 2, 3, 4, 4, 5}\n",
    "print(numbers)"
   ]
  },
  {
   "cell_type": "markdown",
   "id": "738c6b5d",
   "metadata": {},
   "source": [
    "*Nell'output, il numero '4' appare una sola volta perché i duplicati sono eliminati.*\n",
    "\n",
    "### **Aggiungere e Rimuovere Elementi**\n"
   ]
  },
  {
   "cell_type": "code",
   "execution_count": 3,
   "id": "5fe0e433",
   "metadata": {},
   "outputs": [
    {
     "name": "stdout",
     "output_type": "stream",
     "text": [
      "{'banana', 'kiwi', 'arancia', 'mela'}\n",
      "{'kiwi', 'arancia', 'mela'}\n"
     ]
    }
   ],
   "source": [
    "# Aggiungere un elemento\n",
    "fruits.add(\"kiwi\")\n",
    "print(fruits)\n",
    "\n",
    "# Rimuovere un elemento\n",
    "fruits.remove(\"banana\")\n",
    "print(fruits)"
   ]
  },
  {
   "cell_type": "markdown",
   "id": "7e04464c",
   "metadata": {},
   "source": [
    "### **Operazioni tra Set**\n",
    "\n",
    "#### **Unione**\n"
   ]
  },
  {
   "cell_type": "code",
   "execution_count": 4,
   "id": "e85bbab7",
   "metadata": {},
   "outputs": [
    {
     "name": "stdout",
     "output_type": "stream",
     "text": [
      "Unione: {1, 2, 3, 4, 5}\n"
     ]
    }
   ],
   "source": [
    "set_a = {1, 2, 3}\n",
    "set_b = {3, 4, 5}\n",
    "\n",
    "union_set = set_a.union(set_b)\n",
    "print(\"Unione:\", union_set)"
   ]
  },
  {
   "cell_type": "markdown",
   "id": "1aec46e4",
   "metadata": {},
   "source": [
    "#### **Intersezione**"
   ]
  },
  {
   "cell_type": "code",
   "execution_count": 5,
   "id": "52ab233c",
   "metadata": {},
   "outputs": [
    {
     "name": "stdout",
     "output_type": "stream",
     "text": [
      "Intersezione: {3}\n"
     ]
    }
   ],
   "source": [
    "intersection_set = set_a.intersection(set_b)\n",
    "print(\"Intersezione:\", intersection_set)"
   ]
  },
  {
   "cell_type": "markdown",
   "id": "ebcdb0ca",
   "metadata": {},
   "source": [
    "#### **Differenza**"
   ]
  },
  {
   "cell_type": "code",
   "execution_count": 6,
   "id": "5ea6b9c8",
   "metadata": {},
   "outputs": [
    {
     "name": "stdout",
     "output_type": "stream",
     "text": [
      "Differenza (A - B): {1, 2}\n"
     ]
    }
   ],
   "source": [
    "difference_set = set_a.difference(set_b)\n",
    "print(\"Differenza (A - B):\", difference_set)"
   ]
  },
  {
   "cell_type": "markdown",
   "id": "61f3b6d9",
   "metadata": {},
   "source": [
    "#### **Differenza Simmetrica**\n"
   ]
  },
  {
   "cell_type": "code",
   "execution_count": 7,
   "id": "6f66afce",
   "metadata": {},
   "outputs": [
    {
     "name": "stdout",
     "output_type": "stream",
     "text": [
      "Differenza Simmetrica: {1, 2, 4, 5}\n"
     ]
    }
   ],
   "source": [
    "sym_diff_set = set_a.symmetric_difference(set_b)\n",
    "print(\"Differenza Simmetrica:\", sym_diff_set)"
   ]
  },
  {
   "cell_type": "markdown",
   "id": "12be41c4",
   "metadata": {},
   "source": [
    "### **Verificare l'Appartenenza**\n"
   ]
  },
  {
   "cell_type": "code",
   "execution_count": 8,
   "id": "5d175ffe",
   "metadata": {},
   "outputs": [
    {
     "name": "stdout",
     "output_type": "stream",
     "text": [
      "La mela è presente nel set.\n"
     ]
    }
   ],
   "source": [
    "if \"mela\" in fruits:\n",
    "    print(\"La mela è presente nel set.\")\n",
    "else:\n",
    "    print(\"La mela non è presente nel set.\")"
   ]
  },
  {
   "cell_type": "markdown",
   "id": "edc217cd",
   "metadata": {},
   "source": [
    "## **Esercizi Interattivi**\n",
    "\n",
    "1. **Eliminare Duplicati da una Lista**\n",
    "\n",
    "   Data la lista `numbers = [1, 2, 2, 3, 4, 4, 5]`, crea una nuova lista senza duplicati utilizzando i set.\n",
    "\n",
    "   ```python\n",
    "   numbers = [1, 2, 2, 3, 4, 4, 5]\n",
    "   # Il tuo codice qui\n",
    "   unique_numbers = # ...\n",
    "   print(unique_numbers)\n",
    "   ```\n",
    "\n",
    "2. **Operazioni tra Set**\n",
    "\n",
    "   Crea due set, `set_x = {'a', 'b', 'c'}` e `set_y = {'b', 'c', 'd'}`, e trova:\n",
    "\n",
    "   - L'unione dei due set.\n",
    "   - L'intersezione dei due set.\n",
    "   - La differenza simmetrica dei due set.\n",
    "\n",
    "   ```python\n",
    "   set_x = {'a', 'b', 'c'}\n",
    "   set_y = {'b', 'c', 'd'}\n",
    "\n",
    "   # Unione\n",
    "   union_xy = # ...\n",
    "\n",
    "   # Intersezione\n",
    "   intersection_xy = # ...\n",
    "\n",
    "   # Differenza Simmetrica\n",
    "   sym_diff_xy = # ...\n",
    "\n",
    "   print(\"Unione:\", union_xy)\n",
    "   print(\"Intersezione:\", intersection_xy)\n",
    "   print(\"Differenza Simmetrica:\", sym_diff_xy)\n",
    "   ```\n",
    "\n",
    "3. **Verifica di Sottoset**\n",
    "\n",
    "   Verifica se `set_x` è un sottoinsieme di `set_y` o viceversa.\n",
    "\n",
    "   ```python\n",
    "   # Il tuo codice qui\n",
    "   is_subset = # ...\n",
    "   print(\"set_x è un sottoinsieme di set_y?\", is_subset)\n",
    "   ```\n",
    "\n",
    "## **Buone Pratiche e Consigli**\n",
    "\n",
    "- **Uso Appropriato dei Set:** Utilizza i set quando hai bisogno di garantire l'unicità degli elementi o quando devi effettuare operazioni insiemistiche.\n",
    "- **Elementi Immutabili:** Ricorda che gli elementi di un set devono essere immutabili. Evita di inserire liste o altri set al suo interno.\n",
    "- **Performance:** Le operazioni di appartenenza (`in`) su un set sono molto più veloci rispetto a liste o tuple, specialmente con grandi quantità di dati.\n",
    "\n",
    "## **Conclusione**\n",
    "\n",
    "I set sono uno strumento potente in Python per la gestione di collezioni di dati unici e per l'esecuzione di operazioni matematiche tra insiemi. Comprendendo come creare e manipolare i set, puoi scrivere codice più efficiente e pulito, soprattutto quando lavori con dati che richiedono unicità o operazioni insiemistiche.\n",
    "\n",
    "## **Risorse Aggiuntive**\n",
    "\n",
    "- **Documentazione Ufficiale Python**: [Data Structures - Sets](https://docs.python.org/3/tutorial/datastructures.html#sets)\n",
    "- **Libro Consigliato**: [Python Crash Course di Eric Matthes](https://www.amazon.com/Python-Crash-Course-2nd-Edition/dp/1593279280)\n",
    "- **Video Tutorial**: [Lists, Tuples, and Sets](https://youtu.be/W8KRzm-HUcc?si=NQuVYNBcCnE_VsuO)"
   ]
  }
 ],
 "metadata": {
  "kernelspec": {
   "display_name": "Python 3 (ipykernel)",
   "language": "python",
   "name": "python3"
  },
  "language_info": {
   "codemirror_mode": {
    "name": "ipython",
    "version": 3
   },
   "file_extension": ".py",
   "mimetype": "text/x-python",
   "name": "python",
   "nbconvert_exporter": "python",
   "pygments_lexer": "ipython3",
   "version": "3.10.9"
  }
 },
 "nbformat": 4,
 "nbformat_minor": 5
}
