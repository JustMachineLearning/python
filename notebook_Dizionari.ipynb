{
 "cells": [
  {
   "cell_type": "markdown",
   "id": "3ff01201",
   "metadata": {},
   "source": [
    "# Dizionari"
   ]
  },
  {
   "cell_type": "markdown",
   "id": "9fa8083d",
   "metadata": {},
   "source": [
    "## **Obiettivi della Lezione**\n",
    "\n",
    "Al termine di questa lezione sarai in grado di:\n",
    "\n",
    "- Comprendere cosa sono i dizionari in Python e la loro utilità.\n",
    "- Creare e inizializzare dizionari.\n",
    "- Accedere, modificare e rimuovere elementi in un dizionario.\n",
    "- Iterare attraverso le chiavi, i valori e gli elementi di un dizionario.\n",
    "- Utilizzare i metodi principali associati ai dizionari."
   ]
  },
  {
   "cell_type": "markdown",
   "id": "1d5d1f32",
   "metadata": {},
   "source": [
    "## **Introduzione**\n",
    "\n",
    "I dizionari sono una delle strutture dati più potenti e versatili in Python. Consentono di memorizzare dati in coppie *chiave-valore*, offrendo un modo efficiente per recuperare informazioni basate su una chiave univoca. A differenza delle liste, che utilizzano indici numerici, i dizionari utilizzano chiavi immutabili per accedere ai loro valori, rendendoli ideali per rappresentare oggetti e dati strutturati."
   ]
  },
  {
   "cell_type": "markdown",
   "id": "dac042be",
   "metadata": {},
   "source": [
    "## **Spiegazione Teorica**\n",
    "\n",
    "### **Cos'è un Dizionario?**\n",
    "\n",
    "Un dizionario è una collezione non ordinata, modificabile e indicizzata di elementi. Ogni elemento in un dizionario è composto da una *chiave* e un *valore*. Le chiavi devono essere di un tipo di dato immutabile (come stringhe, numeri o tuple), mentre i valori possono essere di qualsiasi tipo.\n",
    "\n",
    "### **Creazione di un Dizionario**\n",
    "\n",
    "Puoi creare un dizionario utilizzando le parentesi graffe `{}` o la funzione `dict()`.\n"
   ]
  },
  {
   "cell_type": "code",
   "execution_count": 1,
   "id": "9be0128e",
   "metadata": {},
   "outputs": [],
   "source": [
    "# Dizionario vuoto\n",
    "dizionario_vuoto = {}\n",
    "\n",
    "# Dizionario con dati iniziali\n",
    "dizionario = {\n",
    "    'nome': 'Alice',\n",
    "    'età': 25,\n",
    "    'città': 'Roma'\n",
    "}\n",
    "\n",
    "# Utilizzando la funzione dict()\n",
    "dizionario_alternativo = dict(nome='Bob', età=30, città='Milano')"
   ]
  },
  {
   "cell_type": "markdown",
   "id": "2498d2a6",
   "metadata": {},
   "source": [
    "\n",
    "### **Accesso ai Valori**\n",
    "\n",
    "Per accedere al valore associato a una chiave, utilizzi le parentesi quadre `[]` o il metodo `.get()`.\n"
   ]
  },
  {
   "cell_type": "code",
   "execution_count": 2,
   "id": "7ef08e41",
   "metadata": {},
   "outputs": [],
   "source": [
    "# Usando le parentesi quadre\n",
    "nome = dizionario['nome']  # 'Alice'\n",
    "\n",
    "# Usando il metodo get()\n",
    "età = dizionario.get('età')  # 25"
   ]
  },
  {
   "cell_type": "markdown",
   "id": "c933201e",
   "metadata": {},
   "source": [
    "\n",
    "> **Nota:** Se si tenta di accedere a una chiave inesistente usando `[]`, otterrai un errore `KeyError`. Con `.get()`, otterrai `None` o un valore predefinito specificato.\n",
    "\n",
    "### **Modifica e Aggiunta di Elementi**\n",
    "\n",
    "Puoi modificare il valore di una chiave esistente o aggiungere una nuova coppia chiave-valore.\n"
   ]
  },
  {
   "cell_type": "code",
   "execution_count": 3,
   "id": "e6735f8a",
   "metadata": {},
   "outputs": [],
   "source": [
    "# Modifica del valore esistente\n",
    "dizionario['età'] = 26\n",
    "\n",
    "# Aggiunta di una nuova coppia chiave-valore\n",
    "dizionario['professione'] = 'Ingegnere'"
   ]
  },
  {
   "cell_type": "markdown",
   "id": "c4fc0dc3",
   "metadata": {},
   "source": [
    "\n",
    "### **Rimozione di Elementi**\n",
    "\n",
    "Esistono diversi metodi per rimuovere elementi da un dizionario:\n",
    "\n",
    "- `pop(key)`: Rimuove la chiave specificata e restituisce il valore.\n",
    "- `popitem()`: Rimuove e restituisce l'ultima coppia chiave-valore inserita.\n",
    "- `del`: Rimuove l'elemento con la chiave specificata.\n",
    "- `clear()`: Rimuove tutti gli elementi dal dizionario.\n"
   ]
  },
  {
   "cell_type": "code",
   "execution_count": 4,
   "id": "71ce44f1",
   "metadata": {},
   "outputs": [],
   "source": [
    "# Usando pop()\n",
    "professione = dizionario.pop('professione')  # 'Ingegnere'\n",
    "\n",
    "# Usando del\n",
    "del dizionario['città']\n",
    "\n",
    "# Usando clear()\n",
    "dizionario.clear()  # Dizionario vuoto"
   ]
  },
  {
   "cell_type": "markdown",
   "id": "0dd87cbd",
   "metadata": {},
   "source": [
    "\n",
    "### **Iterazione attraverso un Dizionario**\n",
    "\n",
    "Puoi iterare sulle chiavi, sui valori o su entrambi:\n"
   ]
  },
  {
   "cell_type": "code",
   "execution_count": 5,
   "id": "c3773150",
   "metadata": {},
   "outputs": [
    {
     "name": "stdout",
     "output_type": "stream",
     "text": [
      "nome\n",
      "età\n",
      "città\n",
      "Alice\n",
      "26\n",
      "Roma\n",
      "nome: Alice\n",
      "età: 26\n",
      "città: Roma\n"
     ]
    }
   ],
   "source": [
    "dizionario = {'nome': 'Alice', 'età': 26, 'città': 'Roma'}\n",
    "\n",
    "# Iterare sulle chiavi\n",
    "for chiave in dizionario:\n",
    "    print(chiave)\n",
    "\n",
    "# Iterare sui valori\n",
    "for valore in dizionario.values():\n",
    "    print(valore)\n",
    "\n",
    "# Iterare sulle coppie chiave-valore\n",
    "for chiave, valore in dizionario.items():\n",
    "    print(f\"{chiave}: {valore}\")"
   ]
  },
  {
   "cell_type": "markdown",
   "id": "f1748479",
   "metadata": {},
   "source": [
    "\n",
    "#### **Metodi Utili dei Dizionari**\n",
    "\n",
    "- `keys()`: Restituisce una lista delle chiavi.\n",
    "- `values()`: Restituisce una lista dei valori.\n",
    "- `items()`: Restituisce una lista di tuple (chiave, valore).\n",
    "- `update()`: Aggiorna il dizionario con le coppie chiave-valore di un altro dizionario.\n",
    "- `copy()`: Restituisce una copia superficiale del dizionario."
   ]
  },
  {
   "cell_type": "markdown",
   "id": "dff3928c",
   "metadata": {},
   "source": [
    "## **Esempi Pratici di Codice**\n",
    "\n",
    "### **Esempio 1: Creazione e Manipolazione di un Dizionario**\n"
   ]
  },
  {
   "cell_type": "code",
   "execution_count": 6,
   "id": "d07d6ad9",
   "metadata": {},
   "outputs": [
    {
     "name": "stdout",
     "output_type": "stream",
     "text": [
      "Carlo\n",
      "21\n",
      "nome: Carlo\n",
      "età: 22\n",
      "università: Sapienza\n"
     ]
    }
   ],
   "source": [
    "# Creazione di un dizionario\n",
    "studente = {\n",
    "    'nome': 'Carlo',\n",
    "    'età': 21,\n",
    "    'corsi': ['Matematica', 'Fisica']\n",
    "}\n",
    "\n",
    "# Accesso ai valori\n",
    "print(studente['nome'])            # Output: Carlo\n",
    "print(studente.get('età'))         # Output: 21\n",
    "\n",
    "# Modifica di un valore\n",
    "studente['età'] = 22\n",
    "\n",
    "# Aggiunta di una nuova chiave\n",
    "studente['università'] = 'Sapienza'\n",
    "\n",
    "# Rimozione di una chiave\n",
    "del studente['corsi']\n",
    "\n",
    "# Iterazione\n",
    "for chiave, valore in studente.items():\n",
    "    print(f\"{chiave}: {valore}\")"
   ]
  },
  {
   "cell_type": "markdown",
   "id": "09ee19fd",
   "metadata": {},
   "source": [
    "\n",
    "**Spiegazione:**\n",
    "\n",
    "- Creiamo un dizionario `studente` con informazioni personali.\n",
    "- Modifichiamo l'età.\n",
    "- Aggiungiamo l'università frequentata.\n",
    "- Rimuoviamo la lista dei corsi.\n",
    "- Iteriamo sul dizionario per stampare le informazioni aggiornate.\n",
    "\n",
    "### **Esempio 2: Contare la Frequenza degli Elementi**\n"
   ]
  },
  {
   "cell_type": "code",
   "execution_count": 7,
   "id": "1f074162",
   "metadata": {},
   "outputs": [
    {
     "name": "stdout",
     "output_type": "stream",
     "text": [
      "{'mela': 3, 'banana': 2, 'arancia': 1}\n"
     ]
    }
   ],
   "source": [
    "# Lista di elementi\n",
    "frutta = ['mela', 'banana', 'arancia', 'mela', 'banana', 'mela']\n",
    "\n",
    "# Dizionario per il conteggio\n",
    "conteggio_frutta = {}\n",
    "\n",
    "for frutto in frutta:\n",
    "    if frutto in conteggio_frutta:\n",
    "        conteggio_frutta[frutto] += 1\n",
    "    else:\n",
    "        conteggio_frutta[frutto] = 1\n",
    "\n",
    "print(conteggio_frutta)  # Output: {'mela': 3, 'banana': 2, 'arancia': 1}"
   ]
  },
  {
   "cell_type": "markdown",
   "id": "7f657700",
   "metadata": {},
   "source": [
    "\n",
    "**Spiegazione:**\n",
    "\n",
    "- Creiamo una lista di frutta con elementi ripetuti.\n",
    "- Utilizziamo un dizionario `conteggio_frutta` per contare quante volte appare ogni frutto.\n",
    "- Incrementiamo il conteggio ogni volta che troviamo lo stesso frutto nella lista."
   ]
  },
  {
   "cell_type": "markdown",
   "id": "16f3c5c7",
   "metadata": {},
   "source": [
    "## **Esercizi Interattivi**\n",
    "\n",
    "### **Esercizio 1: Glossario di Termini**\n",
    "\n",
    "Crea un dizionario chiamato `glossario` che contenga almeno 5 termini di programmazione come chiavi e le loro definizioni come valori. Scrivi un ciclo che stampi ogni parola seguita dalla sua definizione.\n",
    "\n",
    "**Suggerimento:**\n",
    "\n",
    "- Utilizza il metodo `items()` per ottenere le coppie chiave-valore.\n",
    "- Formatta l'output per renderlo leggibile.\n",
    "\n",
    "### **Esercizio 2: Traduttore Semplice**\n",
    "\n",
    "Crea un programma che funzioni come un semplice traduttore italiano-inglese. Definisci un dizionario con parole in italiano come chiavi e le corrispondenti traduzioni in inglese come valori. Il programma dovrebbe chiedere all'utente una parola in italiano e restituire la traduzione in inglese.\n",
    "\n",
    "**Suggerimento:**\n",
    "\n",
    "- Usa la funzione `input()` per ottenere la parola dall'utente.\n",
    "- Gestisci il caso in cui la parola non sia presente nel dizionario."
   ]
  },
  {
   "cell_type": "markdown",
   "id": "23202114",
   "metadata": {},
   "source": [
    "## **Buone Pratiche e Consigli**\n",
    "\n",
    "- **Scelta delle Chiavi:** Utilizza chiavi immutabili come stringhe o numeri. Evita di usare liste o altri dizionari come chiavi.\n",
    "- **Evitare Errori di Chiave:** Quando accedi a una chiave che potrebbe non esistere, usa il metodo `.get()` con un valore di default per evitare eccezioni.\n",
    "  \n",
    "  ```python\n",
    "  valore = dizionario.get('chiave', 'Valore predefinito')\n",
    "  ```\n",
    "\n",
    "- **Comprensioni di Dizionari:** Puoi creare dizionari in modo efficiente utilizzando le comprensioni.\n",
    "\n",
    "  ```python\n",
    "  quadrati = {x: x*x for x in range(1, 6)}\n",
    "  # Output: {1: 1, 2: 4, 3: 9, 4: 16, 5: 25}\n",
    "  ```\n",
    "\n",
    "- **Evitare la Modifica durante l'Iterazione:** Non modificare il dizionario (aggiungendo o rimuovendo elementi) mentre lo stai iterando.\n",
    "\n",
    "- **Utilizzo di `defaultdict`:** Per conteggi o aggregazioni, considera l'uso di `defaultdict` dal modulo `collections`.\n",
    "\n",
    "  ```python\n",
    "  from collections import defaultdict\n",
    "  conteggio = defaultdict(int)\n",
    "  ```"
   ]
  },
  {
   "cell_type": "markdown",
   "id": "ccae0fc2",
   "metadata": {},
   "source": [
    "## **Conclusione**\n",
    "\n",
    "I dizionari sono fondamentali per la gestione di dati complessi in Python. Permettono un accesso rapido ai valori tramite chiavi significative, facilitando la scrittura di codice leggibile ed efficiente. Praticare con i dizionari ti aiuterà a comprendere meglio le loro potenzialità e a utilizzarli efficacemente nei tuoi programmi."
   ]
  },
  {
   "cell_type": "markdown",
   "id": "d12e7bc7",
   "metadata": {},
   "source": [
    "## **Risorse Aggiuntive**\n",
    "\n",
    "- **Documentazione Ufficiale Python**: [Dictionaries](https://docs.python.org/3/tutorial/datastructures.html#dictionaries)\n",
    "- **Libro Consigliato**: [Python Crash Course di Eric Matthes](https://www.amazon.com/Python-Crash-Course-2nd-Edition/dp/1593279280)\n",
    "- **Video Tutorial**: [Dictionaries - Working with Key-Value Pairs](https://youtu.be/daefaLgNkw0?si=0Y8NSqS6UrYk3E3h)\n"
   ]
  }
 ],
 "metadata": {
  "kernelspec": {
   "display_name": "Python 3 (ipykernel)",
   "language": "python",
   "name": "python3"
  },
  "language_info": {
   "codemirror_mode": {
    "name": "ipython",
    "version": 3
   },
   "file_extension": ".py",
   "mimetype": "text/x-python",
   "name": "python",
   "nbconvert_exporter": "python",
   "pygments_lexer": "ipython3",
   "version": "3.10.9"
  }
 },
 "nbformat": 4,
 "nbformat_minor": 5
}
