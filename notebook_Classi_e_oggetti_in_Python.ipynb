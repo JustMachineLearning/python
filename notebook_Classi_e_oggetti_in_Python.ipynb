{
 "cells": [
  {
   "cell_type": "markdown",
   "id": "6f1c7562",
   "metadata": {},
   "source": [
    "# Classi e Oggetti in Python\n",
    "\n",
    "## **Obiettivi della Lezione**\n",
    "\n",
    "Al termine di questa lezione, sarai in grado di:\n",
    "\n",
    "- Comprendere il concetto di **classe** e **oggetto** nella programmazione orientata agli oggetti (OOP) in Python.\n",
    "- Definire una classe in Python utilizzando la sintassi corretta.\n",
    "- Creare istanze (oggetti) di una classe.\n",
    "- Distinguere tra **attributi** e **metodi** di una classe.\n",
    "- Utilizzare il metodo speciale `__init__` (costruttore) per inizializzare gli oggetti.\n",
    "- Comprendere l'uso del parametro `self` nei metodi di classe.\n",
    "- Applicare i concetti di incapsulamento e modularità nel codice."
   ]
  },
  {
   "cell_type": "markdown",
   "id": "2fe3d645",
   "metadata": {},
   "source": [
    "## **Introduzione**\n",
    "\n",
    "La programmazione orientata agli oggetti (OOP) è un paradigma che organizza il codice intorno a **oggetti**, che combinano dati e comportamenti correlati. In Python, le **classi** sono gli strumenti fondamentali per implementare l'OOP. Esse fungono da blueprint per creare oggetti che rappresentano entità del mondo reale o concetti astratti. Comprendere come funzionano classi e oggetti è essenziale per scrivere codice Python efficace, modulare e riutilizzabile."
   ]
  },
  {
   "cell_type": "markdown",
   "id": "30522cbc",
   "metadata": {},
   "source": [
    "## **Spiegazione Teorica**\n",
    "\n",
    "### **Cos'è una Classe?**\n",
    "\n",
    "Una **classe** è una struttura che definisce un insieme di attributi e metodi che caratterizzano qualsiasi oggetto di quel tipo. In altre parole, è un modello che descrive le proprietà (dati) e i comportamenti (funzioni) che gli oggetti creati da essa avranno.\n"
   ]
  },
  {
   "cell_type": "markdown",
   "id": "1fc7f405",
   "metadata": {},
   "source": [
    "```python\n",
    "class NomeClasse:\n",
    "    # Definizione degli attributi e dei metodi\n",
    "```"
   ]
  },
  {
   "cell_type": "markdown",
   "id": "9121c8b8",
   "metadata": {},
   "source": [
    "\n",
    "### **Cos'è un Oggetto?**\n",
    "\n",
    "Un **oggetto** è un'istanza di una classe. Quando si crea un oggetto, si sta creando un'entità concreta basata sulla struttura definita dalla classe.\n"
   ]
  },
  {
   "cell_type": "markdown",
   "id": "43e0b8f1",
   "metadata": {},
   "source": [
    "```python\n",
    "mio_oggetto = NomeClasse()\n",
    "```"
   ]
  },
  {
   "cell_type": "markdown",
   "id": "0891d0bb",
   "metadata": {},
   "source": [
    "\n",
    "### **Attributi e Metodi**\n",
    "\n",
    "- **Attributi**: Variabili che appartengono a una classe o a un oggetto. Possono essere di classe (condivisi tra tutte le istanze) o di istanza (specifici per ogni oggetto).\n",
    "- **Metodi**: Funzioni definite all'interno di una classe che descrivono i comportamenti degli oggetti.\n",
    "\n",
    "### **Il Metodo `__init__` (Costruttore)**\n",
    "\n",
    "Il metodo speciale `__init__` viene chiamato automaticamente quando si crea una nuova istanza della classe. Viene utilizzato per inizializzare gli attributi dell'oggetto.\n"
   ]
  },
  {
   "cell_type": "markdown",
   "id": "53c4cda7",
   "metadata": {},
   "source": [
    "```python\n",
    "class NomeClasse:\n",
    "    def __init__(self, parametri):\n",
    "        # Inizializzazione degli attributi\n",
    "```"
   ]
  },
  {
   "cell_type": "markdown",
   "id": "5cf76578",
   "metadata": {},
   "source": [
    "\n",
    "### **Il Parametro `self`**\n",
    "\n",
    "Il parametro `self` rappresenta l'istanza corrente dell'oggetto ed è utilizzato per accedere agli attributi e ai metodi della classe. Deve essere il primo parametro in tutti i metodi di istanza."
   ]
  },
  {
   "cell_type": "markdown",
   "id": "52de354a",
   "metadata": {},
   "source": [
    "## **Esempi Pratici di Codice**\n",
    "\n",
    "### **1. Definire una Classe e Creare un Oggetto**\n"
   ]
  },
  {
   "cell_type": "code",
   "execution_count": 5,
   "id": "049498f5",
   "metadata": {},
   "outputs": [
    {
     "name": "stdout",
     "output_type": "stream",
     "text": [
      "Fido\n",
      "Cane\n"
     ]
    }
   ],
   "source": [
    "class Animale:\n",
    "    def __init__(self, nome, specie):\n",
    "        self.nome = nome\n",
    "        self.specie = specie\n",
    "\n",
    "# Creazione di un oggetto\n",
    "animale1 = Animale(\"Fido\", \"Cane\")\n",
    "\n",
    "print(animale1.nome)     # Output: Fido\n",
    "print(animale1.specie)   # Output: Cane"
   ]
  },
  {
   "cell_type": "markdown",
   "id": "f1106deb",
   "metadata": {},
   "source": [
    "\n",
    "**Spiegazione:**\n",
    "\n",
    "- Definiamo la classe `Animale` con il metodo `__init__` che inizializza gli attributi `nome` e `specie`.\n",
    "- Creiamo un'istanza `animale1` passando i valori per `nome` e `specie`.\n",
    "- Utilizziamo `print` per accedere agli attributi dell'oggetto.\n",
    "\n",
    "### **2. Aggiungere Metodi alla Classe**\n"
   ]
  },
  {
   "cell_type": "code",
   "execution_count": 6,
   "id": "617f8e8f",
   "metadata": {},
   "outputs": [
    {
     "name": "stdout",
     "output_type": "stream",
     "text": [
      "Fido è un Cane.\n"
     ]
    }
   ],
   "source": [
    "class Animale:\n",
    "    def __init__(self, nome, specie):\n",
    "        self.nome = nome\n",
    "        self.specie = specie\n",
    "\n",
    "    def descrivi(self):\n",
    "        print(f\"{self.nome} è un {self.specie}.\")\n",
    "\n",
    "animale1 = Animale(\"Fido\", \"Cane\")\n",
    "animale1.descrivi()  # Output: Fido è un Cane."
   ]
  },
  {
   "cell_type": "markdown",
   "id": "1471fec2",
   "metadata": {},
   "source": [
    "\n",
    "**Spiegazione:**\n",
    "\n",
    "- Aggiungiamo il metodo `descrivi` che stampa una descrizione dell'animale.\n",
    "- Chiamiamo il metodo sull'oggetto `animale1`.\n",
    "\n",
    "### **3. Attributi di Classe vs Attributi di Istanza**\n"
   ]
  },
  {
   "cell_type": "code",
   "execution_count": 7,
   "id": "5d9ebf66",
   "metadata": {},
   "outputs": [
    {
     "name": "stdout",
     "output_type": "stream",
     "text": [
      "Liceo Scientifico\n",
      "Liceo Scientifico\n",
      "Alice\n",
      "Luca\n"
     ]
    }
   ],
   "source": [
    "class Studente:\n",
    "    scuola = \"Liceo Scientifico\"  # Attributo di classe\n",
    "\n",
    "    def __init__(self, nome):\n",
    "        self.nome = nome          # Attributo di istanza\n",
    "\n",
    "studente1 = Studente(\"Alice\")\n",
    "studente2 = Studente(\"Luca\")\n",
    "\n",
    "print(studente1.scuola)   # Output: Liceo Scientifico\n",
    "print(studente2.scuola)   # Output: Liceo Scientifico\n",
    "print(studente1.nome)     # Output: Alice\n",
    "print(studente2.nome)     # Output: Luca"
   ]
  },
  {
   "cell_type": "markdown",
   "id": "1b23d43d",
   "metadata": {},
   "source": [
    "\n",
    "**Spiegazione:**\n",
    "\n",
    "- `scuola` è un attributo di classe condiviso da tutte le istanze di `Studente`.\n",
    "- `nome` è un attributo di istanza specifico per ogni oggetto.\n",
    "\n",
    "### **4. Utilizzo del Parametro `self`**\n"
   ]
  },
  {
   "cell_type": "code",
   "execution_count": 8,
   "id": "4893603d",
   "metadata": {},
   "outputs": [
    {
     "name": "stdout",
     "output_type": "stream",
     "text": [
      "Depositati €1000. Nuovo saldo: €1000.\n",
      "Prelevati €500. Nuovo saldo: €500.\n"
     ]
    }
   ],
   "source": [
    "class ContoCorrente:\n",
    "    def __init__(self, titolare, saldo=0):\n",
    "        self.titolare = titolare\n",
    "        self.saldo = saldo\n",
    "\n",
    "    def deposita(self, importo):\n",
    "        self.saldo += importo\n",
    "        print(f\"Depositati €{importo}. Nuovo saldo: €{self.saldo}.\")\n",
    "\n",
    "    def preleva(self, importo):\n",
    "        if importo <= self.saldo:\n",
    "            self.saldo -= importo\n",
    "            print(f\"Prelevati €{importo}. Nuovo saldo: €{self.saldo}.\")\n",
    "        else:\n",
    "            print(\"Fondi insufficienti.\")\n",
    "\n",
    "conto1 = ContoCorrente(\"Giovanni\")\n",
    "conto1.deposita(1000)\n",
    "conto1.preleva(500)"
   ]
  },
  {
   "cell_type": "markdown",
   "id": "07457565",
   "metadata": {},
   "source": [
    "\n",
    "**Spiegazione:**\n",
    "\n",
    "- Il parametro `self` viene utilizzato per accedere e modificare gli attributi dell'oggetto all'interno dei metodi `deposita` e `preleva`.\n",
    "- Vengono eseguite operazioni sul saldo del conto."
   ]
  },
  {
   "cell_type": "markdown",
   "id": "697e8bbb",
   "metadata": {},
   "source": [
    "## **Esercizi Interattivi**\n",
    "\n",
    "### **Esercizio 1**\n",
    "\n",
    "Crea una classe `Rettangolo` che accetta `larghezza` e `altezza` come parametri. Aggiungi due metodi:\n",
    "\n",
    "- `area` che calcola e restituisce l'area del rettangolo.\n",
    "- `perimetro` che calcola e restituisce il perimetro del rettangolo.\n",
    "\n",
    "**Soluzione:**\n"
   ]
  },
  {
   "cell_type": "code",
   "execution_count": 9,
   "id": "c488e7a6",
   "metadata": {},
   "outputs": [
    {
     "name": "stdout",
     "output_type": "stream",
     "text": [
      "Area: 50\n",
      "Perimetro: 30\n"
     ]
    }
   ],
   "source": [
    "class Rettangolo:\n",
    "    def __init__(self, larghezza, altezza):\n",
    "        self.larghezza = larghezza\n",
    "        self.altezza = altezza\n",
    "\n",
    "    def area(self):\n",
    "        return self.larghezza * self.altezza\n",
    "\n",
    "    def perimetro(self):\n",
    "        return 2 * (self.larghezza + self.altezza)\n",
    "\n",
    "rettangolo1 = Rettangolo(5, 10)\n",
    "print(f\"Area: {rettangolo1.area()}\")           # Output: Area: 50\n",
    "print(f\"Perimetro: {rettangolo1.perimetro()}\") # Output: Perimetro: 30"
   ]
  },
  {
   "cell_type": "markdown",
   "id": "6edde336",
   "metadata": {},
   "source": [
    "\n",
    "### **Esercizio 2**\n",
    "\n",
    "Definisci una classe `Cerchio` che prende il raggio come parametro. Aggiungi un metodo `area` che calcola l'area del cerchio (usa π = 3.14).\n",
    "\n",
    "**Soluzione:**\n"
   ]
  },
  {
   "cell_type": "code",
   "execution_count": 10,
   "id": "12ed4fee",
   "metadata": {},
   "outputs": [
    {
     "name": "stdout",
     "output_type": "stream",
     "text": [
      "Area del cerchio: 153.86\n"
     ]
    }
   ],
   "source": [
    "class Cerchio:\n",
    "    def __init__(self, raggio):\n",
    "        self.raggio = raggio\n",
    "\n",
    "    def area(self):\n",
    "        return 3.14 * (self.raggio ** 2)\n",
    "\n",
    "cerchio1 = Cerchio(7)\n",
    "print(f\"Area del cerchio: {cerchio1.area()}\")  # Output: Area del cerchio: 153.86"
   ]
  },
  {
   "cell_type": "markdown",
   "id": "82a70370",
   "metadata": {},
   "source": [
    "## **Buone Pratiche e Consigli**\n",
    "\n",
    "- **Nomi significativi**: Dai nomi chiari e descrittivi a classi, metodi e attributi per migliorare la leggibilità del codice.\n",
    "  \n",
    "- **Incapsulamento**: Mantieni gli attributi privati utilizzando un underscore `_` come prefisso (es. `_saldo`). Questo indica agli altri programmatori che tali attributi non dovrebbero essere modificati direttamente.\n",
    "\n",
    "- **Uso del parametro `self`**: Ricorda sempre di includere `self` come primo parametro nei metodi di istanza.\n",
    "\n",
    "- **Commenti e Docstring**: Utilizza commenti e docstring per documentare il funzionamento delle tue classi e metodi.\n",
    "\n",
    "- **Modularità**: Organizza il codice in moduli e classi per favorire il riutilizzo e la manutenzione."
   ]
  },
  {
   "cell_type": "markdown",
   "id": "afca93e4",
   "metadata": {},
   "source": [
    "## **Conclusione**\n",
    "\n",
    "Le classi e gli oggetti sono fondamentali per approcciare la programmazione orientata agli oggetti in Python. Comprendere come definire classi, creare oggetti e utilizzare attributi e metodi ti permette di scrivere codice più strutturato e modulare. Applicando questi concetti, sarai in grado di modellare problemi complessi in modo più naturale e intuitivo, sfruttando appieno le potenzialità di Python."
   ]
  },
  {
   "cell_type": "markdown",
   "id": "f98e642e",
   "metadata": {},
   "source": [
    "## **Risorse Aggiuntive**\n",
    "\n",
    "- **Documentazione Ufficiale Python**: [Classi](https://docs.python.org/3/tutorial/classes.html)\n",
    "- **Libro Consigliato**: [Python Crash Course di Eric Matthes](https://www.amazon.com/Python-Crash-Course-2nd-Edition/dp/1593279280)\n",
    "- **Video Tutorial**: [Classes and Instances](https://youtu.be/ZDa-Z5JzLYM?si=-HADA6BdM8qf7Aaw)\n"
   ]
  }
 ],
 "metadata": {
  "kernelspec": {
   "display_name": "Python 3 (ipykernel)",
   "language": "python",
   "name": "python3"
  },
  "language_info": {
   "codemirror_mode": {
    "name": "ipython",
    "version": 3
   },
   "file_extension": ".py",
   "mimetype": "text/x-python",
   "name": "python",
   "nbconvert_exporter": "python",
   "pygments_lexer": "ipython3",
   "version": "3.10.9"
  }
 },
 "nbformat": 4,
 "nbformat_minor": 5
}
