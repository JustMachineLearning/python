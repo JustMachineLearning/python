{
 "cells": [
  {
   "cell_type": "markdown",
   "id": "27ac14fd",
   "metadata": {},
   "source": [
    "# **Variabili in Python**"
   ]
  },
  {
   "cell_type": "markdown",
   "id": "0f8560f4",
   "metadata": {},
   "source": [
    "## **Obiettivi della Lezione**\n",
    "\n",
    "Al termine di questa lezione, sarai in grado di:\n",
    "\n",
    "- Comprendere cosa sono le variabili in Python.\n",
    "- Dichiarare e assegnare valori a variabili.\n",
    "- Conoscere le regole e le convenzioni per i nomi delle variabili.\n",
    "- Utilizzare variabili di diversi tipi di dati.\n",
    "- Effettuare assegnazioni multiple e aggiornare il valore delle variabili."
   ]
  },
  {
   "cell_type": "markdown",
   "id": "a0941522",
   "metadata": {},
   "source": [
    "## **Introduzione**\n",
    "\n",
    "Le variabili sono fondamentali nella programmazione: rappresentano dei \"contenitori\" che conservano informazioni che possono essere utilizzate e modificate nel corso dell'esecuzione di un programma. In Python, le variabili sono estremamente flessibili e semplici da utilizzare, il che rende il linguaggio molto intuitivo per i nuovi programmatori."
   ]
  },
  {
   "cell_type": "markdown",
   "id": "775d6b98",
   "metadata": {},
   "source": [
    "## **Spiegazione Teorica**\n",
    "\n",
    "### **Cosa sono le Variabili**\n",
    "\n",
    "Una variabile è un nome simbolico che fa riferimento a un valore. In pratica, quando assegni un valore a una variabile, stai dicendo al programma di memorizzare quel valore e associarlo a quel nome per usi futuri.\n",
    "\n",
    "### **Assegnazione di Valori alle Variabili**\n",
    "\n",
    "In Python, l'assegnazione di un valore a una variabile si effettua utilizzando l'operatore `=`.\n"
   ]
  },
  {
   "cell_type": "code",
   "execution_count": 1,
   "id": "95a1fb24",
   "metadata": {},
   "outputs": [],
   "source": [
    "x = 5"
   ]
  },
  {
   "cell_type": "markdown",
   "id": "c525c109",
   "metadata": {},
   "source": [
    "\n",
    "In questo caso, `x` è la variabile a cui viene assegnato il valore `5`.\n",
    "\n",
    "### **Dichiarazione Implicita**\n",
    "\n",
    "A differenza di altri linguaggi di programmazione, in Python non è necessario dichiarare esplicitamente il tipo di una variabile. Il tipo è determinato automaticamente in base al valore assegnato.\n",
    "\n",
    "### **Regole per i Nomi delle Variabili**\n",
    "\n",
    "Quando scegli un nome per una variabile, devi seguire alcune regole:\n",
    "\n",
    "- **Può contenere lettere, numeri e underscore (_).**\n",
    "- **Non può iniziare con un numero.**\n",
    "- **Sensibile alle maiuscole e minuscole (case-sensitive).**\n",
    "\n",
    "**Esempi validi:**\n",
    "\n",
    "- `nome`\n",
    "- `eta`\n",
    "- `Nome_Utente`\n",
    "- `x1`\n",
    "\n",
    "**Esempi non validi:**\n",
    "\n",
    "- `1numero` (inizia con un numero)\n",
    "- `nome-utente` (contiene un trattino)\n",
    "\n",
    "### **Convenzioni di Nomenclatura**\n",
    "\n",
    "Sebbene non obbligatorie, esistono convenzioni per rendere il codice più leggibile:\n",
    "\n",
    "- **snake_case**: utilizza underscore per separare le parole (es. `numero_cliente`).\n",
    "- Usa nomi descrittivi che riflettano lo scopo della variabile.\n",
    "\n",
    "### **Assegnazioni Multiple**\n",
    "\n",
    "Python permette di assegnare valori a più variabili in una sola linea:\n"
   ]
  },
  {
   "cell_type": "code",
   "execution_count": 2,
   "id": "e3a748a4",
   "metadata": {},
   "outputs": [],
   "source": [
    "x, y, z = 1, 2, 3"
   ]
  },
  {
   "cell_type": "markdown",
   "id": "ed2c1846",
   "metadata": {},
   "source": [
    "\n",
    "Oppure assegnare lo stesso valore a più variabili:\n"
   ]
  },
  {
   "cell_type": "code",
   "execution_count": 3,
   "id": "4b54ceaa",
   "metadata": {},
   "outputs": [],
   "source": [
    "a = b = c = 0"
   ]
  },
  {
   "cell_type": "markdown",
   "id": "ec554dcc",
   "metadata": {},
   "source": [
    "\n",
    "### **Aggiornamento dei Valori**\n",
    "\n",
    "Le variabili possono essere aggiornate in qualsiasi momento:\n"
   ]
  },
  {
   "cell_type": "code",
   "execution_count": 4,
   "id": "4484724b",
   "metadata": {},
   "outputs": [],
   "source": [
    "contatore = 1\n",
    "contatore = contatore + 1  # Ora contatore vale 2"
   ]
  },
  {
   "cell_type": "markdown",
   "id": "0c5e8a07",
   "metadata": {},
   "source": [
    "## **Esempi Pratici di Codice**\n",
    "\n",
    "### **Esempio 1: Assegnazione Semplice**\n"
   ]
  },
  {
   "cell_type": "code",
   "execution_count": 5,
   "id": "75979122",
   "metadata": {},
   "outputs": [
    {
     "name": "stdout",
     "output_type": "stream",
     "text": [
      "10\n"
     ]
    }
   ],
   "source": [
    "# Assegniamo un numero intero a una variabile\n",
    "numero = 10\n",
    "print(numero)"
   ]
  },
  {
   "cell_type": "markdown",
   "id": "e35c0f69",
   "metadata": {},
   "source": [
    "### **Esempio 2: Uso di Variabili di Tipo Differente**\n"
   ]
  },
  {
   "cell_type": "code",
   "execution_count": 6,
   "id": "1342631f",
   "metadata": {},
   "outputs": [
    {
     "name": "stdout",
     "output_type": "stream",
     "text": [
      "Nome: Alice\n",
      "Età: 30\n",
      "Studente: True\n"
     ]
    }
   ],
   "source": [
    "# Assegniamo diversi tipi di dati\n",
    "nome = \"Alice\"\n",
    "eta = 30\n",
    "is_student = True\n",
    "\n",
    "print(\"Nome:\", nome)\n",
    "print(\"Età:\", eta)\n",
    "print(\"Studente:\", is_student)"
   ]
  },
  {
   "cell_type": "markdown",
   "id": "0199cd86",
   "metadata": {},
   "source": [
    "### **Esempio 3: Assegnazioni Multiple**"
   ]
  },
  {
   "cell_type": "code",
   "execution_count": 7,
   "id": "3f15485d",
   "metadata": {},
   "outputs": [
    {
     "name": "stdout",
     "output_type": "stream",
     "text": [
      "5\n",
      "10\n",
      "15\n"
     ]
    }
   ],
   "source": [
    "# Assegnazione di più variabili in una linea\n",
    "x, y, z = 5, 10, 15\n",
    "\n",
    "print(x)\n",
    "print(y)\n",
    "print(z)"
   ]
  },
  {
   "cell_type": "markdown",
   "id": "5f604e64",
   "metadata": {},
   "source": [
    "### **Esempio 4: Aggiornamento di una Variabile**\n"
   ]
  },
  {
   "cell_type": "code",
   "execution_count": 8,
   "id": "152d7d6a",
   "metadata": {},
   "outputs": [
    {
     "name": "stdout",
     "output_type": "stream",
     "text": [
      "Punteggio: 10\n"
     ]
    }
   ],
   "source": [
    "# Aggiorniamo il valore di una variabile\n",
    "punteggio = 0\n",
    "punteggio = punteggio + 10\n",
    "\n",
    "print(\"Punteggio:\", punteggio)"
   ]
  },
  {
   "cell_type": "markdown",
   "id": "790686a9",
   "metadata": {},
   "source": [
    "### **Esempio 5: Nomi di Variabili Case-Sensitive**\n"
   ]
  },
  {
   "cell_type": "code",
   "execution_count": 9,
   "id": "82180a41",
   "metadata": {},
   "outputs": [
    {
     "name": "stdout",
     "output_type": "stream",
     "text": [
      "100\n",
      "200\n"
     ]
    }
   ],
   "source": [
    "# Dimostrazione della sensibilità alle maiuscole e minuscole\n",
    "variabile = 100\n",
    "Variabile = 200\n",
    "\n",
    "print(variabile)\n",
    "print(Variabile)"
   ]
  },
  {
   "cell_type": "markdown",
   "id": "8cb245cd",
   "metadata": {},
   "source": [
    "## **Esercizi Interattivi**\n",
    "\n",
    "### **Esercizio 1: Calcolo dell'Area di un Rettangolo**\n",
    "\n",
    "Scrivi un programma che calcoli l'area di un rettangolo. Chiedi all'utente di inserire la base e l'altezza, salva questi valori in variabili, calcola l'area e stampa il risultato.\n",
    "\n",
    "**Suggerimento:**\n"
   ]
  },
  {
   "cell_type": "code",
   "execution_count": null,
   "id": "d5409aff",
   "metadata": {},
   "outputs": [],
   "source": [
    "# Chiedi all'utente di inserire la base e l'altezza\n",
    "base = ...\n",
    "altezza = ...\n",
    "\n",
    "# Calcola l'area\n",
    "area = ...\n",
    "\n",
    "# Stampa il risultato\n",
    "print(\"L'area del rettangolo è:\", area)"
   ]
  },
  {
   "cell_type": "markdown",
   "id": "2b76a3ad",
   "metadata": {},
   "source": [
    "\n",
    "### **Esercizio 2: Scambio di Valori tra Variabili**\n",
    "\n",
    "Dato il codice seguente, scambia i valori delle variabili in modo che `a` contenga il valore di `b` e `b` il valore di `a`.\n"
   ]
  },
  {
   "cell_type": "code",
   "execution_count": null,
   "id": "6c0b1637",
   "metadata": {},
   "outputs": [],
   "source": [
    "a = 5\n",
    "b = 10\n",
    "\n",
    "# Scrivi il tuo codice qui\n",
    "\n",
    "print(\"a =\", a)\n",
    "print(\"b =\", b)"
   ]
  },
  {
   "cell_type": "markdown",
   "id": "d51f84cd",
   "metadata": {},
   "source": [
    "\n",
    "**Soluzione:**\n",
    "\n",
    "Per scambiare i valori, puoi utilizzare una terza variabile oppure la sintassi di assegnazione multipla."
   ]
  },
  {
   "cell_type": "markdown",
   "id": "3a695ae3",
   "metadata": {},
   "source": [
    "## **Buone Pratiche e Consigli**\n",
    "\n",
    "- **Utilizza nomi significativi:** nomi come `x` e `y` sono accettabili per scopi temporanei o matematici, ma in generale, è meglio usare nomi che descrivano il contenuto o lo scopo della variabile.\n",
    "  \n",
    "- **Evita parole riservate:** non utilizzare parole chiave riservate di Python (come `if`, `for`, `def`, ecc.) come nomi di variabili.\n",
    "  \n",
    "- **Costanti:** se devi definire un valore che non dovrebbe cambiare, per convenzione si utilizzano nomi in maiuscolo (es. `PI = 3.14`), anche se Python non ha costanti vere e proprie.\n",
    "  \n",
    "- **Commenta il tuo codice:** se una variabile viene utilizzata in un modo non immediatamente evidente, aggiungi un commento per spiegare."
   ]
  },
  {
   "cell_type": "markdown",
   "id": "89df61d3",
   "metadata": {},
   "source": [
    "## **Conclusione**\n",
    "\n",
    "Le variabili sono uno degli elementi fondamentali in qualsiasi linguaggio di programmazione. In Python, la loro flessibilità e la sintassi semplice permettono di iniziare a scrivere codice funzionale rapidamente. Comprendere come dichiarare, assegnare e utilizzare le variabili è il primo passo per sviluppare programmi più complessi."
   ]
  },
  {
   "cell_type": "markdown",
   "id": "7067851c",
   "metadata": {},
   "source": [
    "## **Risorse Aggiuntive**\n",
    "\n",
    "- **Documentazione Ufficiale Python**: [Built-in Types](https://docs.python.org/3/library/stdtypes.html)\n",
    "- **Libro Consigliato**: [Python Crash Course di Eric Matthes](https://www.amazon.com/Python-Crash-Course-2nd-Edition/dp/1593279280)\n",
    "- **Video Tutorial**: [Variables](https://youtu.be/Gf9wLsCJDqc?si=xkmadNbfr8ye9A1i)\n"
   ]
  }
 ],
 "metadata": {
  "kernelspec": {
   "display_name": "Python 3 (ipykernel)",
   "language": "python",
   "name": "python3"
  },
  "language_info": {
   "codemirror_mode": {
    "name": "ipython",
    "version": 3
   },
   "file_extension": ".py",
   "mimetype": "text/x-python",
   "name": "python",
   "nbconvert_exporter": "python",
   "pygments_lexer": "ipython3",
   "version": "3.10.9"
  }
 },
 "nbformat": 4,
 "nbformat_minor": 5
}
