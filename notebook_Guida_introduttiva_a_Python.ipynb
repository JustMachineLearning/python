{
 "cells": [
  {
   "cell_type": "markdown",
   "id": "ba4f9c86",
   "metadata": {},
   "source": [
    "# Guida introduttiva a Python\n",
    "\n",
    "## Obiettivi della Lezione\n",
    "\n",
    "Al termine di questa lezione, sarai in grado di:\n",
    "\n",
    "- Comprendere che cos'è Python e quali sono i suoi utilizzi principali.\n",
    "- Installare Python sul tuo sistema operativo.\n",
    "- Familiarizzare con l'interprete Python e gli ambienti di sviluppo.\n",
    "- Scrivere ed eseguire il tuo primo programma in Python."
   ]
  },
  {
   "cell_type": "markdown",
   "id": "95dc2db3",
   "metadata": {},
   "source": [
    "## Introduzione\n",
    "\n",
    "Python è un linguaggio di programmazione ad alto livello, interpretato e orientato agli oggetti, noto per la sua sintassi semplice e leggibile. Creato da Guido van Rossum negli anni '90, Python è diventato uno dei linguaggi più popolari al mondo grazie alla sua versatilità e all'ampia comunità di sviluppatori che lo supporta. In questa lezione, esploreremo come iniziare a programmare in Python, dall'installazione all'esecuzione del primo script."
   ]
  },
  {
   "cell_type": "markdown",
   "id": "9f29a968",
   "metadata": {},
   "source": [
    "## Spiegazione Teorica\n",
    "\n",
    "### Che cos'è Python?\n",
    "\n",
    "Python è un linguaggio di programmazione utilizzato in vari campi, tra cui:\n",
    "\n",
    "- **Sviluppo Web**: tramite framework come Django e Flask.\n",
    "- **Data Science e Machine Learning**: con librerie come Pandas, NumPy, scikit-learn e TensorFlow.\n",
    "- **Automazione e Scripting**: per automatizzare attività ripetitive.\n",
    "- **Sviluppo di Applicazioni Desktop**: con toolkit come Tkinter e PyQt.\n",
    "- **Sviluppo di Giochi**: utilizzando librerie come Pygame.\n",
    "\n",
    "### Perché scegliere Python?\n",
    "\n",
    "- **Sintassi Semplice**: facilita l'apprendimento e la leggibilità del codice.\n",
    "- **Multipiattaforma**: funziona su Windows, macOS e Linux.\n",
    "- **Ampia Libreria Standard**: offre molte funzionalità pronte all'uso.\n",
    "- **Grande Comunità**: supporto continuo e numerose risorse disponibili.\n",
    "- **Integrabilità**: si integra facilmente con altri linguaggi e tecnologie.\n",
    "\n",
    "### Installazione di Python\n",
    "\n",
    "#### Verifica della presenza di Python\n",
    "\n",
    "Prima di installare Python, verifica se è già presente sul tuo sistema:\n",
    "\n",
    "- **Windows**: apri il Prompt dei comandi e digita `python --version` o `py --version`.\n",
    "- **macOS/Linux**: apri il Terminale e digita `python3 --version` o `python --version`.\n",
    "\n",
    "#### Scaricare e installare Python\n",
    "\n",
    "1. Visita il sito ufficiale: [python.org](https://www.python.org/downloads/).\n",
    "2. Scarica la versione più recente compatibile con il tuo sistema operativo.\n",
    "3. **Windows**: durante l'installazione, assicurati di selezionare l'opzione \"Add Python to PATH\".\n",
    "4. Segui le istruzioni dell'installer per completare l'installazione.\n",
    "\n",
    "### Ambiente di Sviluppo\n",
    "\n",
    "#### Interprete Python (REPL)\n",
    "\n",
    "Il Read-Eval-Print Loop (REPL) è un'interfaccia interattiva che permette di eseguire comandi Python uno alla volta.\n",
    "\n",
    "- Avvia l'interprete:\n",
    "  - **Windows**: digita `python` o `py` nel Prompt dei comandi.\n",
    "  - **macOS/Linux**: digita `python3` nel Terminale.\n",
    "- Vedrai comparire il prompt `>>>`, dove potrai inserire comandi Python.\n",
    "\n",
    "#### Editor di Testo e IDE\n",
    "\n",
    "Per scrivere script Python più complessi, è consigliabile utilizzare un editor di testo o un IDE:\n",
    "\n",
    "- **Editor di Testo**:\n",
    "  - Visual Studio Code\n",
    "  - Sublime Text\n",
    "  - Atom\n",
    "- **IDE**:\n",
    "  - PyCharm\n",
    "  - Spyder\n",
    "  - Eclipse con PyDev\n",
    "\n",
    "#### Notebook Jupyter\n",
    "\n",
    "Per un approccio più interattivo e adatto alla didattica, utilizziamo i **notebook Jupyter**. Un notebook permette di scrivere codice, visualizzare risultati e inserire spiegazioni testuali (tramite celle markdown) in un unico ambiente interattivo. Questo strumento è particolarmente utile per lezioni pratiche, analisi dati e sviluppo incrementale di codice.\n",
    "\n",
    "- **Installazione**:\n",
    "  Se non è già presente, puoi installare Jupyter con il comando:\n",
    "  ```bash\n",
    "  pip install notebook\n",
    "  ```\n",
    "  \n",
    "- **Avvio del notebook**: Esegui il comando seguente nel terminale:\n",
    "\n",
    "    ```bash\n",
    "    jupyter notebook\n",
    "    ```\n",
    "Questo aprirà un'interfaccia web, da cui puoi creare nuovi notebook `.ipynb`.\n",
    "\n",
    "- **Uso principale**:\n",
    "\n",
    "Scrivi codice Python in celle di codice ed eseguilo premendo `Shift + Enter`.\n",
    "Inserisci spiegazioni, formule o descrizioni usando celle markdown.\n",
    "Visualizza grafici e output direttamente all'interno delle celle.\n",
    "Durante il corso, le lezioni saranno svolte direttamente nei notebook Jupyter, permettendo un apprendimento interattivo e pratico.  "
   ]
  },
  {
   "cell_type": "markdown",
   "id": "000ec380",
   "metadata": {},
   "source": [
    "## Esempi Pratici di Codice\n",
    "\n",
    "### Il tuo Primo Programma: \"Hello, World!\"\n",
    "\n",
    "Il classico punto di partenza per ogni programmatore è creare un programma che visualizzi \"Hello, World!\".\n",
    "\n",
    "#### Utilizzando l'interprete Python\n"
   ]
  },
  {
   "cell_type": "code",
   "execution_count": 1,
   "id": "d917d2c9",
   "metadata": {},
   "outputs": [
    {
     "name": "stdout",
     "output_type": "stream",
     "text": [
      "Hello, World!\n"
     ]
    }
   ],
   "source": [
    "print(\"Hello, World!\")"
   ]
  },
  {
   "cell_type": "markdown",
   "id": "d98a815b",
   "metadata": {},
   "source": [
    "\n",
    "**Spiegazione**:\n",
    "\n",
    "- `print()` è una funzione che stampa a schermo il testo tra parentesi.\n",
    "- Le virgolette indicano che si tratta di una stringa.\n",
    "\n",
    "#### Scrivendo uno script Python\n",
    "\n",
    "1. Apri un editor di testo e crea un nuovo file chiamato `hello_world.py`.\n",
    "2. Inserisci il seguente codice:\n"
   ]
  },
  {
   "cell_type": "code",
   "execution_count": 2,
   "id": "d339032b",
   "metadata": {},
   "outputs": [
    {
     "name": "stdout",
     "output_type": "stream",
     "text": [
      "Hello, World!\n"
     ]
    }
   ],
   "source": [
    "print(\"Hello, World!\")"
   ]
  },
  {
   "cell_type": "markdown",
   "id": "9d306c6c",
   "metadata": {},
   "source": [
    "\n",
    "3. Salva il file.\n",
    "4. Esegui lo script:\n",
    "\n",
    "   - **Windows**: apri il Prompt dei comandi, naviga fino alla cartella del file e digita `python hello_world.py` o `py hello_world.py`.\n",
    "   - **macOS/Linux**: apri il Terminale, naviga fino alla cartella del file e digita `python3 hello_world.py`.\n",
    "\n",
    "**Output**:\n",
    "\n",
    "```\n",
    "Hello, World!\n",
    "```"
   ]
  },
  {
   "cell_type": "markdown",
   "id": "5f8e6942",
   "metadata": {},
   "source": [
    "## Esercizi Interattivi\n",
    "\n",
    "### Esercizio 1: Installazione di Python\n",
    "\n",
    "- **Obiettivo**: Installa Python sul tuo sistema e verifica l'installazione.\n",
    "- **Istruzioni**:\n",
    "  - Segui la sezione sull'installazione per il tuo sistema operativo.\n",
    "  - Apri il Prompt dei comandi o il Terminale e digita `python --version` o `python3 --version`.\n",
    "- **Risultato Atteso**: Dovresti vedere la versione di Python installata.\n",
    "\n",
    "### Esercizio 2: Interprete Python\n",
    "\n",
    "- **Obiettivo**: Familiarizzare con l'interprete Python.\n",
    "- **Istruzioni**:\n",
    "  - Avvia l'interprete Python.\n",
    "  - Prova a eseguire alcune semplici operazioni matematiche, ad esempio `2 + 3`, `5 * 7`.\n",
    "- **Risultato Atteso**: L'interprete dovrebbe restituire il risultato delle operazioni.\n",
    "\n",
    "### Esercizio 3: Modifica dello Script\n",
    "\n",
    "- **Obiettivo**: Modificare lo script `hello_world.py` per stampare un messaggio personalizzato.\n",
    "- **Istruzioni**:\n",
    "  - Apri `hello_world.py` nel tuo editor di testo.\n",
    "  - Cambia il messaggio in `print(\"Ciao, Python!\")`.\n",
    "  - Salva e riesegui lo script.\n",
    "- **Risultato Atteso**: Il programma dovrebbe stampare `Ciao, Python!`."
   ]
  },
  {
   "cell_type": "markdown",
   "id": "ccee0003",
   "metadata": {},
   "source": [
    "## Buone Pratiche e Consigli\n",
    "\n",
    "- **Salvataggio dei File**: Assicurati di salvare i tuoi script con l'estensione `.py`.\n",
    "- **Organizzazione**: Mantieni i tuoi file Python ben organizzati in cartelle specifiche.\n",
    "- **Commenti**: Anche se verranno discussi nelle lezioni successive, inizia ad abituarti a commentare il tuo codice per migliorarne la leggibilità.\n",
    "- **Ambienti Virtuali**: Considera l'uso di ambienti virtuali (come `venv`) per gestire le dipendenze dei tuoi progetti.\n",
    "- **Aggiornamento**: Mantieni Python e le tue librerie aggiornate per usufruire delle ultime funzionalità e correzioni."
   ]
  },
  {
   "cell_type": "markdown",
   "id": "d9c980e6",
   "metadata": {},
   "source": [
    "## Conclusione\n",
    "\n",
    "In questa lezione, abbiamo introdotto Python, esplorando cos'è e perché è così ampiamente utilizzato. Hai imparato come installare Python, utilizzare l'interprete interattivo e creare ed eseguire il tuo primo script. Questi fondamentali ti preparano per approfondire ulteriormente la programmazione in Python nelle lezioni successive."
   ]
  },
  {
   "cell_type": "markdown",
   "id": "41285ae2",
   "metadata": {},
   "source": [
    "## Risorse Aggiuntive\n",
    "\n",
    "- **Documentazione Ufficiale Python**: [Documentazione](https://docs.python.org/3/)\n",
    "- **Libro Consigliato**: [Python Crash Course di Eric Matthes](https://www.amazon.com/Python-Crash-Course-2nd-Edition/dp/1593279280)"
   ]
  }
 ],
 "metadata": {
  "kernelspec": {
   "display_name": "Python 3 (ipykernel)",
   "language": "python",
   "name": "python3"
  },
  "language_info": {
   "codemirror_mode": {
    "name": "ipython",
    "version": 3
   },
   "file_extension": ".py",
   "mimetype": "text/x-python",
   "name": "python",
   "nbconvert_exporter": "python",
   "pygments_lexer": "ipython3",
   "version": "3.10.9"
  }
 },
 "nbformat": 4,
 "nbformat_minor": 5
}
