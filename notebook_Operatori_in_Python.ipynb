{
 "cells": [
  {
   "cell_type": "markdown",
   "id": "e4c1f224",
   "metadata": {},
   "source": [
    "# Operatori in Python\n",
    "\n",
    "## Obiettivi della Lezione\n",
    "\n",
    "Al termine di questa lezione, sarai in grado di:\n",
    "\n",
    "- Comprendere i diversi tipi di operatori disponibili in Python.\n",
    "- Utilizzare operatori aritmetici per eseguire calcoli matematici.\n",
    "- Applicare operatori di assegnazione per assegnare e modificare valori nelle variabili.\n",
    "- Utilizzare operatori di confronto per confrontare valori e variabili.\n",
    "- Implementare operatori logici per costruire espressioni condizionali complesse.\n",
    "- Comprendere e utilizzare operatori di identità e appartenenza.\n",
    "- Avere una conoscenza di base degli operatori bitwise.\n",
    "\n",
    "## Introduzione\n",
    "\n",
    "Gli operatori sono simboli che eseguono operazioni su uno o più operandi (variabili o valori). In Python, gli operatori sono fondamentali per manipolare i dati e prendere decisioni nel codice. Questa lezione esplorerà i vari operatori disponibili in Python e come utilizzarli efficacemente nei tuoi programmi.\n",
    "\n",
    "## Spiegazione Teorica\n",
    "\n",
    "Python offre una varietà di operatori, ciascuno con uno scopo specifico. Ecco una panoramica dei principali tipi di operatori:\n",
    "\n",
    "1. **Operatori Aritmetici**: eseguono operazioni matematiche come addizione, sottrazione, moltiplicazione, divisione, ecc.\n",
    "2. **Operatori di Assegnazione**: usati per assegnare valori alle variabili.\n",
    "3. **Operatori di Confronto**: confrontano due valori e restituiscono True o False.\n",
    "4. **Operatori Logici**: combinano espressioni condizionali.\n",
    "5. **Operatori di Identità**: controllano se due variabili fanno riferimento allo stesso oggetto.\n",
    "6. **Operatori di Appartenenza**: controllano se un elemento è presente in una sequenza.\n",
    "7. **Operatori Bitwise**: eseguono operazioni sui bit degli interi.\n",
    "\n",
    "\n",
    "### 1. Operatori Aritmetici\n",
    "\n",
    "Gli operatori aritmetici vengono utilizzati con valori numerici per eseguire operazioni matematiche comuni.\n",
    "\n",
    "| Operatore | Descrizione            | Esempio      |\n",
    "|-----------|------------------------|--------------|\n",
    "| `+`       | Addizione              | `a + b`      |\n",
    "| `-`       | Sottrazione            | `a - b`      |\n",
    "| `*`       | Moltiplicazione        | `a * b`      |\n",
    "| `/`       | Divisione              | `a / b`      |\n",
    "| `%`       | Modulo (resto)         | `a % b`      |\n",
    "| `**`      | Potenza                | `a ** b`     |\n",
    "| `//`      | Divisione intera       | `a // b`     |\n",
    "\n",
    "### 2. Operatori di Assegnazione\n",
    "\n",
    "Gli operatori di assegnazione vengono utilizzati per assegnare valori alle variabili.\n",
    "\n",
    "| Operatore | Esempio  | Equivalente a |\n",
    "|-----------|----------|---------------|\n",
    "| `=`       | `a = 5`  | `a = 5`       |\n",
    "| `+=`      | `a += 3` | `a = a + 3`   |\n",
    "| `-=`      | `a -= 3` | `a = a - 3`   |\n",
    "| `*=`      | `a *= 3` | `a = a * 3`   |\n",
    "| `/=`      | `a /= 3` | `a = a / 3`   |\n",
    "| `%=`      | `a %= 3` | `a = a % 3`   |\n",
    "| `//=`     | `a //= 3`| `a = a // 3`  |\n",
    "| `**=`     | `a **= 3`| `a = a ** 3`  |\n",
    "\n",
    "### 3. Operatori di Confronto\n",
    "\n",
    "Consentono di confrontare due valori e ritornano un valore booleano (`True` o `False`).\n",
    "\n",
    "| Operatore | Descrizione             | Esempio      |\n",
    "|-----------|-------------------------|--------------|\n",
    "| `==`      | Uguale a                | `a == b`     |\n",
    "| `!=`      | Diverso da              | `a != b`     |\n",
    "| `>`       | Maggiore di             | `a > b`      |\n",
    "| `<`       | Minore di               | `a < b`      |\n",
    "| `>=`      | Maggiore o uguale a     | `a >= b`     |\n",
    "| `<=`      | Minore o uguale a       | `a <= b`     |\n",
    "\n",
    "### 4. Operatori Logici\n",
    "\n",
    "Utilizzati per combinare espressioni condizionali.\n",
    "\n",
    "| Operatore | Descrizione | Esempio                |\n",
    "|-----------|-------------|------------------------|\n",
    "| `and`     | Logico AND  | `(a > 0) and (b > 0)`  |\n",
    "| `or`      | Logico OR   | `(a > 0) or (b > 0)`   |\n",
    "| `not`     | Logico NOT  | `not(a > 0)`           |\n",
    "\n",
    "### 5. Operatori di Identità\n",
    "\n",
    "Verificano se due variabili puntano allo stesso oggetto.\n",
    "\n",
    "| Operatore | Descrizione      | Esempio       |\n",
    "|-----------|------------------|---------------|\n",
    "| `is`      | È                | `a is b`      |\n",
    "| `is not`  | Non è            | `a is not b`  |\n",
    "\n",
    "### 6. Operatori di Appartenenza\n",
    "\n",
    "Verificano se una sequenza contiene un determinato valore.\n",
    "\n",
    "| Operatore | Descrizione               | Esempio            |\n",
    "|-----------|---------------------------|--------------------|\n",
    "| `in`      | Presente in               | `'a' in lista`     |\n",
    "| `not in`  | Non presente in           | `'a' not in lista` |\n",
    "\n",
    "### 7. Operatori Bitwise\n",
    "\n",
    "Operano sui bit degli interi.\n",
    "\n",
    "| Operatore | Descrizione        | Esempio   |\n",
    "|-----------|--------------------|-----------|\n",
    "| `&`       | AND bit a bit      | `a & b`   |\n",
    "| `|`       | OR bit a bit       | `a | b`   |\n",
    "| `^`       | XOR bit a bit      | `a ^ b`   |\n",
    "| `~`       | NOT bit a bit      | `~a`      |\n",
    "| `<<`      | Shift a sinistra   | `a << 2`  |\n",
    "| `>>`      | Shift a destra     | `a >> 2`  |\n",
    "\n",
    "## Esempi Pratici di Codice\n",
    "\n",
    "### Esempio 1: Operatori Aritmetici"
   ]
  },
  {
   "cell_type": "code",
   "execution_count": 1,
   "id": "cfa19f17",
   "metadata": {},
   "outputs": [
    {
     "name": "stdout",
     "output_type": "stream",
     "text": [
      "Addizione: 13\n",
      "Sottrazione: 7\n",
      "Moltiplicazione: 30\n",
      "Divisione: 3.3333333333333335\n",
      "Modulo: 1\n",
      "Potenza: 1000\n",
      "Divisione Intera: 3\n"
     ]
    }
   ],
   "source": [
    "# Esempio di operatori aritmetici\n",
    "a = 10\n",
    "b = 3\n",
    "\n",
    "addizione = a + b      # 13\n",
    "sottrazione = a - b    # 7\n",
    "moltiplicazione = a * b  # 30\n",
    "divisione = a / b      # 3.333...\n",
    "modulo = a % b         # 1\n",
    "potenza = a ** b       # 1000\n",
    "div_int = a // b       # 3\n",
    "\n",
    "print(\"Addizione:\", addizione)\n",
    "print(\"Sottrazione:\", sottrazione)\n",
    "print(\"Moltiplicazione:\", moltiplicazione)\n",
    "print(\"Divisione:\", divisione)\n",
    "print(\"Modulo:\", modulo)\n",
    "print(\"Potenza:\", potenza)\n",
    "print(\"Divisione Intera:\", div_int)"
   ]
  },
  {
   "cell_type": "markdown",
   "id": "382bb6e5",
   "metadata": {},
   "source": [
    "\n",
    "**Spiegazione**: Questo codice mostra come utilizzare gli operatori aritmetici per eseguire varie operazioni tra due numeri.\n",
    "\n",
    "### Esempio 2: Operatori di Assegnazione\n"
   ]
  },
  {
   "cell_type": "code",
   "execution_count": 2,
   "id": "e71e3e57",
   "metadata": {},
   "outputs": [
    {
     "name": "stdout",
     "output_type": "stream",
     "text": [
      "Valore iniziale di x: 5\n",
      "Dopo x += 3: 8\n",
      "Dopo x *= 2: 16\n"
     ]
    }
   ],
   "source": [
    "# Esempio di operatori di assegnazione\n",
    "x = 5\n",
    "print(\"Valore iniziale di x:\", x)\n",
    "\n",
    "x += 3  # Equivale a x = x + 3\n",
    "print(\"Dopo x += 3:\", x)\n",
    "\n",
    "x *= 2  # Equivale a x = x * 2\n",
    "print(\"Dopo x *= 2:\", x)"
   ]
  },
  {
   "cell_type": "markdown",
   "id": "4989a996",
   "metadata": {},
   "source": [
    "\n",
    "**Spiegazione**: Qui, modifichiamo il valore di `x` utilizzando operatori di assegnazione composti, che combinano un'operazione aritmetica con l'assegnazione.\n",
    "\n",
    "### Esempio 3: Operatori di Confronto e Logici\n"
   ]
  },
  {
   "cell_type": "code",
   "execution_count": 8,
   "id": "ce86c968",
   "metadata": {},
   "outputs": [
    {
     "name": "stdout",
     "output_type": "stream",
     "text": [
      "a è minore di b: True\n",
      "Solo una condizione è vera: False\n",
      "a non è uguale a b: True\n"
     ]
    }
   ],
   "source": [
    "# Esempio di operatori di confronto e logici\n",
    "a = 10\n",
    "b = 20\n",
    "\n",
    "confronto = a < b  # True\n",
    "print(\"a è minore di b:\", confronto)\n",
    "\n",
    "condizione = (a > 5) and (b < 9)  # False\n",
    "print(\"Solo una condizione è vera:\", condizione)\n",
    "\n",
    "negazione = not(a == b)  # True\n",
    "print(\"a non è uguale a b:\", negazione)"
   ]
  },
  {
   "cell_type": "markdown",
   "id": "003a6e28",
   "metadata": {},
   "source": [
    "\n",
    "**Spiegazione**: Usiamo operatori di confronto per valutare le relazioni tra variabili e operatori logici per combinare espressioni booleane.\n",
    "\n",
    "### Esempio 4: Operatori di Identità e Appartenenza\n"
   ]
  },
  {
   "cell_type": "code",
   "execution_count": 4,
   "id": "1bd717f0",
   "metadata": {},
   "outputs": [
    {
     "name": "stdout",
     "output_type": "stream",
     "text": [
      "lista1 is lista2: False\n",
      "lista1 is lista3: True\n",
      "'banana' in frutti: True\n",
      "'arancia' not in frutti: True\n"
     ]
    }
   ],
   "source": [
    "# Esempio di operatori di identità\n",
    "lista1 = [1, 2, 3]\n",
    "lista2 = [1, 2, 3]\n",
    "lista3 = lista1\n",
    "\n",
    "print(\"lista1 is lista2:\", lista1 is lista2)       # False\n",
    "print(\"lista1 is lista3:\", lista1 is lista3)       # True\n",
    "\n",
    "# Esempio di operatori di appartenenza\n",
    "frutti = ['mela', 'banana', 'ciliegia']\n",
    "print(\"'banana' in frutti:\", 'banana' in frutti)    # True\n",
    "print(\"'arancia' not in frutti:\", 'arancia' not in frutti)  # True"
   ]
  },
  {
   "cell_type": "markdown",
   "id": "e8beb29a",
   "metadata": {},
   "source": [
    "\n",
    "**Spiegazione**: Dimostriamo come gli operatori `is` e `in` verificano l'identità di oggetti e la presenza di elementi in una sequenza.\n",
    "\n",
    "## Esercizi Interattivi\n",
    "\n",
    "### Esercizio 1: Calcolatrice Semplice\n",
    "\n",
    "Scrivi un programma che chieda all'utente due numeri e un operatore aritmetico (`+`, `-`, `*`, `/`) e mostri il risultato dell'operazione.\n",
    "\n",
    "**Suggerimento**:\n"
   ]
  },
  {
   "cell_type": "code",
   "execution_count": 9,
   "id": "686a4d21",
   "metadata": {},
   "outputs": [
    {
     "name": "stdout",
     "output_type": "stream",
     "text": [
      "Inserisci il primo numero: 10\n",
      "Inserisci il secondo numero: 3\n",
      "Inserisci un operatore (+, -, *, /): /\n",
      "Risultato: 3.3333333333333335\n"
     ]
    }
   ],
   "source": [
    "# Chiedi input all'utente\n",
    "num1 = float(input(\"Inserisci il primo numero: \"))\n",
    "num2 = float(input(\"Inserisci il secondo numero: \"))\n",
    "operatore = input(\"Inserisci un operatore (+, -, *, /): \")\n",
    "\n",
    "# Implementa le operazioni\n",
    "if operatore == '+':\n",
    "    risultato = num1 + num2\n",
    "elif operatore == '-':\n",
    "    risultato = num1 - num2\n",
    "elif operatore == '*':\n",
    "    risultato = num1 * num2      \n",
    "elif operatore == '/':\n",
    "    risultato = num1 / num2  \n",
    "# Completa le altre operazioni\n",
    "print(\"Risultato:\", risultato)"
   ]
  },
  {
   "cell_type": "markdown",
   "id": "8d32e842",
   "metadata": {},
   "source": [
    "\n",
    "### Esercizio 2: Verifica di Pari o Dispari\n",
    "\n",
    "Chiedi all'utente un numero intero e utilizza l'operatore modulo per determinare se il numero è pari o dispari.\n",
    "\n",
    "**Suggerimento**:\n"
   ]
  },
  {
   "cell_type": "code",
   "execution_count": 10,
   "id": "bfcd9c35",
   "metadata": {},
   "outputs": [
    {
     "name": "stdout",
     "output_type": "stream",
     "text": [
      "Inserisci un numero intero: 13\n",
      "Il numero è dispari.\n"
     ]
    }
   ],
   "source": [
    "numero = int(input(\"Inserisci un numero intero: \"))\n",
    "if numero % 2 == 0:\n",
    "    print(\"Il numero è pari.\")\n",
    "else:\n",
    "    print(\"Il numero è dispari.\")"
   ]
  },
  {
   "cell_type": "markdown",
   "id": "e4906f50",
   "metadata": {},
   "source": [
    "\n",
    "### Esercizio 3: Accesso Consentito\n",
    "\n",
    "Crea una lista di nomi utente autorizzati. Chiedi all'utente di inserire il proprio nome e utilizza un operatore di appartenenza per verificare se l'accesso è consentito.\n",
    "\n",
    "**Suggerimento**:\n"
   ]
  },
  {
   "cell_type": "code",
   "execution_count": 11,
   "id": "d7dbe934",
   "metadata": {},
   "outputs": [
    {
     "name": "stdout",
     "output_type": "stream",
     "text": [
      "Inserisci il tuo nome: Bob\n",
      "Accesso consentito.\n"
     ]
    }
   ],
   "source": [
    "utenti_autorizzati = ['Alice', 'Bob', 'Charlie']\n",
    "nome = input(\"Inserisci il tuo nome: \")\n",
    "\n",
    "if nome in utenti_autorizzati:\n",
    "    print(\"Accesso consentito.\")\n",
    "else:\n",
    "    print(\"Accesso negato.\")"
   ]
  },
  {
   "cell_type": "markdown",
   "id": "5d165532",
   "metadata": {},
   "source": [
    "\n",
    "## Buone Pratiche e Consigli\n",
    "\n",
    "- **Comprendere la precedenza degli operatori**: Come in matematica, alcuni operatori hanno priorità su altri. Utilizza le parentesi `()` per rendere chiaro l'ordine delle operazioni.\n",
    "  \n",
    "- **Evitare errori di divisione**: Presta attenzione alla divisione per zero. Implementa controlli per evitare `ZeroDivisionError`.\n",
    "\n",
    "- **Uso degli operatori di confronto**: Quando confronti valori con `==` o `!=`, assicurati di comprendere il tipo di dati che stai confrontando per evitare risultati inattesi.\n",
    "\n",
    "- **Operatori logici con condizioni complesse**: Quando utilizzi `and` e `or`, verifica che le condizioni siano ben definite per evitare problemi logici.\n",
    "\n",
    "- **Operatori di identità vs. operatori di uguaglianza**: Ricorda che `is` verifica se due variabili puntano allo stesso oggetto, mentre `==` verifica se i valori sono uguali.\n",
    "\n",
    "## Conclusione\n",
    "\n",
    "Gli operatori sono strumenti fondamentali in Python che permettono di manipolare e confrontare i dati. Comprendere come e quando utilizzare i vari operatori ti consentirà di scrivere codice più efficiente e funzionale. Pratica ed esperimenta con gli operatori per consolidare la tua comprensione.\n",
    "\n",
    "## Risorse Aggiuntive\n",
    "\n",
    "- **Documentazione Ufficiale Python**: [Operatori](https://docs.python.org/3/reference/lexical_analysis.html#operators)\n",
    "- **Libro Consigliato**: [Python Crash Course di Eric Matthes](https://www.amazon.com/Python-Crash-Course-2nd-Edition/dp/1593279280)\n",
    "- **Video Tutorial**: [Python Operators for Beginners](https://youtu.be/7BxUaeROVXI?si=o-q7VqmC-ijbJYqT)"
   ]
  }
 ],
 "metadata": {
  "kernelspec": {
   "display_name": "Python 3 (ipykernel)",
   "language": "python",
   "name": "python3"
  },
  "language_info": {
   "codemirror_mode": {
    "name": "ipython",
    "version": 3
   },
   "file_extension": ".py",
   "mimetype": "text/x-python",
   "name": "python",
   "nbconvert_exporter": "python",
   "pygments_lexer": "ipython3",
   "version": "3.10.9"
  }
 },
 "nbformat": 4,
 "nbformat_minor": 5
}
