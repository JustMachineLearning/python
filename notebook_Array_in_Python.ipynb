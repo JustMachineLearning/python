{
 "cells": [
  {
   "cell_type": "markdown",
   "id": "409d7a55",
   "metadata": {},
   "source": [
    "# Lezione: Array in Python\n",
    "\n",
    "## **Obiettivi della Lezione**\n",
    "\n",
    "Al termine di questa lezione, sarai in grado di:\n",
    "\n",
    "- Comprendere cosa sono gli array in Python e quando utilizzarli.\n",
    "- Creare e manipolare array utilizzando il modulo `array`.\n",
    "- Distinguere tra array e altre strutture dati come liste e numpy arrays.\n",
    "- Effettuare operazioni comuni sugli array come inserimento, rimozione e iterazione."
   ]
  },
  {
   "cell_type": "markdown",
   "id": "81344180",
   "metadata": {},
   "source": [
    "## **Introduzione**\n",
    "\n",
    "In Python, le liste sono comunemente utilizzate per gestire raccolte di elementi. Tuttavia, quando si lavora con grandi quantità di dati numerici, potrebbe essere più efficiente utilizzare gli **array**. Gli array offrono un modo più performante e specifico per gestire dati omogenei, ovvero elementi dello stesso tipo. In questa lezione, esploreremo come utilizzare gli array in Python, le loro caratteristiche e i casi d'uso ideali."
   ]
  },
  {
   "cell_type": "markdown",
   "id": "6268c082",
   "metadata": {},
   "source": [
    "## **Spiegazione Teorica**\n",
    "\n",
    "### Cos'è un Array?\n",
    "\n",
    "Un **array** è una struttura dati che contiene una collezione di elementi, tutti dello stesso tipo. A differenza delle liste, che possono contenere tipi diversi, gli array sono omogenei, il che permette una gestione della memoria più efficiente.\n",
    "\n",
    "### Modulo `array` in Python\n",
    "\n",
    "Python fornisce il modulo built-in `array` che permette di creare array con tipizzazione dei dati. Questo modulo è particolarmente utile quando si ha bisogno di un array più efficiente in termini di spazio rispetto a una lista normale.\n",
    "\n",
    "### Sintassi di Base\n",
    "\n",
    "Per utilizzare gli array in Python, è necessario importare il modulo `array`:\n"
   ]
  },
  {
   "cell_type": "code",
   "execution_count": 1,
   "id": "b11682f2",
   "metadata": {},
   "outputs": [],
   "source": [
    "import array"
   ]
  },
  {
   "cell_type": "markdown",
   "id": "7d4c6061",
   "metadata": {},
   "source": [
    "\n",
    "La creazione di un array avviene tramite:\n"
   ]
  },
  {
   "cell_type": "code",
   "execution_count": 2,
   "id": "bb16b00b",
   "metadata": {},
   "outputs": [
    {
     "name": "stdout",
     "output_type": "stream",
     "text": [
      "array('i', [1, 2, 3, 4, 5])\n"
     ]
    }
   ],
   "source": [
    "# Creazione di un array di numeri interi (typecode 'i')\n",
    "array_name = array.array('i', [1, 2, 3, 4, 5])\n",
    "print(array_name)"
   ]
  },
  {
   "cell_type": "markdown",
   "id": "50b3ad58",
   "metadata": {},
   "source": [
    "\n",
    "- **`typecode`**: un carattere che definisce il tipo degli elementi nell'array.\n",
    "- **`[element1, element2, ...]`**: la lista di elementi iniziali dell'array.\n",
    "\n",
    "### Typecode Comuni\n",
    "\n",
    "| Typecode | Tipo C        | Tipo Python | Dimensione (byte) |\n",
    "|----------|---------------|-------------|-------------------|\n",
    "| `'b'`    | signed char   | int         | 1                 |\n",
    "| `'B'`    | unsigned char | int         | 1                 |\n",
    "| `'u'`    | Py_UNICODE    | Unicode     | 2                 |\n",
    "| `'h'`    | signed short  | int         | 2                 |\n",
    "| `'H'`    | unsigned short| int         | 2                 |\n",
    "| `'i'`    | signed int    | int         | 2                 |\n",
    "| `'I'`    | unsigned int  | int         | 2                 |\n",
    "| `'l'`    | signed long   | int         | 4                 |\n",
    "| `'L'`    | unsigned long | int         | 4                 |\n",
    "| `'f'`    | float         | float       | 4                 |\n",
    "| `'d'`    | double        | float       | 8                 |\n",
    "\n",
    "---\n"
   ]
  },
  {
   "cell_type": "markdown",
   "id": "2d271e5e",
   "metadata": {},
   "source": [
    "## **Esempi Pratici di Codice**\n",
    "\n",
    "### Creazione di un Array di Interi\n"
   ]
  },
  {
   "cell_type": "code",
   "execution_count": 3,
   "id": "0600190a",
   "metadata": {},
   "outputs": [
    {
     "name": "stdout",
     "output_type": "stream",
     "text": [
      "array('i', [1, 2, 3, 4, 5])\n"
     ]
    }
   ],
   "source": [
    "import array\n",
    "\n",
    "# Creazione di un array di interi con typecode 'i'\n",
    "numeri = array.array('i', [1, 2, 3, 4, 5])\n",
    "print(numeri)"
   ]
  },
  {
   "cell_type": "markdown",
   "id": "07e1d0b8",
   "metadata": {},
   "source": [
    "### Accesso agli Elementi\n"
   ]
  },
  {
   "cell_type": "code",
   "execution_count": 4,
   "id": "62373cb8",
   "metadata": {},
   "outputs": [
    {
     "name": "stdout",
     "output_type": "stream",
     "text": [
      "1\n",
      "5\n"
     ]
    }
   ],
   "source": [
    "# Accesso all'elemento in posizione 0\n",
    "print(numeri[0])  # Output: 1\n",
    "\n",
    "# Accesso all'ultimo elemento\n",
    "print(numeri[-1]) # Output: 5"
   ]
  },
  {
   "cell_type": "markdown",
   "id": "45505818",
   "metadata": {},
   "source": [
    "\n",
    "### Aggiunta di Elementi\n"
   ]
  },
  {
   "cell_type": "code",
   "execution_count": 5,
   "id": "3794d813",
   "metadata": {},
   "outputs": [
    {
     "name": "stdout",
     "output_type": "stream",
     "text": [
      "array('i', [1, 2, 3, 4, 5, 6])\n",
      "array('i', [0, 1, 2, 3, 4, 5, 6])\n"
     ]
    }
   ],
   "source": [
    "# Aggiunta di un elemento alla fine dell'array\n",
    "numeri.append(6)\n",
    "print(numeri)  # Output: array('i', [1, 2, 3, 4, 5, 6])\n",
    "\n",
    "# Inserimento di un elemento in una posizione specifica\n",
    "numeri.insert(0, 0)\n",
    "print(numeri)  # Output: array('i', [0, 1, 2, 3, 4, 5, 6])"
   ]
  },
  {
   "cell_type": "markdown",
   "id": "fa42a978",
   "metadata": {},
   "source": [
    "\n",
    "### Rimozione di Elementi\n"
   ]
  },
  {
   "cell_type": "code",
   "execution_count": 6,
   "id": "ba6dab16",
   "metadata": {},
   "outputs": [
    {
     "name": "stdout",
     "output_type": "stream",
     "text": [
      "array('i', [0, 1, 2, 4, 5, 6])\n",
      "6\n",
      "array('i', [0, 1, 2, 4, 5])\n"
     ]
    }
   ],
   "source": [
    "# Rimozione di un elemento specifico\n",
    "numeri.remove(3)\n",
    "print(numeri)  # Output: array('i', [0, 1, 2, 4, 5, 6])\n",
    "\n",
    "# Rimozione dell'ultimo elemento\n",
    "ultimo = numeri.pop()\n",
    "print(ultimo)  # Output: 6\n",
    "print(numeri)  # Output: array('i', [0, 1, 2, 4, 5])"
   ]
  },
  {
   "cell_type": "markdown",
   "id": "efb53809",
   "metadata": {},
   "source": [
    "\n",
    "### Iterazione su un Array\n"
   ]
  },
  {
   "cell_type": "code",
   "execution_count": 7,
   "id": "abe459b9",
   "metadata": {},
   "outputs": [
    {
     "name": "stdout",
     "output_type": "stream",
     "text": [
      "0\n",
      "1\n",
      "2\n",
      "4\n",
      "5\n"
     ]
    }
   ],
   "source": [
    "for numero in numeri:\n",
    "    print(numero)"
   ]
  },
  {
   "cell_type": "markdown",
   "id": "a5d6e32e",
   "metadata": {},
   "source": [
    "### Operazioni Avanzate\n",
    "\n",
    "#### Reverse di un Array\n"
   ]
  },
  {
   "cell_type": "code",
   "execution_count": 8,
   "id": "ee8f1bb8",
   "metadata": {},
   "outputs": [
    {
     "name": "stdout",
     "output_type": "stream",
     "text": [
      "array('i', [5, 4, 2, 1, 0])\n"
     ]
    }
   ],
   "source": [
    "numeri.reverse()\n",
    "print(numeri)  # Output: array('i', [5, 4, 2, 1, 0])"
   ]
  },
  {
   "cell_type": "markdown",
   "id": "07a660e3",
   "metadata": {},
   "source": [
    "\n",
    "#### Contare Occorrenze\n"
   ]
  },
  {
   "cell_type": "code",
   "execution_count": 9,
   "id": "31eca06b",
   "metadata": {},
   "outputs": [
    {
     "name": "stdout",
     "output_type": "stream",
     "text": [
      "1\n"
     ]
    }
   ],
   "source": [
    "occorrenze = numeri.count(2)\n",
    "print(occorrenze)  # Output: 1"
   ]
  },
  {
   "cell_type": "markdown",
   "id": "86c26c44",
   "metadata": {},
   "source": [
    "## **Esercizi Interattivi**\n",
    "\n",
    "1. **Creare un Array di Float**\n",
    "\n",
    "   Crea un array di float contenente i numeri `1.0`, `2.0`, `3.5`, `4.5`.\n",
    "\n",
    "   ```python\n",
    "   # Il tuo codice qui\n",
    "   ```\n",
    "\n",
    "2. **Aggiungere e Rimuovere Elementi**\n",
    "\n",
    "   - Aggiungi il numero `5.5` alla fine dell'array creato.\n",
    "   - Rimuovi il numero `2.0` dall'array.\n",
    "\n",
    "   ```python\n",
    "   # Il tuo codice qui\n",
    "   ```\n",
    "\n",
    "3. **Iterare e Calcolare la Somma**\n",
    "\n",
    "   Calcola la somma di tutti gli elementi nell'array.\n",
    "\n",
    "   ```python\n",
    "   # Il tuo codice qui\n",
    "   ```"
   ]
  },
  {
   "cell_type": "markdown",
   "id": "74de44c0",
   "metadata": {},
   "source": [
    "## **Soluzioni degli Esercizi**\n",
    "\n",
    "1. **Creare un Array di Float**\n",
    "\n",
    "   ```python\n",
    "   import array\n",
    "\n",
    "   numeri_float = array.array('f', [1.0, 2.0, 3.5, 4.5])\n",
    "   print(numeri_float)\n",
    "   ```\n",
    "\n",
    "2. **Aggiungere e Rimuovere Elementi**\n",
    "\n",
    "   ```python\n",
    "   numeri_float.append(5.5)\n",
    "   numeri_float.remove(2.0)\n",
    "   print(numeri_float)\n",
    "   ```\n",
    "\n",
    "3. **Iterare e Calcolare la Somma**\n",
    "\n",
    "   ```python\n",
    "   somma = 0\n",
    "   for numero in numeri_float:\n",
    "       somma += numero\n",
    "   print(\"La somma è:\", somma)\n",
    "   ```"
   ]
  },
  {
   "cell_type": "markdown",
   "id": "9e162171",
   "metadata": {},
   "source": [
    "## **Buone Pratiche e Consigli**\n",
    "\n",
    "- **Utilizzo Appropriato degli Array**: Usa gli array quando hai bisogno di una struttura dati più efficiente in termini di memoria per dati omogenei.\n",
    "- **Scelta del Typecode Corretto**: Assicurati di scegliere il typecode appropriato in base al tipo di dati che devi memorizzare.\n",
    "- **Gestione degli Errori**: Presta attenzione quando rimuovi elementi; cercare di rimuovere un elemento non presente nell'array genererà un errore.\n",
    "- **Confronto con Liste**: Ricorda che, a differenza delle liste, gli array non supportano operazioni con elementi di tipo diverso da quello specificato."
   ]
  },
  {
   "cell_type": "markdown",
   "id": "7cacc836",
   "metadata": {},
   "source": [
    "## **Conclusione**\n",
    "\n",
    "Gli array in Python offrono un modo efficiente per gestire collezioni di dati omogenei. Sebbene le liste siano più flessibili, gli array possono essere più performanti in termini di utilizzo della memoria e velocità di esecuzione per determinati tipi di applicazioni, specialmente quando si lavora con grandi quantità di dati numerici."
   ]
  },
  {
   "cell_type": "markdown",
   "id": "6deab595",
   "metadata": {},
   "source": [
    "## **Risorse Aggiuntive**\n",
    "\n",
    "- **Documentazione Ufficiale Python**: [Array](https://docs.python.org/3/library/array.html)\n",
    "- **Libro Consigliato**: [Python Crash Course di Eric Matthes](https://www.amazon.com/Python-Crash-Course-2nd-Edition/dp/1593279280)\n",
    "- **Video Tutorial**: [Array in Python](https://youtu.be/6a39OjkCN5I?si=vv458YYnCUUtyAU3)"
   ]
  }
 ],
 "metadata": {
  "kernelspec": {
   "display_name": "Python 3 (ipykernel)",
   "language": "python",
   "name": "python3"
  },
  "language_info": {
   "codemirror_mode": {
    "name": "ipython",
    "version": 3
   },
   "file_extension": ".py",
   "mimetype": "text/x-python",
   "name": "python",
   "nbconvert_exporter": "python",
   "pygments_lexer": "ipython3",
   "version": "3.10.9"
  }
 },
 "nbformat": 4,
 "nbformat_minor": 5
}
