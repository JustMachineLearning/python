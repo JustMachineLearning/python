{
 "cells": [
  {
   "cell_type": "markdown",
   "id": "abcc42d2",
   "metadata": {},
   "source": [
    "# **JSON in Python**\n",
    "\n",
    "## **Obiettivi della Lezione**\n",
    "\n",
    "Al termine di questa lezione, sarai in grado di:\n",
    "\n",
    "- Comprendere cos'è JSON e perché è ampiamente utilizzato.\n",
    "- Leggere e scrivere dati in formato JSON utilizzando Python.\n",
    "- Serializzare (convertire) oggetti Python in stringhe JSON.\n",
    "- Deserializzare (ricostruire) oggetti Python da stringhe JSON.\n",
    "- Utilizzare il modulo `json` di Python per manipolare i dati JSON efficacemente.\n",
    "\n",
    "## **Introduzione**\n",
    "\n",
    "JSON (JavaScript Object Notation) è un formato leggero per lo scambio di dati, facile da leggere e scrivere sia per gli esseri umani che per le macchine. Grazie alla sua semplicità e alla sua compatibilità con molti linguaggi di programmazione, JSON è diventato uno standard de facto per la trasmissione di dati tra applicazioni web e server.\n",
    "\n",
    "Python offre un supporto nativo per JSON tramite il modulo `json`, che consente di convertire facilmente tra oggetti Python e stringhe JSON. Questa lezione esplorerà come utilizzare il modulo `json` per lavorare con dati JSON in Python.\n",
    "\n",
    "## **Spiegazione Teorica**\n",
    "\n",
    "### **Cos'è JSON?**\n",
    "\n",
    "JSON è un formato di testo per la rappresentazione di strutture dati e oggetti. È basato su una sottoinsieme della notazione di oggetto di JavaScript, ma è indipendente dal linguaggio, il che lo rende ideale per lo scambio di dati tra sistemi diversi.\n",
    "\n",
    "Esempio di un oggetto JSON:\n",
    "\n",
    "```json\n",
    "{\n",
    "  \"nome\": \"Mario\",\n",
    "  \"età\": 30,\n",
    "  \"città\": \"Roma\",\n",
    "  \"hobby\": [\"lettura\", \"viaggi\", \"cinema\"]\n",
    "}\n",
    "```\n",
    "\n",
    "### **Il Modulo `json` di Python**\n",
    "\n",
    "Python include il modulo `json` per lavorare con JSON. Questo modulo fornisce metodi per:\n",
    "\n",
    "- **Serializzare** oggetti Python in stringhe JSON (`dump` e `dumps`).\n",
    "- **Deserializzare** stringhe JSON in oggetti Python (`load` e `loads`).\n",
    "\n",
    "### **Serializzazione: Convertire Oggetti Python in JSON**\n",
    "\n",
    "La serializzazione è il processo di conversione di un oggetto Python in una stringa JSON.\n",
    "\n",
    "Funzioni principali:\n",
    "\n",
    "- `json.dump(obj, fp)`: scrive l'oggetto serializzato nel file `fp`.\n",
    "- `json.dumps(obj)`: restituisce una stringa JSON rappresentante l'oggetto `obj`.\n",
    "\n",
    "### **Deserializzazione: Convertire JSON in Oggetti Python**\n",
    "\n",
    "La deserializzazione è il processo inverso, ovvero convertire una stringa JSON in un oggetto Python.\n",
    "\n",
    "Funzioni principali:\n",
    "\n",
    "- `json.load(fp)`: legge una stringa JSON dal file `fp` e restituisce l'oggetto Python corrispondente.\n",
    "- `json.loads(s)`: converte la stringa JSON `s` in un oggetto Python.\n",
    "\n",
    "### **Tipi di Dati Compatibili**\n",
    "\n",
    "La conversione tra tipi di dati Python e JSON avviene come segue:\n",
    "\n",
    "| Python          | JSON          |\n",
    "|-----------------|---------------|\n",
    "| `dict`          | oggetto       |\n",
    "| `list`, `tuple` | array         |\n",
    "| `str`           | stringa       |\n",
    "| `int`, `float`  | numero        |\n",
    "| `True`          | `true`        |\n",
    "| `False`         | `false`       |\n",
    "| `None`          | `null`        |\n",
    "\n",
    "## **Esempi Pratici di Codice**\n",
    "\n",
    "### **Serializzare un Oggetto Python in JSON**"
   ]
  },
  {
   "cell_type": "code",
   "execution_count": 1,
   "id": "f1c4b1f8",
   "metadata": {},
   "outputs": [
    {
     "name": "stdout",
     "output_type": "stream",
     "text": [
      "{\"nome\": \"Luigi\", \"et\\u00e0\": 25, \"citt\\u00e0\": \"Milano\", \"hobby\": [\"calcio\", \"musica\"]}\n"
     ]
    }
   ],
   "source": [
    "import json\n",
    "\n",
    "# Oggetto Python\n",
    "dati = {\n",
    "    \"nome\": \"Luigi\",\n",
    "    \"età\": 25,\n",
    "    \"città\": \"Milano\",\n",
    "    \"hobby\": [\"calcio\", \"musica\"]\n",
    "}\n",
    "\n",
    "# Serializzazione\n",
    "dati_json = json.dumps(dati)\n",
    "\n",
    "print(dati_json)"
   ]
  },
  {
   "cell_type": "markdown",
   "id": "ab19a144",
   "metadata": {},
   "source": [
    "\n",
    "**Spiegazione:**\n",
    "\n",
    "- Importiamo il modulo `json`.\n",
    "- Creiamo un dizionario Python `dati`.\n",
    "- Usiamo `json.dumps(dati)` per convertire il dizionario in una stringa JSON.\n",
    "- Stampiamo la stringa JSON risultante.\n",
    "\n",
    "### **Deserializzare una Stringa JSON in un Oggetto Python**\n"
   ]
  },
  {
   "cell_type": "code",
   "execution_count": 2,
   "id": "4062ca24",
   "metadata": {},
   "outputs": [
    {
     "name": "stdout",
     "output_type": "stream",
     "text": [
      "{'nome': 'Anna', 'età': 22, 'città': 'Torino', 'hobby': ['pittura', 'danza']}\n"
     ]
    }
   ],
   "source": [
    "import json\n",
    "\n",
    "# Stringa JSON\n",
    "dati_json = '{\"nome\": \"Anna\", \"età\": 22, \"città\": \"Torino\", \"hobby\": [\"pittura\", \"danza\"]}'\n",
    "\n",
    "# Deserializzazione\n",
    "dati = json.loads(dati_json)\n",
    "\n",
    "print(dati)"
   ]
  },
  {
   "cell_type": "markdown",
   "id": "964f11bb",
   "metadata": {},
   "source": [
    "\n",
    "**Spiegazione:**\n",
    "\n",
    "- Definiamo una stringa JSON `dati_json`.\n",
    "- Usiamo `json.loads(dati_json)` per convertire la stringa JSON in un oggetto Python.\n",
    "- Stampiamo l'oggetto Python risultante."
   ]
  },
  {
   "cell_type": "markdown",
   "id": "53db4370",
   "metadata": {},
   "source": [
    "\n",
    "### **Scrivere Dati JSON su un File**\n"
   ]
  },
  {
   "cell_type": "code",
   "execution_count": 4,
   "id": "ab53f1b4",
   "metadata": {},
   "outputs": [],
   "source": [
    "import json\n",
    "\n",
    "dati = {\n",
    "    \"nome\": \"Giovanni\",\n",
    "    \"età\": 28,\n",
    "    \"città\": \"Napoli\",\n",
    "    \"hobby\": [\"fotografia\", \"cucina\"]\n",
    "}\n",
    "\n",
    "with open('dati.json', 'w') as file:\n",
    "    json.dump(dati, file)"
   ]
  },
  {
   "cell_type": "markdown",
   "id": "aa848efb",
   "metadata": {},
   "source": [
    "\n",
    "**Spiegazione:**\n",
    "\n",
    "- Apriamo (o creiamo) un file `dati.json` in modalità scrittura.\n",
    "- Usiamo `json.dump(dati, file)` per scrivere l'oggetto serializzato nel file.\n",
    "\n",
    "### **Leggere Dati JSON da un File**\n"
   ]
  },
  {
   "cell_type": "code",
   "execution_count": 5,
   "id": "a3340472",
   "metadata": {},
   "outputs": [
    {
     "name": "stdout",
     "output_type": "stream",
     "text": [
      "{'nome': 'Giovanni', 'età': 28, 'città': 'Napoli', 'hobby': ['fotografia', 'cucina']}\n"
     ]
    }
   ],
   "source": [
    "import json\n",
    "\n",
    "with open('dati.json', 'r') as file:\n",
    "    dati = json.load(file)\n",
    "\n",
    "print(dati)"
   ]
  },
  {
   "cell_type": "markdown",
   "id": "c78713d5",
   "metadata": {},
   "source": [
    "\n",
    "**Spiegazione:**\n",
    "\n",
    "- Apriamo il file `dati.json` in modalità lettura.\n",
    "- Usiamo `json.load(file)` per leggere e deserializzare i dati.\n",
    "- Stampiamo l'oggetto Python ottenuto.\n",
    "\n",
    "## **Esercizi Interattivi**\n",
    "\n",
    "### **Esercizio 1: Serializzazione Personalizzata**\n",
    "\n",
    "Crea un dizionario Python che contiene le seguenti informazioni su un libro:\n",
    "\n",
    "- Titolo\n",
    "- Autore\n",
    "- Anno di pubblicazione\n",
    "- Generi (lista di generi)\n",
    "\n",
    "Serializza questo dizionario in una stringa JSON e stampala.\n",
    "\n",
    "**Soluzione:**\n"
   ]
  },
  {
   "cell_type": "code",
   "execution_count": 6,
   "id": "edf42f7e",
   "metadata": {},
   "outputs": [
    {
     "name": "stdout",
     "output_type": "stream",
     "text": [
      "{\"titolo\": \"Il Signore degli Anelli\", \"autore\": \"J.R.R. Tolkien\", \"anno\": 1954, \"generi\": [\"Fantasy\", \"Avventura\"]}\n"
     ]
    }
   ],
   "source": [
    "import json\n",
    "\n",
    "libro = {\n",
    "    \"titolo\": \"Il Signore degli Anelli\",\n",
    "    \"autore\": \"J.R.R. Tolkien\",\n",
    "    \"anno\": 1954,\n",
    "    \"generi\": [\"Fantasy\", \"Avventura\"]\n",
    "}\n",
    "\n",
    "libro_json = json.dumps(libro)\n",
    "print(libro_json)"
   ]
  },
  {
   "cell_type": "markdown",
   "id": "d4e2f9d8",
   "metadata": {},
   "source": [
    "\n",
    "### **Esercizio 2: Deserializzazione da Stringa**\n",
    "\n",
    "Hai ricevuto la seguente stringa JSON:\n",
    "\n",
    "```json\n",
    "'{\"nome\": \"Elisa\", \"età\": 27, \"linguaggi\": [\"Python\", \"Java\", \"C++\"]}'\n",
    "```\n",
    "\n",
    "Deserializza questa stringa in un oggetto Python e accedi al secondo linguaggio della lista.\n",
    "\n",
    "**Soluzione:**\n"
   ]
  },
  {
   "cell_type": "code",
   "execution_count": 7,
   "id": "e6826e12",
   "metadata": {},
   "outputs": [
    {
     "name": "stdout",
     "output_type": "stream",
     "text": [
      "Java\n"
     ]
    }
   ],
   "source": [
    "import json\n",
    "\n",
    "dati_json = '{\"nome\": \"Elisa\", \"età\": 27, \"linguaggi\": [\"Python\", \"Java\", \"C++\"]}'\n",
    "dati = json.loads(dati_json)\n",
    "\n",
    "secondo_linguaggio = dati['linguaggi'][1]\n",
    "print(secondo_linguaggio)"
   ]
  },
  {
   "cell_type": "markdown",
   "id": "3d33f9b4",
   "metadata": {},
   "source": [
    "### **Esercizio 3: Lettura e Scrittura su File**\n",
    "\n",
    "Scrivi un programma Python che:\n",
    "\n",
    "1. Crea un elenco di dizionari, ognuno dei quali rappresenta uno studente con nome, età e voto finale.\n",
    "2. Scrive questo elenco in un file `studenti.json`.\n",
    "3. Legge i dati dal file `studenti.json` e stampa la lista degli studenti.\n",
    "\n",
    "**Soluzione:**\n"
   ]
  },
  {
   "cell_type": "code",
   "execution_count": 8,
   "id": "4ccdc2b0",
   "metadata": {},
   "outputs": [
    {
     "name": "stdout",
     "output_type": "stream",
     "text": [
      "[{'nome': 'Marco', 'età': 20, 'voto': 28}, {'nome': 'Laura', 'età': 22, 'voto': 30}, {'nome': 'Luca', 'età': 21, 'voto': 27}]\n"
     ]
    }
   ],
   "source": [
    "import json\n",
    "\n",
    "studenti = [\n",
    "    {\"nome\": \"Marco\", \"età\": 20, \"voto\": 28},\n",
    "    {\"nome\": \"Laura\", \"età\": 22, \"voto\": 30},\n",
    "    {\"nome\": \"Luca\", \"età\": 21, \"voto\": 27}\n",
    "]\n",
    "\n",
    "# Scrittura su file\n",
    "with open('studenti.json', 'w') as file:\n",
    "    json.dump(studenti, file)\n",
    "\n",
    "# Lettura dal file\n",
    "with open('studenti.json', 'r') as file:\n",
    "    dati_studenti = json.load(file)\n",
    "\n",
    "print(dati_studenti)"
   ]
  },
  {
   "cell_type": "markdown",
   "id": "a2f87a22",
   "metadata": {},
   "source": [
    "\n",
    "## **Buone Pratiche e Consigli**\n",
    "\n",
    "- **Gestione degli Errori:** Quando si lavora con dati esterni, come file JSON ricevuti da un'API, è importante gestire le possibili eccezioni utilizzando blocchi `try...except` per catturare errori di parsing o file mancanti.\n",
    "  \n",
    "  ```python\n",
    "  try:\n",
    "      with open('dati.json', 'r') as file:\n",
    "          dati = json.load(file)\n",
    "  except FileNotFoundError:\n",
    "      print(\"Il file non esiste.\")\n",
    "  except json.JSONDecodeError:\n",
    "      print(\"Errore nel decodificare il JSON.\")\n",
    "  ```\n",
    "\n",
    "- **Formattazione Leggibile:** Quando si scrive JSON su un file o si stampa sullo schermo, puoi utilizzare i parametri `indent` e `sort_keys` per migliorare la leggibilità.\n",
    "\n",
    "  ```python\n",
    "  dati_json = json.dumps(dati, indent=4, sort_keys=True)\n",
    "  print(dati_json)\n",
    "  ```\n",
    "\n",
    "- **Conversione di Oggetti Personalizzati:** Se hai oggetti Python personalizzati, puoi definire una funzione di serializzazione personalizzata.\n",
    "\n",
    "  ```python\n",
    "  def serializza_obj(obj):\n",
    "      return obj.__dict__\n",
    "\n",
    "  json_str = json.dumps(oggetto_personalizzato, default=serializza_obj)\n",
    "  ```\n",
    "\n",
    "- **Evitare Dati Sensibili:** Assicurati di non serializzare informazioni sensibili o personali in JSON, soprattutto quando i dati saranno trasmessi su reti non sicure.\n",
    "\n",
    "## **Conclusione**\n",
    "\n",
    "In questa lezione, abbiamo esplorato come Python interagisce con il formato JSON utilizzando il modulo integrato `json`. Abbiamo visto come serializzare e deserializzare dati, leggere e scrivere file JSON, e applicare queste conoscenze in esempi pratici.\n",
    "\n",
    "La capacità di lavorare con JSON è fondamentale per sviluppare applicazioni moderne che comunicano con API web, servizi remoti e applicazioni diverse.\n",
    "\n",
    "## **Risorse Aggiuntive**\n",
    "\n",
    "- **Documentazione Ufficiale Python**: [JSON](https://docs.python.org/3/library/json.html)\n",
    "- **Libro Consigliato**: [Python Crash Course di Eric Matthes](https://www.amazon.com/Python-Crash-Course-2nd-Edition/dp/1593279280)\n",
    "- **Video Tutorial**: [Working with JSON Data using the json Module](https://youtu.be/9N6a-VLBa2I?si=KPWbnSHEhXOGsZLG)"
   ]
  }
 ],
 "metadata": {
  "kernelspec": {
   "display_name": "Python 3 (ipykernel)",
   "language": "python",
   "name": "python3"
  },
  "language_info": {
   "codemirror_mode": {
    "name": "ipython",
    "version": 3
   },
   "file_extension": ".py",
   "mimetype": "text/x-python",
   "name": "python",
   "nbconvert_exporter": "python",
   "pygments_lexer": "ipython3",
   "version": "3.10.9"
  }
 },
 "nbformat": 4,
 "nbformat_minor": 5
}
