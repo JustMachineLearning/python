{
 "cells": [
  {
   "cell_type": "markdown",
   "id": "7ca2177d",
   "metadata": {},
   "source": [
    "# Funzioni in Python\n",
    "\n",
    "## Obiettivi della Lezione\n",
    "\n",
    "Alla fine di questa lezione, sarai in grado di:\n",
    "\n",
    "- Comprendere cosa sono le funzioni in Python e perché sono utili.\n",
    "- Definire e chiamare funzioni personalizzate.\n",
    "- Utilizzare parametri e argomenti nelle funzioni.\n",
    "- Riconoscere la differenza tra variabili locali e globali.\n",
    "- Applicare valori di default e argomenti con nome nelle chiamate di funzione.\n",
    "- Restituire valori dalle funzioni usando la parola chiave `return`.\n",
    "\n",
    "## Introduzione\n",
    "\n",
    "Le funzioni sono blocchi di codice riutilizzabili che eseguono un compito specifico. Consentono di organizzare il codice in modo modulare, migliorandone la leggibilità e facilitandone la manutenzione. In Python, le funzioni sono oggetti di prima classe, il che significa che possono essere passate come argomenti, restituite da altre funzioni e assegnate a variabili.\n",
    "\n",
    "## Spiegazione Teorica\n",
    "\n",
    "### Definizione di una Funzione\n",
    "\n",
    "In Python, una funzione si definisce utilizzando la parola chiave `def`, seguita dal nome della funzione e da eventuali parametri racchiusi tra parentesi. Il blocco di codice che costituisce la funzione deve essere indentato.\n",
    "\n",
    "**Sintassi:**\n"
   ]
  },
  {
   "cell_type": "markdown",
   "id": "2c929632",
   "metadata": {},
   "source": [
    "```python\n",
    "def nome_funzione(parametri):\n",
    "    '''Documentazione della funzione (opzionale)'''\n",
    "    # corpo della funzione\n",
    "    return valore_di_ritorno (opzionale)\n",
    "```"
   ]
  },
  {
   "cell_type": "markdown",
   "id": "45f53b23",
   "metadata": {},
   "source": [
    "\n",
    "### Chiamata di una Funzione\n",
    "\n",
    "Per eseguire una funzione, si effettua una *chiamata* usando il nome della funzione seguito da parentesi contenenti eventuali argomenti.\n",
    "\n",
    "**Esempio:**\n"
   ]
  },
  {
   "cell_type": "markdown",
   "id": "b6083aa3",
   "metadata": {},
   "source": [
    "```python\n",
    "nome_funzione(argomenti)\n",
    "```"
   ]
  },
  {
   "cell_type": "markdown",
   "id": "18fa3678",
   "metadata": {},
   "source": [
    "\n",
    "### Parametri e Argomenti\n",
    "\n",
    "- **Parametri**: variabili elencate nella definizione della funzione.\n",
    "- **Argomenti**: valori forniti alla funzione quando viene chiamata.\n",
    "\n",
    "Esistono diversi tipi di argomenti:\n",
    "\n",
    "- **Posizionali**: assegnati ai parametri in base alla posizione.\n",
    "- **Con nome (keyword arguments)**: assegnati specificando il nome del parametro.\n",
    "\n",
    "### Valori di Default\n",
    "\n",
    "È possibile assegnare un valore di default ai parametri, rendendoli opzionali durante la chiamata della funzione.\n",
    "\n",
    "**Esempio:**\n"
   ]
  },
  {
   "cell_type": "code",
   "execution_count": 6,
   "id": "5c604861",
   "metadata": {},
   "outputs": [
    {
     "name": "stdout",
     "output_type": "stream",
     "text": [
      "Ciao, Marco!\n"
     ]
    }
   ],
   "source": [
    "def saluta(nome, messaggio=\"Ciao\"):\n",
    "    print(f\"{messaggio}, {nome}!\")\n",
    "    \n",
    "saluta('Marco')    "
   ]
  },
  {
   "cell_type": "markdown",
   "id": "4fe3493c",
   "metadata": {},
   "source": [
    "\n",
    "### `return` e Valori di Ritorno\n",
    "\n",
    "La parola chiave `return` viene utilizzata per restituire un valore dalla funzione. Se `return` non è presente, la funzione restituisce `None` di default.\n",
    "\n",
    "**Esempio:**\n"
   ]
  },
  {
   "cell_type": "code",
   "execution_count": 9,
   "id": "7207d2d6",
   "metadata": {},
   "outputs": [
    {
     "data": {
      "text/plain": [
       "7"
      ]
     },
     "execution_count": 9,
     "metadata": {},
     "output_type": "execute_result"
    }
   ],
   "source": [
    "def somma(a, b):\n",
    "    return a + b\n",
    "somma(2, 5)"
   ]
  },
  {
   "cell_type": "markdown",
   "id": "f0c791ce",
   "metadata": {},
   "source": [
    "\n",
    "### Variabili Locali e Globali\n",
    "\n",
    "Le variabili definite all'interno di una funzione sono locali e non accessibili al di fuori di essa. Al contrario, le variabili definite al di fuori di tutte le funzioni sono globali.\n",
    "\n",
    "## Esempi Pratici di Codice\n",
    "\n",
    "### Definire e Chiamare una Funzione Semplice\n"
   ]
  },
  {
   "cell_type": "code",
   "execution_count": 10,
   "id": "ec7d7fbc",
   "metadata": {},
   "outputs": [
    {
     "name": "stdout",
     "output_type": "stream",
     "text": [
      "Ciao, mondo!\n"
     ]
    }
   ],
   "source": [
    "def saluta():\n",
    "    print(\"Ciao, mondo!\")\n",
    "\n",
    "saluta()"
   ]
  },
  {
   "cell_type": "markdown",
   "id": "6f7c0379",
   "metadata": {},
   "source": [
    "### Funzione con Parametri\n"
   ]
  },
  {
   "cell_type": "code",
   "execution_count": 11,
   "id": "01cf76d8",
   "metadata": {},
   "outputs": [
    {
     "name": "stdout",
     "output_type": "stream",
     "text": [
      "Ciao, Alice!\n"
     ]
    }
   ],
   "source": [
    "def saluta_utente(nome):\n",
    "    print(f\"Ciao, {nome}!\")\n",
    "\n",
    "saluta_utente(\"Alice\")"
   ]
  },
  {
   "cell_type": "markdown",
   "id": "d6332b26",
   "metadata": {},
   "source": [
    "### Funzione con Valore di Ritorno\n"
   ]
  },
  {
   "cell_type": "code",
   "execution_count": 12,
   "id": "69d3d228",
   "metadata": {},
   "outputs": [
    {
     "name": "stdout",
     "output_type": "stream",
     "text": [
      "25\n"
     ]
    }
   ],
   "source": [
    "def quadrato(numero):\n",
    "    return numero ** 2\n",
    "\n",
    "risultato = quadrato(5)\n",
    "print(risultato)"
   ]
  },
  {
   "cell_type": "markdown",
   "id": "9d10a7d6",
   "metadata": {},
   "source": [
    "### Utilizzo di Valori di Default\n"
   ]
  },
  {
   "cell_type": "code",
   "execution_count": 13,
   "id": "44c29d7e",
   "metadata": {},
   "outputs": [
    {
     "name": "stdout",
     "output_type": "stream",
     "text": [
      "Nome: Bob\n",
      "Età: 18\n"
     ]
    }
   ],
   "source": [
    "def info_persona(nome, eta=18):\n",
    "    print(f\"Nome: {nome}\")\n",
    "    print(f\"Età: {eta}\")\n",
    "\n",
    "info_persona(\"Bob\")"
   ]
  },
  {
   "cell_type": "markdown",
   "id": "8e3c4996",
   "metadata": {},
   "source": [
    "### Argomenti con Nome\n"
   ]
  },
  {
   "cell_type": "code",
   "execution_count": 14,
   "id": "ec393d7b",
   "metadata": {},
   "outputs": [
    {
     "name": "stdout",
     "output_type": "stream",
     "text": [
      "8\n"
     ]
    }
   ],
   "source": [
    "def calcola_potenza(base, esponente):\n",
    "    return base ** esponente\n",
    "\n",
    "risultato = calcola_potenza(esponente=3, base=2)\n",
    "print(risultato)"
   ]
  },
  {
   "cell_type": "markdown",
   "id": "a0417bd0",
   "metadata": {},
   "source": [
    "### Variabili Locali vs Globali\n"
   ]
  },
  {
   "cell_type": "code",
   "execution_count": 15,
   "id": "8afb93f2",
   "metadata": {},
   "outputs": [
    {
     "name": "stdout",
     "output_type": "stream",
     "text": [
      "Valore di x all'interno della funzione: 5\n",
      "Valore di x all'esterno della funzione: 10\n"
     ]
    }
   ],
   "source": [
    "x = 10  # Variabile globale\n",
    "\n",
    "def funzione():\n",
    "    x = 5  # Variabile locale\n",
    "    print(f\"Valore di x all'interno della funzione: {x}\")\n",
    "\n",
    "funzione()\n",
    "print(f\"Valore di x all'esterno della funzione: {x}\")"
   ]
  },
  {
   "cell_type": "markdown",
   "id": "bd2a72fe",
   "metadata": {},
   "source": [
    "## Esercizi Interattivi\n",
    "\n",
    "### Esercizio 1: Funzione di Benvenuto\n",
    "\n",
    "Definisci una funzione chiamata `benvenuto` che prenda il nome di una persona come parametro e stampi un messaggio di benvenuto.\n",
    "\n",
    "**Soluzione:**\n"
   ]
  },
  {
   "cell_type": "code",
   "execution_count": 16,
   "id": "e3e46600",
   "metadata": {},
   "outputs": [],
   "source": [
    "def benvenuto(nome):\n",
    "    print(f\"Benvenuto, {nome}!\")"
   ]
  },
  {
   "cell_type": "markdown",
   "id": "76dae82e",
   "metadata": {},
   "source": [
    "\n",
    "**Verifica:**\n"
   ]
  },
  {
   "cell_type": "code",
   "execution_count": 19,
   "id": "fc082bc7",
   "metadata": {},
   "outputs": [
    {
     "name": "stdout",
     "output_type": "stream",
     "text": [
      "Benvenuto, Luca!\n"
     ]
    }
   ],
   "source": [
    "benvenuto(\"Luca\")"
   ]
  },
  {
   "cell_type": "markdown",
   "id": "6cb2a1a3",
   "metadata": {},
   "source": [
    "\n",
    "**Output atteso:**\n",
    "\n",
    "```\n",
    "Benvenuto, Luca!\n",
    "```\n",
    "\n",
    "### Esercizio 2: Calcolo dell'Area di un Rettangolo\n",
    "\n",
    "Scrivi una funzione `calcola_area` che prenda la base e l'altezza di un rettangolo e restituisca la sua area.\n",
    "\n",
    "**Soluzione:**\n"
   ]
  },
  {
   "cell_type": "code",
   "execution_count": 20,
   "id": "2929c2f4",
   "metadata": {},
   "outputs": [],
   "source": [
    "def calcola_area(base, altezza):\n",
    "    return base * altezza"
   ]
  },
  {
   "cell_type": "markdown",
   "id": "95c26a1e",
   "metadata": {},
   "source": [
    "\n",
    "**Verifica:**\n"
   ]
  },
  {
   "cell_type": "code",
   "execution_count": 21,
   "id": "987e0c98",
   "metadata": {},
   "outputs": [
    {
     "name": "stdout",
     "output_type": "stream",
     "text": [
      "L'area del rettangolo è: 50\n"
     ]
    }
   ],
   "source": [
    "area = calcola_area(5, 10)\n",
    "print(f\"L'area del rettangolo è: {area}\")"
   ]
  },
  {
   "cell_type": "markdown",
   "id": "8914fe02",
   "metadata": {},
   "source": [
    "### Esercizio 3: Funzione con Valori di Default\n",
    "\n",
    "Crea una funzione `stampa_info` che accetti un nome e un'età con valore di default 30. La funzione deve stampare queste informazioni.\n",
    "\n",
    "**Soluzione:**\n"
   ]
  },
  {
   "cell_type": "code",
   "execution_count": 22,
   "id": "c963bd63",
   "metadata": {},
   "outputs": [],
   "source": [
    "def stampa_info(nome, eta=30):\n",
    "    print(f\"Nome: {nome}\")\n",
    "    print(f\"Età: {eta}\")"
   ]
  },
  {
   "cell_type": "markdown",
   "id": "456d668c",
   "metadata": {},
   "source": [
    "\n",
    "**Verifica:**\n"
   ]
  },
  {
   "cell_type": "code",
   "execution_count": 23,
   "id": "611f2cfd",
   "metadata": {},
   "outputs": [
    {
     "name": "stdout",
     "output_type": "stream",
     "text": [
      "Nome: Maria\n",
      "Età: 25\n",
      "Nome: Giovanni\n",
      "Età: 30\n"
     ]
    }
   ],
   "source": [
    "stampa_info(\"Maria\", 25)\n",
    "stampa_info(\"Giovanni\")"
   ]
  },
  {
   "cell_type": "markdown",
   "id": "6338877e",
   "metadata": {},
   "source": [
    "## Buone Pratiche e Consigli\n",
    "\n",
    "- **Nomi Significativi**: assegna nomi alle funzioni che descrivano chiaramente il loro scopo.\n",
    "- **Documentazione**: utilizza le docstring (`'''Descrizione'''`) per documentare le funzioni.\n",
    "- **Modularità**: suddividi il codice in funzioni più piccole e riutilizzabili.\n",
    "- **Evita Effetti Collaterali**: cerca di mantenere le funzioni pure, evitando di modificare variabili globali all'interno delle funzioni.\n",
    "- **Gestione degli Errori**: considera l'aggiunta di controlli sugli argomenti per gestire input non validi.\n",
    "\n",
    "## Conclusione\n",
    "\n",
    "Le funzioni sono uno strumento fondamentale in Python per creare codice organizzato, leggibile e riutilizzabile. Comprendere come definirle e utilizzarle efficacemente è essenziale per sviluppare programmi più complessi e modulari. Abbiamo esplorato come creare funzioni con parametri, utilizzare valori di default, restituire valori e gestire variabili locali e globali.\n",
    "\n",
    "## Risorse Aggiuntive\n",
    "\n",
    "- **Documentazione Ufficiale Python**: [Functions](https://docs.python.org/3/library/stdtypes.html#functions)\n",
    "- **Libro Consigliato**: [Python Crash Course di Eric Matthes](https://www.amazon.com/Python-Crash-Course-2nd-Edition/dp/1593279280)\n",
    "- **Video Tutorial**: [Functions](https://youtu.be/9Os0o3wzS_I?si=G4_F7kcgjIEot4Js)"
   ]
  }
 ],
 "metadata": {
  "kernelspec": {
   "display_name": "Python 3 (ipykernel)",
   "language": "python",
   "name": "python3"
  },
  "language_info": {
   "codemirror_mode": {
    "name": "ipython",
    "version": 3
   },
   "file_extension": ".py",
   "mimetype": "text/x-python",
   "name": "python",
   "nbconvert_exporter": "python",
   "pygments_lexer": "ipython3",
   "version": "3.10.9"
  }
 },
 "nbformat": 4,
 "nbformat_minor": 5
}
